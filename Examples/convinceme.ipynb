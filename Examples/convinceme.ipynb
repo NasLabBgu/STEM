{
 "cells": [
  {
   "cell_type": "code",
   "execution_count": 1,
   "outputs": [],
   "source": [
    "from typing import List, Any, Dict, Tuple, Set\n",
    "from operator import itemgetter\n",
    "from itertools import combinations, starmap\n",
    "\n",
    "\n",
    "import pandas as pd\n",
    "import numpy as np\n",
    "from scipy.spatial.distance import cosine\n",
    "import networkx as nx\n",
    "from sklearn.metrics import classification_report\n",
    "\n",
    "import matplotlib.pyplot as plt\n",
    "%matplotlib inline\n",
    "\n",
    "from conversant.conversation import Conversation\n",
    "from conversant.interactions import InteractionsGraph\n",
    "from conversant.conversation.parse import DataFrameConversationReader\n",
    "from conversant.interactions.reply_interactions_parser import get_reply_interactions_parser\n",
    "from stance_classification.classifiers.maxcut_stance_classifier import MaxcutStanceClassifier"
   ],
   "metadata": {
    "collapsed": false,
    "pycharm": {
     "name": "#%%\n"
    }
   }
  },
  {
   "cell_type": "code",
   "execution_count": 2,
   "outputs": [
    {
     "data": {
      "text/plain": "       discussion_id  post_id  author_id        creation_date  parent_post_id  \\\n0                  1        1         10  2007-01-02 00:00:00             NaN   \n1                  1        2         12  2007-01-04 00:00:00             NaN   \n2                  1        3          1  2007-02-01 00:00:00             NaN   \n3                  1        4          1  2007-02-01 00:00:00             2.0   \n4                  1        5          1  2007-02-01 00:00:00             6.0   \n...              ...      ...        ...                  ...             ...   \n65363           5413        1       5782  2012-07-28 00:00:00             NaN   \n65364           5413        2       3747  2012-08-05 00:00:00             NaN   \n65365           5413        3       5783  2012-08-06 00:00:00             NaN   \n65366           5413        4       5649  2012-08-16 00:00:00             NaN   \n65367           5413        5       5688  2012-09-02 00:00:00             NaN   \n\n       parent_missing  text_id  points  discussion_stance_id  is_rebuttal  \n0                   0        1      58                     1            1  \n1                   0        2      59                     1            1  \n2                   0        3       1                     0            1  \n3                   0        4       0                     0            1  \n4                   0        5       0                     0            1  \n...               ...      ...     ...                   ...          ...  \n65363               0    65364       1                     1            1  \n65364               0    65365       1                     1            1  \n65365               0    65366       0                     0            1  \n65366               0    65367       1                     1            1  \n65367               0    65368       0                     0            1  \n\n[65368 rows x 10 columns]",
      "text/html": "<div>\n<style scoped>\n    .dataframe tbody tr th:only-of-type {\n        vertical-align: middle;\n    }\n\n    .dataframe tbody tr th {\n        vertical-align: top;\n    }\n\n    .dataframe thead th {\n        text-align: right;\n    }\n</style>\n<table border=\"1\" class=\"dataframe\">\n  <thead>\n    <tr style=\"text-align: right;\">\n      <th></th>\n      <th>discussion_id</th>\n      <th>post_id</th>\n      <th>author_id</th>\n      <th>creation_date</th>\n      <th>parent_post_id</th>\n      <th>parent_missing</th>\n      <th>text_id</th>\n      <th>points</th>\n      <th>discussion_stance_id</th>\n      <th>is_rebuttal</th>\n    </tr>\n  </thead>\n  <tbody>\n    <tr>\n      <th>0</th>\n      <td>1</td>\n      <td>1</td>\n      <td>10</td>\n      <td>2007-01-02 00:00:00</td>\n      <td>NaN</td>\n      <td>0</td>\n      <td>1</td>\n      <td>58</td>\n      <td>1</td>\n      <td>1</td>\n    </tr>\n    <tr>\n      <th>1</th>\n      <td>1</td>\n      <td>2</td>\n      <td>12</td>\n      <td>2007-01-04 00:00:00</td>\n      <td>NaN</td>\n      <td>0</td>\n      <td>2</td>\n      <td>59</td>\n      <td>1</td>\n      <td>1</td>\n    </tr>\n    <tr>\n      <th>2</th>\n      <td>1</td>\n      <td>3</td>\n      <td>1</td>\n      <td>2007-02-01 00:00:00</td>\n      <td>NaN</td>\n      <td>0</td>\n      <td>3</td>\n      <td>1</td>\n      <td>0</td>\n      <td>1</td>\n    </tr>\n    <tr>\n      <th>3</th>\n      <td>1</td>\n      <td>4</td>\n      <td>1</td>\n      <td>2007-02-01 00:00:00</td>\n      <td>2.0</td>\n      <td>0</td>\n      <td>4</td>\n      <td>0</td>\n      <td>0</td>\n      <td>1</td>\n    </tr>\n    <tr>\n      <th>4</th>\n      <td>1</td>\n      <td>5</td>\n      <td>1</td>\n      <td>2007-02-01 00:00:00</td>\n      <td>6.0</td>\n      <td>0</td>\n      <td>5</td>\n      <td>0</td>\n      <td>0</td>\n      <td>1</td>\n    </tr>\n    <tr>\n      <th>...</th>\n      <td>...</td>\n      <td>...</td>\n      <td>...</td>\n      <td>...</td>\n      <td>...</td>\n      <td>...</td>\n      <td>...</td>\n      <td>...</td>\n      <td>...</td>\n      <td>...</td>\n    </tr>\n    <tr>\n      <th>65363</th>\n      <td>5413</td>\n      <td>1</td>\n      <td>5782</td>\n      <td>2012-07-28 00:00:00</td>\n      <td>NaN</td>\n      <td>0</td>\n      <td>65364</td>\n      <td>1</td>\n      <td>1</td>\n      <td>1</td>\n    </tr>\n    <tr>\n      <th>65364</th>\n      <td>5413</td>\n      <td>2</td>\n      <td>3747</td>\n      <td>2012-08-05 00:00:00</td>\n      <td>NaN</td>\n      <td>0</td>\n      <td>65365</td>\n      <td>1</td>\n      <td>1</td>\n      <td>1</td>\n    </tr>\n    <tr>\n      <th>65365</th>\n      <td>5413</td>\n      <td>3</td>\n      <td>5783</td>\n      <td>2012-08-06 00:00:00</td>\n      <td>NaN</td>\n      <td>0</td>\n      <td>65366</td>\n      <td>0</td>\n      <td>0</td>\n      <td>1</td>\n    </tr>\n    <tr>\n      <th>65366</th>\n      <td>5413</td>\n      <td>4</td>\n      <td>5649</td>\n      <td>2012-08-16 00:00:00</td>\n      <td>NaN</td>\n      <td>0</td>\n      <td>65367</td>\n      <td>1</td>\n      <td>1</td>\n      <td>1</td>\n    </tr>\n    <tr>\n      <th>65367</th>\n      <td>5413</td>\n      <td>5</td>\n      <td>5688</td>\n      <td>2012-09-02 00:00:00</td>\n      <td>NaN</td>\n      <td>0</td>\n      <td>65368</td>\n      <td>0</td>\n      <td>0</td>\n      <td>1</td>\n    </tr>\n  </tbody>\n</table>\n<p>65368 rows × 10 columns</p>\n</div>"
     },
     "execution_count": 2,
     "metadata": {},
     "output_type": "execute_result"
    }
   ],
   "source": [
    "data_path = \"/home/dev/data/stance/IAC/alternative/convinceme/post.txt\"\n",
    "# data_path = \"/home/dev/data/stance/IAC/alternative/createdebate_released/post.txt\"\n",
    "header = [\"discussion_id\", \"post_id\", \"author_id\", \"creation_date\", \"parent_post_id\",\n",
    "          \"parent_missing\", \"text_id\", \"points\", \"discussion_stance_id\", \"is_rebuttal\"]\n",
    "\n",
    "df = pd.read_csv(data_path, sep='\\t', names=header, na_values=\"\\\\N\")\n",
    "df"
   ],
   "metadata": {
    "collapsed": false,
    "pycharm": {
     "name": "#%%\n"
    }
   }
  },
  {
   "cell_type": "code",
   "execution_count": 3,
   "outputs": [
    {
     "data": {
      "text/plain": "5413"
     },
     "execution_count": 3,
     "metadata": {},
     "output_type": "execute_result"
    }
   ],
   "source": [
    "len(df[\"discussion_id\"].unique())"
   ],
   "metadata": {
    "collapsed": false,
    "pycharm": {
     "name": "#%%\n"
    }
   }
  },
  {
   "cell_type": "code",
   "execution_count": 4,
   "outputs": [
    {
     "data": {
      "text/plain": "32220"
     },
     "execution_count": 4,
     "metadata": {},
     "output_type": "execute_result"
    }
   ],
   "source": [
    "df[\"parent_post_id\"].isna().sum()"
   ],
   "metadata": {
    "collapsed": false,
    "pycharm": {
     "name": "#%%\n"
    }
   }
  },
  {
   "cell_type": "code",
   "execution_count": 5,
   "outputs": [],
   "source": [
    "pasre_strategy = {\n",
    "    \"node_id\": \"post_id\",\n",
    "    \"author\": \"author_id\",\n",
    "    \"timestamp\": \"creation_date\",\n",
    "    \"parent_id\": \"parent_post_id\"\n",
    "    }\n",
    "parser = DataFrameConversationReader(pasre_strategy)"
   ],
   "metadata": {
    "collapsed": false,
    "pycharm": {
     "name": "#%%\n"
    }
   }
  },
  {
   "cell_type": "code",
   "execution_count": 6,
   "outputs": [],
   "source": [
    "gb = df.groupby(\"discussion_id\")"
   ],
   "metadata": {
    "collapsed": false,
    "pycharm": {
     "name": "#%%\n"
    }
   }
  },
  {
   "cell_type": "code",
   "execution_count": 7,
   "outputs": [],
   "source": [
    "it = iter(gb)"
   ],
   "metadata": {
    "collapsed": false,
    "pycharm": {
     "name": "#%%\n"
    }
   }
  },
  {
   "cell_type": "code",
   "execution_count": 8,
   "outputs": [
    {
     "name": "stdout",
     "output_type": "stream",
     "text": [
      "<generator object BaseGrouper.get_iterator at 0x7f7e061a4890>\n"
     ]
    },
    {
     "data": {
      "text/plain": "10 - 1"
     },
     "execution_count": 8,
     "metadata": {},
     "output_type": "execute_result"
    }
   ],
   "source": [
    "name, ddf = next(it)\n",
    "print(it)\n",
    "conv = parser.parse(ddf)\n",
    "conv"
   ],
   "metadata": {
    "collapsed": false,
    "pycharm": {
     "name": "#%%\n"
    }
   }
  },
  {
   "cell_type": "code",
   "execution_count": 9,
   "outputs": [],
   "source": [
    "convs = list(map(parser.parse, map(itemgetter(1), gb)))"
   ],
   "metadata": {
    "collapsed": false,
    "pycharm": {
     "name": "#%%\n"
    }
   }
  },
  {
   "cell_type": "code",
   "execution_count": 10,
   "outputs": [
    {
     "name": "stdout",
     "output_type": "stream",
     "text": [
      "5413\n",
      "2.964160354701644\n",
      "1.0\n"
     ]
    }
   ],
   "source": [
    "sizes = [c.size for c in convs]\n",
    "print(len(sizes))\n",
    "print(np.mean(sizes))\n",
    "print(np.median(sizes))"
   ],
   "metadata": {
    "collapsed": false,
    "pycharm": {
     "name": "#%%\n"
    }
   }
  },
  {
   "cell_type": "code",
   "execution_count": 11,
   "outputs": [
    {
     "name": "stdout",
     "output_type": "stream",
     "text": [
      "892\n",
      "10.042600896860986\n",
      "7.0\n"
     ]
    }
   ],
   "source": [
    "filtered_sizes = [s for s in sizes if s >= 5]\n",
    "print(len(filtered_sizes))\n",
    "print(np.mean(filtered_sizes))\n",
    "print(np.median(filtered_sizes))\n",
    "\n"
   ],
   "metadata": {
    "collapsed": false,
    "pycharm": {
     "name": "#%%\n"
    }
   }
  },
  {
   "cell_type": "code",
   "execution_count": 12,
   "outputs": [],
   "source": [
    "large_convs = [c for c in convs if c.size >=10]"
   ],
   "metadata": {
    "collapsed": false,
    "pycharm": {
     "name": "#%%\n"
    }
   }
  },
  {
   "cell_type": "code",
   "execution_count": 13,
   "outputs": [],
   "source": [
    "def get_majority_vote(labels: List[int]) -> int:\n",
    "    return int(np.mean(labels) >= 0.5)\n",
    "\n",
    "def get_author_labels(conv: Conversation) -> Dict[Any, int]:\n",
    "    authors_post_labels = {}\n",
    "    for depth, node in conv.iter_conversation():\n",
    "        data = node.data\n",
    "        author = node.author\n",
    "        author_labels = authors_post_labels.setdefault(author, [])\n",
    "        author_labels.append(data[\"discussion_stance_id\"])\n",
    "\n",
    "    authors_labels = {a: get_majority_vote(labels) for a, labels in authors_post_labels.items()}\n",
    "    return authors_labels\n",
    "\n",
    "def get_maxcut_results(graph: InteractionsGraph, op: Any) -> MaxcutStanceClassifier:\n",
    "    maxcut = MaxcutStanceClassifier()\n",
    "    maxcut.set_input(graph.graph)\n",
    "    maxcut.classify_stance(op)\n",
    "    # maxcut.draw()\n",
    "    return maxcut\n",
    "\n",
    "def align_gs_with_predictions(maxcut: MaxcutStanceClassifier, authors_labels: Dict[Any, int]) -> Tuple[List[int], List[int]]:\n",
    "    support_label = authors_labels[op]\n",
    "    opposer_label = 1 - support_label\n",
    "    supporters = maxcut.get_supporters()\n",
    "    opposers = maxcut.get_complement()\n",
    "\n",
    "    y_true, y_pred = [], []\n",
    "    for supporter in supporters:\n",
    "        true_label = authors_labels[supporter]\n",
    "        y_true.append(true_label)\n",
    "        y_pred.append(support_label)\n",
    "\n",
    "    for opposer in opposers:\n",
    "        true_label = authors_labels[opposer]\n",
    "        y_true.append(true_label)\n",
    "        y_pred.append(opposer_label)\n",
    "\n",
    "    return y_true, y_pred\n",
    "\n",
    "def align_posts_gs_with_predictions(conv: Conversation, authors_labels: Dict[Any, int]) -> Tuple[List[int], List[int]]:\n",
    "    y_true, y_pred = [], []\n",
    "    for (_, node) in conv.iter_conversation():\n",
    "        y_true.append(node.data[\"discussion_stance_id\"])\n",
    "        pred = authors_labels[node.author]\n",
    "        y_pred.append(pred)\n",
    "\n",
    "    return y_true, y_pred"
   ],
   "metadata": {
    "collapsed": false,
    "pycharm": {
     "name": "#%%\n"
    }
   }
  },
  {
   "cell_type": "code",
   "execution_count": 14,
   "outputs": [
    {
     "name": "stdout",
     "output_type": "stream",
     "text": [
      "total number of conversations: 5413\n",
      "number of conversations with empty core: 5179\n",
      "number of conversations in eval: 234\n",
      "number of authors in eval: 929\n",
      "number of posts in eval: 3476\n"
     ]
    }
   ],
   "source": [
    "reply_interactions_parser = get_reply_interactions_parser()\n",
    "y_true, y_pred = [], []\n",
    "posts_true, posts_pred = [], []\n",
    "filtered_convs = []\n",
    "empty_core = []\n",
    "results: List[Tuple[np.ndarray, Set[int], Set[int]]] = []\n",
    "\n",
    "for conv in convs:\n",
    "    interaction_graph = reply_interactions_parser.parse(conv)\n",
    "    op = conv.root.author\n",
    "    interaction_graph.graph.add_edge(op, -1, replies=1)\n",
    "    interaction_graph.graph.add_edge(op, -2, replies=1)\n",
    "    interaction_graph.graph.add_edge(-1, -2, replies=1)\n",
    "\n",
    "    interaction_graph.set_interaction_weights(lambda x: x['replies'])\n",
    "    if len(list(interaction_graph.graph.neighbors(op))) <= 1:\n",
    "        op_not_connected.append(conv)\n",
    "        continue\n",
    "\n",
    "    kcore = interaction_graph.get_core_interactions()\n",
    "    if kcore.graph.order() == 0:\n",
    "        empty_core.append(conv)\n",
    "        continue\n",
    "\n",
    "    if op not in kcore.graph.nodes:\n",
    "        print(kcore.graph.nodes)\n",
    "        op_not_in_core.append(conv)\n",
    "        continue\n",
    "\n",
    "    kcore.graph.remove_nodes_from([-1, -2])\n",
    "    kcore = kcore.get_op_connected_components()\n",
    "    maxcut = get_maxcut_results(kcore, op)\n",
    "    authors_labels = get_author_labels(conv)\n",
    "    true, preds = align_gs_with_predictions(maxcut, authors_labels)\n",
    "    y_true.extend(true)\n",
    "    y_pred.extend(preds)\n",
    "\n",
    "    true, preds = align_posts_gs_with_predictions(conv, authors_labels)\n",
    "    posts_true.extend(true)\n",
    "    posts_pred.extend(preds)\n",
    "    filtered_convs.append(conv)\n",
    "    results.append((maxcut.embeddings, maxcut.get_supporters(), maxcut.get_complement()))\n",
    "\n",
    "\n",
    "print(f\"total number of conversations: {len(convs)}\")\n",
    "print(f\"number of conversations with empty core: {len(empty_core)}\")\n",
    "print(f\"number of conversations in eval: {len(filtered_convs)}\")\n",
    "print(f\"number of authors in eval: {len(y_true)}\")\n",
    "print(f\"number of posts in eval: {len(posts_true)}\")"
   ],
   "metadata": {
    "collapsed": false,
    "pycharm": {
     "name": "#%%\n"
    }
   }
  },
  {
   "cell_type": "code",
   "execution_count": 15,
   "outputs": [
    {
     "name": "stdout",
     "output_type": "stream",
     "text": [
      "              precision    recall  f1-score   support\n",
      "\n",
      "           0       0.81      0.88      0.84       426\n",
      "           1       0.89      0.83      0.86       503\n",
      "\n",
      "    accuracy                           0.85       929\n",
      "   macro avg       0.85      0.85      0.85       929\n",
      "weighted avg       0.85      0.85      0.85       929\n",
      "\n"
     ]
    }
   ],
   "source": [
    "print(classification_report(y_true, y_pred))"
   ],
   "metadata": {
    "collapsed": false,
    "pycharm": {
     "name": "#%%\n"
    }
   }
  },
  {
   "cell_type": "code",
   "execution_count": 16,
   "outputs": [
    {
     "name": "stdout",
     "output_type": "stream",
     "text": [
      "              precision    recall  f1-score   support\n",
      "\n",
      "           0       0.96      0.89      0.92      1677\n",
      "           1       0.91      0.96      0.93      1799\n",
      "\n",
      "    accuracy                           0.93      3476\n",
      "   macro avg       0.93      0.93      0.93      3476\n",
      "weighted avg       0.93      0.93      0.93      3476\n",
      "\n"
     ]
    }
   ],
   "source": [
    "print(classification_report(posts_true, posts_pred))"
   ],
   "metadata": {
    "collapsed": false,
    "pycharm": {
     "name": "#%%\n"
    }
   }
  },
  {
   "cell_type": "code",
   "execution_count": 25,
   "outputs": [
    {
     "data": {
      "text/plain": "<Figure size 432x288 with 1 Axes>",
      "image/png": "[encoded data removed]"
     },
     "metadata": {},
     "output_type": "display_data"
    }
   ],
   "source": [
    "interaction_graph = reply_interactions_parser.parse(convs[4])\n",
    "layout = nx.spring_layout(interaction_graph.graph)\n",
    "nx.draw(interaction_graph.graph, layout)"
   ],
   "metadata": {
    "collapsed": false,
    "pycharm": {
     "name": "#%%\n"
    }
   }
  },
  {
   "cell_type": "code",
   "execution_count": 45,
   "outputs": [
    {
     "name": "stdout",
     "output_type": "stream",
     "text": [
      "3\n"
     ]
    },
    {
     "data": {
      "text/plain": "<Figure size 432x288 with 1 Axes>",
      "image/png": "[encoded data removed]"
     },
     "metadata": {},
     "output_type": "display_data"
    }
   ],
   "source": [
    "def get_graphs():\n",
    "    for j, conv in enumerate(large_convs):\n",
    "        interaction_graph = reply_interactions_parser.parse(conv)\n",
    "        if interaction_graph.graph.order() > 10:\n",
    "            kcore = interaction_graph.get_core_interactions()\n",
    "            if kcore.graph.order() > 5:\n",
    "                print(j)\n",
    "                yield(interaction_graph)\n",
    "\n",
    "graphs = get_graphs()\n",
    "\n",
    "i = next(graphs)\n",
    "layout = nx.spring_layout(i.graph)\n",
    "nx.draw(i.graph, layout)"
   ],
   "metadata": {
    "collapsed": false,
    "pycharm": {
     "name": "#%%\n"
    }
   }
  },
  {
   "cell_type": "code",
   "execution_count": 47,
   "outputs": [
    {
     "name": "stdout",
     "output_type": "stream",
     "text": [
      "92\n",
      "115\n"
     ]
    },
    {
     "data": {
      "text/plain": "<Figure size 432x288 with 1 Axes>",
      "image/png": "[encoded data removed]"
     },
     "metadata": {},
     "output_type": "display_data"
    }
   ],
   "source": [
    "i = next(graphs)\n",
    "layout = nx.spring_layout(i.graph)\n",
    "nx.draw(i.graph, layout)"
   ],
   "metadata": {
    "collapsed": false,
    "pycharm": {
     "name": "#%%\n"
    }
   }
  },
  {
   "cell_type": "code",
   "execution_count": null,
   "outputs": [],
   "source": [
    "i = next(graphs)\n",
    "layout = nx.spring_layout(i.graph)\n",
    "nx.draw(i.graph, layout)"
   ],
   "metadata": {
    "collapsed": false,
    "pycharm": {
     "name": "#%%\n"
    }
   }
  },
  {
   "cell_type": "code",
   "execution_count": 48,
   "outputs": [
    {
     "name": "stdout",
     "output_type": "stream",
     "text": [
      "139\n"
     ]
    },
    {
     "data": {
      "text/plain": "<Figure size 432x288 with 1 Axes>",
      "image/png": "[encoded data removed]"
     },
     "metadata": {},
     "output_type": "display_data"
    }
   ],
   "source": [
    "i = next(graphs)\n",
    "layout = nx.spring_layout(i.graph)\n",
    "nx.draw(i.graph, layout)"
   ],
   "metadata": {
    "collapsed": false,
    "pycharm": {
     "name": "#%%\n"
    }
   }
  },
  {
   "cell_type": "code",
   "execution_count": 36,
   "outputs": [
    {
     "name": "stdout",
     "output_type": "stream",
     "text": [
      "16 - 1\n",
      "├── 16 - 9\n",
      "│   └── 987 - 308\n",
      "├── 987 - 307\n",
      "├── 987 - 309\n",
      "├── 987 - 310\n",
      "├── 909 - 400\n",
      "├── 891 - 411\n",
      "├── 1039 - 448\n",
      "│   └── 980 - 450\n",
      "└── 902 - 491\n",
      "    └── 989 - 512\n"
     ]
    }
   ],
   "source": [
    "print(large_convs[0])"
   ],
   "metadata": {
    "collapsed": false,
    "pycharm": {
     "name": "#%%\n"
    }
   }
  },
  {
   "cell_type": "code",
   "execution_count": 18,
   "outputs": [
    {
     "name": "stdout",
     "output_type": "stream",
     "text": [
      "support 234\n",
      "support cosine 234\n",
      "support 234\n",
      "support 234\n"
     ]
    },
    {
     "name": "stderr",
     "output_type": "stream",
     "text": [
      "/home/dev/.virtualenvs/conv/lib/python3.8/site-packages/numpy/core/fromnumeric.py:3372: RuntimeWarning: Mean of empty slice.\n",
      "  return _methods._mean(a, axis=axis, dtype=dtype,\n",
      "/home/dev/.virtualenvs/conv/lib/python3.8/site-packages/numpy/core/_methods.py:170: RuntimeWarning: invalid value encountered in double_scalars\n",
      "  ret = ret.dtype.type(ret / rcount)\n"
     ]
    },
    {
     "data": {
      "text/plain": "(234, 0.21138606809385396, 0.49938015526250007, 1.9696798334454442)"
     },
     "execution_count": 18,
     "metadata": {},
     "output_type": "execute_result"
    }
   ],
   "source": [
    "supporters_avg_angles = []\n",
    "opposers_avg_angles = []\n",
    "mean_cross_angle = []\n",
    "\n",
    "for i in range(len(results)):\n",
    "    r = results[i]\n",
    "    supporters_distances = list(starmap(lambda i, j: cosine(r[0][i], r[0][j]), combinations(r[1], 2)))\n",
    "    opposers_distances = list(starmap(lambda i, j: cosine(r[0][i], r[0][j]), combinations(r[2], 2)))\n",
    "    supporters_avg_angle = np.mean(supporters_distances)\n",
    "    opposers_avg_angle = np.mean(opposers_distances)\n",
    "\n",
    "    supporters_avg_angles.append(supporters_avg_angle)\n",
    "    opposers_avg_angles.append(opposers_avg_angle)\n",
    "\n",
    "    supporters_mean_embedding = np.mean([np.array(r[0][i]) for i in r[1]], axis=0)[0]\n",
    "    opposers_mean_embedding = np.mean([np.array(r[0][i]) for i in r[2]], axis=0)[0]\n",
    "    cross_angle = cosine(supporters_mean_embedding, opposers_mean_embedding)\n",
    "    mean_cross_angle.append(cross_angle)\n",
    "\n",
    "print(f\"support {len(results)}\")\n",
    "print(f\"support cosine {len(results)}\")\n",
    "print(f\"support {len(results)}\")\n",
    "print(f\"support {len(results)}\")\n",
    "len(results), np.nanmean(supporters_avg_angles), np.nanmean(opposers_avg_angles), np.mean(mean_cross_angle)"
   ],
   "metadata": {
    "collapsed": false,
    "pycharm": {
     "name": "#%%\n"
    }
   }
  },
  {
   "cell_type": "code",
   "execution_count": 87,
   "outputs": [
    {
     "data": {
      "text/plain": "[(0, 12),\n (137, 9),\n (175, 9),\n (77, 8),\n (119, 8),\n (1, 7),\n (8, 7),\n (26, 7),\n (37, 7),\n (59, 7),\n (75, 7),\n (93, 7),\n (135, 7),\n (149, 7),\n (192, 7),\n (12, 6),\n (30, 6),\n (76, 6),\n (86, 6),\n (116, 6)]"
     },
     "execution_count": 87,
     "metadata": {},
     "output_type": "execute_result"
    }
   ],
   "source": [
    "max_i = 0\n",
    "max_shape = 0\n",
    "sizes = [(i, len(r[0])) for i, r in enumerate(results)]\n",
    "sorted_sized = sorted(sizes, key=itemgetter(1), reverse=True)\n",
    "sorted_sized[:20]\n",
    "\n"
   ],
   "metadata": {
    "collapsed": false,
    "pycharm": {
     "name": "#%%\n"
    }
   }
  },
  {
   "cell_type": "code",
   "execution_count": 88,
   "outputs": [],
   "source": [
    "from sklearn.manifold import TSNE\n",
    "from sklearn.decomposition import PCA\n",
    "r = results[0]\n",
    "X = np.vstack([np.array(x) for x in r[0].values()])\n",
    "X_pca = PCA(n_components=2).fit_transform(X)\n",
    "X_tsne = TSNE(n_components=2).fit_transform(X)"
   ],
   "metadata": {
    "collapsed": false,
    "pycharm": {
     "name": "#%%\n"
    }
   }
  },
  {
   "cell_type": "code",
   "execution_count": 50,
   "outputs": [
    {
     "data": {
      "text/plain": "<matplotlib.collections.PathCollection at 0x7fc6601c16d0>"
     },
     "execution_count": 50,
     "metadata": {},
     "output_type": "execute_result"
    },
    {
     "data": {
      "text/plain": "<Figure size 432x288 with 1 Axes>",
      "image/png": "[encoded data removed]"
     },
     "metadata": {
      "needs_background": "light"
     },
     "output_type": "display_data"
    }
   ],
   "source": [
    "nodes = r[0].keys()\n",
    "colors = ['r' if i in r[1] else 'g' for i in nodes]\n",
    "plt.scatter(X_pca[:, 0], X_pca[:, 1], color=colors)\n",
    "#"
   ],
   "metadata": {
    "collapsed": false,
    "pycharm": {
     "name": "#%%\n"
    }
   }
  },
  {
   "cell_type": "code",
   "execution_count": 95,
   "outputs": [],
   "source": [
    "# plt.scatter(X_pca[:, 0], X_pca[:, 1], color=colors)\n"
   ],
   "metadata": {
    "collapsed": false,
    "pycharm": {
     "name": "#%%\n"
    }
   }
  },
  {
   "cell_type": "code",
   "execution_count": 22,
   "outputs": [
    {
     "data": {
      "text/plain": "count    65368.0\nmean         1.0\nstd          0.0\nmin          1.0\n25%          1.0\n50%          1.0\n75%          1.0\nmax          1.0\nName: is_rebuttal, dtype: float64"
     },
     "execution_count": 22,
     "metadata": {},
     "output_type": "execute_result"
    }
   ],
   "source": [
    "df.is_rebuttal.describe()"
   ],
   "metadata": {
    "collapsed": false,
    "pycharm": {
     "name": "#%%\n"
    }
   }
  },
  {
   "cell_type": "code",
   "execution_count": null,
   "outputs": [],
   "source": [],
   "metadata": {
    "collapsed": false,
    "pycharm": {
     "name": "#%%\n"
    }
   }
  }
 ],
 "metadata": {
  "kernelspec": {
   "display_name": "Python 3",
   "language": "python",
   "name": "python3"
  },
  "language_info": {
   "codemirror_mode": {
    "name": "ipython",
    "version": 2
   },
   "file_extension": ".py",
   "mimetype": "text/x-python",
   "name": "python",
   "nbconvert_exporter": "python",
   "pygments_lexer": "ipython2",
   "version": "2.7.6"
  }
 },
 "nbformat": 4,
 "nbformat_minor": 0
}