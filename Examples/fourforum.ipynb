{
 "cells": [
  {
   "cell_type": "code",
   "execution_count": 32,
   "outputs": [],
   "source": [
    "from typing import List, Any, Dict, Tuple, Set\n",
    "from operator import itemgetter\n",
    "from itertools import combinations, starmap\n",
    "\n",
    "\n",
    "import pandas as pd\n",
    "import numpy as np\n",
    "from scipy.spatial.distance import cosine\n",
    "import networkx as nx\n",
    "from sklearn.metrics import classification_report\n",
    "\n",
    "import matplotlib.pyplot as plt\n",
    "%matplotlib inline\n",
    "\n",
    "from conversant.conversation import Conversation\n",
    "from conversant.interactions import InteractionsGraph\n",
    "from conversant.conversation.parse import DataFrameConversationReader\n",
    "from conversant.interactions.reply_interactions_parser import get_reply_interactions_parser\n",
    "from stance_classification.classifiers.maxcut_stance_classifier import MaxcutStanceClassifier"
   ],
   "metadata": {
    "collapsed": false,
    "pycharm": {
     "name": "#%%\n"
    }
   }
  },
  {
   "cell_type": "code",
   "execution_count": 76,
   "outputs": [
    {
     "data": {
      "text/plain": "      discussion_id  post_id  author_id        creation_date  parent_post_id  \\\n0               878     3557      27083  2008-05-07 23:06:11             NaN   \n1               878     3563       5901  2008-05-08 01:25:25             NaN   \n2               878     3623      11010  2008-05-08 15:03:14             NaN   \n3               878     3627      27083  2008-05-08 15:21:42          3623.0   \n4               878     3632       8705  2008-05-08 15:35:54             NaN   \n...             ...      ...        ...                  ...             ...   \n3046          56718   558884       1488  2014-05-09 05:30:18             NaN   \n3047          56718   558914       2827  2014-05-09 13:40:52        558884.0   \n3048          56718   558915       2827  2014-05-09 13:41:09             NaN   \n3049          56718   558927       2496  2014-05-09 16:26:02        558914.0   \n3050          56718   558964      17093  2014-05-10 01:37:37        558884.0   \n\n      parent_missing  text_id  points  discussion_stance_id is_rebuttal  \n0                  0   513135      -3                   0.0         NaN  \n1                  0   513160      -8                   0.0         NaN  \n2                  0   513211      11                   1.0         NaN  \n3                  0   513212       8                   0.0    disputed  \n4                  0   513276       4                   1.0         NaN  \n...              ...      ...     ...                   ...         ...  \n3046               0   771300       1                   0.0         NaN  \n3047               0   771301       1                   1.0    disputed  \n3048               0   771304       1                   1.0         NaN  \n3049               0   771302       1                   1.0   supported  \n3050               0   771303       1                   1.0    disputed  \n\n[3051 rows x 10 columns]",
      "text/html": "<div>\n<style scoped>\n    .dataframe tbody tr th:only-of-type {\n        vertical-align: middle;\n    }\n\n    .dataframe tbody tr th {\n        vertical-align: top;\n    }\n\n    .dataframe thead th {\n        text-align: right;\n    }\n</style>\n<table border=\"1\" class=\"dataframe\">\n  <thead>\n    <tr style=\"text-align: right;\">\n      <th></th>\n      <th>discussion_id</th>\n      <th>post_id</th>\n      <th>author_id</th>\n      <th>creation_date</th>\n      <th>parent_post_id</th>\n      <th>parent_missing</th>\n      <th>text_id</th>\n      <th>points</th>\n      <th>discussion_stance_id</th>\n      <th>is_rebuttal</th>\n    </tr>\n  </thead>\n  <tbody>\n    <tr>\n      <th>0</th>\n      <td>878</td>\n      <td>3557</td>\n      <td>27083</td>\n      <td>2008-05-07 23:06:11</td>\n      <td>NaN</td>\n      <td>0</td>\n      <td>513135</td>\n      <td>-3</td>\n      <td>0.0</td>\n      <td>NaN</td>\n    </tr>\n    <tr>\n      <th>1</th>\n      <td>878</td>\n      <td>3563</td>\n      <td>5901</td>\n      <td>2008-05-08 01:25:25</td>\n      <td>NaN</td>\n      <td>0</td>\n      <td>513160</td>\n      <td>-8</td>\n      <td>0.0</td>\n      <td>NaN</td>\n    </tr>\n    <tr>\n      <th>2</th>\n      <td>878</td>\n      <td>3623</td>\n      <td>11010</td>\n      <td>2008-05-08 15:03:14</td>\n      <td>NaN</td>\n      <td>0</td>\n      <td>513211</td>\n      <td>11</td>\n      <td>1.0</td>\n      <td>NaN</td>\n    </tr>\n    <tr>\n      <th>3</th>\n      <td>878</td>\n      <td>3627</td>\n      <td>27083</td>\n      <td>2008-05-08 15:21:42</td>\n      <td>3623.0</td>\n      <td>0</td>\n      <td>513212</td>\n      <td>8</td>\n      <td>0.0</td>\n      <td>disputed</td>\n    </tr>\n    <tr>\n      <th>4</th>\n      <td>878</td>\n      <td>3632</td>\n      <td>8705</td>\n      <td>2008-05-08 15:35:54</td>\n      <td>NaN</td>\n      <td>0</td>\n      <td>513276</td>\n      <td>4</td>\n      <td>1.0</td>\n      <td>NaN</td>\n    </tr>\n    <tr>\n      <th>...</th>\n      <td>...</td>\n      <td>...</td>\n      <td>...</td>\n      <td>...</td>\n      <td>...</td>\n      <td>...</td>\n      <td>...</td>\n      <td>...</td>\n      <td>...</td>\n      <td>...</td>\n    </tr>\n    <tr>\n      <th>3046</th>\n      <td>56718</td>\n      <td>558884</td>\n      <td>1488</td>\n      <td>2014-05-09 05:30:18</td>\n      <td>NaN</td>\n      <td>0</td>\n      <td>771300</td>\n      <td>1</td>\n      <td>0.0</td>\n      <td>NaN</td>\n    </tr>\n    <tr>\n      <th>3047</th>\n      <td>56718</td>\n      <td>558914</td>\n      <td>2827</td>\n      <td>2014-05-09 13:40:52</td>\n      <td>558884.0</td>\n      <td>0</td>\n      <td>771301</td>\n      <td>1</td>\n      <td>1.0</td>\n      <td>disputed</td>\n    </tr>\n    <tr>\n      <th>3048</th>\n      <td>56718</td>\n      <td>558915</td>\n      <td>2827</td>\n      <td>2014-05-09 13:41:09</td>\n      <td>NaN</td>\n      <td>0</td>\n      <td>771304</td>\n      <td>1</td>\n      <td>1.0</td>\n      <td>NaN</td>\n    </tr>\n    <tr>\n      <th>3049</th>\n      <td>56718</td>\n      <td>558927</td>\n      <td>2496</td>\n      <td>2014-05-09 16:26:02</td>\n      <td>558914.0</td>\n      <td>0</td>\n      <td>771302</td>\n      <td>1</td>\n      <td>1.0</td>\n      <td>supported</td>\n    </tr>\n    <tr>\n      <th>3050</th>\n      <td>56718</td>\n      <td>558964</td>\n      <td>17093</td>\n      <td>2014-05-10 01:37:37</td>\n      <td>558884.0</td>\n      <td>0</td>\n      <td>771303</td>\n      <td>1</td>\n      <td>1.0</td>\n      <td>disputed</td>\n    </tr>\n  </tbody>\n</table>\n<p>3051 rows × 10 columns</p>\n</div>"
     },
     "execution_count": 76,
     "metadata": {},
     "output_type": "execute_result"
    }
   ],
   "source": [
    "data_path = \"/home/dev/data/stance/IAC/alternative/createdebate_released/post.txt\"\n",
    "header = [\"discussion_id\", \"post_id\", \"author_id\", \"creation_date\", \"parent_post_id\",\n",
    "          \"parent_missing\", \"text_id\", \"points\", \"discussion_stance_id\", \"is_rebuttal\"]\n",
    "\n",
    "df = pd.read_csv(data_path, sep='\\t', names=header, na_values=\"\\\\N\")\n",
    "df"
   ],
   "metadata": {
    "collapsed": false,
    "pycharm": {
     "name": "#%%\n"
    }
   }
  },
  {
   "cell_type": "code",
   "execution_count": 77,
   "outputs": [
    {
     "data": {
      "text/plain": "63"
     },
     "execution_count": 77,
     "metadata": {},
     "output_type": "execute_result"
    }
   ],
   "source": [
    "len(df[\"discussion_id\"].unique())"
   ],
   "metadata": {
    "collapsed": false,
    "pycharm": {
     "name": "#%%\n"
    }
   }
  },
  {
   "cell_type": "code",
   "execution_count": 78,
   "outputs": [
    {
     "data": {
      "text/plain": "993"
     },
     "execution_count": 78,
     "metadata": {},
     "output_type": "execute_result"
    }
   ],
   "source": [
    "df[\"parent_post_id\"].isna().sum()"
   ],
   "metadata": {
    "collapsed": false,
    "pycharm": {
     "name": "#%%\n"
    }
   }
  },
  {
   "cell_type": "code",
   "execution_count": 79,
   "outputs": [],
   "source": [
    "pasre_strategy = {\n",
    "    \"node_id\": \"post_id\",\n",
    "    \"author\": \"author_id\",\n",
    "    \"timestamp\": \"creation_date\",\n",
    "    \"parent_id\": \"parent_post_id\"\n",
    "    }\n",
    "parser = DataFrameConversationReader(pasre_strategy)"
   ],
   "metadata": {
    "collapsed": false,
    "pycharm": {
     "name": "#%%\n"
    }
   }
  },
  {
   "cell_type": "code",
   "execution_count": 80,
   "outputs": [],
   "source": [
    "gb = df.groupby(\"discussion_id\")"
   ],
   "metadata": {
    "collapsed": false,
    "pycharm": {
     "name": "#%%\n"
    }
   }
  },
  {
   "cell_type": "code",
   "execution_count": 81,
   "outputs": [],
   "source": [
    "it = iter(gb)"
   ],
   "metadata": {
    "collapsed": false,
    "pycharm": {
     "name": "#%%\n"
    }
   }
  },
  {
   "cell_type": "code",
   "execution_count": 82,
   "outputs": [
    {
     "name": "stdout",
     "output_type": "stream",
     "text": [
      "<generator object BaseGrouper.get_iterator at 0x7f8106002510>\n"
     ]
    },
    {
     "data": {
      "text/plain": "27083 - 3557\n├── 24659 - 3641\n│   ├── 3346 - 3645\n│   │   ├── 17754 - 3716\n│   │   │   ├── 24659 - 3723\n│   │   │   └── 3346 - 3853\n│   │   │       └── 17754 - 3937\n│   │   └── 21084 - 30475\n│   ├── 27083 - 3662\n│   │   ├── 24659 - 3669\n│   │   │   └── 27784 - 3711\n│   │   └── 16689 - 5282\n│   ├── 28180 - 4710\n│   └── 28608 - 10247\n│       └── 23602 - 40757\n├── 16689 - 4929\n├── 26420 - 28947\n├── 8448 - 74263\n│   └── 27680 - 84949\n└── 28296 - 225691"
     },
     "execution_count": 82,
     "metadata": {},
     "output_type": "execute_result"
    }
   ],
   "source": [
    "name, ddf = next(it)\n",
    "print(it)\n",
    "conv = parser.parse(ddf)\n",
    "conv"
   ],
   "metadata": {
    "collapsed": false,
    "pycharm": {
     "name": "#%%\n"
    }
   }
  },
  {
   "cell_type": "code",
   "execution_count": 83,
   "outputs": [],
   "source": [
    "convs = list(map(parser.parse, map(itemgetter(1), gb)))"
   ],
   "metadata": {
    "collapsed": false,
    "pycharm": {
     "name": "#%%\n"
    }
   }
  },
  {
   "cell_type": "code",
   "execution_count": 84,
   "outputs": [
    {
     "name": "stdout",
     "output_type": "stream",
     "text": [
      "63\n",
      "7.380952380952381\n",
      "3.0\n"
     ]
    }
   ],
   "source": [
    "sizes = [c.size for c in convs]\n",
    "print(len(sizes))\n",
    "print(np.mean(sizes))\n",
    "print(np.median(sizes))"
   ],
   "metadata": {
    "collapsed": false,
    "pycharm": {
     "name": "#%%\n"
    }
   }
  },
  {
   "cell_type": "code",
   "execution_count": 85,
   "outputs": [
    {
     "name": "stdout",
     "output_type": "stream",
     "text": [
      "22\n",
      "17.681818181818183\n",
      "14.0\n"
     ]
    }
   ],
   "source": [
    "filtered_sizes = [s for s in sizes if s >= 5]\n",
    "print(len(filtered_sizes))\n",
    "print(np.mean(filtered_sizes))\n",
    "print(np.median(filtered_sizes))\n",
    "\n"
   ],
   "metadata": {
    "collapsed": false,
    "pycharm": {
     "name": "#%%\n"
    }
   }
  },
  {
   "cell_type": "code",
   "execution_count": 86,
   "outputs": [],
   "source": [
    "large_convs = [c for c in convs if c.size >=10]"
   ],
   "metadata": {
    "collapsed": false,
    "pycharm": {
     "name": "#%%\n"
    }
   }
  },
  {
   "cell_type": "code",
   "execution_count": 87,
   "outputs": [],
   "source": [
    "def get_majority_vote(labels: List[int]) -> int:\n",
    "    return int(np.mean(labels) >= 0.5)\n",
    "\n",
    "def get_author_labels(conv: Conversation) -> Dict[Any, int]:\n",
    "    authors_post_labels = {}\n",
    "    for depth, node in conv.iter_conversation():\n",
    "        data = node.data\n",
    "        author = node.author\n",
    "        author_labels = authors_post_labels.setdefault(author, [])\n",
    "        author_labels.append(data[\"discussion_stance_id\"])\n",
    "\n",
    "    authors_labels = {a: get_majority_vote(labels) for a, labels in authors_post_labels.items()}\n",
    "    return authors_labels\n",
    "\n",
    "def get_maxcut_results(graph: InteractionsGraph, op: Any) -> MaxcutStanceClassifier:\n",
    "    maxcut = MaxcutStanceClassifier()\n",
    "    maxcut.set_input(graph.graph)\n",
    "    maxcut.classify_stance(op)\n",
    "    # maxcut.draw()\n",
    "    return maxcut\n",
    "\n",
    "def align_gs_with_predictions(maxcut: MaxcutStanceClassifier, authors_labels: Dict[Any, int]) -> Tuple[List[int], List[int]]:\n",
    "    support_label = authors_labels[op]\n",
    "    opposer_label = 1 - support_label\n",
    "    supporters = maxcut.get_supporters()\n",
    "    opposers = maxcut.get_complement()\n",
    "\n",
    "    y_true, y_pred = [], []\n",
    "    for supporter in supporters:\n",
    "        true_label = authors_labels[supporter]\n",
    "        y_true.append(true_label)\n",
    "        y_pred.append(support_label)\n",
    "\n",
    "    for opposer in opposers:\n",
    "        true_label = authors_labels[opposer]\n",
    "        y_true.append(true_label)\n",
    "        y_pred.append(opposer_label)\n",
    "\n",
    "    return y_true, y_pred\n",
    "\n",
    "def align_posts_gs_with_predictions(conv: Conversation, authors_labels: Dict[Any, int]) -> Tuple[List[int], List[int]]:\n",
    "    y_true, y_pred = [], []\n",
    "    for (_, node) in conv.iter_conversation():\n",
    "        y_true.append(node.data[\"discussion_stance_id\"])\n",
    "        pred = authors_labels[node.author]\n",
    "        y_pred.append(pred)\n",
    "\n",
    "    return y_true, y_pred"
   ],
   "metadata": {
    "collapsed": false,
    "pycharm": {
     "name": "#%%\n"
    }
   }
  },
  {
   "cell_type": "code",
   "execution_count": 88,
   "outputs": [
    {
     "name": "stdout",
     "output_type": "stream",
     "text": [
      "total number of conversations: 63\n",
      "number of conversations with empty core: 59\n",
      "number of conversations in eval: 4\n",
      "number of authors in eval: 17\n",
      "number of posts in eval: 77\n"
     ]
    }
   ],
   "source": [
    "reply_interactions_parser = get_reply_interactions_parser()\n",
    "y_true, y_pred = [], []\n",
    "posts_true, posts_pred = [], []\n",
    "filtered_convs = []\n",
    "empty_core = []\n",
    "results: List[Tuple[np.ndarray, Set[int], Set[int]]] = []\n",
    "\n",
    "for conv in convs:\n",
    "    interaction_graph = reply_interactions_parser.parse(conv)\n",
    "    op = conv.root.author\n",
    "    interaction_graph.graph.add_edge(op, -1, replies=1)\n",
    "    interaction_graph.graph.add_edge(op, -2, replies=1)\n",
    "    interaction_graph.graph.add_edge(-1, -2, replies=1)\n",
    "\n",
    "    interaction_graph.set_interaction_weights(lambda x: x['replies'])\n",
    "    if len(list(interaction_graph.graph.neighbors(op))) <= 1:\n",
    "        op_not_connected.append(conv)\n",
    "        continue\n",
    "\n",
    "    kcore = interaction_graph.get_core_interactions()\n",
    "    if kcore.graph.order() == 0:\n",
    "        empty_core.append(conv)\n",
    "        continue\n",
    "\n",
    "    if op not in kcore.graph.nodes:\n",
    "        print(kcore.graph.nodes)\n",
    "        op_not_in_core.append(conv)\n",
    "        continue\n",
    "\n",
    "    kcore.graph.remove_nodes_from([-1, -2])\n",
    "    kcore = kcore.get_op_connected_components()\n",
    "    maxcut = get_maxcut_results(kcore, op)\n",
    "    authors_labels = get_author_labels(conv)\n",
    "    true, preds = align_gs_with_predictions(maxcut, authors_labels)\n",
    "    y_true.extend(true)\n",
    "    y_pred.extend(preds)\n",
    "\n",
    "    true, preds = align_posts_gs_with_predictions(conv, authors_labels)\n",
    "    posts_true.extend(true)\n",
    "    posts_pred.extend(preds)\n",
    "    filtered_convs.append(conv)\n",
    "    results.append((maxcut.embeddings, maxcut.get_supporters(), maxcut.get_complement()))\n",
    "\n",
    "\n",
    "print(f\"total number of conversations: {len(convs)}\")\n",
    "print(f\"number of conversations with empty core: {len(empty_core)}\")\n",
    "print(f\"number of conversations in eval: {len(filtered_convs)}\")\n",
    "print(f\"number of authors in eval: {len(y_true)}\")\n",
    "print(f\"number of posts in eval: {len(posts_true)}\")"
   ],
   "metadata": {
    "collapsed": false,
    "pycharm": {
     "name": "#%%\n"
    }
   }
  },
  {
   "cell_type": "code",
   "execution_count": 89,
   "outputs": [
    {
     "name": "stdout",
     "output_type": "stream",
     "text": [
      "              precision    recall  f1-score   support\n",
      "\n",
      "           0       0.56      0.71      0.63         7\n",
      "           1       0.75      0.60      0.67        10\n",
      "\n",
      "    accuracy                           0.65        17\n",
      "   macro avg       0.65      0.66      0.65        17\n",
      "weighted avg       0.67      0.65      0.65        17\n",
      "\n"
     ]
    }
   ],
   "source": [
    "print(classification_report(y_true, y_pred))"
   ],
   "metadata": {
    "collapsed": false,
    "pycharm": {
     "name": "#%%\n"
    }
   }
  },
  {
   "cell_type": "code",
   "execution_count": 90,
   "outputs": [
    {
     "name": "stdout",
     "output_type": "stream",
     "text": [
      "              precision    recall  f1-score   support\n",
      "\n",
      "         0.0       0.96      0.90      0.93        29\n",
      "         1.0       0.94      0.98      0.96        48\n",
      "\n",
      "    accuracy                           0.95        77\n",
      "   macro avg       0.95      0.94      0.94        77\n",
      "weighted avg       0.95      0.95      0.95        77\n",
      "\n"
     ]
    }
   ],
   "source": [
    "print(classification_report(posts_true, posts_pred))"
   ],
   "metadata": {
    "collapsed": false,
    "pycharm": {
     "name": "#%%\n"
    }
   }
  },
  {
   "cell_type": "code",
   "execution_count": 91,
   "outputs": [],
   "source": [
    "# layout = nx.spring_layout(interaction_graph.graph)\n",
    "# nx.draw(interaction_graph.graph, layout)"
   ],
   "metadata": {
    "collapsed": false,
    "pycharm": {
     "name": "#%%\n"
    }
   }
  },
  {
   "cell_type": "code",
   "execution_count": 92,
   "outputs": [
    {
     "name": "stderr",
     "output_type": "stream",
     "text": [
      "/home/dev/.virtualenvs/conv/lib/python3.8/site-packages/numpy/core/fromnumeric.py:3372: RuntimeWarning: Mean of empty slice.\n",
      "  return _methods._mean(a, axis=axis, dtype=dtype,\n",
      "/home/dev/.virtualenvs/conv/lib/python3.8/site-packages/numpy/core/_methods.py:170: RuntimeWarning: invalid value encountered in double_scalars\n",
      "  ret = ret.dtype.type(ret / rcount)\n"
     ]
    },
    {
     "data": {
      "text/plain": "(4, 0.27777654656912737, 0.572914746922623, 1.9532000665376241)"
     },
     "execution_count": 92,
     "metadata": {},
     "output_type": "execute_result"
    }
   ],
   "source": [
    "supporters_avg_angles = []\n",
    "opposers_avg_angles = []\n",
    "mean_cross_angle = []\n",
    "\n",
    "for i in range(len(results)):\n",
    "    r = results[i]\n",
    "    supporters_distances = list(starmap(lambda i, j: cosine(r[0][i], r[0][j]), combinations(r[1], 2)))\n",
    "    opposers_distances = list(starmap(lambda i, j: cosine(r[0][i], r[0][j]), combinations(r[2], 2)))\n",
    "    supporters_avg_angle = np.mean(supporters_distances)\n",
    "    opposers_avg_angle = np.mean(opposers_distances)\n",
    "\n",
    "    supporters_avg_angles.append(supporters_avg_angle)\n",
    "    opposers_avg_angles.append(opposers_avg_angle)\n",
    "\n",
    "    supporters_mean_embedding = np.mean([np.array(r[0][i]) for i in r[1]], axis=0)[0]\n",
    "    opposers_mean_embedding = np.mean([np.array(r[0][i]) for i in r[2]], axis=0)[0]\n",
    "    cross_angle = cosine(supporters_mean_embedding, opposers_mean_embedding)\n",
    "    mean_cross_angle.append(cross_angle)\n",
    "\n",
    "len(results), np.nanmean(supporters_avg_angles), np.nanmean(opposers_avg_angles), np.mean(mean_cross_angle)"
   ],
   "metadata": {
    "collapsed": false,
    "pycharm": {
     "name": "#%%\n"
    }
   }
  },
  {
   "cell_type": "code",
   "execution_count": 93,
   "outputs": [],
   "source": [
    "# from sklearn.manifold import TSNE\n",
    "# from sklearn.decomposition import PCA\n",
    "# X = np.vstack([np.array(x) for x in r[0].values()])\n",
    "# X_pca = PCA(n_components=2).fit_transform(X)\n",
    "# X_tsne = TSNE(n_components=2).fit_transform(X)"
   ],
   "metadata": {
    "collapsed": false,
    "pycharm": {
     "name": "#%%\n"
    }
   }
  },
  {
   "cell_type": "code",
   "execution_count": 94,
   "outputs": [],
   "source": [
    "# nodes = r[0].keys()\n",
    "# colors = ['r' if i in r[1] else 'g' for i in nodes]\n",
    "# plt.scatter(X_tsne[:, 0], X_tsne[:, 1], color=colors)\n",
    "#"
   ],
   "metadata": {
    "collapsed": false,
    "pycharm": {
     "name": "#%%\n"
    }
   }
  },
  {
   "cell_type": "code",
   "execution_count": 95,
   "outputs": [],
   "source": [
    "# plt.scatter(X_pca[:, 0], X_pca[:, 1], color=colors)\n",
    "\n",
    "\n"
   ],
   "metadata": {
    "collapsed": false,
    "pycharm": {
     "name": "#%%\n"
    }
   }
  },
  {
   "cell_type": "code",
   "execution_count": 96,
   "outputs": [
    {
     "data": {
      "text/plain": "2.0"
     },
     "execution_count": 96,
     "metadata": {},
     "output_type": "execute_result"
    }
   ],
   "source": [
    "cosine([1,1,1,1], [-1,-1,-1,-1])\n"
   ],
   "metadata": {
    "collapsed": false,
    "pycharm": {
     "name": "#%%\n"
    }
   }
  },
  {
   "cell_type": "code",
   "execution_count": 97,
   "outputs": [
    {
     "data": {
      "text/plain": "count         2058\nunique           3\ntop       disputed\nfreq          1703\nName: is_rebuttal, dtype: object"
     },
     "execution_count": 97,
     "metadata": {},
     "output_type": "execute_result"
    }
   ],
   "source": [
    "\n",
    "df.is_rebuttal.describe()"
   ],
   "metadata": {
    "collapsed": false,
    "pycharm": {
     "name": "#%%\n"
    }
   }
  },
  {
   "cell_type": "code",
   "execution_count": null,
   "outputs": [],
   "source": [],
   "metadata": {
    "collapsed": false,
    "pycharm": {
     "name": "#%%\n"
    }
   }
  }
 ],
 "metadata": {
  "kernelspec": {
   "display_name": "Python 3",
   "language": "python",
   "name": "python3"
  },
  "language_info": {
   "codemirror_mode": {
    "name": "ipython",
    "version": 2
   },
   "file_extension": ".py",
   "mimetype": "text/x-python",
   "name": "python",
   "nbconvert_exporter": "python",
   "pygments_lexer": "ipython2",
   "version": "2.7.6"
  }
 },
 "nbformat": 4,
 "nbformat_minor": 0
}