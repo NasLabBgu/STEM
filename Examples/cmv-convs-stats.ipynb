{
 "cells": [
  {
   "cell_type": "markdown",
   "source": [
    "<img src=\"https://i1.sndcdn.com/avatars-000274765548-vj7h0w-t500x500.jpg\" style='float:right; width:200px; margin: 0 20px;'>\n",
    "\n",
    "<img src=\"https://cdn2.iconfinder.com/data/icons/popular-social-media-flat/48/Popular_Social_Media-11-512.png\" style='float:right; width:200px; margin: 0 20px;'>\n",
    "\n",
    "\n",
    "# Twitter V CMV topological differences --> Twitter\n",
    "---\n",
    "\n",
    "> Create feature set for CMV and Twitter \n",
    "\n",
    "> Do comperative analysis of features"
   ],
   "metadata": {
    "collapsed": false
   }
  },
  {
   "cell_type": "code",
   "execution_count": null,
   "outputs": [],
   "source": [
    "# env \n",
    "import sys\n",
    "sys.path.append('/Users/shaimeital/code/thesis/conversant')\n",
    "sys.path.append('/Users/shaimeital/code/thesis/cmv-stance-classification')\n"
   ],
   "metadata": {
    "collapsed": false,
    "pycharm": {
     "name": "#%%\n"
    }
   }
  },
  {
   "cell_type": "code",
   "execution_count": 1,
   "outputs": [],
   "source": [
    "from typing import Iterable, List, Sequence, Set\n",
    "import json\n",
    "\n",
    "import pandas as pd\n",
    "import numpy as np\n",
    "import networkx as nx\n",
    "import glob\n",
    "import os\n",
    "import csv\n",
    "\n",
    "import logging\n",
    "logging.basicConfig()\n",
    "logging.getLogger().setLevel(logging.INFO)"
   ],
   "metadata": {
    "collapsed": false,
    "pycharm": {
     "name": "#%%\n"
    }
   }
  },
  {
   "cell_type": "code",
   "execution_count": 2,
   "outputs": [],
   "source": [
    "from conversant.conversation.examples.controversial_feature_extraction import *\n",
    "from conversant.conversation\\\n",
    "    .conversation_utils import conversation_to_dataframe\n",
    "from stance_classification.twitter_conversation_parser import TwitterConversationReader\n",
    "\n",
    "from stance_classification.classifiers.maxcut_stance_classifier import MaxcutStanceClassifier"
   ],
   "metadata": {
    "collapsed": false,
    "pycharm": {
     "name": "#%%\n"
    }
   }
  },
  {
   "cell_type": "code",
   "execution_count": 3,
   "outputs": [],
   "source": [
    "import seaborn as sns\n",
    "import matplotlib.pyplot as plt\n",
    "from tqdm.notebook import tqdm"
   ],
   "metadata": {
    "collapsed": false,
    "pycharm": {
     "name": "#%%\n"
    }
   }
  },
  {
   "cell_type": "markdown",
   "source": [
    "# Load Dataset\n",
    "First load the gold standard,\n",
    "then load the conversations for which we have gold-standard annotations"
   ],
   "metadata": {
    "collapsed": false,
    "pycharm": {
     "name": "#%% md\n"
    }
   }
  },
  {
   "cell_type": "markdown",
   "source": [
    "## Gold Standard"
   ],
   "metadata": {
    "collapsed": false,
    "pycharm": {
     "name": "#%% md\n"
    }
   }
  },
  {
   "cell_type": "code",
   "execution_count": 8,
   "outputs": [],
   "source": [
    "def load_annotations(annotations_path: str) -> Iterable[dict]:\n",
    "    with open(annotations_path, 'r') as f:\n",
    "        reader = csv.reader(f)\n",
    "        next(reader) # skip header\n",
    "        for record in reader:\n",
    "            yield {\n",
    "                \"cid\": record[0],\n",
    "                \"author\": record[1],\n",
    "                \"label\": record[2]\n",
    "            }"
   ],
   "metadata": {
    "collapsed": false,
    "pycharm": {
     "name": "#%%\n"
    }
   }
  },
  {
   "cell_type": "code",
   "execution_count": 9,
   "outputs": [
    {
     "data": {
      "text/plain": "        cid                author label\n0    4rl42j  ThatBelligerentSloth     1\n1    4rl42j                Hq3473    -1\n2    4rl42j              Mintnose    -1\n3    4rl42j   Octobers_second_one    -1\n4    4rl42j               yaxamie     1\n..      ...                   ...   ...\n147  6l6xwb         forerunner398    -1\n148  6lksmn       FrostbiteOrange     1\n149  6lksmn            VertigoOne    -1\n150  6lksmn             muyamable    -1\n151  6lksmn       smartest_kobold    -1\n\n[152 rows x 3 columns]",
      "text/html": "<div>\n<style scoped>\n    .dataframe tbody tr th:only-of-type {\n        vertical-align: middle;\n    }\n\n    .dataframe tbody tr th {\n        vertical-align: top;\n    }\n\n    .dataframe thead th {\n        text-align: right;\n    }\n</style>\n<table border=\"1\" class=\"dataframe\">\n  <thead>\n    <tr style=\"text-align: right;\">\n      <th></th>\n      <th>cid</th>\n      <th>author</th>\n      <th>label</th>\n    </tr>\n  </thead>\n  <tbody>\n    <tr>\n      <th>0</th>\n      <td>4rl42j</td>\n      <td>ThatBelligerentSloth</td>\n      <td>1</td>\n    </tr>\n    <tr>\n      <th>1</th>\n      <td>4rl42j</td>\n      <td>Hq3473</td>\n      <td>-1</td>\n    </tr>\n    <tr>\n      <th>2</th>\n      <td>4rl42j</td>\n      <td>Mintnose</td>\n      <td>-1</td>\n    </tr>\n    <tr>\n      <th>3</th>\n      <td>4rl42j</td>\n      <td>Octobers_second_one</td>\n      <td>-1</td>\n    </tr>\n    <tr>\n      <th>4</th>\n      <td>4rl42j</td>\n      <td>yaxamie</td>\n      <td>1</td>\n    </tr>\n    <tr>\n      <th>...</th>\n      <td>...</td>\n      <td>...</td>\n      <td>...</td>\n    </tr>\n    <tr>\n      <th>147</th>\n      <td>6l6xwb</td>\n      <td>forerunner398</td>\n      <td>-1</td>\n    </tr>\n    <tr>\n      <th>148</th>\n      <td>6lksmn</td>\n      <td>FrostbiteOrange</td>\n      <td>1</td>\n    </tr>\n    <tr>\n      <th>149</th>\n      <td>6lksmn</td>\n      <td>VertigoOne</td>\n      <td>-1</td>\n    </tr>\n    <tr>\n      <th>150</th>\n      <td>6lksmn</td>\n      <td>muyamable</td>\n      <td>-1</td>\n    </tr>\n    <tr>\n      <th>151</th>\n      <td>6lksmn</td>\n      <td>smartest_kobold</td>\n      <td>-1</td>\n    </tr>\n  </tbody>\n</table>\n<p>152 rows × 3 columns</p>\n</div>"
     },
     "execution_count": 9,
     "metadata": {},
     "output_type": "execute_result"
    }
   ],
   "source": [
    "path = r\"C:\\Users\\ronp\\Documents\\stance-classification\\stance-gs-extended.csv\"\n",
    "\n",
    "annotations = load_annotations(path)\n",
    "labeled_df = pd.DataFrame.from_records(annotations)\n",
    "labeled_df"
   ],
   "metadata": {
    "collapsed": false,
    "pycharm": {
     "name": "#%%\n"
    }
   }
  },
  {
   "cell_type": "markdown",
   "source": [
    "take conversations for which we have at least a single annotation"
   ],
   "metadata": {
    "collapsed": false,
    "pycharm": {
     "name": "#%% md\n"
    }
   }
  },
  {
   "cell_type": "code",
   "execution_count": 10,
   "outputs": [
    {
     "name": "stdout",
     "output_type": "stream",
     "text": [
      "13 conversations with annotations\n"
     ]
    }
   ],
   "source": [
    "annotated_conversation_ids = sorted(set(labeled_df[\"cid\"]))\n",
    "print(f\"{len(annotated_conversation_ids)} conversations with annotations\")"
   ],
   "metadata": {
    "collapsed": false,
    "pycharm": {
     "name": "#%%\n"
    }
   }
  },
  {
   "cell_type": "markdown",
   "source": [
    "## Load Raw Data\n",
    "only relevant conversations that occurs in the gold standard"
   ],
   "metadata": {
    "collapsed": false
   }
  },
  {
   "cell_type": "code",
   "execution_count": 8,
   "outputs": [
    {
     "name": "stdout",
     "output_type": "stream",
     "text": [
      "297 scraped conversations with annotations\n"
     ]
    }
   ],
   "source": [
    "cmv_conversations_path = r\"C:\\Users\\ronp\\Documents\\stance-classification\\trees2.0.txt\"\n",
    "annotated_trees =\n",
    "with open(cmv_conversations_path, 'r') as f:\n",
    "    for line in f:\n",
    "        tree = json.loads(f)\n",
    "        if tree[\"id\"] in annotated_conversation_ids:\n",
    "\n",
    "available_conversation_ids = os.listdir(twitter_conversations_path)\n",
    "twitter_conversation_ids = sorted(set(annotated_conversation_ids).intersection(available_conversation_ids))\n",
    "print(f\"{len(twitter_conversation_ids)} scraped conversations with annotations\")"
   ],
   "metadata": {
    "collapsed": false,
    "pycharm": {
     "name": "#%%\n"
    }
   }
  },
  {
   "cell_type": "code",
   "execution_count": 9,
   "outputs": [
    {
     "name": "stderr",
     "output_type": "stream",
     "text": [
      "INFO:numexpr.utils:NumExpr defaulting to 4 threads.\n"
     ]
    },
    {
     "data": {
      "text/plain": "                  created_at              id_str  \\\n0  2014-08-10 00:32:13+00:00  498265524397432832   \n1  2014-08-10 00:37:23+00:00  498266827676741632   \n2  2014-08-11 05:58:51+00:00  498710112358244352   \n3  2014-08-10 17:21:03+00:00  498519407375941632   \n4  2014-08-10 03:40:28+00:00  498312902928244736   \n5  2014-08-10 03:42:21+00:00  498313376888799232   \n6  2014-08-11 10:58:25+00:00  498785502062190592   \n7  2014-08-11 15:15:42+00:00  498850250048946176   \n8  2014-08-09 22:33:06+00:00  498235547685756928   \n9  2014-08-09 23:04:01+00:00  498243332204949504   \n10 2014-08-10 03:45:08+00:00  498314073873055744   \n11 2014-08-10 10:14:10+00:00  498411979091218432   \n\n                                            full_text display_text_range  \\\n0                  @annaxsweat http://t.co/Z7Qm4iaoSR            [0, 34]   \n1   @annaxsweat #StopThugCops We have to take acti...            [0, 81]   \n2                                     @annaxsweat 18*            [0, 15]   \n3   @annaxsweat: Soooo wonderfully said! Thank you...            [0, 73]   \n4        @annaxsweat well, he damn sure ain't a child            [0, 44]   \n5                          @HighPlainsCoot fuck. Off.            [0, 26]   \n6   @AlexisAStevens yeah that tweet was written be...           [0, 101]   \n7     @annaxsweat after several hours someone noticed            [0, 47]   \n8   Black teenage boys are not men. They are child...           [0, 128]   \n9   @annaxsweat @NeoSoulPol Same thing when #Trayv...           [0, 131]   \n10  @annaxsweat the response of a leftist toker. i...            [0, 80]   \n11  @annaxsweat such talk from a lady(?). senseles...            [0, 63]   \n\n                                             entities  \\\n0   {'user_mentions': [{'screen_name': 'annaxsweat...   \n1   {'hashtags': [{'text': 'StopThugCops', 'indice...   \n2   {'user_mentions': [{'screen_name': 'annaxsweat...   \n3   {'user_mentions': [{'screen_name': 'annaxsweat...   \n4   {'user_mentions': [{'screen_name': 'annaxsweat...   \n5                                                  {}   \n6                                                  {}   \n7   {'user_mentions': [{'screen_name': 'annaxsweat...   \n8   {'hashtags': [{'text': 'ferguson', 'indices': ...   \n9   {'hashtags': [{'text': 'Trayvon', 'indices': [...   \n10  {'user_mentions': [{'screen_name': 'annaxsweat...   \n11  {'user_mentions': [{'screen_name': 'annaxsweat...   \n\n                                    extended_entities  \\\n0   {'media': [{'id_str': '498265523889930242', 'i...   \n1                                                 NaN   \n2                                                 NaN   \n3                                                 NaN   \n4                                                 NaN   \n5                                                 NaN   \n6                                                 NaN   \n7                                                 NaN   \n8                                                 NaN   \n9                                                 NaN   \n10                                                NaN   \n11                                                NaN   \n\n                                               source  \\\n0   <a href=\"http://twitter.com/#!/download/ipad\" ...   \n1   <a href=\"http://twitter.com/#!/download/ipad\" ...   \n2   <a href=\"http://twitter.com\" rel=\"nofollow\">Tw...   \n3   <a href=\"http://twitter.com\" rel=\"nofollow\">Tw...   \n4   <a href=\"http://twitter.com\" rel=\"nofollow\">Tw...   \n5   <a href=\"http://twitter.com/download/iphone\" r...   \n6   <a href=\"http://twitter.com/download/iphone\" r...   \n7   <a href=\"http://www.tweetcaster.com\" rel=\"nofo...   \n8   <a href=\"http://twitter.com/#!/download/ipad\" ...   \n9   <a href=\"https://about.twitter.com/products/tw...   \n10  <a href=\"http://twitter.com\" rel=\"nofollow\">Tw...   \n11  <a href=\"http://twitter.com\" rel=\"nofollow\">Tw...   \n\n   in_reply_to_status_id_str  in_reply_to_user_id_str in_reply_to_screen_name  \\\n0         498235547685756928             1.539100e+09              annaxsweat   \n1         498235547685756928             1.539100e+09              annaxsweat   \n2         498235547685756928             1.539100e+09              annaxsweat   \n3         498235547685756928             1.539100e+09              annaxsweat   \n4         498235547685756928             1.539100e+09              annaxsweat   \n5         498312902928244736             2.437571e+09         HighPlainsRover   \n6         498710112358244352             4.815092e+08           AlexisAurora_   \n7         498235547685756928             1.539100e+09              annaxsweat   \n8                        nan                      NaN                     NaN   \n9         498235547685756928             1.539100e+09              annaxsweat   \n10        498313376888799232             1.539100e+09              annaxsweat   \n11        498313376888799232             1.539100e+09              annaxsweat   \n\n    user_id_str  retweet_count  favorite_count  reply_count  quote_count  \\\n0      21461995              2               1            0            0   \n1      21461995              4               2            0            0   \n2     481509183              0               0            1            0   \n3    2331498373              0               0            0            0   \n4    2437571275              0               1            1            0   \n5    1539100118              0               0            2            0   \n6    1539100118              0               0            0            0   \n7    2556027474              0               0            0            0   \n8    1539100118            177             100            9            0   \n9     587926686              1               0            0            0   \n10   2437571275              0               0            0            0   \n11   2437571275              0               0            0            0   \n\n   conversation_id_str  possibly_sensitive_editable lang  \n0   498235547685756928                          1.0  und  \n1   498235547685756928                          NaN   en  \n2   498235547685756928                          NaN  und  \n3   498235547685756928                          NaN   en  \n4   498235547685756928                          NaN   en  \n5   498235547685756928                          NaN   en  \n6   498235547685756928                          NaN   en  \n7   498235547685756928                          NaN   en  \n8   498235547685756928                          NaN   en  \n9   498235547685756928                          NaN   en  \n10  498235547685756928                          NaN   en  \n11  498235547685756928                          NaN   en  ",
      "text/html": "<div>\n<style scoped>\n    .dataframe tbody tr th:only-of-type {\n        vertical-align: middle;\n    }\n\n    .dataframe tbody tr th {\n        vertical-align: top;\n    }\n\n    .dataframe thead th {\n        text-align: right;\n    }\n</style>\n<table border=\"1\" class=\"dataframe\">\n  <thead>\n    <tr style=\"text-align: right;\">\n      <th></th>\n      <th>created_at</th>\n      <th>id_str</th>\n      <th>full_text</th>\n      <th>display_text_range</th>\n      <th>entities</th>\n      <th>extended_entities</th>\n      <th>source</th>\n      <th>in_reply_to_status_id_str</th>\n      <th>in_reply_to_user_id_str</th>\n      <th>in_reply_to_screen_name</th>\n      <th>user_id_str</th>\n      <th>retweet_count</th>\n      <th>favorite_count</th>\n      <th>reply_count</th>\n      <th>quote_count</th>\n      <th>conversation_id_str</th>\n      <th>possibly_sensitive_editable</th>\n      <th>lang</th>\n    </tr>\n  </thead>\n  <tbody>\n    <tr>\n      <th>0</th>\n      <td>2014-08-10 00:32:13+00:00</td>\n      <td>498265524397432832</td>\n      <td>@annaxsweat http://t.co/Z7Qm4iaoSR</td>\n      <td>[0, 34]</td>\n      <td>{'user_mentions': [{'screen_name': 'annaxsweat...</td>\n      <td>{'media': [{'id_str': '498265523889930242', 'i...</td>\n      <td>&lt;a href=\"http://twitter.com/#!/download/ipad\" ...</td>\n      <td>498235547685756928</td>\n      <td>1.539100e+09</td>\n      <td>annaxsweat</td>\n      <td>21461995</td>\n      <td>2</td>\n      <td>1</td>\n      <td>0</td>\n      <td>0</td>\n      <td>498235547685756928</td>\n      <td>1.0</td>\n      <td>und</td>\n    </tr>\n    <tr>\n      <th>1</th>\n      <td>2014-08-10 00:37:23+00:00</td>\n      <td>498266827676741632</td>\n      <td>@annaxsweat #StopThugCops We have to take acti...</td>\n      <td>[0, 81]</td>\n      <td>{'hashtags': [{'text': 'StopThugCops', 'indice...</td>\n      <td>NaN</td>\n      <td>&lt;a href=\"http://twitter.com/#!/download/ipad\" ...</td>\n      <td>498235547685756928</td>\n      <td>1.539100e+09</td>\n      <td>annaxsweat</td>\n      <td>21461995</td>\n      <td>4</td>\n      <td>2</td>\n      <td>0</td>\n      <td>0</td>\n      <td>498235547685756928</td>\n      <td>NaN</td>\n      <td>en</td>\n    </tr>\n    <tr>\n      <th>2</th>\n      <td>2014-08-11 05:58:51+00:00</td>\n      <td>498710112358244352</td>\n      <td>@annaxsweat 18*</td>\n      <td>[0, 15]</td>\n      <td>{'user_mentions': [{'screen_name': 'annaxsweat...</td>\n      <td>NaN</td>\n      <td>&lt;a href=\"http://twitter.com\" rel=\"nofollow\"&gt;Tw...</td>\n      <td>498235547685756928</td>\n      <td>1.539100e+09</td>\n      <td>annaxsweat</td>\n      <td>481509183</td>\n      <td>0</td>\n      <td>0</td>\n      <td>1</td>\n      <td>0</td>\n      <td>498235547685756928</td>\n      <td>NaN</td>\n      <td>und</td>\n    </tr>\n    <tr>\n      <th>3</th>\n      <td>2014-08-10 17:21:03+00:00</td>\n      <td>498519407375941632</td>\n      <td>@annaxsweat: Soooo wonderfully said! Thank you...</td>\n      <td>[0, 73]</td>\n      <td>{'user_mentions': [{'screen_name': 'annaxsweat...</td>\n      <td>NaN</td>\n      <td>&lt;a href=\"http://twitter.com\" rel=\"nofollow\"&gt;Tw...</td>\n      <td>498235547685756928</td>\n      <td>1.539100e+09</td>\n      <td>annaxsweat</td>\n      <td>2331498373</td>\n      <td>0</td>\n      <td>0</td>\n      <td>0</td>\n      <td>0</td>\n      <td>498235547685756928</td>\n      <td>NaN</td>\n      <td>en</td>\n    </tr>\n    <tr>\n      <th>4</th>\n      <td>2014-08-10 03:40:28+00:00</td>\n      <td>498312902928244736</td>\n      <td>@annaxsweat well, he damn sure ain't a child</td>\n      <td>[0, 44]</td>\n      <td>{'user_mentions': [{'screen_name': 'annaxsweat...</td>\n      <td>NaN</td>\n      <td>&lt;a href=\"http://twitter.com\" rel=\"nofollow\"&gt;Tw...</td>\n      <td>498235547685756928</td>\n      <td>1.539100e+09</td>\n      <td>annaxsweat</td>\n      <td>2437571275</td>\n      <td>0</td>\n      <td>1</td>\n      <td>1</td>\n      <td>0</td>\n      <td>498235547685756928</td>\n      <td>NaN</td>\n      <td>en</td>\n    </tr>\n    <tr>\n      <th>5</th>\n      <td>2014-08-10 03:42:21+00:00</td>\n      <td>498313376888799232</td>\n      <td>@HighPlainsCoot fuck. Off.</td>\n      <td>[0, 26]</td>\n      <td>{}</td>\n      <td>NaN</td>\n      <td>&lt;a href=\"http://twitter.com/download/iphone\" r...</td>\n      <td>498312902928244736</td>\n      <td>2.437571e+09</td>\n      <td>HighPlainsRover</td>\n      <td>1539100118</td>\n      <td>0</td>\n      <td>0</td>\n      <td>2</td>\n      <td>0</td>\n      <td>498235547685756928</td>\n      <td>NaN</td>\n      <td>en</td>\n    </tr>\n    <tr>\n      <th>6</th>\n      <td>2014-08-11 10:58:25+00:00</td>\n      <td>498785502062190592</td>\n      <td>@AlexisAStevens yeah that tweet was written be...</td>\n      <td>[0, 101]</td>\n      <td>{}</td>\n      <td>NaN</td>\n      <td>&lt;a href=\"http://twitter.com/download/iphone\" r...</td>\n      <td>498710112358244352</td>\n      <td>4.815092e+08</td>\n      <td>AlexisAurora_</td>\n      <td>1539100118</td>\n      <td>0</td>\n      <td>0</td>\n      <td>0</td>\n      <td>0</td>\n      <td>498235547685756928</td>\n      <td>NaN</td>\n      <td>en</td>\n    </tr>\n    <tr>\n      <th>7</th>\n      <td>2014-08-11 15:15:42+00:00</td>\n      <td>498850250048946176</td>\n      <td>@annaxsweat after several hours someone noticed</td>\n      <td>[0, 47]</td>\n      <td>{'user_mentions': [{'screen_name': 'annaxsweat...</td>\n      <td>NaN</td>\n      <td>&lt;a href=\"http://www.tweetcaster.com\" rel=\"nofo...</td>\n      <td>498235547685756928</td>\n      <td>1.539100e+09</td>\n      <td>annaxsweat</td>\n      <td>2556027474</td>\n      <td>0</td>\n      <td>0</td>\n      <td>0</td>\n      <td>0</td>\n      <td>498235547685756928</td>\n      <td>NaN</td>\n      <td>en</td>\n    </tr>\n    <tr>\n      <th>8</th>\n      <td>2014-08-09 22:33:06+00:00</td>\n      <td>498235547685756928</td>\n      <td>Black teenage boys are not men. They are child...</td>\n      <td>[0, 128]</td>\n      <td>{'hashtags': [{'text': 'ferguson', 'indices': ...</td>\n      <td>NaN</td>\n      <td>&lt;a href=\"http://twitter.com/#!/download/ipad\" ...</td>\n      <td>nan</td>\n      <td>NaN</td>\n      <td>NaN</td>\n      <td>1539100118</td>\n      <td>177</td>\n      <td>100</td>\n      <td>9</td>\n      <td>0</td>\n      <td>498235547685756928</td>\n      <td>NaN</td>\n      <td>en</td>\n    </tr>\n    <tr>\n      <th>9</th>\n      <td>2014-08-09 23:04:01+00:00</td>\n      <td>498243332204949504</td>\n      <td>@annaxsweat @NeoSoulPol Same thing when #Trayv...</td>\n      <td>[0, 131]</td>\n      <td>{'hashtags': [{'text': 'Trayvon', 'indices': [...</td>\n      <td>NaN</td>\n      <td>&lt;a href=\"https://about.twitter.com/products/tw...</td>\n      <td>498235547685756928</td>\n      <td>1.539100e+09</td>\n      <td>annaxsweat</td>\n      <td>587926686</td>\n      <td>1</td>\n      <td>0</td>\n      <td>0</td>\n      <td>0</td>\n      <td>498235547685756928</td>\n      <td>NaN</td>\n      <td>en</td>\n    </tr>\n    <tr>\n      <th>10</th>\n      <td>2014-08-10 03:45:08+00:00</td>\n      <td>498314073873055744</td>\n      <td>@annaxsweat the response of a leftist toker. i...</td>\n      <td>[0, 80]</td>\n      <td>{'user_mentions': [{'screen_name': 'annaxsweat...</td>\n      <td>NaN</td>\n      <td>&lt;a href=\"http://twitter.com\" rel=\"nofollow\"&gt;Tw...</td>\n      <td>498313376888799232</td>\n      <td>1.539100e+09</td>\n      <td>annaxsweat</td>\n      <td>2437571275</td>\n      <td>0</td>\n      <td>0</td>\n      <td>0</td>\n      <td>0</td>\n      <td>498235547685756928</td>\n      <td>NaN</td>\n      <td>en</td>\n    </tr>\n    <tr>\n      <th>11</th>\n      <td>2014-08-10 10:14:10+00:00</td>\n      <td>498411979091218432</td>\n      <td>@annaxsweat such talk from a lady(?). senseles...</td>\n      <td>[0, 63]</td>\n      <td>{'user_mentions': [{'screen_name': 'annaxsweat...</td>\n      <td>NaN</td>\n      <td>&lt;a href=\"http://twitter.com\" rel=\"nofollow\"&gt;Tw...</td>\n      <td>498313376888799232</td>\n      <td>1.539100e+09</td>\n      <td>annaxsweat</td>\n      <td>2437571275</td>\n      <td>0</td>\n      <td>0</td>\n      <td>0</td>\n      <td>0</td>\n      <td>498235547685756928</td>\n      <td>NaN</td>\n      <td>en</td>\n    </tr>\n  </tbody>\n</table>\n</div>"
     },
     "execution_count": 9,
     "metadata": {},
     "output_type": "execute_result"
    }
   ],
   "source": [
    "# one example\n",
    "conv_id = \"498235547685756928\"\n",
    "conversation_path = os.path.join(twitter_conversations_path, conv_id, \"tweets.jsonl\")\n",
    "sample = pd.read_json(conversation_path,\n",
    "                     lines= True,\n",
    "                     dtype={'in_reply_to_status_id_str':str, 'conversation_id_str': str, 'full_text':str, 'id_str':str})\n",
    "sample"
   ],
   "metadata": {
    "collapsed": false,
    "pycharm": {
     "name": "#%%\n"
    }
   }
  },
  {
   "cell_type": "code",
   "execution_count": 10,
   "outputs": [
    {
     "data": {
      "text/plain": "HBox(children=(FloatProgress(value=0.0, max=297.0), HTML(value='')))",
      "application/vnd.jupyter.widget-view+json": {
       "version_major": 2,
       "version_minor": 0,
       "model_id": "3251054643944770b4e570e4ce6f55a8"
      }
     },
     "metadata": {},
     "output_type": "display_data"
    },
    {
     "name": "stdout",
     "output_type": "stream",
     "text": [
      "\n",
      "total number of loaded raw conversations:297\n",
      "number of conversations that failed to load: 0\n"
     ]
    }
   ],
   "source": [
    "twitter_conversations = []\n",
    "errors = 0\n",
    "for conv_id in tqdm(twitter_conversation_ids):\n",
    "    conversation_path = os.path.join(twitter_conversations_path, conv_id, \"tweets.jsonl\")\n",
    "    try:\n",
    "        current= pd.read_json(conversation_path,\n",
    "                         lines= True,\n",
    "                         dtype={'in_reply_to_status_id_str':str, 'conversation_id_str': str, 'full_text':str, 'id_str':str})\n",
    "        twitter_conversations.append(current)\n",
    "    except:\n",
    "        errors+=1\n",
    "        pass\n",
    "\n",
    "s = f\"total number of loaded raw conversations:{len(twitter_conversations)}\" \\\n",
    "f\"\\nnumber of conversations that failed to load: {errors}\"\n",
    "print(s)"
   ],
   "metadata": {
    "collapsed": false,
    "pycharm": {
     "name": "#%%\n"
    }
   }
  },
  {
   "cell_type": "markdown",
   "source": [
    "## Transform to Conversation object and to feature set"
   ],
   "metadata": {
    "collapsed": false
   }
  },
  {
   "cell_type": "code",
   "execution_count": 11,
   "outputs": [],
   "source": [
    "twitter_reader = TwitterConversationReader(merge_sequential=True)"
   ],
   "metadata": {
    "collapsed": false,
    "pycharm": {
     "name": "#%%\n"
    }
   }
  },
  {
   "cell_type": "code",
   "execution_count": 12,
   "outputs": [
    {
     "name": "stderr",
     "output_type": "stream",
     "text": [
      "c:\\users\\ronp\\py37-dasci\\lib\\site-packages\\pandas\\core\\indexing.py:670: SettingWithCopyWarning: \n",
      "A value is trying to be set on a copy of a slice from a DataFrame\n",
      "\n",
      "See the caveats in the documentation: https://pandas.pydata.org/pandas-docs/stable/user_guide/indexing.html#returning-a-view-versus-a-copy\n",
      "  iloc._setitem_with_indexer(indexer, value)\n"
     ]
    },
    {
     "data": {
      "text/plain": "24165761 - 498280126254428160\n├── 251275638 - 498323335965868032\n└── 981050484 - 498282494387843072"
     },
     "execution_count": 12,
     "metadata": {},
     "output_type": "execute_result"
    }
   ],
   "source": [
    "index = 0\n",
    "conv_df = twitter_conversations[index]\n",
    "conv_df[\"in_reply_to_status_id_str\"].loc[conv_df[\"in_reply_to_status_id_str\"] == \"nan\"] = None\n",
    "conv = twitter_reader.parse(conv_df, root_id=twitter_conversation_ids[index])\n",
    "conv"
   ],
   "metadata": {
    "collapsed": false,
    "pycharm": {
     "name": "#%%\n"
    }
   }
  },
  {
   "cell_type": "code",
   "execution_count": 13,
   "outputs": [
    {
     "data": {
      "text/plain": "HBox(children=(FloatProgress(value=0.0, max=297.0), HTML(value='')))",
      "application/vnd.jupyter.widget-view+json": {
       "version_major": 2,
       "version_minor": 0,
       "model_id": "b49363ac452d4780b6341d2049a22f0d"
      }
     },
     "metadata": {},
     "output_type": "display_data"
    },
    {
     "name": "stdout",
     "output_type": "stream",
     "text": [
      "\n",
      "total number of conversations:258\n",
      "number of bad conversations: 39\n"
     ]
    }
   ],
   "source": [
    "conversations = []\n",
    "bad = 0\n",
    "for i, conv in enumerate(tqdm(twitter_conversations)):\n",
    "    if \"in_reply_to_status_id_str\" not in conv:\n",
    "        bad += 1\n",
    "        continue\n",
    "\n",
    "    conv_id = twitter_conversation_ids[i]\n",
    "    conv[\"in_reply_to_status_id_str\"].loc[conv[\"in_reply_to_status_id_str\"] == \"nan\"] = None\n",
    "    conversation = twitter_reader.parse(conv, root_id=conv_id)\n",
    "    conversations.append(conversation)\n",
    "\n",
    "s = f\"total number of conversations:{len(conversations)}\" \\\n",
    "f\"\\nnumber of bad conversations: {bad}\"\n",
    "print(s)"
   ],
   "metadata": {
    "collapsed": false,
    "pycharm": {
     "name": "#%%\n"
    }
   }
  },
  {
   "cell_type": "code",
   "execution_count": 14,
   "outputs": [
    {
     "data": {
      "text/plain": "                        author           parent_id  depth  is_root  \\\nnode_id                                                              \n498280126254428160    24165761                None      0     True   \n498323335965868032   251275638  498280126254428160      1    False   \n498282494387843072   981050484  498280126254428160      1    False   \n498430783699554305    24165761                None      0     True   \n498440508256292864    61934810  498430783699554305      1    False   \n...                        ...                 ...    ...      ...   \n581473907275915264  1895019528  581473088249958400      1    False   \n581474582302949376  2983617889  581473088249958400      1    False   \n581473799398359040  2920578401  581473088249958400      1    False   \n581482916645076993   373569258  581473088249958400      1    False   \n581478014531203072   403864026  581473088249958400      1    False   \n\n                    is_absolute_root  is_leaf     timestamp  \\\nnode_id                                                       \n498280126254428160              True    False  1.407634e+09   \n498323335965868032             False     True  1.407645e+09   \n498282494387843072             False     True  1.407635e+09   \n498430783699554305              True    False  1.407670e+09   \n498440508256292864             False    False  1.407672e+09   \n...                              ...      ...           ...   \n581473907275915264             False     True  1.427469e+09   \n581474582302949376             False     True  1.427469e+09   \n581473799398359040             False     True  1.427469e+09   \n581482916645076993             False     True  1.427471e+09   \n581478014531203072             False     True  1.427470e+09   \n\n                       conversation_id        full_conv_id  \\\nnode_id                                                      \n498280126254428160  498280126254428160  498280126254428160   \n498323335965868032  498280126254428160  498280126254428160   \n498282494387843072  498280126254428160  498280126254428160   \n498430783699554305  498430783699554305  498430783699554305   \n498440508256292864  498430783699554305  498430783699554305   \n...                                ...                 ...   \n581473907275915264  581473088249958400  581473088249958400   \n581474582302949376  581473088249958400  581473088249958400   \n581473799398359040  581473088249958400  581473088249958400   \n581482916645076993  581473088249958400  581473088249958400   \n581478014531203072  581473088249958400  581473088249958400   \n\n                                                       data.full_text  \\\nnode_id                                                                 \n498280126254428160  [Mike Brown was staying with his grandmother f...   \n498323335965868032  [“@MichaelSkolnik: Mike Brown was staying with...   \n498282494387843072  [@MichaelSkolnik Unbelieveable ..... We R in d...   \n498430783699554305  [Witness: Police allegedly stopped Mike Brown ...   \n498440508256292864  [@MichaelSkolnik @Agent_Kindi @Supreme___Power...   \n...                                                               ...   \n581473907275915264               [@jjauthor @gatewaypundit terrorism]   \n581474582302949376  [@jjauthor @gatewaypundit Hmmm.Doesn't pundit ...   \n581473799398359040  [@jjauthor @gatewaypundit. I knew it! Those cr...   \n581482916645076993  [@jjauthor @DesireeAaron @gatewaypundit this i...   \n581478014531203072  [@jjauthor @gatewaypundit Isn't Islam a wonder...   \n\n                   data.conversation_id_str data.in_reply_to_screen_name  \nnode_id                                                                   \n498280126254428160     [498280126254428160]                        [nan]  \n498323335965868032     [498280126254428160]             [MichaelSkolnik]  \n498282494387843072     [498280126254428160]             [MichaelSkolnik]  \n498430783699554305     [498430783699554305]                        [nan]  \n498440508256292864     [498430783699554305]             [MichaelSkolnik]  \n...                                     ...                          ...  \n581473907275915264     [581473088249958400]                   [jjauthor]  \n581474582302949376     [581473088249958400]                   [jjauthor]  \n581473799398359040     [581473088249958400]                   [jjauthor]  \n581482916645076993     [581473088249958400]                   [jjauthor]  \n581478014531203072     [581473088249958400]                   [jjauthor]  \n\n[4267 rows x 12 columns]",
      "text/html": "<div>\n<style scoped>\n    .dataframe tbody tr th:only-of-type {\n        vertical-align: middle;\n    }\n\n    .dataframe tbody tr th {\n        vertical-align: top;\n    }\n\n    .dataframe thead th {\n        text-align: right;\n    }\n</style>\n<table border=\"1\" class=\"dataframe\">\n  <thead>\n    <tr style=\"text-align: right;\">\n      <th></th>\n      <th>author</th>\n      <th>parent_id</th>\n      <th>depth</th>\n      <th>is_root</th>\n      <th>is_absolute_root</th>\n      <th>is_leaf</th>\n      <th>timestamp</th>\n      <th>conversation_id</th>\n      <th>full_conv_id</th>\n      <th>data.full_text</th>\n      <th>data.conversation_id_str</th>\n      <th>data.in_reply_to_screen_name</th>\n    </tr>\n    <tr>\n      <th>node_id</th>\n      <th></th>\n      <th></th>\n      <th></th>\n      <th></th>\n      <th></th>\n      <th></th>\n      <th></th>\n      <th></th>\n      <th></th>\n      <th></th>\n      <th></th>\n      <th></th>\n    </tr>\n  </thead>\n  <tbody>\n    <tr>\n      <th>498280126254428160</th>\n      <td>24165761</td>\n      <td>None</td>\n      <td>0</td>\n      <td>True</td>\n      <td>True</td>\n      <td>False</td>\n      <td>1.407634e+09</td>\n      <td>498280126254428160</td>\n      <td>498280126254428160</td>\n      <td>[Mike Brown was staying with his grandmother f...</td>\n      <td>[498280126254428160]</td>\n      <td>[nan]</td>\n    </tr>\n    <tr>\n      <th>498323335965868032</th>\n      <td>251275638</td>\n      <td>498280126254428160</td>\n      <td>1</td>\n      <td>False</td>\n      <td>False</td>\n      <td>True</td>\n      <td>1.407645e+09</td>\n      <td>498280126254428160</td>\n      <td>498280126254428160</td>\n      <td>[“@MichaelSkolnik: Mike Brown was staying with...</td>\n      <td>[498280126254428160]</td>\n      <td>[MichaelSkolnik]</td>\n    </tr>\n    <tr>\n      <th>498282494387843072</th>\n      <td>981050484</td>\n      <td>498280126254428160</td>\n      <td>1</td>\n      <td>False</td>\n      <td>False</td>\n      <td>True</td>\n      <td>1.407635e+09</td>\n      <td>498280126254428160</td>\n      <td>498280126254428160</td>\n      <td>[@MichaelSkolnik Unbelieveable ..... We R in d...</td>\n      <td>[498280126254428160]</td>\n      <td>[MichaelSkolnik]</td>\n    </tr>\n    <tr>\n      <th>498430783699554305</th>\n      <td>24165761</td>\n      <td>None</td>\n      <td>0</td>\n      <td>True</td>\n      <td>True</td>\n      <td>False</td>\n      <td>1.407670e+09</td>\n      <td>498430783699554305</td>\n      <td>498430783699554305</td>\n      <td>[Witness: Police allegedly stopped Mike Brown ...</td>\n      <td>[498430783699554305]</td>\n      <td>[nan]</td>\n    </tr>\n    <tr>\n      <th>498440508256292864</th>\n      <td>61934810</td>\n      <td>498430783699554305</td>\n      <td>1</td>\n      <td>False</td>\n      <td>False</td>\n      <td>False</td>\n      <td>1.407672e+09</td>\n      <td>498430783699554305</td>\n      <td>498430783699554305</td>\n      <td>[@MichaelSkolnik @Agent_Kindi @Supreme___Power...</td>\n      <td>[498430783699554305]</td>\n      <td>[MichaelSkolnik]</td>\n    </tr>\n    <tr>\n      <th>...</th>\n      <td>...</td>\n      <td>...</td>\n      <td>...</td>\n      <td>...</td>\n      <td>...</td>\n      <td>...</td>\n      <td>...</td>\n      <td>...</td>\n      <td>...</td>\n      <td>...</td>\n      <td>...</td>\n      <td>...</td>\n    </tr>\n    <tr>\n      <th>581473907275915264</th>\n      <td>1895019528</td>\n      <td>581473088249958400</td>\n      <td>1</td>\n      <td>False</td>\n      <td>False</td>\n      <td>True</td>\n      <td>1.427469e+09</td>\n      <td>581473088249958400</td>\n      <td>581473088249958400</td>\n      <td>[@jjauthor @gatewaypundit terrorism]</td>\n      <td>[581473088249958400]</td>\n      <td>[jjauthor]</td>\n    </tr>\n    <tr>\n      <th>581474582302949376</th>\n      <td>2983617889</td>\n      <td>581473088249958400</td>\n      <td>1</td>\n      <td>False</td>\n      <td>False</td>\n      <td>True</td>\n      <td>1.427469e+09</td>\n      <td>581473088249958400</td>\n      <td>581473088249958400</td>\n      <td>[@jjauthor @gatewaypundit Hmmm.Doesn't pundit ...</td>\n      <td>[581473088249958400]</td>\n      <td>[jjauthor]</td>\n    </tr>\n    <tr>\n      <th>581473799398359040</th>\n      <td>2920578401</td>\n      <td>581473088249958400</td>\n      <td>1</td>\n      <td>False</td>\n      <td>False</td>\n      <td>True</td>\n      <td>1.427469e+09</td>\n      <td>581473088249958400</td>\n      <td>581473088249958400</td>\n      <td>[@jjauthor @gatewaypundit. I knew it! Those cr...</td>\n      <td>[581473088249958400]</td>\n      <td>[jjauthor]</td>\n    </tr>\n    <tr>\n      <th>581482916645076993</th>\n      <td>373569258</td>\n      <td>581473088249958400</td>\n      <td>1</td>\n      <td>False</td>\n      <td>False</td>\n      <td>True</td>\n      <td>1.427471e+09</td>\n      <td>581473088249958400</td>\n      <td>581473088249958400</td>\n      <td>[@jjauthor @DesireeAaron @gatewaypundit this i...</td>\n      <td>[581473088249958400]</td>\n      <td>[jjauthor]</td>\n    </tr>\n    <tr>\n      <th>581478014531203072</th>\n      <td>403864026</td>\n      <td>581473088249958400</td>\n      <td>1</td>\n      <td>False</td>\n      <td>False</td>\n      <td>True</td>\n      <td>1.427470e+09</td>\n      <td>581473088249958400</td>\n      <td>581473088249958400</td>\n      <td>[@jjauthor @gatewaypundit Isn't Islam a wonder...</td>\n      <td>[581473088249958400]</td>\n      <td>[jjauthor]</td>\n    </tr>\n  </tbody>\n</table>\n<p>4267 rows × 12 columns</p>\n</div>"
     },
     "execution_count": 14,
     "metadata": {},
     "output_type": "execute_result"
    }
   ],
   "source": [
    "convs = pd.concat(conversation_to_dataframe(conv) for conv in conversations)\n",
    "convs"
   ],
   "metadata": {
    "collapsed": false,
    "pycharm": {
     "name": "#%%\n"
    }
   }
  },
  {
   "cell_type": "markdown",
   "source": [
    "## Running MAXCUT"
   ],
   "metadata": {
    "collapsed": false
   }
  },
  {
   "cell_type": "code",
   "execution_count": 15,
   "outputs": [],
   "source": [
    "def expand_classification_to_neighbors(\n",
    "        interactions_graph: nx.Graph,\n",
    "        start_label: bool,\n",
    "        start_node: str,\n",
    "        all_predicted: Tuple[List[str], List[str]],\n",
    "        predicted_nodes: Set[str]\n",
    "):\n",
    "    for node in interactions_graph.neighbors(start_node):\n",
    "            if node in predicted_nodes:\n",
    "                continue\n",
    "\n",
    "            prev_node = start_node\n",
    "            label = int(start_label)\n",
    "            all_predicted[label].append(node)\n",
    "            neighbors = list(interactions_graph.neighbors(node))\n",
    "            while len(neighbors) > 1:\n",
    "                next_node = neighbors[0] if neighbors[0] != prev_node else neighbors[1]\n",
    "                prev_node = node\n",
    "                node = next_node\n",
    "                label = 1 - label\n",
    "                all_predicted[label].append(node)\n",
    "                neighbors = list(interactions_graph.neighbors(node))\n",
    "\n",
    "def expand_classification(\n",
    "        interactions_graph: nx.Graph,\n",
    "        supporters: Sequence[str],\n",
    "        opposers: Sequence[str]\n",
    ") -> Tuple[List[str], List[str]]:\n",
    "    predicted_nodes = set(supporters) | set(opposers)\n",
    "    all_predicted = (list(supporters), list(opposers))\n",
    "    for i, group in enumerate([supporters, opposers]):\n",
    "        for node in group:\n",
    "            expand_classification_to_neighbors(\n",
    "                interactions_graph,\n",
    "                1 - i,\n",
    "                node,\n",
    "                all_predicted,\n",
    "                predicted_nodes\n",
    "            )\n",
    "\n",
    "    return all_predicted"
   ],
   "metadata": {
    "collapsed": false,
    "pycharm": {
     "name": "#%%\n"
    }
   }
  },
  {
   "cell_type": "code",
   "execution_count": 44,
   "outputs": [
    {
     "data": {
      "text/plain": "HBox(children=(FloatProgress(value=0.0, max=258.0), HTML(value='')))",
      "application/vnd.jupyter.widget-view+json": {
       "version_major": 2,
       "version_minor": 0,
       "model_id": "475267e29d08446b91f95566598a349f"
      }
     },
     "metadata": {},
     "output_type": "display_data"
    },
    {
     "name": "stdout",
     "output_type": "stream",
     "text": [
      "\n"
     ]
    },
    {
     "data": {
      "text/plain": "330"
     },
     "execution_count": 44,
     "metadata": {},
     "output_type": "execute_result"
    }
   ],
   "source": [
    "rumers_author_stance = []\n",
    "for conversation in tqdm(conversations):\n",
    "    reply_interactions_parser = get_reply_interactions_parser()\n",
    "    interaction_graph = reply_interactions_parser.parse(conversation)\n",
    "    orig_graph = interaction_graph.graph.copy()\n",
    "    interaction_graph = interaction_graph.get_core_interactions(inplace=True)\n",
    "    if interaction_graph.graph.order() == 0:\n",
    "        supporters = [conversation.root.author]\n",
    "        opposers = []\n",
    "    else:\n",
    "        interaction_graph.set_interaction_weights(lambda x: x['replies'])\n",
    "        maxcut = MaxcutStanceClassifier()\n",
    "        maxcut.set_input(interaction_graph.graph)\n",
    "        op = conversation.root.author\n",
    "        maxcut.classify_stance(op)\n",
    "        supporters = maxcut.supporters\n",
    "        opposers = maxcut.complement\n",
    "        \n",
    "    # supporters, opposers = expand_classification(orig_graph,\n",
    "    #                                              supporters,\n",
    "    #                                              opposers)\n",
    "\n",
    "    for supporter in supporters:\n",
    "        row = {'conversation_id': conversation.id,\n",
    "               'op': conversation.op,\n",
    "               'author': supporter,\n",
    "               'stance': 'supporter'}\n",
    "        rumers_author_stance.append(row)\n",
    "    for opposer in opposers:\n",
    "        row = {'conversation_id': conversation.id,\n",
    "               'op': conversation.op,\n",
    "               'author': opposer,\n",
    "               'stance': 'opposer'}\n",
    "        rumers_author_stance.append(row)\n",
    "\n",
    "len(rumers_author_stance)"
   ],
   "metadata": {
    "collapsed": false,
    "pycharm": {
     "name": "#%%\n"
    }
   }
  },
  {
   "cell_type": "code",
   "execution_count": 45,
   "outputs": [
    {
     "data": {
      "text/plain": "               threadid         op     author stance_prediction\n0    498280126254428160   24165761   24165761         supporter\n1    498430783699554305   24165761  571796080         supporter\n2    498430783699554305   24165761   24165761         supporter\n3    498430783699554305   24165761  402355096         supporter\n4    498430783699554305   24165761   61934810           opposer\n..                  ...        ...        ...               ...\n325  581047170637381632   15037033   15037033         supporter\n326  581063377226637312    5943072    5943072         supporter\n327  581293286268129280  288283415  288283415         supporter\n328  581386094337474560   15754281   15754281         supporter\n329  581473088249958400  177584156  177584156         supporter\n\n[330 rows x 4 columns]",
      "text/html": "<div>\n<style scoped>\n    .dataframe tbody tr th:only-of-type {\n        vertical-align: middle;\n    }\n\n    .dataframe tbody tr th {\n        vertical-align: top;\n    }\n\n    .dataframe thead th {\n        text-align: right;\n    }\n</style>\n<table border=\"1\" class=\"dataframe\">\n  <thead>\n    <tr style=\"text-align: right;\">\n      <th></th>\n      <th>threadid</th>\n      <th>op</th>\n      <th>author</th>\n      <th>stance_prediction</th>\n    </tr>\n  </thead>\n  <tbody>\n    <tr>\n      <th>0</th>\n      <td>498280126254428160</td>\n      <td>24165761</td>\n      <td>24165761</td>\n      <td>supporter</td>\n    </tr>\n    <tr>\n      <th>1</th>\n      <td>498430783699554305</td>\n      <td>24165761</td>\n      <td>571796080</td>\n      <td>supporter</td>\n    </tr>\n    <tr>\n      <th>2</th>\n      <td>498430783699554305</td>\n      <td>24165761</td>\n      <td>24165761</td>\n      <td>supporter</td>\n    </tr>\n    <tr>\n      <th>3</th>\n      <td>498430783699554305</td>\n      <td>24165761</td>\n      <td>402355096</td>\n      <td>supporter</td>\n    </tr>\n    <tr>\n      <th>4</th>\n      <td>498430783699554305</td>\n      <td>24165761</td>\n      <td>61934810</td>\n      <td>opposer</td>\n    </tr>\n    <tr>\n      <th>...</th>\n      <td>...</td>\n      <td>...</td>\n      <td>...</td>\n      <td>...</td>\n    </tr>\n    <tr>\n      <th>325</th>\n      <td>581047170637381632</td>\n      <td>15037033</td>\n      <td>15037033</td>\n      <td>supporter</td>\n    </tr>\n    <tr>\n      <th>326</th>\n      <td>581063377226637312</td>\n      <td>5943072</td>\n      <td>5943072</td>\n      <td>supporter</td>\n    </tr>\n    <tr>\n      <th>327</th>\n      <td>581293286268129280</td>\n      <td>288283415</td>\n      <td>288283415</td>\n      <td>supporter</td>\n    </tr>\n    <tr>\n      <th>328</th>\n      <td>581386094337474560</td>\n      <td>15754281</td>\n      <td>15754281</td>\n      <td>supporter</td>\n    </tr>\n    <tr>\n      <th>329</th>\n      <td>581473088249958400</td>\n      <td>177584156</td>\n      <td>177584156</td>\n      <td>supporter</td>\n    </tr>\n  </tbody>\n</table>\n<p>330 rows × 4 columns</p>\n</div>"
     },
     "execution_count": 45,
     "metadata": {},
     "output_type": "execute_result"
    }
   ],
   "source": [
    "user_stance_rumors = pd.DataFrame(rumers_author_stance)\n",
    "user_stance_rumors = user_stance_rumors.rename({'conversation_id': 'threadid', 'stance':'stance_prediction'}, axis=1)\n",
    "user_stance_rumors"
   ],
   "metadata": {
    "collapsed": false,
    "pycharm": {
     "name": "#%%\n"
    }
   }
  },
  {
   "cell_type": "markdown",
   "source": [
    "## Gold Standard"
   ],
   "metadata": {
    "collapsed": false
   }
  },
  {
   "cell_type": "code",
   "execution_count": 46,
   "outputs": [
    {
     "data": {
      "text/plain": "comment                        2923\nagreed                          645\nappeal-for-more-information     361\ndisagreed                       334\nName: responsetype-vs-source, dtype: int64"
     },
     "execution_count": 46,
     "metadata": {},
     "output_type": "execute_result"
    }
   ],
   "source": [
    "rumors_gs['responsetype-vs-source'].value_counts()\n"
   ],
   "metadata": {
    "collapsed": false,
    "pycharm": {
     "name": "#%%\n"
    }
   }
  },
  {
   "cell_type": "code",
   "execution_count": 47,
   "outputs": [
    {
     "data": {
      "text/plain": "                threadid             tweetid      label\n0     577258317942149120  577260238316830721    comment\n1     577258317942149120  577282462788677634    comment\n2     577258317942149120  577283431089901568    comment\n3     577258317942149120  577284294051123201    comment\n4     577258317942149120  577287160329465856    comment\n...                  ...                 ...        ...\n4258  521346721226711040  521371539082858496    comment\n4259  521346721226711040  521371742942797825    comment\n4260  521346721226711040  521353434881327104    comment\n4261  521346721226711040  521366121484918785  disagreed\n4262  521360486387175424  521468848466591744    comment\n\n[4263 rows x 3 columns]",
      "text/html": "<div>\n<style scoped>\n    .dataframe tbody tr th:only-of-type {\n        vertical-align: middle;\n    }\n\n    .dataframe tbody tr th {\n        vertical-align: top;\n    }\n\n    .dataframe thead th {\n        text-align: right;\n    }\n</style>\n<table border=\"1\" class=\"dataframe\">\n  <thead>\n    <tr style=\"text-align: right;\">\n      <th></th>\n      <th>threadid</th>\n      <th>tweetid</th>\n      <th>label</th>\n    </tr>\n  </thead>\n  <tbody>\n    <tr>\n      <th>0</th>\n      <td>577258317942149120</td>\n      <td>577260238316830721</td>\n      <td>comment</td>\n    </tr>\n    <tr>\n      <th>1</th>\n      <td>577258317942149120</td>\n      <td>577282462788677634</td>\n      <td>comment</td>\n    </tr>\n    <tr>\n      <th>2</th>\n      <td>577258317942149120</td>\n      <td>577283431089901568</td>\n      <td>comment</td>\n    </tr>\n    <tr>\n      <th>3</th>\n      <td>577258317942149120</td>\n      <td>577284294051123201</td>\n      <td>comment</td>\n    </tr>\n    <tr>\n      <th>4</th>\n      <td>577258317942149120</td>\n      <td>577287160329465856</td>\n      <td>comment</td>\n    </tr>\n    <tr>\n      <th>...</th>\n      <td>...</td>\n      <td>...</td>\n      <td>...</td>\n    </tr>\n    <tr>\n      <th>4258</th>\n      <td>521346721226711040</td>\n      <td>521371539082858496</td>\n      <td>comment</td>\n    </tr>\n    <tr>\n      <th>4259</th>\n      <td>521346721226711040</td>\n      <td>521371742942797825</td>\n      <td>comment</td>\n    </tr>\n    <tr>\n      <th>4260</th>\n      <td>521346721226711040</td>\n      <td>521353434881327104</td>\n      <td>comment</td>\n    </tr>\n    <tr>\n      <th>4261</th>\n      <td>521346721226711040</td>\n      <td>521366121484918785</td>\n      <td>disagreed</td>\n    </tr>\n    <tr>\n      <th>4262</th>\n      <td>521360486387175424</td>\n      <td>521468848466591744</td>\n      <td>comment</td>\n    </tr>\n  </tbody>\n</table>\n<p>4263 rows × 3 columns</p>\n</div>"
     },
     "execution_count": 47,
     "metadata": {},
     "output_type": "execute_result"
    }
   ],
   "source": [
    "rumors_gold_label = rumors_gs.filter(['threadid', 'tweetid', 'responsetype-vs-source'], axis=1).rename({'responsetype-vs-source': 'label'}, axis=1)\n",
    "rumors_gold_label.threadid = rumors_gold_label.threadid.astype('str')\n",
    "rumors_gold_label.tweetid = rumors_gold_label.tweetid.astype('str')\n",
    "rumors_gold_label"
   ],
   "metadata": {
    "collapsed": false,
    "pycharm": {
     "name": "#%%\n"
    }
   }
  },
  {
   "cell_type": "code",
   "execution_count": 48,
   "outputs": [
    {
     "data": {
      "text/plain": "                 tweetid      author           parent_id  depth  is_root  \\\n0     498280126254428160    24165761                None      0     True   \n1     498323335965868032   251275638  498280126254428160      1    False   \n2     498282494387843072   981050484  498280126254428160      1    False   \n3     498430783699554305    24165761                None      0     True   \n4     498440508256292864    61934810  498430783699554305      1    False   \n...                  ...         ...                 ...    ...      ...   \n4262  581473907275915264  1895019528  581473088249958400      1    False   \n4263  581474582302949376  2983617889  581473088249958400      1    False   \n4264  581473799398359040  2920578401  581473088249958400      1    False   \n4265  581482916645076993   373569258  581473088249958400      1    False   \n4266  581478014531203072   403864026  581473088249958400      1    False   \n\n      is_absolute_root  is_leaf     timestamp     conversation_id  \\\n0                 True    False  1.407634e+09  498280126254428160   \n1                False     True  1.407645e+09  498280126254428160   \n2                False     True  1.407635e+09  498280126254428160   \n3                 True    False  1.407670e+09  498430783699554305   \n4                False    False  1.407672e+09  498430783699554305   \n...                ...      ...           ...                 ...   \n4262             False     True  1.427469e+09  581473088249958400   \n4263             False     True  1.427469e+09  581473088249958400   \n4264             False     True  1.427469e+09  581473088249958400   \n4265             False     True  1.427471e+09  581473088249958400   \n4266             False     True  1.427470e+09  581473088249958400   \n\n                threadid                                     data.full_text  \\\n0     498280126254428160  [Mike Brown was staying with his grandmother f...   \n1     498280126254428160  [“@MichaelSkolnik: Mike Brown was staying with...   \n2     498280126254428160  [@MichaelSkolnik Unbelieveable ..... We R in d...   \n3     498430783699554305  [Witness: Police allegedly stopped Mike Brown ...   \n4     498430783699554305  [@MichaelSkolnik @Agent_Kindi @Supreme___Power...   \n...                  ...                                                ...   \n4262  581473088249958400               [@jjauthor @gatewaypundit terrorism]   \n4263  581473088249958400  [@jjauthor @gatewaypundit Hmmm.Doesn't pundit ...   \n4264  581473088249958400  [@jjauthor @gatewaypundit. I knew it! Those cr...   \n4265  581473088249958400  [@jjauthor @DesireeAaron @gatewaypundit this i...   \n4266  581473088249958400  [@jjauthor @gatewaypundit Isn't Islam a wonder...   \n\n     data.conversation_id_str data.in_reply_to_screen_name  \n0        [498280126254428160]                        [nan]  \n1        [498280126254428160]             [MichaelSkolnik]  \n2        [498280126254428160]             [MichaelSkolnik]  \n3        [498430783699554305]                        [nan]  \n4        [498430783699554305]             [MichaelSkolnik]  \n...                       ...                          ...  \n4262     [581473088249958400]                   [jjauthor]  \n4263     [581473088249958400]                   [jjauthor]  \n4264     [581473088249958400]                   [jjauthor]  \n4265     [581473088249958400]                   [jjauthor]  \n4266     [581473088249958400]                   [jjauthor]  \n\n[4267 rows x 13 columns]",
      "text/html": "<div>\n<style scoped>\n    .dataframe tbody tr th:only-of-type {\n        vertical-align: middle;\n    }\n\n    .dataframe tbody tr th {\n        vertical-align: top;\n    }\n\n    .dataframe thead th {\n        text-align: right;\n    }\n</style>\n<table border=\"1\" class=\"dataframe\">\n  <thead>\n    <tr style=\"text-align: right;\">\n      <th></th>\n      <th>tweetid</th>\n      <th>author</th>\n      <th>parent_id</th>\n      <th>depth</th>\n      <th>is_root</th>\n      <th>is_absolute_root</th>\n      <th>is_leaf</th>\n      <th>timestamp</th>\n      <th>conversation_id</th>\n      <th>threadid</th>\n      <th>data.full_text</th>\n      <th>data.conversation_id_str</th>\n      <th>data.in_reply_to_screen_name</th>\n    </tr>\n  </thead>\n  <tbody>\n    <tr>\n      <th>0</th>\n      <td>498280126254428160</td>\n      <td>24165761</td>\n      <td>None</td>\n      <td>0</td>\n      <td>True</td>\n      <td>True</td>\n      <td>False</td>\n      <td>1.407634e+09</td>\n      <td>498280126254428160</td>\n      <td>498280126254428160</td>\n      <td>[Mike Brown was staying with his grandmother f...</td>\n      <td>[498280126254428160]</td>\n      <td>[nan]</td>\n    </tr>\n    <tr>\n      <th>1</th>\n      <td>498323335965868032</td>\n      <td>251275638</td>\n      <td>498280126254428160</td>\n      <td>1</td>\n      <td>False</td>\n      <td>False</td>\n      <td>True</td>\n      <td>1.407645e+09</td>\n      <td>498280126254428160</td>\n      <td>498280126254428160</td>\n      <td>[“@MichaelSkolnik: Mike Brown was staying with...</td>\n      <td>[498280126254428160]</td>\n      <td>[MichaelSkolnik]</td>\n    </tr>\n    <tr>\n      <th>2</th>\n      <td>498282494387843072</td>\n      <td>981050484</td>\n      <td>498280126254428160</td>\n      <td>1</td>\n      <td>False</td>\n      <td>False</td>\n      <td>True</td>\n      <td>1.407635e+09</td>\n      <td>498280126254428160</td>\n      <td>498280126254428160</td>\n      <td>[@MichaelSkolnik Unbelieveable ..... We R in d...</td>\n      <td>[498280126254428160]</td>\n      <td>[MichaelSkolnik]</td>\n    </tr>\n    <tr>\n      <th>3</th>\n      <td>498430783699554305</td>\n      <td>24165761</td>\n      <td>None</td>\n      <td>0</td>\n      <td>True</td>\n      <td>True</td>\n      <td>False</td>\n      <td>1.407670e+09</td>\n      <td>498430783699554305</td>\n      <td>498430783699554305</td>\n      <td>[Witness: Police allegedly stopped Mike Brown ...</td>\n      <td>[498430783699554305]</td>\n      <td>[nan]</td>\n    </tr>\n    <tr>\n      <th>4</th>\n      <td>498440508256292864</td>\n      <td>61934810</td>\n      <td>498430783699554305</td>\n      <td>1</td>\n      <td>False</td>\n      <td>False</td>\n      <td>False</td>\n      <td>1.407672e+09</td>\n      <td>498430783699554305</td>\n      <td>498430783699554305</td>\n      <td>[@MichaelSkolnik @Agent_Kindi @Supreme___Power...</td>\n      <td>[498430783699554305]</td>\n      <td>[MichaelSkolnik]</td>\n    </tr>\n    <tr>\n      <th>...</th>\n      <td>...</td>\n      <td>...</td>\n      <td>...</td>\n      <td>...</td>\n      <td>...</td>\n      <td>...</td>\n      <td>...</td>\n      <td>...</td>\n      <td>...</td>\n      <td>...</td>\n      <td>...</td>\n      <td>...</td>\n      <td>...</td>\n    </tr>\n    <tr>\n      <th>4262</th>\n      <td>581473907275915264</td>\n      <td>1895019528</td>\n      <td>581473088249958400</td>\n      <td>1</td>\n      <td>False</td>\n      <td>False</td>\n      <td>True</td>\n      <td>1.427469e+09</td>\n      <td>581473088249958400</td>\n      <td>581473088249958400</td>\n      <td>[@jjauthor @gatewaypundit terrorism]</td>\n      <td>[581473088249958400]</td>\n      <td>[jjauthor]</td>\n    </tr>\n    <tr>\n      <th>4263</th>\n      <td>581474582302949376</td>\n      <td>2983617889</td>\n      <td>581473088249958400</td>\n      <td>1</td>\n      <td>False</td>\n      <td>False</td>\n      <td>True</td>\n      <td>1.427469e+09</td>\n      <td>581473088249958400</td>\n      <td>581473088249958400</td>\n      <td>[@jjauthor @gatewaypundit Hmmm.Doesn't pundit ...</td>\n      <td>[581473088249958400]</td>\n      <td>[jjauthor]</td>\n    </tr>\n    <tr>\n      <th>4264</th>\n      <td>581473799398359040</td>\n      <td>2920578401</td>\n      <td>581473088249958400</td>\n      <td>1</td>\n      <td>False</td>\n      <td>False</td>\n      <td>True</td>\n      <td>1.427469e+09</td>\n      <td>581473088249958400</td>\n      <td>581473088249958400</td>\n      <td>[@jjauthor @gatewaypundit. I knew it! Those cr...</td>\n      <td>[581473088249958400]</td>\n      <td>[jjauthor]</td>\n    </tr>\n    <tr>\n      <th>4265</th>\n      <td>581482916645076993</td>\n      <td>373569258</td>\n      <td>581473088249958400</td>\n      <td>1</td>\n      <td>False</td>\n      <td>False</td>\n      <td>True</td>\n      <td>1.427471e+09</td>\n      <td>581473088249958400</td>\n      <td>581473088249958400</td>\n      <td>[@jjauthor @DesireeAaron @gatewaypundit this i...</td>\n      <td>[581473088249958400]</td>\n      <td>[jjauthor]</td>\n    </tr>\n    <tr>\n      <th>4266</th>\n      <td>581478014531203072</td>\n      <td>403864026</td>\n      <td>581473088249958400</td>\n      <td>1</td>\n      <td>False</td>\n      <td>False</td>\n      <td>True</td>\n      <td>1.427470e+09</td>\n      <td>581473088249958400</td>\n      <td>581473088249958400</td>\n      <td>[@jjauthor @gatewaypundit Isn't Islam a wonder...</td>\n      <td>[581473088249958400]</td>\n      <td>[jjauthor]</td>\n    </tr>\n  </tbody>\n</table>\n<p>4267 rows × 13 columns</p>\n</div>"
     },
     "execution_count": 48,
     "metadata": {},
     "output_type": "execute_result"
    }
   ],
   "source": [
    "twitter_convs = convs.copy()\n",
    "twitter_convs = twitter_convs.reset_index().rename({\n",
    "    \"full_conv_id\": \"threadid\",\n",
    "    \"node_id\": \"tweetid\"\n",
    "}, axis=1)\n",
    "twitter_convs"
   ],
   "metadata": {
    "collapsed": false,
    "pycharm": {
     "name": "#%%\n"
    }
   }
  },
  {
   "cell_type": "code",
   "execution_count": null,
   "outputs": [],
   "source": [],
   "metadata": {
    "collapsed": false,
    "pycharm": {
     "name": "#%%\n"
    }
   }
  },
  {
   "cell_type": "code",
   "execution_count": 49,
   "outputs": [
    {
     "data": {
      "text/plain": "                threadid             tweetid                        label  \\\n5     576755174531862529  576755963597746176                      comment   \n7     576755174531862529  576758668026245120  appeal-for-more-information   \n8     576319832800555008  576321273594294272                      comment   \n10    576319832800555008  576321856166346752                    disagreed   \n12    576319832800555008  576327925869506560  appeal-for-more-information   \n...                  ...                 ...                          ...   \n4219  524932935137628160  524940370321629184                      comment   \n4253  521346721226711040  521367394108071936                       agreed   \n4254  521346721226711040  521367905062379521                    disagreed   \n4255  521346721226711040  521368022880378882                      comment   \n4260  521346721226711040  521353434881327104                      comment   \n\n          author  \n5      376884268  \n7        5469742  \n8     1946971338  \n10    2406844921  \n12     138681055  \n...          ...  \n4219    37632713  \n4253  2747372070  \n4254   430026970  \n4255  2747372070  \n4260   466457803  \n\n[2083 rows x 4 columns]",
      "text/html": "<div>\n<style scoped>\n    .dataframe tbody tr th:only-of-type {\n        vertical-align: middle;\n    }\n\n    .dataframe tbody tr th {\n        vertical-align: top;\n    }\n\n    .dataframe thead th {\n        text-align: right;\n    }\n</style>\n<table border=\"1\" class=\"dataframe\">\n  <thead>\n    <tr style=\"text-align: right;\">\n      <th></th>\n      <th>threadid</th>\n      <th>tweetid</th>\n      <th>label</th>\n      <th>author</th>\n    </tr>\n  </thead>\n  <tbody>\n    <tr>\n      <th>5</th>\n      <td>576755174531862529</td>\n      <td>576755963597746176</td>\n      <td>comment</td>\n      <td>376884268</td>\n    </tr>\n    <tr>\n      <th>7</th>\n      <td>576755174531862529</td>\n      <td>576758668026245120</td>\n      <td>appeal-for-more-information</td>\n      <td>5469742</td>\n    </tr>\n    <tr>\n      <th>8</th>\n      <td>576319832800555008</td>\n      <td>576321273594294272</td>\n      <td>comment</td>\n      <td>1946971338</td>\n    </tr>\n    <tr>\n      <th>10</th>\n      <td>576319832800555008</td>\n      <td>576321856166346752</td>\n      <td>disagreed</td>\n      <td>2406844921</td>\n    </tr>\n    <tr>\n      <th>12</th>\n      <td>576319832800555008</td>\n      <td>576327925869506560</td>\n      <td>appeal-for-more-information</td>\n      <td>138681055</td>\n    </tr>\n    <tr>\n      <th>...</th>\n      <td>...</td>\n      <td>...</td>\n      <td>...</td>\n      <td>...</td>\n    </tr>\n    <tr>\n      <th>4219</th>\n      <td>524932935137628160</td>\n      <td>524940370321629184</td>\n      <td>comment</td>\n      <td>37632713</td>\n    </tr>\n    <tr>\n      <th>4253</th>\n      <td>521346721226711040</td>\n      <td>521367394108071936</td>\n      <td>agreed</td>\n      <td>2747372070</td>\n    </tr>\n    <tr>\n      <th>4254</th>\n      <td>521346721226711040</td>\n      <td>521367905062379521</td>\n      <td>disagreed</td>\n      <td>430026970</td>\n    </tr>\n    <tr>\n      <th>4255</th>\n      <td>521346721226711040</td>\n      <td>521368022880378882</td>\n      <td>comment</td>\n      <td>2747372070</td>\n    </tr>\n    <tr>\n      <th>4260</th>\n      <td>521346721226711040</td>\n      <td>521353434881327104</td>\n      <td>comment</td>\n      <td>466457803</td>\n    </tr>\n  </tbody>\n</table>\n<p>2083 rows × 4 columns</p>\n</div>"
     },
     "execution_count": 49,
     "metadata": {},
     "output_type": "execute_result"
    }
   ],
   "source": [
    "convs_a = twitter_convs.filter(['threadid', 'tweetid', 'author'], axis=1)\n",
    "rumors_gold_label_ = rumors_gold_label.merge(convs_a, how = 'left', on=['threadid', 'tweetid'])\n",
    "rumors_gold_label_nona = rumors_gold_label_.dropna()\n",
    "rumors_gold_label_nona"
   ],
   "metadata": {
    "collapsed": false,
    "pycharm": {
     "name": "#%%\n"
    }
   }
  },
  {
   "cell_type": "code",
   "execution_count": 50,
   "outputs": [
    {
     "data": {
      "text/plain": "               threadid         op     author stance_prediction  \\\n0    498280126254428160   24165761   24165761         supporter   \n1    498430783699554305   24165761  571796080         supporter   \n2    498430783699554305   24165761   24165761         supporter   \n3    498430783699554305   24165761  402355096         supporter   \n4    498430783699554305   24165761   61934810           opposer   \n..                  ...        ...        ...               ...   \n432  581047170637381632   15037033   15037033         supporter   \n433  581063377226637312    5943072    5943072         supporter   \n434  581293286268129280  288283415  288283415         supporter   \n435  581386094337474560   15754281   15754281         supporter   \n436  581473088249958400  177584156  177584156         supporter   \n\n                tweetid    label  \n0                   NaN      NaN  \n1    498504798971650049  comment  \n2                   NaN      NaN  \n3    498451864112074752  comment  \n4    498440508256292864  comment  \n..                  ...      ...  \n432                 NaN      NaN  \n433                 NaN      NaN  \n434  581298086246395904  comment  \n435                 NaN      NaN  \n436                 NaN      NaN  \n\n[437 rows x 6 columns]",
      "text/html": "<div>\n<style scoped>\n    .dataframe tbody tr th:only-of-type {\n        vertical-align: middle;\n    }\n\n    .dataframe tbody tr th {\n        vertical-align: top;\n    }\n\n    .dataframe thead th {\n        text-align: right;\n    }\n</style>\n<table border=\"1\" class=\"dataframe\">\n  <thead>\n    <tr style=\"text-align: right;\">\n      <th></th>\n      <th>threadid</th>\n      <th>op</th>\n      <th>author</th>\n      <th>stance_prediction</th>\n      <th>tweetid</th>\n      <th>label</th>\n    </tr>\n  </thead>\n  <tbody>\n    <tr>\n      <th>0</th>\n      <td>498280126254428160</td>\n      <td>24165761</td>\n      <td>24165761</td>\n      <td>supporter</td>\n      <td>NaN</td>\n      <td>NaN</td>\n    </tr>\n    <tr>\n      <th>1</th>\n      <td>498430783699554305</td>\n      <td>24165761</td>\n      <td>571796080</td>\n      <td>supporter</td>\n      <td>498504798971650049</td>\n      <td>comment</td>\n    </tr>\n    <tr>\n      <th>2</th>\n      <td>498430783699554305</td>\n      <td>24165761</td>\n      <td>24165761</td>\n      <td>supporter</td>\n      <td>NaN</td>\n      <td>NaN</td>\n    </tr>\n    <tr>\n      <th>3</th>\n      <td>498430783699554305</td>\n      <td>24165761</td>\n      <td>402355096</td>\n      <td>supporter</td>\n      <td>498451864112074752</td>\n      <td>comment</td>\n    </tr>\n    <tr>\n      <th>4</th>\n      <td>498430783699554305</td>\n      <td>24165761</td>\n      <td>61934810</td>\n      <td>opposer</td>\n      <td>498440508256292864</td>\n      <td>comment</td>\n    </tr>\n    <tr>\n      <th>...</th>\n      <td>...</td>\n      <td>...</td>\n      <td>...</td>\n      <td>...</td>\n      <td>...</td>\n      <td>...</td>\n    </tr>\n    <tr>\n      <th>432</th>\n      <td>581047170637381632</td>\n      <td>15037033</td>\n      <td>15037033</td>\n      <td>supporter</td>\n      <td>NaN</td>\n      <td>NaN</td>\n    </tr>\n    <tr>\n      <th>433</th>\n      <td>581063377226637312</td>\n      <td>5943072</td>\n      <td>5943072</td>\n      <td>supporter</td>\n      <td>NaN</td>\n      <td>NaN</td>\n    </tr>\n    <tr>\n      <th>434</th>\n      <td>581293286268129280</td>\n      <td>288283415</td>\n      <td>288283415</td>\n      <td>supporter</td>\n      <td>581298086246395904</td>\n      <td>comment</td>\n    </tr>\n    <tr>\n      <th>435</th>\n      <td>581386094337474560</td>\n      <td>15754281</td>\n      <td>15754281</td>\n      <td>supporter</td>\n      <td>NaN</td>\n      <td>NaN</td>\n    </tr>\n    <tr>\n      <th>436</th>\n      <td>581473088249958400</td>\n      <td>177584156</td>\n      <td>177584156</td>\n      <td>supporter</td>\n      <td>NaN</td>\n      <td>NaN</td>\n    </tr>\n  </tbody>\n</table>\n<p>437 rows × 6 columns</p>\n</div>"
     },
     "execution_count": 50,
     "metadata": {},
     "output_type": "execute_result"
    }
   ],
   "source": [
    "predictions = user_stance_rumors.merge(rumors_gold_label_nona, how='left', on = ['threadid', 'author'])\n",
    "predictions_ = predictions.dropna()\n",
    "predictions"
   ],
   "metadata": {
    "collapsed": false,
    "pycharm": {
     "name": "#%%\n"
    }
   }
  },
  {
   "cell_type": "markdown",
   "source": [
    "## priors"
   ],
   "metadata": {
    "collapsed": false,
    "pycharm": {
     "name": "#%% md\n"
    }
   }
  },
  {
   "cell_type": "code",
   "execution_count": 51,
   "outputs": [
    {
     "data": {
      "text/plain": "               threadid          op      author stance_prediction  \\\n26   500286058664579072      972651    14227485         supporter   \n32   500286058664579072      972651  2423249816           opposer   \n37   500290456845299714  1363520268   796814947           opposer   \n42   500308076004929537  1363520268  1363520268         supporter   \n53   500332933098385408   360738490   360738490         supporter   \n62   500377906305327104    23831448    23831448         supporter   \n119  524995771587108864    88944711    88944711         supporter   \n132  529540733020405760   842564341   842564341         supporter   \n156  544277860555710464   872683897   872683897         supporter   \n163  544287209730236416  1855737487    20952653           opposer   \n178  544306719686656000    14460241   316364374         supporter   \n227  552791578893619200    87818409    90181058           opposer   \n248  552805488631758849      428333  2707815410         supporter   \n263  552805488631758849      428333  2762702188           opposer   \n266  552805488631758849      428333  2762702188           opposer   \n267  552805488631758849      428333  2762702188           opposer   \n279  552805488631758849      428333   567039350           opposer   \n280  552805488631758849      428333   567039350           opposer   \n281  552805488631758849      428333   567039350           opposer   \n287  552805488631758849      428333    46363353           opposer   \n293  552806309540528128    21749564    19898890           opposer   \n310  552996335319007233    32272710    32272710         supporter   \n338  553503184174710784    64643056   562236448           opposer   \n346  553508098825261056    14173315    17366667           opposer   \n379  553576010898497536     3108351  2208746299         supporter   \n399  576796432730071040  1735194972  1735194972         supporter   \n400  576796432730071040  1735194972  1735194972         supporter   \n402  576796432730071040  1735194972  1735194972         supporter   \n410  580319078155468800     5402612    59162656           opposer   \n422  580333763512705025     5402612     5402612         supporter   \n427  580348081100734464     5402612     5402612         supporter   \n\n                tweetid      label  \n26   500289420730597377  disagreed  \n32   500290256928014336     agreed  \n37   500297973905895424     agreed  \n42   500318691909959681  disagreed  \n53   500345018926645250  disagreed  \n62   500379473326665728     agreed  \n119  525047302663442433     agreed  \n132  529550101925343233     agreed  \n156  544365478224101377  disagreed  \n163  544292469866000387     agreed  \n178  544309297480364032     agreed  \n227  552818611015131136  disagreed  \n248  552816281737363458  disagreed  \n263  552814605115064323  disagreed  \n266  552813327018385408  disagreed  \n267  553121495791464448  disagreed  \n279  552818667293904898  disagreed  \n280  552819928315617281  disagreed  \n281  552814516262555648  disagreed  \n287  552819966006001664  disagreed  \n293  552806767625641984     agreed  \n310  553023430443167746  disagreed  \n338  553503712157904898  disagreed  \n346  553573926786580480  disagreed  \n379  553577770983645186     agreed  \n399  576798090155450368     agreed  \n400  576800085947871232     agreed  \n402  576809948425940992     agreed  \n410  580320979995508737     agreed  \n422  580336417391439872     agreed  \n427  580349875851784192     agreed  ",
      "text/html": "<div>\n<style scoped>\n    .dataframe tbody tr th:only-of-type {\n        vertical-align: middle;\n    }\n\n    .dataframe tbody tr th {\n        vertical-align: top;\n    }\n\n    .dataframe thead th {\n        text-align: right;\n    }\n</style>\n<table border=\"1\" class=\"dataframe\">\n  <thead>\n    <tr style=\"text-align: right;\">\n      <th></th>\n      <th>threadid</th>\n      <th>op</th>\n      <th>author</th>\n      <th>stance_prediction</th>\n      <th>tweetid</th>\n      <th>label</th>\n    </tr>\n  </thead>\n  <tbody>\n    <tr>\n      <th>26</th>\n      <td>500286058664579072</td>\n      <td>972651</td>\n      <td>14227485</td>\n      <td>supporter</td>\n      <td>500289420730597377</td>\n      <td>disagreed</td>\n    </tr>\n    <tr>\n      <th>32</th>\n      <td>500286058664579072</td>\n      <td>972651</td>\n      <td>2423249816</td>\n      <td>opposer</td>\n      <td>500290256928014336</td>\n      <td>agreed</td>\n    </tr>\n    <tr>\n      <th>37</th>\n      <td>500290456845299714</td>\n      <td>1363520268</td>\n      <td>796814947</td>\n      <td>opposer</td>\n      <td>500297973905895424</td>\n      <td>agreed</td>\n    </tr>\n    <tr>\n      <th>42</th>\n      <td>500308076004929537</td>\n      <td>1363520268</td>\n      <td>1363520268</td>\n      <td>supporter</td>\n      <td>500318691909959681</td>\n      <td>disagreed</td>\n    </tr>\n    <tr>\n      <th>53</th>\n      <td>500332933098385408</td>\n      <td>360738490</td>\n      <td>360738490</td>\n      <td>supporter</td>\n      <td>500345018926645250</td>\n      <td>disagreed</td>\n    </tr>\n    <tr>\n      <th>62</th>\n      <td>500377906305327104</td>\n      <td>23831448</td>\n      <td>23831448</td>\n      <td>supporter</td>\n      <td>500379473326665728</td>\n      <td>agreed</td>\n    </tr>\n    <tr>\n      <th>119</th>\n      <td>524995771587108864</td>\n      <td>88944711</td>\n      <td>88944711</td>\n      <td>supporter</td>\n      <td>525047302663442433</td>\n      <td>agreed</td>\n    </tr>\n    <tr>\n      <th>132</th>\n      <td>529540733020405760</td>\n      <td>842564341</td>\n      <td>842564341</td>\n      <td>supporter</td>\n      <td>529550101925343233</td>\n      <td>agreed</td>\n    </tr>\n    <tr>\n      <th>156</th>\n      <td>544277860555710464</td>\n      <td>872683897</td>\n      <td>872683897</td>\n      <td>supporter</td>\n      <td>544365478224101377</td>\n      <td>disagreed</td>\n    </tr>\n    <tr>\n      <th>163</th>\n      <td>544287209730236416</td>\n      <td>1855737487</td>\n      <td>20952653</td>\n      <td>opposer</td>\n      <td>544292469866000387</td>\n      <td>agreed</td>\n    </tr>\n    <tr>\n      <th>178</th>\n      <td>544306719686656000</td>\n      <td>14460241</td>\n      <td>316364374</td>\n      <td>supporter</td>\n      <td>544309297480364032</td>\n      <td>agreed</td>\n    </tr>\n    <tr>\n      <th>227</th>\n      <td>552791578893619200</td>\n      <td>87818409</td>\n      <td>90181058</td>\n      <td>opposer</td>\n      <td>552818611015131136</td>\n      <td>disagreed</td>\n    </tr>\n    <tr>\n      <th>248</th>\n      <td>552805488631758849</td>\n      <td>428333</td>\n      <td>2707815410</td>\n      <td>supporter</td>\n      <td>552816281737363458</td>\n      <td>disagreed</td>\n    </tr>\n    <tr>\n      <th>263</th>\n      <td>552805488631758849</td>\n      <td>428333</td>\n      <td>2762702188</td>\n      <td>opposer</td>\n      <td>552814605115064323</td>\n      <td>disagreed</td>\n    </tr>\n    <tr>\n      <th>266</th>\n      <td>552805488631758849</td>\n      <td>428333</td>\n      <td>2762702188</td>\n      <td>opposer</td>\n      <td>552813327018385408</td>\n      <td>disagreed</td>\n    </tr>\n    <tr>\n      <th>267</th>\n      <td>552805488631758849</td>\n      <td>428333</td>\n      <td>2762702188</td>\n      <td>opposer</td>\n      <td>553121495791464448</td>\n      <td>disagreed</td>\n    </tr>\n    <tr>\n      <th>279</th>\n      <td>552805488631758849</td>\n      <td>428333</td>\n      <td>567039350</td>\n      <td>opposer</td>\n      <td>552818667293904898</td>\n      <td>disagreed</td>\n    </tr>\n    <tr>\n      <th>280</th>\n      <td>552805488631758849</td>\n      <td>428333</td>\n      <td>567039350</td>\n      <td>opposer</td>\n      <td>552819928315617281</td>\n      <td>disagreed</td>\n    </tr>\n    <tr>\n      <th>281</th>\n      <td>552805488631758849</td>\n      <td>428333</td>\n      <td>567039350</td>\n      <td>opposer</td>\n      <td>552814516262555648</td>\n      <td>disagreed</td>\n    </tr>\n    <tr>\n      <th>287</th>\n      <td>552805488631758849</td>\n      <td>428333</td>\n      <td>46363353</td>\n      <td>opposer</td>\n      <td>552819966006001664</td>\n      <td>disagreed</td>\n    </tr>\n    <tr>\n      <th>293</th>\n      <td>552806309540528128</td>\n      <td>21749564</td>\n      <td>19898890</td>\n      <td>opposer</td>\n      <td>552806767625641984</td>\n      <td>agreed</td>\n    </tr>\n    <tr>\n      <th>310</th>\n      <td>552996335319007233</td>\n      <td>32272710</td>\n      <td>32272710</td>\n      <td>supporter</td>\n      <td>553023430443167746</td>\n      <td>disagreed</td>\n    </tr>\n    <tr>\n      <th>338</th>\n      <td>553503184174710784</td>\n      <td>64643056</td>\n      <td>562236448</td>\n      <td>opposer</td>\n      <td>553503712157904898</td>\n      <td>disagreed</td>\n    </tr>\n    <tr>\n      <th>346</th>\n      <td>553508098825261056</td>\n      <td>14173315</td>\n      <td>17366667</td>\n      <td>opposer</td>\n      <td>553573926786580480</td>\n      <td>disagreed</td>\n    </tr>\n    <tr>\n      <th>379</th>\n      <td>553576010898497536</td>\n      <td>3108351</td>\n      <td>2208746299</td>\n      <td>supporter</td>\n      <td>553577770983645186</td>\n      <td>agreed</td>\n    </tr>\n    <tr>\n      <th>399</th>\n      <td>576796432730071040</td>\n      <td>1735194972</td>\n      <td>1735194972</td>\n      <td>supporter</td>\n      <td>576798090155450368</td>\n      <td>agreed</td>\n    </tr>\n    <tr>\n      <th>400</th>\n      <td>576796432730071040</td>\n      <td>1735194972</td>\n      <td>1735194972</td>\n      <td>supporter</td>\n      <td>576800085947871232</td>\n      <td>agreed</td>\n    </tr>\n    <tr>\n      <th>402</th>\n      <td>576796432730071040</td>\n      <td>1735194972</td>\n      <td>1735194972</td>\n      <td>supporter</td>\n      <td>576809948425940992</td>\n      <td>agreed</td>\n    </tr>\n    <tr>\n      <th>410</th>\n      <td>580319078155468800</td>\n      <td>5402612</td>\n      <td>59162656</td>\n      <td>opposer</td>\n      <td>580320979995508737</td>\n      <td>agreed</td>\n    </tr>\n    <tr>\n      <th>422</th>\n      <td>580333763512705025</td>\n      <td>5402612</td>\n      <td>5402612</td>\n      <td>supporter</td>\n      <td>580336417391439872</td>\n      <td>agreed</td>\n    </tr>\n    <tr>\n      <th>427</th>\n      <td>580348081100734464</td>\n      <td>5402612</td>\n      <td>5402612</td>\n      <td>supporter</td>\n      <td>580349875851784192</td>\n      <td>agreed</td>\n    </tr>\n  </tbody>\n</table>\n</div>"
     },
     "execution_count": 51,
     "metadata": {},
     "output_type": "execute_result"
    }
   ],
   "source": [
    "relevant_preds = predictions_[(predictions_[\"label\"] == \"agreed\") | (predictions_[\"label\"] == \"disagreed\")]\n",
    "relevant_preds"
   ],
   "metadata": {
    "collapsed": false,
    "pycharm": {
     "name": "#%%\n"
    }
   }
  },
  {
   "cell_type": "code",
   "execution_count": 52,
   "outputs": [
    {
     "data": {
      "text/plain": "Counter({'disagreed': 16, 'agreed': 15})"
     },
     "execution_count": 52,
     "metadata": {},
     "output_type": "execute_result"
    }
   ],
   "source": [
    "from collections import Counter\n",
    "c = Counter(relevant_preds[\"label\"])\n",
    "c"
   ],
   "metadata": {
    "collapsed": false,
    "pycharm": {
     "name": "#%%\n"
    }
   }
  },
  {
   "cell_type": "code",
   "execution_count": 53,
   "outputs": [
    {
     "data": {
      "text/plain": "(0.4838709677419355, 0.5161290322580645)"
     },
     "execution_count": 53,
     "metadata": {},
     "output_type": "execute_result"
    }
   ],
   "source": [
    "total_labels = len(relevant_preds)\n",
    "agree_percentage = c[\"agreed\"] / total_labels\n",
    "disagree_percentage = c[\"disagreed\"] / total_labels\n",
    "agree_percentage, disagree_percentage"
   ],
   "metadata": {
    "collapsed": false,
    "pycharm": {
     "name": "#%%\n"
    }
   }
  },
  {
   "cell_type": "code",
   "execution_count": 54,
   "outputs": [
    {
     "data": {
      "text/plain": "Counter({'supporter': 16, 'opposer': 15})"
     },
     "execution_count": 54,
     "metadata": {},
     "output_type": "execute_result"
    }
   ],
   "source": [
    "c = Counter(relevant_preds[\"stance_prediction\"])\n",
    "c"
   ],
   "metadata": {
    "collapsed": false,
    "pycharm": {
     "name": "#%%\n"
    }
   }
  },
  {
   "cell_type": "code",
   "execution_count": 55,
   "outputs": [
    {
     "data": {
      "text/plain": "(0.5161290322580645, 0.4838709677419355)"
     },
     "execution_count": 55,
     "metadata": {},
     "output_type": "execute_result"
    }
   ],
   "source": [
    "support_percentage = c[\"supporter\"] / total_labels\n",
    "oppose_percentage = c[\"opposer\"] / total_labels\n",
    "support_percentage, oppose_percentage"
   ],
   "metadata": {
    "collapsed": false,
    "pycharm": {
     "name": "#%%\n"
    }
   }
  },
  {
   "cell_type": "markdown",
   "source": [
    "### Calculate expected predictions"
   ],
   "metadata": {
    "collapsed": false,
    "pycharm": {
     "name": "#%% md\n"
    }
   }
  },
  {
   "cell_type": "code",
   "execution_count": 56,
   "outputs": [
    {
     "name": "stdout",
     "output_type": "stream",
     "text": [
      "exp_tp: 7\t0.2497398543184183\n",
      "exp_tn: 7\t0.2497398543184183\n",
      "exp_fp: 8\t0.26638917793964617\n",
      "exp_fn: 7\t0.2341311134235172\n"
     ]
    }
   ],
   "source": [
    "exp_tp = agree_percentage * support_percentage\n",
    "exp_tn = disagree_percentage * oppose_percentage\n",
    "exp_fp = disagree_percentage * support_percentage\n",
    "exp_fn = agree_percentage * oppose_percentage\n",
    "\n",
    "print(f\"exp_tp: {int(exp_tp * total_labels)}\\t{exp_tp}\")\n",
    "print(f\"exp_tn: {int(exp_tn * total_labels)}\\t{exp_tn}\")\n",
    "print(f\"exp_fp: {int(exp_fp * total_labels)}\\t{exp_fp}\")\n",
    "print(f\"exp_fn: {int(exp_fn * total_labels)}\\t{exp_fn}\")"
   ],
   "metadata": {
    "collapsed": false,
    "pycharm": {
     "name": "#%%\n"
    }
   }
  },
  {
   "cell_type": "code",
   "execution_count": 57,
   "outputs": [
    {
     "name": "stdout",
     "output_type": "stream",
     "text": [
      "tp: 10\t0.3225806451612903\n",
      "tn: 10\t0.3225806451612903\n",
      "fp: 6\t0.1935483870967742\n",
      "fn: 5\t0.16129032258064516\n"
     ]
    }
   ],
   "source": [
    "tp = predictions_.loc[(predictions_.stance_prediction == 'supporter') & (predictions_.label == 'agreed') ]\n",
    "tn = predictions_.loc[(predictions_.stance_prediction == 'opposer') & (predictions_.label == 'disagreed') ]\n",
    "fp = predictions_.loc[(predictions_.stance_prediction == 'supporter') & (predictions_.label == 'disagreed') ]\n",
    "fn = predictions_.loc[(predictions_.stance_prediction == 'opposer') & (predictions_.label == 'agreed') ]\n",
    "\n",
    "print(f\"tp: {len(tp)}\\t{len(tp) / total_labels}\")\n",
    "print(f\"tn: {len(tn)}\\t{len(tn) / total_labels}\")\n",
    "print(f\"fp: {len(fp)}\\t{len(fp) / total_labels}\")\n",
    "print(f\"fn: {len(fn)}\\t{len(fn) / total_labels}\")\n"
   ],
   "metadata": {
    "collapsed": false,
    "pycharm": {
     "name": "#%%\n"
    }
   }
  },
  {
   "cell_type": "markdown",
   "source": [
    "## Extra for TSNE + PCA"
   ],
   "metadata": {
    "collapsed": false
   }
  },
  {
   "cell_type": "code",
   "execution_count": null,
   "outputs": [],
   "source": [
    "# data = pd.DataFrame.from_records(features, index=\"conv_id\")\n",
    "# print(data.head())"
   ],
   "metadata": {
    "collapsed": false,
    "pycharm": {
     "name": "#%%\n"
    }
   }
  },
  {
   "cell_type": "code",
   "execution_count": null,
   "outputs": [],
   "source": [
    "data_ = data.loc[data.num_nodes > 10]"
   ],
   "metadata": {
    "collapsed": false,
    "pycharm": {
     "name": "#%%\n"
    }
   }
  },
  {
   "cell_type": "code",
   "execution_count": null,
   "outputs": [],
   "source": [
    "data_.count()"
   ],
   "metadata": {
    "collapsed": false,
    "pycharm": {
     "name": "#%%\n"
    }
   }
  },
  {
   "cell_type": "code",
   "execution_count": null,
   "outputs": [],
   "source": [
    "data_"
   ],
   "metadata": {
    "collapsed": false,
    "pycharm": {
     "name": "#%%\n"
    }
   }
  },
  {
   "cell_type": "code",
   "execution_count": null,
   "outputs": [],
   "source": [
    "data_.describe()"
   ],
   "metadata": {
    "collapsed": false,
    "pycharm": {
     "name": "#%%\n"
    }
   }
  },
  {
   "cell_type": "code",
   "execution_count": null,
   "outputs": [],
   "source": [
    "data_ = data_.fillna(0)"
   ],
   "metadata": {
    "collapsed": false,
    "pycharm": {
     "name": "#%%\n"
    }
   }
  },
  {
   "cell_type": "code",
   "execution_count": null,
   "outputs": [],
   "source": [
    "from sklearn.manifold import TSNE\n",
    "from sklearn.preprocessing import StandardScaler\n"
   ],
   "metadata": {
    "collapsed": false,
    "pycharm": {
     "name": "#%%\n"
    }
   }
  },
  {
   "cell_type": "code",
   "execution_count": null,
   "outputs": [],
   "source": [
    "standardized_data = StandardScaler().fit_transform(data_)\n",
    "print(standardized_data.shape)"
   ],
   "metadata": {
    "collapsed": false,
    "pycharm": {
     "name": "#%%\n"
    }
   }
  },
  {
   "cell_type": "code",
   "execution_count": null,
   "outputs": [],
   "source": [
    "model = TSNE(n_components=2, random_state=0)"
   ],
   "metadata": {
    "collapsed": false,
    "pycharm": {
     "name": "#%%\n"
    }
   }
  },
  {
   "cell_type": "code",
   "execution_count": null,
   "outputs": [],
   "source": [
    "tsne_data = model.fit_transform(standardized_data)"
   ],
   "metadata": {
    "collapsed": false,
    "pycharm": {
     "name": "#%%\n"
    }
   }
  },
  {
   "cell_type": "code",
   "execution_count": null,
   "outputs": [],
   "source": [
    "tsne_df = pd.DataFrame(data=tsne_data, columns=(\"Dim_1\", \"Dim_2\"))"
   ],
   "metadata": {
    "collapsed": false,
    "pycharm": {
     "name": "#%%\n"
    }
   }
  },
  {
   "cell_type": "code",
   "execution_count": null,
   "outputs": [],
   "source": [
    "import seaborn as sns\n",
    "import matplotlib.pyplot as plt"
   ],
   "metadata": {
    "collapsed": false,
    "pycharm": {
     "name": "#%%\n"
    }
   }
  },
  {
   "cell_type": "code",
   "execution_count": null,
   "outputs": [],
   "source": [
    "sns.FacetGrid(tsne_df, height=9).map(plt.scatter, 'Dim_1', 'Dim_2').add_legend()\n",
    "plt.show()"
   ],
   "metadata": {
    "collapsed": false,
    "pycharm": {
     "name": "#%%\n"
    }
   }
  },
  {
   "cell_type": "code",
   "execution_count": null,
   "outputs": [],
   "source": [
    "from sklearn.cluster import DBSCAN\n"
   ],
   "metadata": {
    "collapsed": false,
    "pycharm": {
     "name": "#%%\n"
    }
   }
  },
  {
   "cell_type": "code",
   "execution_count": null,
   "outputs": [],
   "source": [
    "m = DBSCAN()\n"
   ],
   "metadata": {
    "collapsed": false,
    "pycharm": {
     "name": "#%%\n"
    }
   }
  },
  {
   "cell_type": "code",
   "execution_count": null,
   "outputs": [],
   "source": [
    "m.fit(standardized_data)"
   ],
   "metadata": {
    "collapsed": false,
    "pycharm": {
     "name": "#%%\n"
    }
   }
  },
  {
   "cell_type": "code",
   "execution_count": null,
   "outputs": [],
   "source": [
    "clusters = m.labels_"
   ],
   "metadata": {
    "collapsed": false,
    "pycharm": {
     "name": "#%%\n"
    }
   }
  },
  {
   "cell_type": "code",
   "execution_count": null,
   "outputs": [],
   "source": [
    "pd.Series(clusters).value_counts()"
   ],
   "metadata": {
    "collapsed": false,
    "pycharm": {
     "name": "#%%\n"
    }
   }
  },
  {
   "cell_type": "code",
   "execution_count": null,
   "outputs": [],
   "source": [
    "# pca\n",
    "\n",
    "from sklearn.decomposition import PCA\n"
   ],
   "metadata": {
    "collapsed": false,
    "pycharm": {
     "name": "#%%\n"
    }
   }
  },
  {
   "cell_type": "code",
   "execution_count": null,
   "outputs": [],
   "source": [
    "pca = PCA(n_components=2)\n"
   ],
   "metadata": {
    "collapsed": false,
    "pycharm": {
     "name": "#%%\n"
    }
   }
  },
  {
   "cell_type": "code",
   "execution_count": null,
   "outputs": [],
   "source": [
    "principalComponents = pca.fit_transform(standardized_data)"
   ],
   "metadata": {
    "collapsed": false,
    "pycharm": {
     "name": "#%%\n"
    }
   }
  },
  {
   "cell_type": "code",
   "execution_count": null,
   "outputs": [],
   "source": [
    "principalDf = pd.DataFrame(data = principalComponents\n",
    "             , columns = ['principal component 1', 'principal component 2'])"
   ],
   "metadata": {
    "collapsed": false,
    "pycharm": {
     "name": "#%%\n"
    }
   }
  },
  {
   "cell_type": "code",
   "execution_count": null,
   "outputs": [],
   "source": [
    "sns.FacetGrid(principalDf, height=6).map(plt.scatter, 'principal component 1', 'principal component 2').add_legend()\n",
    "plt.show()"
   ],
   "metadata": {
    "collapsed": false,
    "pycharm": {
     "name": "#%%\n"
    }
   }
  },
  {
   "cell_type": "code",
   "execution_count": null,
   "outputs": [],
   "source": [],
   "metadata": {
    "collapsed": false,
    "pycharm": {
     "name": "#%%\n"
    }
   }
  },
  {
   "cell_type": "code",
   "execution_count": null,
   "outputs": [],
   "source": [],
   "metadata": {
    "collapsed": false,
    "pycharm": {
     "name": "#%%\n"
    }
   }
  },
  {
   "cell_type": "code",
   "execution_count": null,
   "outputs": [],
   "source": [],
   "metadata": {
    "collapsed": false,
    "pycharm": {
     "name": "#%%\n"
    }
   }
  },
  {
   "cell_type": "code",
   "execution_count": null,
   "outputs": [],
   "source": [],
   "metadata": {
    "collapsed": false,
    "pycharm": {
     "name": "#%%\n"
    }
   }
  },
  {
   "cell_type": "code",
   "execution_count": null,
   "outputs": [],
   "source": [],
   "metadata": {
    "collapsed": false,
    "pycharm": {
     "name": "#%%\n"
    }
   }
  }
 ],
 "metadata": {
  "kernelspec": {
   "name": "python3",
   "language": "python",
   "display_name": "Python 3"
  },
  "language_info": {
   "codemirror_mode": {
    "name": "ipython",
    "version": 3
   },
   "file_extension": ".py",
   "mimetype": "text/x-python",
   "name": "python",
   "nbconvert_exporter": "python",
   "pygments_lexer": "ipython3",
   "version": "3.7.6"
  },
  "toc": {
   "base_numbering": 1,
   "nav_menu": {},
   "number_sections": true,
   "sideBar": true,
   "skip_h1_title": false,
   "title_cell": "Table of Contents",
   "title_sidebar": "Contents",
   "toc_cell": false,
   "toc_position": {},
   "toc_section_display": true,
   "toc_window_display": true
  }
 },
 "nbformat": 4,
 "nbformat_minor": 2
}