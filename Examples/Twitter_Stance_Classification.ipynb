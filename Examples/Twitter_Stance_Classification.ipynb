{
 "cells": [
  {
   "cell_type": "markdown",
   "metadata": {},
   "source": [
    "<img src=\"https://support.appsflyer.com/hc/article_attachments/360001968989/twitter_logo.jpg\" style='float:right; width:200px; margin: 0 20px;'>\n",
    "\n",
    "# Twitter Stance Classification\n",
    "---\n",
    "\n",
    "> Simple example of running the MAXCUT algorithem for `stance classification` in Twitter conversations\n"
   ]
  },
  {
   "cell_type": "code",
   "execution_count": 1,
   "metadata": {},
   "outputs": [],
   "source": [
    "# env \n",
    "import sys\n",
    "sys.path.append('/Users/shaimeital/code/thesis/cmv-stance-classification')\n",
    "sys.path.append('/Users/shaimeital/code/thesis/conversant')"
   ]
  },
  {
   "cell_type": "code",
   "execution_count": 2,
   "metadata": {},
   "outputs": [],
   "source": [
    "from collections import Counter\n",
    "from itertools import combinations\n",
    "from typing import Sequence, Tuple, Iterable\n",
    "import numpy as np\n",
    "import tqdm\n",
    "import pandas as pd\n",
    "from stance_classification.reddit_conversation_parser import CMVConversationReader\n",
    "from stance_classification.utils import iter_trees_from_lines\n",
    "from conversant.conversation.parse import ConversationParser\n",
    "from conversant.conversation import NodeData\n",
    "import networkx as nx"
   ]
  },
  {
   "cell_type": "markdown",
   "metadata": {},
   "source": [
    "## Load conversation data\n",
    "We load conversation data in jsonL format using the `Conversant` package "
   ]
  },
  {
   "cell_type": "code",
   "execution_count": 38,
   "metadata": {},
   "outputs": [
    {
     "data": {
      "text/html": [
       "<div>\n",
       "<style scoped>\n",
       "    .dataframe tbody tr th:only-of-type {\n",
       "        vertical-align: middle;\n",
       "    }\n",
       "\n",
       "    .dataframe tbody tr th {\n",
       "        vertical-align: top;\n",
       "    }\n",
       "\n",
       "    .dataframe thead th {\n",
       "        text-align: right;\n",
       "    }\n",
       "</style>\n",
       "<table border=\"1\" class=\"dataframe\">\n",
       "  <thead>\n",
       "    <tr style=\"text-align: right;\">\n",
       "      <th></th>\n",
       "      <th>created_at</th>\n",
       "      <th>id_str</th>\n",
       "      <th>text</th>\n",
       "      <th>truncated</th>\n",
       "      <th>entities</th>\n",
       "      <th>source</th>\n",
       "      <th>in_reply_to_status_id_str</th>\n",
       "      <th>in_reply_to_user_id_str</th>\n",
       "      <th>in_reply_to_screen_name</th>\n",
       "      <th>user_id_str</th>\n",
       "      <th>retweet_count</th>\n",
       "      <th>favorite_count</th>\n",
       "      <th>conversation_id_str</th>\n",
       "      <th>lang</th>\n",
       "      <th>is_quote_status</th>\n",
       "      <th>quoted_status_id_str</th>\n",
       "      <th>possibly_sensitive_editable</th>\n",
       "      <th>self_thread</th>\n",
       "      <th>place</th>\n",
       "      <th>extended_entities</th>\n",
       "    </tr>\n",
       "  </thead>\n",
       "  <tbody>\n",
       "    <tr>\n",
       "      <th>0</th>\n",
       "      <td>2020-06-21 21:28:47+00:00</td>\n",
       "      <td>1274816558519418880</td>\n",
       "      <td>@ylecun Yann, here's a fun experiment: trainin...</td>\n",
       "      <td>1.0</td>\n",
       "      <td>{'user_mentions': [{'screen_name': 'ylecun', '...</td>\n",
       "      <td>&lt;a href=\"http://twitter.com/#!/download/ipad\" ...</td>\n",
       "      <td>1274782757907030016</td>\n",
       "      <td>48008938.0</td>\n",
       "      <td>ylecun</td>\n",
       "      <td>39547749</td>\n",
       "      <td>6</td>\n",
       "      <td>61</td>\n",
       "      <td>1274782757907030016</td>\n",
       "      <td>en</td>\n",
       "      <td>NaN</td>\n",
       "      <td>NaN</td>\n",
       "      <td>NaN</td>\n",
       "      <td>NaN</td>\n",
       "      <td>NaN</td>\n",
       "      <td>NaN</td>\n",
       "    </tr>\n",
       "    <tr>\n",
       "      <th>1</th>\n",
       "      <td>2020-06-21 19:47:51+00:00</td>\n",
       "      <td>1274791158913302529</td>\n",
       "      <td>@RandomlyWalking Because people should be awar...</td>\n",
       "      <td>NaN</td>\n",
       "      <td>{'user_mentions': [{'screen_name': 'RandomlyWa...</td>\n",
       "      <td>&lt;a href=\"http://twitter.com/download/android\" ...</td>\n",
       "      <td>1274783738929405952</td>\n",
       "      <td>21815759.0</td>\n",
       "      <td>RandomlyWalking</td>\n",
       "      <td>48008938</td>\n",
       "      <td>0</td>\n",
       "      <td>128</td>\n",
       "      <td>1274782757907030016</td>\n",
       "      <td>en</td>\n",
       "      <td>NaN</td>\n",
       "      <td>NaN</td>\n",
       "      <td>NaN</td>\n",
       "      <td>NaN</td>\n",
       "      <td>NaN</td>\n",
       "      <td>NaN</td>\n",
       "    </tr>\n",
       "    <tr>\n",
       "      <th>2</th>\n",
       "      <td>2020-06-20 16:36:36+00:00</td>\n",
       "      <td>1274380641644294150</td>\n",
       "      <td>This image speaks volumes about the dangers of...</td>\n",
       "      <td>NaN</td>\n",
       "      <td>{'urls': [{'url': 'https://t.co/GsoQqSr3XP', '...</td>\n",
       "      <td>&lt;a href=\"https://mobile.twitter.com\" rel=\"nofo...</td>\n",
       "      <td>nan</td>\n",
       "      <td>NaN</td>\n",
       "      <td>NaN</td>\n",
       "      <td>2393183286</td>\n",
       "      <td>618</td>\n",
       "      <td>1942</td>\n",
       "      <td>1274380641644294150</td>\n",
       "      <td>en</td>\n",
       "      <td>1.0</td>\n",
       "      <td>1.274315e+18</td>\n",
       "      <td>1.0</td>\n",
       "      <td>{'id_str': '1274380641644294150'}</td>\n",
       "      <td>NaN</td>\n",
       "      <td>NaN</td>\n",
       "    </tr>\n",
       "    <tr>\n",
       "      <th>3</th>\n",
       "      <td>2020-06-21 21:09:35+00:00</td>\n",
       "      <td>1274811728296017928</td>\n",
       "      <td>@ylecun Train it on the *WHOLE* American popul...</td>\n",
       "      <td>1.0</td>\n",
       "      <td>{'user_mentions': [{'screen_name': 'ylecun', '...</td>\n",
       "      <td>&lt;a href=\"https://mobile.twitter.com\" rel=\"nofo...</td>\n",
       "      <td>1274782757907030016</td>\n",
       "      <td>48008938.0</td>\n",
       "      <td>ylecun</td>\n",
       "      <td>144553035</td>\n",
       "      <td>49</td>\n",
       "      <td>326</td>\n",
       "      <td>1274782757907030016</td>\n",
       "      <td>en</td>\n",
       "      <td>1.0</td>\n",
       "      <td>1.204053e+18</td>\n",
       "      <td>1.0</td>\n",
       "      <td>NaN</td>\n",
       "      <td>NaN</td>\n",
       "      <td>NaN</td>\n",
       "    </tr>\n",
       "    <tr>\n",
       "      <th>4</th>\n",
       "      <td>2020-06-21 19:14:28+00:00</td>\n",
       "      <td>1274782757907030016</td>\n",
       "      <td>ML systems are biased when data is biased.\\nTh...</td>\n",
       "      <td>1.0</td>\n",
       "      <td>{'urls': [{'url': 'https://t.co/O7IBsrUB1b', '...</td>\n",
       "      <td>&lt;a href=\"http://twitter.com/download/android\" ...</td>\n",
       "      <td>nan</td>\n",
       "      <td>NaN</td>\n",
       "      <td>NaN</td>\n",
       "      <td>48008938</td>\n",
       "      <td>515</td>\n",
       "      <td>2733</td>\n",
       "      <td>1274782757907030016</td>\n",
       "      <td>en</td>\n",
       "      <td>1.0</td>\n",
       "      <td>1.274381e+18</td>\n",
       "      <td>1.0</td>\n",
       "      <td>NaN</td>\n",
       "      <td>NaN</td>\n",
       "      <td>NaN</td>\n",
       "    </tr>\n",
       "  </tbody>\n",
       "</table>\n",
       "</div>"
      ],
      "text/plain": [
       "                 created_at               id_str  \\\n",
       "0 2020-06-21 21:28:47+00:00  1274816558519418880   \n",
       "1 2020-06-21 19:47:51+00:00  1274791158913302529   \n",
       "2 2020-06-20 16:36:36+00:00  1274380641644294150   \n",
       "3 2020-06-21 21:09:35+00:00  1274811728296017928   \n",
       "4 2020-06-21 19:14:28+00:00  1274782757907030016   \n",
       "\n",
       "                                                text  truncated  \\\n",
       "0  @ylecun Yann, here's a fun experiment: trainin...        1.0   \n",
       "1  @RandomlyWalking Because people should be awar...        NaN   \n",
       "2  This image speaks volumes about the dangers of...        NaN   \n",
       "3  @ylecun Train it on the *WHOLE* American popul...        1.0   \n",
       "4  ML systems are biased when data is biased.\\nTh...        1.0   \n",
       "\n",
       "                                            entities  \\\n",
       "0  {'user_mentions': [{'screen_name': 'ylecun', '...   \n",
       "1  {'user_mentions': [{'screen_name': 'RandomlyWa...   \n",
       "2  {'urls': [{'url': 'https://t.co/GsoQqSr3XP', '...   \n",
       "3  {'user_mentions': [{'screen_name': 'ylecun', '...   \n",
       "4  {'urls': [{'url': 'https://t.co/O7IBsrUB1b', '...   \n",
       "\n",
       "                                              source  \\\n",
       "0  <a href=\"http://twitter.com/#!/download/ipad\" ...   \n",
       "1  <a href=\"http://twitter.com/download/android\" ...   \n",
       "2  <a href=\"https://mobile.twitter.com\" rel=\"nofo...   \n",
       "3  <a href=\"https://mobile.twitter.com\" rel=\"nofo...   \n",
       "4  <a href=\"http://twitter.com/download/android\" ...   \n",
       "\n",
       "  in_reply_to_status_id_str  in_reply_to_user_id_str in_reply_to_screen_name  \\\n",
       "0       1274782757907030016               48008938.0                  ylecun   \n",
       "1       1274783738929405952               21815759.0         RandomlyWalking   \n",
       "2                       nan                      NaN                     NaN   \n",
       "3       1274782757907030016               48008938.0                  ylecun   \n",
       "4                       nan                      NaN                     NaN   \n",
       "\n",
       "   user_id_str  retweet_count  favorite_count  conversation_id_str lang  \\\n",
       "0     39547749              6              61  1274782757907030016   en   \n",
       "1     48008938              0             128  1274782757907030016   en   \n",
       "2   2393183286            618            1942  1274380641644294150   en   \n",
       "3    144553035             49             326  1274782757907030016   en   \n",
       "4     48008938            515            2733  1274782757907030016   en   \n",
       "\n",
       "   is_quote_status  quoted_status_id_str  possibly_sensitive_editable  \\\n",
       "0              NaN                   NaN                          NaN   \n",
       "1              NaN                   NaN                          NaN   \n",
       "2              1.0          1.274315e+18                          1.0   \n",
       "3              1.0          1.204053e+18                          1.0   \n",
       "4              1.0          1.274381e+18                          1.0   \n",
       "\n",
       "                         self_thread place extended_entities  \n",
       "0                                NaN   NaN               NaN  \n",
       "1                                NaN   NaN               NaN  \n",
       "2  {'id_str': '1274380641644294150'}   NaN               NaN  \n",
       "3                                NaN   NaN               NaN  \n",
       "4                                NaN   NaN               NaN  "
      ]
     },
     "execution_count": 38,
     "metadata": {},
     "output_type": "execute_result"
    }
   ],
   "source": [
    "conv_id = \"1274782757907030016\"\n",
    "sample= pd.read_json(f'/Users/shaimeital/code/thesis/cmv-stance-classification/data/Twitter Conversation/conv-{conv_id}/tweets.jsonl',\n",
    "                     lines= True,\n",
    "                     dtype={'in_reply_to_status_id_str':str, 'conversation_id_str': str, 'text':str, 'id_str':'str'})\n",
    "sample.head()"
   ]
  },
  {
   "cell_type": "code",
   "execution_count": 4,
   "metadata": {},
   "outputs": [],
   "source": [
    "cols = ['created_at', 'id_str', 'text', 'user_id_str', 'conversation_id_str', 'in_reply_to_status_id_str', 'in_reply_to_screen_name']"
   ]
  },
  {
   "cell_type": "code",
   "execution_count": 5,
   "metadata": {},
   "outputs": [
    {
     "data": {
      "text/html": [
       "<div>\n",
       "<style scoped>\n",
       "    .dataframe tbody tr th:only-of-type {\n",
       "        vertical-align: middle;\n",
       "    }\n",
       "\n",
       "    .dataframe tbody tr th {\n",
       "        vertical-align: top;\n",
       "    }\n",
       "\n",
       "    .dataframe thead th {\n",
       "        text-align: right;\n",
       "    }\n",
       "</style>\n",
       "<table border=\"1\" class=\"dataframe\">\n",
       "  <thead>\n",
       "    <tr style=\"text-align: right;\">\n",
       "      <th></th>\n",
       "      <th>created_at</th>\n",
       "      <th>id_str</th>\n",
       "      <th>text</th>\n",
       "      <th>user_id_str</th>\n",
       "      <th>conversation_id_str</th>\n",
       "      <th>in_reply_to_status_id_str</th>\n",
       "      <th>in_reply_to_screen_name</th>\n",
       "    </tr>\n",
       "  </thead>\n",
       "  <tbody>\n",
       "    <tr>\n",
       "      <th>0</th>\n",
       "      <td>2020-06-21 21:28:47+00:00</td>\n",
       "      <td>1274816558519418880</td>\n",
       "      <td>@ylecun Yann, here's a fun experiment: trainin...</td>\n",
       "      <td>39547749</td>\n",
       "      <td>1274782757907030016</td>\n",
       "      <td>1274782757907030016</td>\n",
       "      <td>ylecun</td>\n",
       "    </tr>\n",
       "    <tr>\n",
       "      <th>1</th>\n",
       "      <td>2020-06-21 19:47:51+00:00</td>\n",
       "      <td>1274791158913302529</td>\n",
       "      <td>@RandomlyWalking Because people should be awar...</td>\n",
       "      <td>48008938</td>\n",
       "      <td>1274782757907030016</td>\n",
       "      <td>1274783738929405952</td>\n",
       "      <td>RandomlyWalking</td>\n",
       "    </tr>\n",
       "    <tr>\n",
       "      <th>2</th>\n",
       "      <td>2020-06-20 16:36:36+00:00</td>\n",
       "      <td>1274380641644294150</td>\n",
       "      <td>This image speaks volumes about the dangers of...</td>\n",
       "      <td>2393183286</td>\n",
       "      <td>1274380641644294150</td>\n",
       "      <td>nan</td>\n",
       "      <td>NaN</td>\n",
       "    </tr>\n",
       "    <tr>\n",
       "      <th>3</th>\n",
       "      <td>2020-06-21 21:09:35+00:00</td>\n",
       "      <td>1274811728296017928</td>\n",
       "      <td>@ylecun Train it on the *WHOLE* American popul...</td>\n",
       "      <td>144553035</td>\n",
       "      <td>1274782757907030016</td>\n",
       "      <td>1274782757907030016</td>\n",
       "      <td>ylecun</td>\n",
       "    </tr>\n",
       "    <tr>\n",
       "      <th>4</th>\n",
       "      <td>2020-06-21 19:14:28+00:00</td>\n",
       "      <td>1274782757907030016</td>\n",
       "      <td>ML systems are biased when data is biased.\\nTh...</td>\n",
       "      <td>48008938</td>\n",
       "      <td>1274782757907030016</td>\n",
       "      <td>nan</td>\n",
       "      <td>NaN</td>\n",
       "    </tr>\n",
       "  </tbody>\n",
       "</table>\n",
       "</div>"
      ],
      "text/plain": [
       "                 created_at               id_str  \\\n",
       "0 2020-06-21 21:28:47+00:00  1274816558519418880   \n",
       "1 2020-06-21 19:47:51+00:00  1274791158913302529   \n",
       "2 2020-06-20 16:36:36+00:00  1274380641644294150   \n",
       "3 2020-06-21 21:09:35+00:00  1274811728296017928   \n",
       "4 2020-06-21 19:14:28+00:00  1274782757907030016   \n",
       "\n",
       "                                                text  user_id_str  \\\n",
       "0  @ylecun Yann, here's a fun experiment: trainin...     39547749   \n",
       "1  @RandomlyWalking Because people should be awar...     48008938   \n",
       "2  This image speaks volumes about the dangers of...   2393183286   \n",
       "3  @ylecun Train it on the *WHOLE* American popul...    144553035   \n",
       "4  ML systems are biased when data is biased.\\nTh...     48008938   \n",
       "\n",
       "   conversation_id_str in_reply_to_status_id_str in_reply_to_screen_name  \n",
       "0  1274782757907030016       1274782757907030016                  ylecun  \n",
       "1  1274782757907030016       1274783738929405952         RandomlyWalking  \n",
       "2  1274380641644294150                       nan                     NaN  \n",
       "3  1274782757907030016       1274782757907030016                  ylecun  \n",
       "4  1274782757907030016                       nan                     NaN  "
      ]
     },
     "execution_count": 5,
     "metadata": {},
     "output_type": "execute_result"
    }
   ],
   "source": [
    "sample = sample.filter(cols)\n",
    "sample.head()"
   ]
  },
  {
   "cell_type": "markdown",
   "metadata": {},
   "source": [
    "Make sure we have only one conversation in our data"
   ]
  },
  {
   "cell_type": "code",
   "execution_count": 8,
   "metadata": {},
   "outputs": [],
   "source": [
    "assert sample.conversation_id_str.nunique() == 1, 'data have more then one conversation'"
   ]
  },
  {
   "cell_type": "code",
   "execution_count": 7,
   "metadata": {},
   "outputs": [
    {
     "name": "stdout",
     "output_type": "stream",
     "text": [
      "264\n",
      "255\n"
     ]
    }
   ],
   "source": [
    "# quick fix - more then 1 conversation id\n",
    "print(sample.count().values[0])\n",
    "sample = sample.loc[sample.conversation_id_str == conv_id]\n",
    "print(sample.count().values[0])"
   ]
  },
  {
   "cell_type": "code",
   "execution_count": 9,
   "metadata": {},
   "outputs": [],
   "source": [
    "assert sample.loc[sample.in_reply_to_status_id_str == 'nan'].count().values[0] == 1, \\\n",
    "                                                      'more then one root found in conversation'"
   ]
  },
  {
   "cell_type": "code",
   "execution_count": 10,
   "metadata": {},
   "outputs": [
    {
     "name": "stdout",
     "output_type": "stream",
     "text": [
      "255\n",
      "255\n"
     ]
    }
   ],
   "source": [
    "# quick fix - more then 1 root\n",
    "print(sample.count().values[0])\n",
    "sample = sample.loc[sample.id_str != '1203416002626805765']\n",
    "print(sample.count().values[0])\n"
   ]
  },
  {
   "cell_type": "code",
   "execution_count": 11,
   "metadata": {},
   "outputs": [],
   "source": [
    "assert len(set(sample.in_reply_to_status_id_str).difference(set(sample.id_str))) > 1, 'Some parents are not in the id list'"
   ]
  },
  {
   "cell_type": "code",
   "execution_count": 12,
   "metadata": {},
   "outputs": [
    {
     "data": {
      "text/html": [
       "<div>\n",
       "<style scoped>\n",
       "    .dataframe tbody tr th:only-of-type {\n",
       "        vertical-align: middle;\n",
       "    }\n",
       "\n",
       "    .dataframe tbody tr th {\n",
       "        vertical-align: top;\n",
       "    }\n",
       "\n",
       "    .dataframe thead th {\n",
       "        text-align: right;\n",
       "    }\n",
       "</style>\n",
       "<table border=\"1\" class=\"dataframe\">\n",
       "  <thead>\n",
       "    <tr style=\"text-align: right;\">\n",
       "      <th></th>\n",
       "      <th>created_at</th>\n",
       "      <th>id_str</th>\n",
       "      <th>text</th>\n",
       "      <th>user_id_str</th>\n",
       "      <th>conversation_id_str</th>\n",
       "      <th>in_reply_to_status_id_str</th>\n",
       "      <th>in_reply_to_screen_name</th>\n",
       "    </tr>\n",
       "  </thead>\n",
       "  <tbody>\n",
       "    <tr>\n",
       "      <th>0</th>\n",
       "      <td>2020-06-21 21:28:47+00:00</td>\n",
       "      <td>1274816558519418880</td>\n",
       "      <td>@ylecun Yann, here's a fun experiment: trainin...</td>\n",
       "      <td>39547749</td>\n",
       "      <td>1274782757907030016</td>\n",
       "      <td>1274782757907030016</td>\n",
       "      <td>ylecun</td>\n",
       "    </tr>\n",
       "    <tr>\n",
       "      <th>1</th>\n",
       "      <td>2020-06-21 19:47:51+00:00</td>\n",
       "      <td>1274791158913302529</td>\n",
       "      <td>@RandomlyWalking Because people should be awar...</td>\n",
       "      <td>48008938</td>\n",
       "      <td>1274782757907030016</td>\n",
       "      <td>1274783738929405952</td>\n",
       "      <td>RandomlyWalking</td>\n",
       "    </tr>\n",
       "    <tr>\n",
       "      <th>3</th>\n",
       "      <td>2020-06-21 21:09:35+00:00</td>\n",
       "      <td>1274811728296017928</td>\n",
       "      <td>@ylecun Train it on the *WHOLE* American popul...</td>\n",
       "      <td>144553035</td>\n",
       "      <td>1274782757907030016</td>\n",
       "      <td>1274782757907030016</td>\n",
       "      <td>ylecun</td>\n",
       "    </tr>\n",
       "    <tr>\n",
       "      <th>4</th>\n",
       "      <td>2020-06-21 19:14:28+00:00</td>\n",
       "      <td>1274782757907030016</td>\n",
       "      <td>ML systems are biased when data is biased.\\nTh...</td>\n",
       "      <td>48008938</td>\n",
       "      <td>1274782757907030016</td>\n",
       "      <td>nan</td>\n",
       "      <td>NaN</td>\n",
       "    </tr>\n",
       "    <tr>\n",
       "      <th>5</th>\n",
       "      <td>2020-06-21 19:46:20+00:00</td>\n",
       "      <td>1274790777516961792</td>\n",
       "      <td>@ArcusCoTangens Not so much ML researchers but...</td>\n",
       "      <td>48008938</td>\n",
       "      <td>1274782757907030016</td>\n",
       "      <td>1274784988983169025</td>\n",
       "      <td>ArcusCoTangens</td>\n",
       "    </tr>\n",
       "  </tbody>\n",
       "</table>\n",
       "</div>"
      ],
      "text/plain": [
       "                 created_at               id_str  \\\n",
       "0 2020-06-21 21:28:47+00:00  1274816558519418880   \n",
       "1 2020-06-21 19:47:51+00:00  1274791158913302529   \n",
       "3 2020-06-21 21:09:35+00:00  1274811728296017928   \n",
       "4 2020-06-21 19:14:28+00:00  1274782757907030016   \n",
       "5 2020-06-21 19:46:20+00:00  1274790777516961792   \n",
       "\n",
       "                                                text  user_id_str  \\\n",
       "0  @ylecun Yann, here's a fun experiment: trainin...     39547749   \n",
       "1  @RandomlyWalking Because people should be awar...     48008938   \n",
       "3  @ylecun Train it on the *WHOLE* American popul...    144553035   \n",
       "4  ML systems are biased when data is biased.\\nTh...     48008938   \n",
       "5  @ArcusCoTangens Not so much ML researchers but...     48008938   \n",
       "\n",
       "   conversation_id_str in_reply_to_status_id_str in_reply_to_screen_name  \n",
       "0  1274782757907030016       1274782757907030016                  ylecun  \n",
       "1  1274782757907030016       1274783738929405952         RandomlyWalking  \n",
       "3  1274782757907030016       1274782757907030016                  ylecun  \n",
       "4  1274782757907030016                       nan                     NaN  \n",
       "5  1274782757907030016       1274784988983169025          ArcusCoTangens  "
      ]
     },
     "execution_count": 12,
     "metadata": {},
     "output_type": "execute_result"
    }
   ],
   "source": [
    "sample.head()"
   ]
  },
  {
   "cell_type": "code",
   "execution_count": 18,
   "metadata": {},
   "outputs": [],
   "source": [
    "important_id = 1274816558519418880"
   ]
  },
  {
   "cell_type": "markdown",
   "metadata": {},
   "source": [
    "Single conversation parsing"
   ]
  },
  {
   "cell_type": "code",
   "execution_count": 13,
   "metadata": {},
   "outputs": [],
   "source": [
    "class Twitterconversationreader(ConversationParser[pd.DataFrame, pd.Series]):\n",
    "\n",
    "    def __init__(self):\n",
    "        super().__init__()\n",
    "\n",
    "\n",
    "    def extract_node_data(self, raw_node: pd.Series, verbose =0) -> NodeData:\n",
    "        node_id = raw_node.id_str\n",
    "        if verbose > 0:\n",
    "            print(f'parsing node id {node_id}')\n",
    "        author = raw_node.user_id_str\n",
    "        timestamp = raw_node.created_at\n",
    "        data = dict(raw_node)\n",
    "        parent_id = data.get('in_reply_to_status_id_str')\n",
    "        if parent_id == 'nan':\n",
    "            parent_id = None\n",
    "            print(f'root node is {node_id}')\n",
    "            \n",
    "        return NodeData(node_id, author, timestamp, data, parent_id)\n",
    "        \n",
    "    def iter_raw_nodes(self, raw_conversation: pd.DataFrame) -> Iterable[pd.Series]:\n",
    "        for x in raw_conversation.iterrows():\n",
    "            yield x[1]"
   ]
  },
  {
   "cell_type": "code",
   "execution_count": 14,
   "metadata": {},
   "outputs": [],
   "source": [
    "twitter_reader = Twitterconversationreader()"
   ]
  },
  {
   "cell_type": "code",
   "execution_count": 15,
   "metadata": {},
   "outputs": [
    {
     "name": "stdout",
     "output_type": "stream",
     "text": [
      "root node is 1274782757907030016\n"
     ]
    }
   ],
   "source": [
    "conversation = twitter_reader.parse(sample)"
   ]
  },
  {
   "cell_type": "code",
   "execution_count": 16,
   "metadata": {},
   "outputs": [
    {
     "data": {
      "text/plain": [
       "152"
      ]
     },
     "execution_count": 16,
     "metadata": {},
     "output_type": "execute_result"
    }
   ],
   "source": [
    "len(conversation.participants)"
   ]
  },
  {
   "cell_type": "code",
   "execution_count": 17,
   "metadata": {},
   "outputs": [
    {
     "data": {
      "text/plain": [
       "247"
      ]
     },
     "execution_count": 17,
     "metadata": {},
     "output_type": "execute_result"
    }
   ],
   "source": [
    "len(list(conversation.iter_conversation()))"
   ]
  },
  {
   "cell_type": "code",
   "execution_count": 24,
   "metadata": {},
   "outputs": [
    {
     "name": "stdout",
     "output_type": "stream",
     "text": [
      "<conversant.conversation.conversation.ConversationNode object at 0xa1b1ddc90>\n"
     ]
    }
   ],
   "source": [
    "subtree = [node for node in conversation.root.children if node.node_id == str(important_id)][0]\n",
    "print(repr(subtree))"
   ]
  },
  {
   "cell_type": "code",
   "execution_count": 31,
   "metadata": {},
   "outputs": [
    {
     "data": {
      "text/plain": [
       "10"
      ]
     },
     "execution_count": 31,
     "metadata": {},
     "output_type": "execute_result"
    }
   ],
   "source": [
    "from conversant.conversation.conversation import Conversation\n",
    "sub_conv = Conversation(subtree)\n",
    "sub_conv.size"
   ]
  },
  {
   "cell_type": "code",
   "execution_count": null,
   "metadata": {},
   "outputs": [],
   "source": []
  },
  {
   "cell_type": "markdown",
   "metadata": {},
   "source": [
    "## Create interaction graph from conversation object"
   ]
  },
  {
   "cell_type": "code",
   "execution_count": 35,
   "metadata": {},
   "outputs": [],
   "source": [
    "from conversant.interactions.reply_interactions_parser import get_reply_interactions_parser\n",
    "\n",
    "reply_interactions_parser = get_reply_interactions_parser()\n",
    "\n",
    "interaction_graph = reply_interactions_parser.parse(sub_conv)\n"
   ]
  },
  {
   "cell_type": "code",
   "execution_count": 33,
   "metadata": {},
   "outputs": [
    {
     "data": {
      "text/plain": [
       "<conversant.interactions.interactions_graph.InteractionsGraph at 0xa1d53cc50>"
      ]
     },
     "execution_count": 33,
     "metadata": {},
     "output_type": "execute_result"
    }
   ],
   "source": [
    "interaction_graph.get_core_interactions(inplace=True)"
   ]
  },
  {
   "cell_type": "code",
   "execution_count": 36,
   "metadata": {},
   "outputs": [
    {
     "data": {
      "image/png": "[encoded data removed]",
      "text/plain": [
       "<Figure size 432x288 with 1 Axes>"
      ]
     },
     "metadata": {},
     "output_type": "display_data"
    }
   ],
   "source": [
    "layout = nx.spring_layout(interaction_graph.graph)\n",
    "nx.draw(interaction_graph.graph, layout)"
   ]
  },
  {
   "cell_type": "code",
   "execution_count": 37,
   "metadata": {},
   "outputs": [
    {
     "data": {
      "text/plain": [
       "NodeView((48008938, 39547749, 789980646))"
      ]
     },
     "execution_count": 37,
     "metadata": {},
     "output_type": "execute_result"
    }
   ],
   "source": [
    "interaction_graph.graph.nodes"
   ]
  },
  {
   "cell_type": "markdown",
   "metadata": {},
   "source": [
    "\n",
    "## Apply MAXCUT algo for stance classification in the conversation"
   ]
  },
  {
   "cell_type": "code",
   "execution_count": null,
   "metadata": {},
   "outputs": [],
   "source": [
    "interaction_graph.set_interaction_weights(lambda x: x['replies'])"
   ]
  },
  {
   "cell_type": "code",
   "execution_count": null,
   "metadata": {},
   "outputs": [],
   "source": [
    "from stance_classification.classifiers.maxcut_stance_classifier import MaxcutStanceClassifier"
   ]
  },
  {
   "cell_type": "code",
   "execution_count": null,
   "metadata": {},
   "outputs": [],
   "source": [
    "maxcut = MaxcutStanceClassifier()"
   ]
  },
  {
   "cell_type": "code",
   "execution_count": null,
   "metadata": {},
   "outputs": [],
   "source": [
    "maxcut.set_input(interaction_graph.graph)"
   ]
  },
  {
   "cell_type": "code",
   "execution_count": null,
   "metadata": {},
   "outputs": [],
   "source": [
    "op = conversation.root.author"
   ]
  },
  {
   "cell_type": "code",
   "execution_count": null,
   "metadata": {},
   "outputs": [],
   "source": [
    "maxcut.classify_stance(op)"
   ]
  },
  {
   "cell_type": "code",
   "execution_count": null,
   "metadata": {},
   "outputs": [],
   "source": [
    "maxcut.draw()"
   ]
  }
 ],
 "metadata": {
  "kernelspec": {
   "display_name": "Python 3.7.6 64-bit ('conversant': conda)",
   "language": "python",
   "name": "python37664bitconversantconda0c0241fc947e4c38a9b847e1d7a96ca7"
  },
  "language_info": {
   "codemirror_mode": {
    "name": "ipython",
    "version": 3
   },
   "file_extension": ".py",
   "mimetype": "text/x-python",
   "name": "python",
   "nbconvert_exporter": "python",
   "pygments_lexer": "ipython3",
   "version": "3.7.6"
  },
  "toc": {
   "base_numbering": 1,
   "nav_menu": {},
   "number_sections": true,
   "sideBar": true,
   "skip_h1_title": false,
   "title_cell": "Table of Contents",
   "title_sidebar": "Contents",
   "toc_cell": false,
   "toc_position": {
    "height": "calc(100% - 180px)",
    "left": "10px",
    "top": "150px",
    "width": "267.188px"
   },
   "toc_section_display": true,
   "toc_window_display": true
  }
 },
 "nbformat": 4,
 "nbformat_minor": 2
}
