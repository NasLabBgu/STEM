{
 "cells": [
  {
   "attachments": {},
   "cell_type": "markdown",
   "metadata": {},
   "source": [
    "<img src=\"https://support.appsflyer.com/hc/article_attachments/360001968989/twitter_logo.jpg\" style='float:right; width:200px; margin: 0 20px;'>\n",
    "\n",
    "# Twitter Stance Classification\n",
    "---\n",
    "\n",
    "> Simple example of running the MAXCUT algorithem for `stance classification` in Twitter conversations\n"
   ]
  },
  {
   "cell_type": "code",
   "execution_count": 1,
   "metadata": {},
   "outputs": [],
   "source": [
    "# env \n",
    "import sys\n",
    "sys.path.append('/Users/shaimeital/code/thesis/cmv-stance-classification')\n",
    "sys.path.append('/Users/shaimeital/code/thesis/conversant')"
   ]
  },
  {
   "cell_type": "code",
   "execution_count": 2,
   "metadata": {},
   "outputs": [],
   "source": [
    "from collections import Counter\n",
    "from itertools import combinations\n",
    "from typing import Sequence, Tuple, Iterable\n",
    "import numpy as np\n",
    "import tqdm\n",
    "import pandas as pd\n",
    "from stance_classification.reddit_conversation_parser import CMVConversationReader\n",
    "from stance_classification.utils import iter_trees_from_lines\n",
    "from conversant.conversation.parse import ConversationParser\n",
    "from conversant.conversation import NodeData"
   ]
  },
  {
   "cell_type": "markdown",
   "metadata": {},
   "source": [
    "## Load conversation data\n",
    "We load conversation data in jsonL format using the `Conversant` package "
   ]
  },
  {
   "cell_type": "code",
   "execution_count": 4,
   "metadata": {},
   "outputs": [
    {
     "data": {
      "text/html": [
       "<div>\n",
       "<style scoped>\n",
       "    .dataframe tbody tr th:only-of-type {\n",
       "        vertical-align: middle;\n",
       "    }\n",
       "\n",
       "    .dataframe tbody tr th {\n",
       "        vertical-align: top;\n",
       "    }\n",
       "\n",
       "    .dataframe thead th {\n",
       "        text-align: right;\n",
       "    }\n",
       "</style>\n",
       "<table border=\"1\" class=\"dataframe\">\n",
       "  <thead>\n",
       "    <tr style=\"text-align: right;\">\n",
       "      <th></th>\n",
       "      <th>created_at</th>\n",
       "      <th>id_str</th>\n",
       "      <th>text</th>\n",
       "      <th>truncated</th>\n",
       "      <th>entities</th>\n",
       "      <th>source</th>\n",
       "      <th>user_id_str</th>\n",
       "      <th>retweet_count</th>\n",
       "      <th>favorite_count</th>\n",
       "      <th>conversation_id_str</th>\n",
       "      <th>possibly_sensitive_editable</th>\n",
       "      <th>lang</th>\n",
       "      <th>in_reply_to_status_id_str</th>\n",
       "      <th>in_reply_to_user_id_str</th>\n",
       "      <th>in_reply_to_screen_name</th>\n",
       "      <th>place</th>\n",
       "      <th>self_thread</th>\n",
       "      <th>is_quote_status</th>\n",
       "      <th>quoted_status_id_str</th>\n",
       "      <th>extended_entities</th>\n",
       "    </tr>\n",
       "  </thead>\n",
       "  <tbody>\n",
       "    <tr>\n",
       "      <th>0</th>\n",
       "      <td>2019-12-07 07:17:16+00:00</td>\n",
       "      <td>1203211859366576128</td>\n",
       "      <td>People are biased.\\nData is biased, in part be...</td>\n",
       "      <td>1.0</td>\n",
       "      <td>{'urls': [{'url': 'https://t.co/tP2x8DD8Nr', '...</td>\n",
       "      <td>&lt;a href=\"http://www.facebook.com/twitter\" rel=...</td>\n",
       "      <td>48008938</td>\n",
       "      <td>1508</td>\n",
       "      <td>3674</td>\n",
       "      <td>1203211859366576128</td>\n",
       "      <td>1.0</td>\n",
       "      <td>en</td>\n",
       "      <td>nan</td>\n",
       "      <td>NaN</td>\n",
       "      <td>NaN</td>\n",
       "      <td>NaN</td>\n",
       "      <td>NaN</td>\n",
       "      <td>NaN</td>\n",
       "      <td>NaN</td>\n",
       "      <td>NaN</td>\n",
       "    </tr>\n",
       "    <tr>\n",
       "      <th>1</th>\n",
       "      <td>2019-12-07 14:01:40+00:00</td>\n",
       "      <td>1203313629082378240</td>\n",
       "      <td>@tunguz @ylecun This is an interesting read:\\n...</td>\n",
       "      <td>1.0</td>\n",
       "      <td>{'user_mentions': [{'screen_name': 'tunguz', '...</td>\n",
       "      <td>&lt;a href=\"https://about.twitter.com/products/tw...</td>\n",
       "      <td>10756512</td>\n",
       "      <td>3</td>\n",
       "      <td>52</td>\n",
       "      <td>1203211859366576128</td>\n",
       "      <td>1.0</td>\n",
       "      <td>en</td>\n",
       "      <td>1203276649049001985</td>\n",
       "      <td>2.351127e+07</td>\n",
       "      <td>tunguz</td>\n",
       "      <td>NaN</td>\n",
       "      <td>NaN</td>\n",
       "      <td>NaN</td>\n",
       "      <td>NaN</td>\n",
       "      <td>NaN</td>\n",
       "    </tr>\n",
       "    <tr>\n",
       "      <th>2</th>\n",
       "      <td>2019-12-07 08:36:45+00:00</td>\n",
       "      <td>1203231861964771328</td>\n",
       "      <td>@ylecun Learning algorithms are designed by pe...</td>\n",
       "      <td>NaN</td>\n",
       "      <td>{'user_mentions': [{'screen_name': 'ylecun', '...</td>\n",
       "      <td>&lt;a href=\"https://mobile.twitter.com\" rel=\"nofo...</td>\n",
       "      <td>2883830368</td>\n",
       "      <td>1</td>\n",
       "      <td>13</td>\n",
       "      <td>1203211859366576128</td>\n",
       "      <td>NaN</td>\n",
       "      <td>en</td>\n",
       "      <td>1203211859366576128</td>\n",
       "      <td>4.800894e+07</td>\n",
       "      <td>ylecun</td>\n",
       "      <td>NaN</td>\n",
       "      <td>NaN</td>\n",
       "      <td>NaN</td>\n",
       "      <td>NaN</td>\n",
       "      <td>NaN</td>\n",
       "    </tr>\n",
       "    <tr>\n",
       "      <th>3</th>\n",
       "      <td>2019-12-07 07:23:59+00:00</td>\n",
       "      <td>1203213550900170752</td>\n",
       "      <td>@ylecun But I just hope biased data will not b...</td>\n",
       "      <td>NaN</td>\n",
       "      <td>{'user_mentions': [{'screen_name': 'ylecun', '...</td>\n",
       "      <td>&lt;a href=\"http://twitter.com/download/android\" ...</td>\n",
       "      <td>1309820665</td>\n",
       "      <td>1</td>\n",
       "      <td>40</td>\n",
       "      <td>1203211859366576128</td>\n",
       "      <td>NaN</td>\n",
       "      <td>en</td>\n",
       "      <td>1203211859366576128</td>\n",
       "      <td>4.800894e+07</td>\n",
       "      <td>ylecun</td>\n",
       "      <td>NaN</td>\n",
       "      <td>NaN</td>\n",
       "      <td>NaN</td>\n",
       "      <td>NaN</td>\n",
       "      <td>NaN</td>\n",
       "    </tr>\n",
       "    <tr>\n",
       "      <th>4</th>\n",
       "      <td>2019-12-07 16:30:43+00:00</td>\n",
       "      <td>1203351140324110336</td>\n",
       "      <td>@FulvioFlamini @ylecun In the best scenarios, ...</td>\n",
       "      <td>1.0</td>\n",
       "      <td>{'user_mentions': [{'screen_name': 'FulvioFlam...</td>\n",
       "      <td>&lt;a href=\"http://twitter.com/download/iphone\" r...</td>\n",
       "      <td>1149835788</td>\n",
       "      <td>3</td>\n",
       "      <td>9</td>\n",
       "      <td>1203211859366576128</td>\n",
       "      <td>NaN</td>\n",
       "      <td>en</td>\n",
       "      <td>1203231861964771328</td>\n",
       "      <td>2.883830e+09</td>\n",
       "      <td>FulvioFlamini</td>\n",
       "      <td>NaN</td>\n",
       "      <td>NaN</td>\n",
       "      <td>NaN</td>\n",
       "      <td>NaN</td>\n",
       "      <td>NaN</td>\n",
       "    </tr>\n",
       "  </tbody>\n",
       "</table>\n",
       "</div>"
      ],
      "text/plain": [
       "                 created_at               id_str  \\\n",
       "0 2019-12-07 07:17:16+00:00  1203211859366576128   \n",
       "1 2019-12-07 14:01:40+00:00  1203313629082378240   \n",
       "2 2019-12-07 08:36:45+00:00  1203231861964771328   \n",
       "3 2019-12-07 07:23:59+00:00  1203213550900170752   \n",
       "4 2019-12-07 16:30:43+00:00  1203351140324110336   \n",
       "\n",
       "                                                text  truncated  \\\n",
       "0  People are biased.\\nData is biased, in part be...        1.0   \n",
       "1  @tunguz @ylecun This is an interesting read:\\n...        1.0   \n",
       "2  @ylecun Learning algorithms are designed by pe...        NaN   \n",
       "3  @ylecun But I just hope biased data will not b...        NaN   \n",
       "4  @FulvioFlamini @ylecun In the best scenarios, ...        1.0   \n",
       "\n",
       "                                            entities  \\\n",
       "0  {'urls': [{'url': 'https://t.co/tP2x8DD8Nr', '...   \n",
       "1  {'user_mentions': [{'screen_name': 'tunguz', '...   \n",
       "2  {'user_mentions': [{'screen_name': 'ylecun', '...   \n",
       "3  {'user_mentions': [{'screen_name': 'ylecun', '...   \n",
       "4  {'user_mentions': [{'screen_name': 'FulvioFlam...   \n",
       "\n",
       "                                              source  user_id_str  \\\n",
       "0  <a href=\"http://www.facebook.com/twitter\" rel=...     48008938   \n",
       "1  <a href=\"https://about.twitter.com/products/tw...     10756512   \n",
       "2  <a href=\"https://mobile.twitter.com\" rel=\"nofo...   2883830368   \n",
       "3  <a href=\"http://twitter.com/download/android\" ...   1309820665   \n",
       "4  <a href=\"http://twitter.com/download/iphone\" r...   1149835788   \n",
       "\n",
       "   retweet_count  favorite_count  conversation_id_str  \\\n",
       "0           1508            3674  1203211859366576128   \n",
       "1              3              52  1203211859366576128   \n",
       "2              1              13  1203211859366576128   \n",
       "3              1              40  1203211859366576128   \n",
       "4              3               9  1203211859366576128   \n",
       "\n",
       "   possibly_sensitive_editable lang in_reply_to_status_id_str  \\\n",
       "0                          1.0   en                       nan   \n",
       "1                          1.0   en       1203276649049001985   \n",
       "2                          NaN   en       1203211859366576128   \n",
       "3                          NaN   en       1203211859366576128   \n",
       "4                          NaN   en       1203231861964771328   \n",
       "\n",
       "   in_reply_to_user_id_str in_reply_to_screen_name place self_thread  \\\n",
       "0                      NaN                     NaN   NaN         NaN   \n",
       "1             2.351127e+07                  tunguz   NaN         NaN   \n",
       "2             4.800894e+07                  ylecun   NaN         NaN   \n",
       "3             4.800894e+07                  ylecun   NaN         NaN   \n",
       "4             2.883830e+09           FulvioFlamini   NaN         NaN   \n",
       "\n",
       "   is_quote_status  quoted_status_id_str extended_entities  \n",
       "0              NaN                   NaN               NaN  \n",
       "1              NaN                   NaN               NaN  \n",
       "2              NaN                   NaN               NaN  \n",
       "3              NaN                   NaN               NaN  \n",
       "4              NaN                   NaN               NaN  "
      ]
     },
     "execution_count": 4,
     "metadata": {},
     "output_type": "execute_result"
    }
   ],
   "source": [
    "sample= pd.read_json('/Users/shaimeital/code/thesis/cmv-stance-classification/data/Twitter Conversation/conv-1203211859366576128/tweets.jsonl',\n",
    "                     lines= True,\n",
    "                     dtype={'in_reply_to_status_id_str':str})\n",
    "sample.head()"
   ]
  },
  {
   "cell_type": "code",
   "execution_count": 5,
   "metadata": {},
   "outputs": [],
   "source": [
    "cols = ['created_at', 'id_str', 'text', 'user_id_str', 'conversation_id_str', 'in_reply_to_status_id_str', 'in_reply_to_screen_name']"
   ]
  },
  {
   "cell_type": "code",
   "execution_count": 6,
   "metadata": {},
   "outputs": [
    {
     "data": {
      "text/html": [
       "<div>\n",
       "<style scoped>\n",
       "    .dataframe tbody tr th:only-of-type {\n",
       "        vertical-align: middle;\n",
       "    }\n",
       "\n",
       "    .dataframe tbody tr th {\n",
       "        vertical-align: top;\n",
       "    }\n",
       "\n",
       "    .dataframe thead th {\n",
       "        text-align: right;\n",
       "    }\n",
       "</style>\n",
       "<table border=\"1\" class=\"dataframe\">\n",
       "  <thead>\n",
       "    <tr style=\"text-align: right;\">\n",
       "      <th></th>\n",
       "      <th>created_at</th>\n",
       "      <th>id_str</th>\n",
       "      <th>text</th>\n",
       "      <th>user_id_str</th>\n",
       "      <th>conversation_id_str</th>\n",
       "      <th>in_reply_to_status_id_str</th>\n",
       "      <th>in_reply_to_screen_name</th>\n",
       "    </tr>\n",
       "  </thead>\n",
       "  <tbody>\n",
       "    <tr>\n",
       "      <th>0</th>\n",
       "      <td>2019-12-07 07:17:16+00:00</td>\n",
       "      <td>1203211859366576128</td>\n",
       "      <td>People are biased.\\nData is biased, in part be...</td>\n",
       "      <td>48008938</td>\n",
       "      <td>1203211859366576128</td>\n",
       "      <td>nan</td>\n",
       "      <td>NaN</td>\n",
       "    </tr>\n",
       "    <tr>\n",
       "      <th>1</th>\n",
       "      <td>2019-12-07 14:01:40+00:00</td>\n",
       "      <td>1203313629082378240</td>\n",
       "      <td>@tunguz @ylecun This is an interesting read:\\n...</td>\n",
       "      <td>10756512</td>\n",
       "      <td>1203211859366576128</td>\n",
       "      <td>1203276649049001985</td>\n",
       "      <td>tunguz</td>\n",
       "    </tr>\n",
       "    <tr>\n",
       "      <th>2</th>\n",
       "      <td>2019-12-07 08:36:45+00:00</td>\n",
       "      <td>1203231861964771328</td>\n",
       "      <td>@ylecun Learning algorithms are designed by pe...</td>\n",
       "      <td>2883830368</td>\n",
       "      <td>1203211859366576128</td>\n",
       "      <td>1203211859366576128</td>\n",
       "      <td>ylecun</td>\n",
       "    </tr>\n",
       "    <tr>\n",
       "      <th>3</th>\n",
       "      <td>2019-12-07 07:23:59+00:00</td>\n",
       "      <td>1203213550900170752</td>\n",
       "      <td>@ylecun But I just hope biased data will not b...</td>\n",
       "      <td>1309820665</td>\n",
       "      <td>1203211859366576128</td>\n",
       "      <td>1203211859366576128</td>\n",
       "      <td>ylecun</td>\n",
       "    </tr>\n",
       "    <tr>\n",
       "      <th>4</th>\n",
       "      <td>2019-12-07 16:30:43+00:00</td>\n",
       "      <td>1203351140324110336</td>\n",
       "      <td>@FulvioFlamini @ylecun In the best scenarios, ...</td>\n",
       "      <td>1149835788</td>\n",
       "      <td>1203211859366576128</td>\n",
       "      <td>1203231861964771328</td>\n",
       "      <td>FulvioFlamini</td>\n",
       "    </tr>\n",
       "  </tbody>\n",
       "</table>\n",
       "</div>"
      ],
      "text/plain": [
       "                 created_at               id_str  \\\n",
       "0 2019-12-07 07:17:16+00:00  1203211859366576128   \n",
       "1 2019-12-07 14:01:40+00:00  1203313629082378240   \n",
       "2 2019-12-07 08:36:45+00:00  1203231861964771328   \n",
       "3 2019-12-07 07:23:59+00:00  1203213550900170752   \n",
       "4 2019-12-07 16:30:43+00:00  1203351140324110336   \n",
       "\n",
       "                                                text  user_id_str  \\\n",
       "0  People are biased.\\nData is biased, in part be...     48008938   \n",
       "1  @tunguz @ylecun This is an interesting read:\\n...     10756512   \n",
       "2  @ylecun Learning algorithms are designed by pe...   2883830368   \n",
       "3  @ylecun But I just hope biased data will not b...   1309820665   \n",
       "4  @FulvioFlamini @ylecun In the best scenarios, ...   1149835788   \n",
       "\n",
       "   conversation_id_str in_reply_to_status_id_str in_reply_to_screen_name  \n",
       "0  1203211859366576128                       nan                     NaN  \n",
       "1  1203211859366576128       1203276649049001985                  tunguz  \n",
       "2  1203211859366576128       1203211859366576128                  ylecun  \n",
       "3  1203211859366576128       1203211859366576128                  ylecun  \n",
       "4  1203211859366576128       1203231861964771328           FulvioFlamini  "
      ]
     },
     "execution_count": 6,
     "metadata": {},
     "output_type": "execute_result"
    }
   ],
   "source": [
    "sample = sample.filter(cols)\n",
    "sample.head()"
   ]
  },
  {
   "cell_type": "markdown",
   "metadata": {},
   "source": [
    "Make sure we have only one conversation in our data"
   ]
  },
  {
   "cell_type": "code",
   "execution_count": 7,
   "metadata": {},
   "outputs": [],
   "source": [
    "sample = sample.loc[sample.conversation_id_str == 1203211859366576128]"
   ]
  },
  {
   "cell_type": "code",
   "execution_count": 8,
   "metadata": {},
   "outputs": [],
   "source": [
    "sample = sample.loc[sample.id_str != 1203416002626805760]"
   ]
  },
  {
   "cell_type": "code",
   "execution_count": 13,
   "metadata": {},
   "outputs": [
    {
     "data": {
      "text/plain": [
       "created_at                   146\n",
       "id_str                       146\n",
       "text                         146\n",
       "user_id_str                  146\n",
       "conversation_id_str          146\n",
       "in_reply_to_status_id_str    146\n",
       "in_reply_to_screen_name      145\n",
       "dtype: int64"
      ]
     },
     "execution_count": 13,
     "metadata": {},
     "output_type": "execute_result"
    }
   ],
   "source": [
    "sample.count()"
   ]
  },
  {
   "cell_type": "markdown",
   "metadata": {},
   "source": [
    "Single conversation parsing"
   ]
  },
  {
   "cell_type": "code",
   "execution_count": 9,
   "metadata": {},
   "outputs": [],
   "source": [
    "class Twitterconversationreader(ConversationParser[pd.DataFrame, pd.Series]):\n",
    "\n",
    "    def __init__(self):\n",
    "        super().__init__()\n",
    "\n",
    "\n",
    "    def extract_node_data(self, raw_node: pd.Series) -> NodeData:\n",
    "        node_id = raw_node.id_str\n",
    "        author = raw_node.user_id_str\n",
    "        timestamp = raw_node.created_at\n",
    "        data = dict(raw_node)\n",
    "        parent_id = data.get('in_reply_to_status_id_str')\n",
    "        if parent_id == 'nan':\n",
    "            parent_id = None\n",
    "            print(node_id)\n",
    "            \n",
    "        return NodeData(node_id, author, timestamp, data, parent_id)\n",
    "        \n",
    "\n",
    "    def iter_raw_nodes(self, raw_conversation: pd.DataFrame) -> Iterable[pd.Series]:\n",
    "        for x in raw_conversation.iterrows():\n",
    "            yield x[1]"
   ]
  },
  {
   "cell_type": "code",
   "execution_count": 10,
   "metadata": {},
   "outputs": [],
   "source": [
    "twitter_reader = Twitterconversationreader()"
   ]
  },
  {
   "cell_type": "code",
   "execution_count": 11,
   "metadata": {},
   "outputs": [
    {
     "name": "stdout",
     "output_type": "stream",
     "text": [
      "1203211859366576128\n"
     ]
    }
   ],
   "source": [
    "conversation = twitter_reader.parse(sample)"
   ]
  },
  {
   "cell_type": "code",
   "execution_count": 12,
   "metadata": {},
   "outputs": [
    {
     "data": {
      "text/plain": [
       "[(0,\n",
       "  NodeData(node_id=1203211859366576128, author=48008938, timestamp=Timestamp('2019-12-07 07:17:16+0000', tz='UTC'), data={'created_at': Timestamp('2019-12-07 07:17:16+0000', tz='UTC'), 'id_str': 1203211859366576128, 'text': 'People are biased.\\nData is biased, in part because people are biased.\\nAlgorithms trained on biased data are biased.… https://t.co/tP2x8DD8Nr', 'user_id_str': 48008938, 'conversation_id_str': 1203211859366576128, 'in_reply_to_status_id_str': 'nan', 'in_reply_to_screen_name': nan}, parent_id=None))]"
      ]
     },
     "execution_count": 12,
     "metadata": {},
     "output_type": "execute_result"
    }
   ],
   "source": [
    "list(conversation.iter_conversation())"
   ]
  },
  {
   "cell_type": "code",
   "execution_count": null,
   "metadata": {},
   "outputs": [],
   "source": []
  },
  {
   "cell_type": "code",
   "execution_count": null,
   "metadata": {},
   "outputs": [],
   "source": []
  },
  {
   "cell_type": "code",
   "execution_count": null,
   "metadata": {},
   "outputs": [],
   "source": []
  },
  {
   "cell_type": "code",
   "execution_count": null,
   "metadata": {},
   "outputs": [],
   "source": []
  }
 ],
 "metadata": {
  "kernelspec": {
   "display_name": "Python 3.7.6 64-bit ('conversant': conda)",
   "language": "python",
   "name": "python37664bitconversantconda0c0241fc947e4c38a9b847e1d7a96ca7"
  },
  "language_info": {
   "codemirror_mode": {
    "name": "ipython",
    "version": 3
   },
   "file_extension": ".py",
   "mimetype": "text/x-python",
   "name": "python",
   "nbconvert_exporter": "python",
   "pygments_lexer": "ipython3",
   "version": "3.7.6"
  },
  "toc": {
   "base_numbering": 1,
   "nav_menu": {},
   "number_sections": true,
   "sideBar": true,
   "skip_h1_title": false,
   "title_cell": "Table of Contents",
   "title_sidebar": "Contents",
   "toc_cell": false,
   "toc_position": {
    "height": "calc(100% - 180px)",
    "left": "10px",
    "top": "150px",
    "width": "267.188px"
   },
   "toc_section_display": true,
   "toc_window_display": true
  }
 },
 "nbformat": 4,
 "nbformat_minor": 2
}
