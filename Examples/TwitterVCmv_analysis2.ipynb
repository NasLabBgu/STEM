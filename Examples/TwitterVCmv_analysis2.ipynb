{
 "cells": [
  {
   "cell_type": "markdown",
   "metadata": {},
   "source": [
    "<img src=\"https://i1.sndcdn.com/avatars-000274765548-vj7h0w-t500x500.jpg\" style='float:right; width:200px; margin: 0 20px;'>\n",
    "\n",
    "<img src=\"https://cdn2.iconfinder.com/data/icons/popular-social-media-flat/48/Popular_Social_Media-11-512.png\" style='float:right; width:200px; margin: 0 20px;'>\n",
    "\n",
    "\n",
    "# Twitter V CMV topological differences --> Twitter\n",
    "---\n",
    "\n",
    "> Create feature set for CMV and Twitter \n",
    "\n",
    "> Do comperative analysis of features"
   ]
  },
  {
   "cell_type": "code",
   "execution_count": null,
   "metadata": {},
   "outputs": [],
   "source": [
    "# env \n",
    "import sys\n",
    "sys.path.append('/Users/shaimeital/code/thesis/conversant')\n",
    "sys.path.append('/Users/shaimeital/code/thesis/cmv-stance-classification')\n"
   ]
  },
  {
   "cell_type": "code",
   "execution_count": 1,
   "outputs": [],
   "source": [
    "import pandas as pd\n",
    "import numpy as np\n",
    "import networkx as nx\n",
    "import glob\n",
    "import os\n",
    "\n",
    "import logging\n",
    "logging.basicConfig()\n",
    "logging.getLogger().setLevel(logging.INFO)"
   ],
   "metadata": {
    "collapsed": false,
    "pycharm": {
     "name": "#%%\n"
    }
   }
  },
  {
   "cell_type": "code",
   "execution_count": 2,
   "metadata": {},
   "outputs": [],
   "source": [
    "from conversant.conversation.examples.controversial_feature_extraction import *\n",
    "from conversant.conversation\\\n",
    "    .conversation_utils import conversation_to_dataframe\n",
    "from stance_classification.twitter_conversation_parser import TwitterConversationReader\n",
    "\n",
    "from stance_classification.classifiers.maxcut_stance_classifier import MaxcutStanceClassifier"
   ]
  },
  {
   "cell_type": "code",
   "execution_count": 3,
   "metadata": {},
   "outputs": [],
   "source": [
    "import seaborn as sns\n",
    "import matplotlib.pyplot as plt\n",
    "from tqdm.notebook import tqdm"
   ]
  },
  {
   "cell_type": "markdown",
   "metadata": {},
   "source": [
    "## Load Raw Data"
   ]
  },
  {
   "cell_type": "code",
   "execution_count": 4,
   "metadata": {},
   "outputs": [],
   "source": [
    "twitter_conversations_path = r\"C:\\Users\\ronp\\Documents\\stance-classification\\rumors_dataset\\PHEME_veracity\\full-conversations\"\n",
    "# twitter_conversations_path = \"/Users/shaimeital/code/thesis/cmv-stance-classification/data/Twitter Conversation/rumers/full-conversations\"\n",
    "twitter_conversation_ids = [file for file in os.listdir(twitter_conversations_path)]"
   ]
  },
  {
   "cell_type": "code",
   "execution_count": 5,
   "metadata": {},
   "outputs": [
    {
     "name": "stderr",
     "output_type": "stream",
     "text": [
      "INFO:numexpr.utils:NumExpr defaulting to 4 threads.\n"
     ]
    },
    {
     "data": {
      "text/plain": "                  created_at              id_str  \\\n0  2014-08-10 00:32:13+00:00  498265524397432832   \n1  2014-08-10 00:37:23+00:00  498266827676741632   \n2  2014-08-11 05:58:51+00:00  498710112358244352   \n3  2014-08-10 17:21:03+00:00  498519407375941632   \n4  2014-08-10 03:40:28+00:00  498312902928244736   \n5  2014-08-10 03:42:21+00:00  498313376888799232   \n6  2014-08-11 10:58:25+00:00  498785502062190592   \n7  2014-08-11 15:15:42+00:00  498850250048946176   \n8  2014-08-09 22:33:06+00:00  498235547685756928   \n9  2014-08-09 23:04:01+00:00  498243332204949504   \n10 2014-08-10 03:45:08+00:00  498314073873055744   \n11 2014-08-10 10:14:10+00:00  498411979091218432   \n\n                                            full_text display_text_range  \\\n0                  @annaxsweat http://t.co/Z7Qm4iaoSR            [0, 34]   \n1   @annaxsweat #StopThugCops We have to take acti...            [0, 81]   \n2                                     @annaxsweat 18*            [0, 15]   \n3   @annaxsweat: Soooo wonderfully said! Thank you...            [0, 73]   \n4        @annaxsweat well, he damn sure ain't a child            [0, 44]   \n5                          @HighPlainsCoot fuck. Off.            [0, 26]   \n6   @AlexisAStevens yeah that tweet was written be...           [0, 101]   \n7     @annaxsweat after several hours someone noticed            [0, 47]   \n8   Black teenage boys are not men. They are child...           [0, 128]   \n9   @annaxsweat @NeoSoulPol Same thing when #Trayv...           [0, 131]   \n10  @annaxsweat the response of a leftist toker. i...            [0, 80]   \n11  @annaxsweat such talk from a lady(?). senseles...            [0, 63]   \n\n                                             entities  \\\n0   {'user_mentions': [{'screen_name': 'annaxsweat...   \n1   {'hashtags': [{'text': 'StopThugCops', 'indice...   \n2   {'user_mentions': [{'screen_name': 'annaxsweat...   \n3   {'user_mentions': [{'screen_name': 'annaxsweat...   \n4   {'user_mentions': [{'screen_name': 'annaxsweat...   \n5                                                  {}   \n6                                                  {}   \n7   {'user_mentions': [{'screen_name': 'annaxsweat...   \n8   {'hashtags': [{'text': 'ferguson', 'indices': ...   \n9   {'hashtags': [{'text': 'Trayvon', 'indices': [...   \n10  {'user_mentions': [{'screen_name': 'annaxsweat...   \n11  {'user_mentions': [{'screen_name': 'annaxsweat...   \n\n                                    extended_entities  \\\n0   {'media': [{'id_str': '498265523889930242', 'i...   \n1                                                 NaN   \n2                                                 NaN   \n3                                                 NaN   \n4                                                 NaN   \n5                                                 NaN   \n6                                                 NaN   \n7                                                 NaN   \n8                                                 NaN   \n9                                                 NaN   \n10                                                NaN   \n11                                                NaN   \n\n                                               source  \\\n0   <a href=\"http://twitter.com/#!/download/ipad\" ...   \n1   <a href=\"http://twitter.com/#!/download/ipad\" ...   \n2   <a href=\"http://twitter.com\" rel=\"nofollow\">Tw...   \n3   <a href=\"http://twitter.com\" rel=\"nofollow\">Tw...   \n4   <a href=\"http://twitter.com\" rel=\"nofollow\">Tw...   \n5   <a href=\"http://twitter.com/download/iphone\" r...   \n6   <a href=\"http://twitter.com/download/iphone\" r...   \n7   <a href=\"http://www.tweetcaster.com\" rel=\"nofo...   \n8   <a href=\"http://twitter.com/#!/download/ipad\" ...   \n9   <a href=\"https://about.twitter.com/products/tw...   \n10  <a href=\"http://twitter.com\" rel=\"nofollow\">Tw...   \n11  <a href=\"http://twitter.com\" rel=\"nofollow\">Tw...   \n\n   in_reply_to_status_id_str  in_reply_to_user_id_str in_reply_to_screen_name  \\\n0         498235547685756928             1.539100e+09              annaxsweat   \n1         498235547685756928             1.539100e+09              annaxsweat   \n2         498235547685756928             1.539100e+09              annaxsweat   \n3         498235547685756928             1.539100e+09              annaxsweat   \n4         498235547685756928             1.539100e+09              annaxsweat   \n5         498312902928244736             2.437571e+09         HighPlainsRover   \n6         498710112358244352             4.815092e+08           AlexisAurora_   \n7         498235547685756928             1.539100e+09              annaxsweat   \n8                        nan                      NaN                     NaN   \n9         498235547685756928             1.539100e+09              annaxsweat   \n10        498313376888799232             1.539100e+09              annaxsweat   \n11        498313376888799232             1.539100e+09              annaxsweat   \n\n    user_id_str  retweet_count  favorite_count  reply_count  quote_count  \\\n0      21461995              2               1            0            0   \n1      21461995              4               2            0            0   \n2     481509183              0               0            1            0   \n3    2331498373              0               0            0            0   \n4    2437571275              0               1            1            0   \n5    1539100118              0               0            2            0   \n6    1539100118              0               0            0            0   \n7    2556027474              0               0            0            0   \n8    1539100118            177             100            9            0   \n9     587926686              1               0            0            0   \n10   2437571275              0               0            0            0   \n11   2437571275              0               0            0            0   \n\n   conversation_id_str  possibly_sensitive_editable lang  \n0   498235547685756928                          1.0  und  \n1   498235547685756928                          NaN   en  \n2   498235547685756928                          NaN  und  \n3   498235547685756928                          NaN   en  \n4   498235547685756928                          NaN   en  \n5   498235547685756928                          NaN   en  \n6   498235547685756928                          NaN   en  \n7   498235547685756928                          NaN   en  \n8   498235547685756928                          NaN   en  \n9   498235547685756928                          NaN   en  \n10  498235547685756928                          NaN   en  \n11  498235547685756928                          NaN   en  ",
      "text/html": "<div>\n<style scoped>\n    .dataframe tbody tr th:only-of-type {\n        vertical-align: middle;\n    }\n\n    .dataframe tbody tr th {\n        vertical-align: top;\n    }\n\n    .dataframe thead th {\n        text-align: right;\n    }\n</style>\n<table border=\"1\" class=\"dataframe\">\n  <thead>\n    <tr style=\"text-align: right;\">\n      <th></th>\n      <th>created_at</th>\n      <th>id_str</th>\n      <th>full_text</th>\n      <th>display_text_range</th>\n      <th>entities</th>\n      <th>extended_entities</th>\n      <th>source</th>\n      <th>in_reply_to_status_id_str</th>\n      <th>in_reply_to_user_id_str</th>\n      <th>in_reply_to_screen_name</th>\n      <th>user_id_str</th>\n      <th>retweet_count</th>\n      <th>favorite_count</th>\n      <th>reply_count</th>\n      <th>quote_count</th>\n      <th>conversation_id_str</th>\n      <th>possibly_sensitive_editable</th>\n      <th>lang</th>\n    </tr>\n  </thead>\n  <tbody>\n    <tr>\n      <th>0</th>\n      <td>2014-08-10 00:32:13+00:00</td>\n      <td>498265524397432832</td>\n      <td>@annaxsweat http://t.co/Z7Qm4iaoSR</td>\n      <td>[0, 34]</td>\n      <td>{'user_mentions': [{'screen_name': 'annaxsweat...</td>\n      <td>{'media': [{'id_str': '498265523889930242', 'i...</td>\n      <td>&lt;a href=\"http://twitter.com/#!/download/ipad\" ...</td>\n      <td>498235547685756928</td>\n      <td>1.539100e+09</td>\n      <td>annaxsweat</td>\n      <td>21461995</td>\n      <td>2</td>\n      <td>1</td>\n      <td>0</td>\n      <td>0</td>\n      <td>498235547685756928</td>\n      <td>1.0</td>\n      <td>und</td>\n    </tr>\n    <tr>\n      <th>1</th>\n      <td>2014-08-10 00:37:23+00:00</td>\n      <td>498266827676741632</td>\n      <td>@annaxsweat #StopThugCops We have to take acti...</td>\n      <td>[0, 81]</td>\n      <td>{'hashtags': [{'text': 'StopThugCops', 'indice...</td>\n      <td>NaN</td>\n      <td>&lt;a href=\"http://twitter.com/#!/download/ipad\" ...</td>\n      <td>498235547685756928</td>\n      <td>1.539100e+09</td>\n      <td>annaxsweat</td>\n      <td>21461995</td>\n      <td>4</td>\n      <td>2</td>\n      <td>0</td>\n      <td>0</td>\n      <td>498235547685756928</td>\n      <td>NaN</td>\n      <td>en</td>\n    </tr>\n    <tr>\n      <th>2</th>\n      <td>2014-08-11 05:58:51+00:00</td>\n      <td>498710112358244352</td>\n      <td>@annaxsweat 18*</td>\n      <td>[0, 15]</td>\n      <td>{'user_mentions': [{'screen_name': 'annaxsweat...</td>\n      <td>NaN</td>\n      <td>&lt;a href=\"http://twitter.com\" rel=\"nofollow\"&gt;Tw...</td>\n      <td>498235547685756928</td>\n      <td>1.539100e+09</td>\n      <td>annaxsweat</td>\n      <td>481509183</td>\n      <td>0</td>\n      <td>0</td>\n      <td>1</td>\n      <td>0</td>\n      <td>498235547685756928</td>\n      <td>NaN</td>\n      <td>und</td>\n    </tr>\n    <tr>\n      <th>3</th>\n      <td>2014-08-10 17:21:03+00:00</td>\n      <td>498519407375941632</td>\n      <td>@annaxsweat: Soooo wonderfully said! Thank you...</td>\n      <td>[0, 73]</td>\n      <td>{'user_mentions': [{'screen_name': 'annaxsweat...</td>\n      <td>NaN</td>\n      <td>&lt;a href=\"http://twitter.com\" rel=\"nofollow\"&gt;Tw...</td>\n      <td>498235547685756928</td>\n      <td>1.539100e+09</td>\n      <td>annaxsweat</td>\n      <td>2331498373</td>\n      <td>0</td>\n      <td>0</td>\n      <td>0</td>\n      <td>0</td>\n      <td>498235547685756928</td>\n      <td>NaN</td>\n      <td>en</td>\n    </tr>\n    <tr>\n      <th>4</th>\n      <td>2014-08-10 03:40:28+00:00</td>\n      <td>498312902928244736</td>\n      <td>@annaxsweat well, he damn sure ain't a child</td>\n      <td>[0, 44]</td>\n      <td>{'user_mentions': [{'screen_name': 'annaxsweat...</td>\n      <td>NaN</td>\n      <td>&lt;a href=\"http://twitter.com\" rel=\"nofollow\"&gt;Tw...</td>\n      <td>498235547685756928</td>\n      <td>1.539100e+09</td>\n      <td>annaxsweat</td>\n      <td>2437571275</td>\n      <td>0</td>\n      <td>1</td>\n      <td>1</td>\n      <td>0</td>\n      <td>498235547685756928</td>\n      <td>NaN</td>\n      <td>en</td>\n    </tr>\n    <tr>\n      <th>5</th>\n      <td>2014-08-10 03:42:21+00:00</td>\n      <td>498313376888799232</td>\n      <td>@HighPlainsCoot fuck. Off.</td>\n      <td>[0, 26]</td>\n      <td>{}</td>\n      <td>NaN</td>\n      <td>&lt;a href=\"http://twitter.com/download/iphone\" r...</td>\n      <td>498312902928244736</td>\n      <td>2.437571e+09</td>\n      <td>HighPlainsRover</td>\n      <td>1539100118</td>\n      <td>0</td>\n      <td>0</td>\n      <td>2</td>\n      <td>0</td>\n      <td>498235547685756928</td>\n      <td>NaN</td>\n      <td>en</td>\n    </tr>\n    <tr>\n      <th>6</th>\n      <td>2014-08-11 10:58:25+00:00</td>\n      <td>498785502062190592</td>\n      <td>@AlexisAStevens yeah that tweet was written be...</td>\n      <td>[0, 101]</td>\n      <td>{}</td>\n      <td>NaN</td>\n      <td>&lt;a href=\"http://twitter.com/download/iphone\" r...</td>\n      <td>498710112358244352</td>\n      <td>4.815092e+08</td>\n      <td>AlexisAurora_</td>\n      <td>1539100118</td>\n      <td>0</td>\n      <td>0</td>\n      <td>0</td>\n      <td>0</td>\n      <td>498235547685756928</td>\n      <td>NaN</td>\n      <td>en</td>\n    </tr>\n    <tr>\n      <th>7</th>\n      <td>2014-08-11 15:15:42+00:00</td>\n      <td>498850250048946176</td>\n      <td>@annaxsweat after several hours someone noticed</td>\n      <td>[0, 47]</td>\n      <td>{'user_mentions': [{'screen_name': 'annaxsweat...</td>\n      <td>NaN</td>\n      <td>&lt;a href=\"http://www.tweetcaster.com\" rel=\"nofo...</td>\n      <td>498235547685756928</td>\n      <td>1.539100e+09</td>\n      <td>annaxsweat</td>\n      <td>2556027474</td>\n      <td>0</td>\n      <td>0</td>\n      <td>0</td>\n      <td>0</td>\n      <td>498235547685756928</td>\n      <td>NaN</td>\n      <td>en</td>\n    </tr>\n    <tr>\n      <th>8</th>\n      <td>2014-08-09 22:33:06+00:00</td>\n      <td>498235547685756928</td>\n      <td>Black teenage boys are not men. They are child...</td>\n      <td>[0, 128]</td>\n      <td>{'hashtags': [{'text': 'ferguson', 'indices': ...</td>\n      <td>NaN</td>\n      <td>&lt;a href=\"http://twitter.com/#!/download/ipad\" ...</td>\n      <td>nan</td>\n      <td>NaN</td>\n      <td>NaN</td>\n      <td>1539100118</td>\n      <td>177</td>\n      <td>100</td>\n      <td>9</td>\n      <td>0</td>\n      <td>498235547685756928</td>\n      <td>NaN</td>\n      <td>en</td>\n    </tr>\n    <tr>\n      <th>9</th>\n      <td>2014-08-09 23:04:01+00:00</td>\n      <td>498243332204949504</td>\n      <td>@annaxsweat @NeoSoulPol Same thing when #Trayv...</td>\n      <td>[0, 131]</td>\n      <td>{'hashtags': [{'text': 'Trayvon', 'indices': [...</td>\n      <td>NaN</td>\n      <td>&lt;a href=\"https://about.twitter.com/products/tw...</td>\n      <td>498235547685756928</td>\n      <td>1.539100e+09</td>\n      <td>annaxsweat</td>\n      <td>587926686</td>\n      <td>1</td>\n      <td>0</td>\n      <td>0</td>\n      <td>0</td>\n      <td>498235547685756928</td>\n      <td>NaN</td>\n      <td>en</td>\n    </tr>\n    <tr>\n      <th>10</th>\n      <td>2014-08-10 03:45:08+00:00</td>\n      <td>498314073873055744</td>\n      <td>@annaxsweat the response of a leftist toker. i...</td>\n      <td>[0, 80]</td>\n      <td>{'user_mentions': [{'screen_name': 'annaxsweat...</td>\n      <td>NaN</td>\n      <td>&lt;a href=\"http://twitter.com\" rel=\"nofollow\"&gt;Tw...</td>\n      <td>498313376888799232</td>\n      <td>1.539100e+09</td>\n      <td>annaxsweat</td>\n      <td>2437571275</td>\n      <td>0</td>\n      <td>0</td>\n      <td>0</td>\n      <td>0</td>\n      <td>498235547685756928</td>\n      <td>NaN</td>\n      <td>en</td>\n    </tr>\n    <tr>\n      <th>11</th>\n      <td>2014-08-10 10:14:10+00:00</td>\n      <td>498411979091218432</td>\n      <td>@annaxsweat such talk from a lady(?). senseles...</td>\n      <td>[0, 63]</td>\n      <td>{'user_mentions': [{'screen_name': 'annaxsweat...</td>\n      <td>NaN</td>\n      <td>&lt;a href=\"http://twitter.com\" rel=\"nofollow\"&gt;Tw...</td>\n      <td>498313376888799232</td>\n      <td>1.539100e+09</td>\n      <td>annaxsweat</td>\n      <td>2437571275</td>\n      <td>0</td>\n      <td>0</td>\n      <td>0</td>\n      <td>0</td>\n      <td>498235547685756928</td>\n      <td>NaN</td>\n      <td>en</td>\n    </tr>\n  </tbody>\n</table>\n</div>"
     },
     "execution_count": 5,
     "metadata": {},
     "output_type": "execute_result"
    }
   ],
   "source": [
    "# one example\n",
    "conv_id = \"498235547685756928\"\n",
    "conversation_path = os.path.join(twitter_conversations_path, conv_id, \"tweets.jsonl\")\n",
    "sample = pd.read_json(conversation_path,\n",
    "                     lines= True,\n",
    "                     dtype={'in_reply_to_status_id_str':str, 'conversation_id_str': str, 'full_text':str, 'id_str':str})\n",
    "sample"
   ]
  },
  {
   "cell_type": "code",
   "execution_count": 6,
   "outputs": [
    {
     "data": {
      "text/plain": "HBox(children=(FloatProgress(value=0.0, max=10.0), HTML(value='')))",
      "application/vnd.jupyter.widget-view+json": {
       "version_major": 2,
       "version_minor": 0,
       "model_id": "d9d5668bb055418d86325bb684601b47"
      }
     },
     "metadata": {},
     "output_type": "display_data"
    },
    {
     "name": "stdout",
     "output_type": "stream",
     "text": [
      "\n"
     ]
    },
    {
     "data": {
      "text/plain": "'total number of loaded raw conversations:10\\nnumber of conversations that failed to load: 0'"
     },
     "execution_count": 6,
     "metadata": {},
     "output_type": "execute_result"
    }
   ],
   "source": [
    "twitter_conversations = []\n",
    "errors = 0\n",
    "for conv_id in tqdm(twitter_conversation_ids[:10]):\n",
    "    conversation_path = os.path.join(twitter_conversations_path, conv_id, \"tweets.jsonl\")\n",
    "    try:\n",
    "        current= pd.read_json(conversation_path,\n",
    "                         lines= True,\n",
    "                         dtype={'in_reply_to_status_id_str':str, 'conversation_id_str': str, 'full_text':str, 'id_str':str})\n",
    "        twitter_conversations.append(current)\n",
    "    except:\n",
    "        errors+=1\n",
    "        pass\n",
    "\n",
    "f\"total number of loaded raw conversations:{len(twitter_conversations)}\" \\\n",
    "f\"\\nnumber of conversations that failed to load: {errors}\""
   ],
   "metadata": {
    "collapsed": false,
    "pycharm": {
     "name": "#%%\n"
    }
   }
  },
  {
   "cell_type": "markdown",
   "metadata": {},
   "source": [
    "## Transform to Conversation object and to feature set"
   ]
  },
  {
   "cell_type": "code",
   "execution_count": 7,
   "metadata": {},
   "outputs": [],
   "source": [
    "twitter_reader = TwitterConversationReader(merge_sequential=True)"
   ]
  },
  {
   "cell_type": "code",
   "source": [
    "index = 0\n",
    "conv_df = twitter_conversations[index]\n",
    "conv_df[\"in_reply_to_status_id_str\"].loc[conv_df[\"in_reply_to_status_id_str\"] == \"nan\"] = None\n",
    "conv = twitter_reader.parse(conv_df, root_id=twitter_conversation_ids[index])\n",
    "conv"
   ],
   "metadata": {
    "collapsed": false,
    "pycharm": {
     "name": "#%%\n"
    }
   },
   "execution_count": 8,
   "outputs": [
    {
     "name": "stderr",
     "output_type": "stream",
     "text": [
      "c:\\users\\ronp\\py37-dasci\\lib\\site-packages\\pandas\\core\\indexing.py:670: SettingWithCopyWarning: \n",
      "A value is trying to be set on a copy of a slice from a DataFrame\n",
      "\n",
      "See the caveats in the documentation: https://pandas.pydata.org/pandas-docs/stable/user_guide/indexing.html#returning-a-view-versus-a-copy\n",
      "  iloc._setitem_with_indexer(indexer, value)\n"
     ]
    },
    {
     "data": {
      "text/plain": "1539100118 - 498235547685756928\n├── 21461995 - 498265524397432832\n├── 481509183 - 498710112358244352\n│   └── 1539100118 - 498785502062190592\n├── 2331498373 - 498519407375941632\n├── 2437571275 - 498312902928244736\n│   └── 1539100118 - 498313376888799232\n│       └── 2437571275 - 498314073873055744\n├── 2556027474 - 498850250048946176\n└── 587926686 - 498243332204949504"
     },
     "execution_count": 8,
     "metadata": {},
     "output_type": "execute_result"
    }
   ]
  },
  {
   "cell_type": "code",
   "execution_count": 9,
   "metadata": {},
   "outputs": [
    {
     "data": {
      "text/plain": "HBox(children=(FloatProgress(value=0.0, max=10.0), HTML(value='')))",
      "application/vnd.jupyter.widget-view+json": {
       "version_major": 2,
       "version_minor": 0,
       "model_id": "d0d4f989c9274ebbb307a1f3cac11c1f"
      }
     },
     "metadata": {},
     "output_type": "display_data"
    },
    {
     "name": "stdout",
     "output_type": "stream",
     "text": [
      "\n"
     ]
    },
    {
     "data": {
      "text/plain": "'total number of conversations:10\\nnumber of bad conversations: 0'"
     },
     "execution_count": 9,
     "metadata": {},
     "output_type": "execute_result"
    }
   ],
   "source": [
    "conversations = []\n",
    "bad = 0\n",
    "for i, conv in enumerate(tqdm(twitter_conversations)):\n",
    "    if \"in_reply_to_status_id_str\" not in conv:\n",
    "        bad += 1\n",
    "        continue\n",
    "\n",
    "    conv_id = twitter_conversation_ids[i]\n",
    "    conv[\"in_reply_to_status_id_str\"].loc[conv[\"in_reply_to_status_id_str\"] == \"nan\"] = None\n",
    "    conversation = twitter_reader.parse(conv, root_id=conv_id)\n",
    "    conversations.append(conversation)\n",
    "\n",
    "f\"total number of conversations:{len(conversations)}\" \\\n",
    "f\"\\nnumber of bad conversations: {bad}\""
   ]
  },
  {
   "cell_type": "code",
   "execution_count": null,
   "metadata": {},
   "outputs": [],
   "source": [
    "# sub_convs = (Conversation(child) for conv in conversations for child in conv.root.children)\n",
    "#sub_convs = filter(lambda c: c.size >= 5, sub_convs)\n",
    "#features = map(get_features, sub_convs)"
   ]
  },
  {
   "cell_type": "code",
   "execution_count": null,
   "metadata": {},
   "outputs": [],
   "source": [
    "#data_with_root = pd.concat(conversation_to_dataframe(conv) for conv in sub_convs)"
   ]
  },
  {
   "cell_type": "code",
   "execution_count": null,
   "metadata": {},
   "outputs": [],
   "source": [
    "convs = pd.concat(conversation_to_dataframe(conv) for conv in conversations)\n",
    "convs"
   ]
  },
  {
   "cell_type": "code",
   "execution_count": null,
   "metadata": {},
   "outputs": [],
   "source": [
    "convs\n"
   ]
  },
  {
   "cell_type": "markdown",
   "metadata": {},
   "source": [
    "## EDA"
   ]
  },
  {
   "cell_type": "markdown",
   "metadata": {},
   "source": [
    "### Mean branch participation for user in CMV\n",
    "remove op and show that most users in a conversation only participaten in one branch"
   ]
  },
  {
   "cell_type": "code",
   "execution_count": null,
   "metadata": {},
   "outputs": [],
   "source": [
    "roots = convs.loc[convs.is_root == True][['author', 'full_conv_id']]\n",
    "roots"
   ]
  },
  {
   "cell_type": "code",
   "execution_count": null,
   "metadata": {},
   "outputs": [],
   "source": [
    "def conversattion_to_dataframe_filter_root(conv):\n",
    "    conv = conversation_to_dataframe(conv)\n",
    "    full_conv_id = conv.full_conv_id[:1].values[0]\n",
    "    root_author_name = roots.loc[roots.full_conv_id == full_conv_id].author.values[0]\n",
    "    return conv.loc[conv.author != root_author_name]"
   ]
  },
  {
   "cell_type": "code",
   "execution_count": null,
   "metadata": {},
   "outputs": [],
   "source": [
    "# data = pd.concat(conversattion_to_dataframe_filter_root(conv) for conv in sub_convs)"
   ]
  },
  {
   "cell_type": "code",
   "execution_count": null,
   "metadata": {},
   "outputs": [],
   "source": [
    "data = convs"
   ]
  },
  {
   "cell_type": "code",
   "execution_count": null,
   "metadata": {},
   "outputs": [],
   "source": [
    "user_participation=pd.DataFrame(data.groupby(['author', 'conversation_id']).timestamp.count())\\\n",
    "                    .rename({'timestamp': '#participation'}, axis=1)\n",
    "user_participation.head()"
   ]
  },
  {
   "cell_type": "code",
   "execution_count": null,
   "metadata": {},
   "outputs": [],
   "source": [
    "mean_branch_participation = pd.DataFrame(user_participation.groupby('author')['#participation'].mean()).\\\n",
    "                            rename({'#participation': 'mean_branch_participation'}, axis=1)\n",
    "mean_branch_participation.head()"
   ]
  },
  {
   "cell_type": "code",
   "execution_count": null,
   "metadata": {},
   "outputs": [],
   "source": [
    "bins = [0,1,2,3,4,5,6,7,8,9,72]"
   ]
  },
  {
   "cell_type": "code",
   "execution_count": null,
   "metadata": {},
   "outputs": [],
   "source": [
    "mean_branch_participation['mean_par_bin'] = pd.cut(mean_branch_participation.mean_branch_participation, bins=bins)"
   ]
  },
  {
   "cell_type": "code",
   "execution_count": null,
   "metadata": {},
   "outputs": [],
   "source": [
    "mean_branch_participation"
   ]
  },
  {
   "cell_type": "code",
   "execution_count": null,
   "metadata": {},
   "outputs": [],
   "source": [
    "mean_branch_participation.describe()"
   ]
  },
  {
   "cell_type": "code",
   "execution_count": null,
   "metadata": {},
   "outputs": [],
   "source": [
    "bin_participation = mean_branch_participation.groupby('mean_par_bin').count()\n",
    "bin_participation"
   ]
  },
  {
   "cell_type": "code",
   "execution_count": null,
   "metadata": {},
   "outputs": [],
   "source": [
    "bin_participation = bin_participation.reset_index()\n",
    "bin_participation"
   ]
  },
  {
   "cell_type": "code",
   "execution_count": null,
   "metadata": {},
   "outputs": [],
   "source": [
    "bin_participation.mean_branch_participation.sum()"
   ]
  },
  {
   "cell_type": "code",
   "execution_count": null,
   "metadata": {},
   "outputs": [],
   "source": [
    "percen = bin_participation.mean_branch_participation.apply(lambda x: x / 37264)"
   ]
  },
  {
   "cell_type": "code",
   "execution_count": null,
   "metadata": {},
   "outputs": [],
   "source": [
    "bin_participation = bin_participation.assign(perc = percen)\n",
    "bin_participation"
   ]
  },
  {
   "cell_type": "code",
   "execution_count": null,
   "metadata": {},
   "outputs": [],
   "source": [
    "_, ax = plt.subplots(figsize=(14,6))\n",
    "sns.set_style(\"whitegrid\")\n",
    "ax = sns.barplot(data=bin_participation, x = 'mean_par_bin', y= 'perc', palette=\"deep\")\n",
    "plt.ylabel('percentage of twitter users')\n",
    "plt.xlabel('mean participation bin')"
   ]
  },
  {
   "cell_type": "markdown",
   "metadata": {},
   "source": [
    "## Some Feature Extraction"
   ]
  },
  {
   "cell_type": "code",
   "execution_count": null,
   "metadata": {},
   "outputs": [],
   "source": [
    "# example of one branch \n",
    "conv = data.loc[data.conversation_id == 'dq95b41']\n",
    "conv"
   ]
  },
  {
   "cell_type": "code",
   "execution_count": null,
   "metadata": {},
   "outputs": [],
   "source": [
    "def count_op_involvment(subconv:pd.DataFrame, roots:pd.DataFrame) -> float:\n",
    "    \"\"\"\n",
    "    counts the proportion of posts from the full conversation author in the subconversation\n",
    "    \"\"\"\n",
    "    full_conversation_id = subconv.sample(1).full_conv_id.values[0]\n",
    "    op = roots.loc[roots.full_conv_id == full_conversation_id].author.values[0]\n",
    "    return len(subconv.loc[subconv.author == op]) / len(subconv)"
   ]
  },
  {
   "cell_type": "code",
   "execution_count": null,
   "metadata": {},
   "outputs": [],
   "source": [
    "count_op_involvment(conv, roots)"
   ]
  },
  {
   "cell_type": "code",
   "execution_count": null,
   "metadata": {},
   "outputs": [],
   "source": [
    "# max branch depth \n",
    "def max_branch_depth(conv:pd.DataFrame) -> int:\n",
    "    return conv.depth.max()"
   ]
  },
  {
   "cell_type": "code",
   "execution_count": null,
   "metadata": {},
   "outputs": [],
   "source": [
    "max_branch_depth(conv)"
   ]
  },
  {
   "cell_type": "code",
   "execution_count": null,
   "metadata": {},
   "outputs": [],
   "source": [
    "# apply two features to all of the sub-conversations \n",
    "op_involvment = data.groupby('conversation_id').apply(lambda x: count_op_involvment(x, roots))"
   ]
  },
  {
   "cell_type": "code",
   "execution_count": null,
   "metadata": {},
   "outputs": [],
   "source": [
    "op_involvment.value_counts()"
   ]
  },
  {
   "cell_type": "code",
   "execution_count": null,
   "metadata": {},
   "outputs": [],
   "source": [
    "op_involvment_ = pd.DataFrame(op_involvment).rename({0:'op_involvment'}, axis=1)\n",
    "op_involvment_"
   ]
  },
  {
   "cell_type": "code",
   "execution_count": null,
   "metadata": {},
   "outputs": [],
   "source": [
    "feature_set = data.merge(op_involvment_, how='left', on = 'conversation_id')"
   ]
  },
  {
   "cell_type": "markdown",
   "metadata": {},
   "source": [
    "## Running MAXCUT"
   ]
  },
  {
   "cell_type": "code",
   "execution_count": null,
   "metadata": {},
   "outputs": [],
   "source": [
    "rumers_author_stance = []\n",
    "for conversation in conversations:\n",
    "    reply_interactions_parser = get_reply_interactions_parser()\n",
    "    interaction_graph = reply_interactions_parser.parse(conversation)\n",
    "    interaction_graph.get_core_interactions(inplace=True)\n",
    "    interaction_graph.set_interaction_weights(lambda x: x['replies'])\n",
    "    maxcut = MaxcutStanceClassifier()\n",
    "    maxcut.set_input(interaction_graph.graph)\n",
    "    op = conversation.root.author\n",
    "    maxcut.classify_stance(op)\n",
    "    for supporter in maxcut.supporters:\n",
    "        row = {'conversation_id': conversation.id,\n",
    "               'op': conversation.op,\n",
    "               'author': supporter,\n",
    "               'stance': 'supporter'}\n",
    "        rumers_author_stance.append(row)\n",
    "    for opposer in maxcut.complement:\n",
    "        row = {'conversation_id': conversation.id,\n",
    "               'op': conversation.op,\n",
    "               'author': supporter,\n",
    "               'stance': 'opposer'}\n",
    "        rumers_author_stance.append(row)"
   ]
  },
  {
   "cell_type": "code",
   "execution_count": null,
   "metadata": {},
   "outputs": [],
   "source": [
    "len(rumers_author_stance)"
   ]
  },
  {
   "cell_type": "code",
   "execution_count": null,
   "metadata": {},
   "outputs": [],
   "source": [
    "user_stance_rumors = pd.DataFrame(rumers_author_stance)\n",
    "user_stance_rumors"
   ]
  },
  {
   "cell_type": "code",
   "execution_count": null,
   "metadata": {},
   "outputs": [],
   "source": [
    "user_stance_rumors.dtypes"
   ]
  },
  {
   "cell_type": "code",
   "execution_count": null,
   "metadata": {},
   "outputs": [],
   "source": [
    "user_stance_rumors.conversation_id.nunique()"
   ]
  },
  {
   "cell_type": "markdown",
   "metadata": {},
   "source": [
    "## Gold Standard"
   ]
  },
  {
   "cell_type": "code",
   "execution_count": null,
   "metadata": {},
   "outputs": [],
   "source": [
    "path = r\"C:\\Users\\ronp\\Documents\\stance-classification\\rumors_dataset\\pheme-rumour-scheme-dataset\\annotations\\en-scheme-annotations.json\"\n",
    "# path = \"/Users/shaimeital/code/thesis/cmv-stance-classification/Examples/en-scheme-annotations_clean.jsonl\"\n",
    "rumors_gold_label = pd.read_json(path, lines = True)\n",
    "rumors_gold_label\n"
   ]
  },
  {
   "cell_type": "code",
   "execution_count": null,
   "metadata": {},
   "outputs": [],
   "source": [
    "rumors_gold_label['responsetype-vs-source'].value_counts()"
   ]
  },
  {
   "cell_type": "code",
   "execution_count": null,
   "metadata": {},
   "outputs": [],
   "source": [
    "rumors_gold_label = rumors_gold_label.filter(['threadid', 'tweetid', 'responsetype-vs-source'], axis=1).rename({'responsetype-vs-source': 'label'}, axis=1)\n",
    "rumors_gold_label"
   ]
  },
  {
   "cell_type": "code",
   "execution_count": null,
   "metadata": {},
   "outputs": [],
   "source": [
    "rumors_gold_label.threadid = rumors_gold_label.threadid.astype('str') "
   ]
  },
  {
   "cell_type": "code",
   "execution_count": null,
   "metadata": {},
   "outputs": [],
   "source": [
    "rumors_gold_label.tweetid = rumors_gold_label.tweetid.astype('str') "
   ]
  },
  {
   "cell_type": "code",
   "execution_count": null,
   "metadata": {},
   "outputs": [],
   "source": [
    "rumors_gold_label.dtypes"
   ]
  },
  {
   "cell_type": "code",
   "execution_count": null,
   "metadata": {},
   "outputs": [],
   "source": [
    "convs_a = convs_.filter(['threadid', 'tweetid', 'author'], axis=1)\n",
    "convs_a"
   ]
  },
  {
   "cell_type": "code",
   "execution_count": null,
   "metadata": {},
   "outputs": [],
   "source": [
    "convs_a.dtypes"
   ]
  },
  {
   "cell_type": "code",
   "execution_count": null,
   "metadata": {},
   "outputs": [],
   "source": [
    "rumors_gold_label_ = rumors_gold_label.merge(convs_a, how = 'left', on=['threadid', 'tweetid'])\n",
    "rumors_gold_label_"
   ]
  },
  {
   "cell_type": "code",
   "execution_count": null,
   "metadata": {},
   "outputs": [],
   "source": [
    "rumors_gold_label_.author.isna().sum()"
   ]
  },
  {
   "cell_type": "code",
   "execution_count": null,
   "metadata": {},
   "outputs": [],
   "source": [
    "rumors_gold_label_nona = rumors_gold_label_.dropna()\n",
    "rumors_gold_label_nona"
   ]
  },
  {
   "cell_type": "code",
   "execution_count": null,
   "metadata": {},
   "outputs": [],
   "source": [
    "user_stance_rumors = user_stance_rumors.rename({'conversation_id': 'threadid', 'stance':'stance_prediction'}, axis=1)\n",
    "user_stance_rumors"
   ]
  },
  {
   "cell_type": "code",
   "execution_count": null,
   "metadata": {},
   "outputs": [],
   "source": [
    "predictions = user_stance_rumors.merge(rumors_gold_label_nona, how='left', on = ['threadid', 'author'])\n",
    "predictions"
   ]
  },
  {
   "cell_type": "code",
   "execution_count": null,
   "metadata": {},
   "outputs": [],
   "source": [
    "predictions_ = predictions.dropna()\n",
    "predictions_"
   ]
  },
  {
   "cell_type": "code",
   "execution_count": null,
   "metadata": {},
   "outputs": [],
   "source": [
    "predictions_.loc[(predictions_.stance_prediction == 'supporter') & (predictions_.label == 'agreed') ]"
   ]
  },
  {
   "cell_type": "code",
   "execution_count": null,
   "metadata": {},
   "outputs": [],
   "source": [
    "predictions_.loc[(predictions_.stance_prediction == 'opposer') & (predictions_.label == 'disagreed') ]"
   ]
  },
  {
   "cell_type": "code",
   "execution_count": null,
   "metadata": {},
   "outputs": [],
   "source": [
    "predictions_.loc[(predictions_.stance_prediction == 'supporter') & (predictions_.label == 'disagreed') ]"
   ]
  },
  {
   "cell_type": "code",
   "execution_count": null,
   "metadata": {},
   "outputs": [],
   "source": [
    "predictions_.loc[(predictions_.stance_prediction == 'opposer') & (predictions_.label == 'agreed') ]"
   ]
  },
  {
   "cell_type": "markdown",
   "metadata": {},
   "source": [
    "## Extra for TSNE + PCA"
   ]
  },
  {
   "cell_type": "code",
   "execution_count": null,
   "metadata": {},
   "outputs": [],
   "source": [
    "# data = pd.DataFrame.from_records(features, index=\"conv_id\")\n",
    "# print(data.head())"
   ]
  },
  {
   "cell_type": "code",
   "execution_count": null,
   "metadata": {},
   "outputs": [],
   "source": [
    "data_ = data.loc[data.num_nodes > 10]"
   ]
  },
  {
   "cell_type": "code",
   "execution_count": null,
   "metadata": {},
   "outputs": [],
   "source": [
    "data_.count()"
   ]
  },
  {
   "cell_type": "code",
   "execution_count": null,
   "metadata": {},
   "outputs": [],
   "source": [
    "data_"
   ]
  },
  {
   "cell_type": "code",
   "execution_count": null,
   "metadata": {},
   "outputs": [],
   "source": [
    "data_.describe()"
   ]
  },
  {
   "cell_type": "code",
   "execution_count": null,
   "metadata": {},
   "outputs": [],
   "source": [
    "data_ = data_.fillna(0)"
   ]
  },
  {
   "cell_type": "code",
   "execution_count": null,
   "metadata": {},
   "outputs": [],
   "source": [
    "from sklearn.manifold import TSNE\n",
    "from sklearn.preprocessing import StandardScaler\n"
   ]
  },
  {
   "cell_type": "code",
   "execution_count": null,
   "metadata": {},
   "outputs": [],
   "source": [
    "standardized_data = StandardScaler().fit_transform(data_)\n",
    "print(standardized_data.shape)"
   ]
  },
  {
   "cell_type": "code",
   "execution_count": null,
   "metadata": {},
   "outputs": [],
   "source": [
    "model = TSNE(n_components=2, random_state=0)"
   ]
  },
  {
   "cell_type": "code",
   "execution_count": null,
   "metadata": {},
   "outputs": [],
   "source": [
    "tsne_data = model.fit_transform(standardized_data)"
   ]
  },
  {
   "cell_type": "code",
   "execution_count": null,
   "metadata": {},
   "outputs": [],
   "source": [
    "tsne_df = pd.DataFrame(data=tsne_data, columns=(\"Dim_1\", \"Dim_2\"))"
   ]
  },
  {
   "cell_type": "code",
   "execution_count": null,
   "metadata": {},
   "outputs": [],
   "source": [
    "import seaborn as sns\n",
    "import matplotlib.pyplot as plt"
   ]
  },
  {
   "cell_type": "code",
   "execution_count": null,
   "metadata": {},
   "outputs": [],
   "source": [
    "sns.FacetGrid(tsne_df, height=9).map(plt.scatter, 'Dim_1', 'Dim_2').add_legend()\n",
    "plt.show()"
   ]
  },
  {
   "cell_type": "code",
   "execution_count": null,
   "metadata": {},
   "outputs": [],
   "source": [
    "from sklearn.cluster import DBSCAN\n"
   ]
  },
  {
   "cell_type": "code",
   "execution_count": null,
   "metadata": {},
   "outputs": [],
   "source": [
    "m = DBSCAN()\n"
   ]
  },
  {
   "cell_type": "code",
   "execution_count": null,
   "metadata": {},
   "outputs": [],
   "source": [
    "m.fit(standardized_data)"
   ]
  },
  {
   "cell_type": "code",
   "execution_count": null,
   "metadata": {},
   "outputs": [],
   "source": [
    "clusters = m.labels_"
   ]
  },
  {
   "cell_type": "code",
   "execution_count": null,
   "metadata": {},
   "outputs": [],
   "source": [
    "pd.Series(clusters).value_counts()"
   ]
  },
  {
   "cell_type": "code",
   "execution_count": null,
   "metadata": {},
   "outputs": [],
   "source": [
    "# pca\n",
    "\n",
    "from sklearn.decomposition import PCA\n"
   ]
  },
  {
   "cell_type": "code",
   "execution_count": null,
   "metadata": {},
   "outputs": [],
   "source": [
    "pca = PCA(n_components=2)\n"
   ]
  },
  {
   "cell_type": "code",
   "execution_count": null,
   "metadata": {},
   "outputs": [],
   "source": [
    "principalComponents = pca.fit_transform(standardized_data)"
   ]
  },
  {
   "cell_type": "code",
   "execution_count": null,
   "metadata": {},
   "outputs": [],
   "source": [
    "principalDf = pd.DataFrame(data = principalComponents\n",
    "             , columns = ['principal component 1', 'principal component 2'])"
   ]
  },
  {
   "cell_type": "code",
   "execution_count": null,
   "metadata": {},
   "outputs": [],
   "source": [
    "sns.FacetGrid(principalDf, height=6).map(plt.scatter, 'principal component 1', 'principal component 2').add_legend()\n",
    "plt.show()"
   ]
  },
  {
   "cell_type": "code",
   "execution_count": null,
   "metadata": {},
   "outputs": [],
   "source": []
  },
  {
   "cell_type": "code",
   "execution_count": null,
   "metadata": {},
   "outputs": [],
   "source": []
  },
  {
   "cell_type": "code",
   "execution_count": null,
   "metadata": {},
   "outputs": [],
   "source": []
  },
  {
   "cell_type": "code",
   "execution_count": null,
   "metadata": {},
   "outputs": [],
   "source": []
  },
  {
   "cell_type": "code",
   "execution_count": null,
   "metadata": {},
   "outputs": [],
   "source": []
  }
 ],
 "metadata": {
  "kernelspec": {
   "name": "python3",
   "language": "python",
   "display_name": "Python 3"
  },
  "language_info": {
   "codemirror_mode": {
    "name": "ipython",
    "version": 3
   },
   "file_extension": ".py",
   "mimetype": "text/x-python",
   "name": "python",
   "nbconvert_exporter": "python",
   "pygments_lexer": "ipython3",
   "version": "3.7.6"
  },
  "toc": {
   "base_numbering": 1,
   "nav_menu": {},
   "number_sections": true,
   "sideBar": true,
   "skip_h1_title": false,
   "title_cell": "Table of Contents",
   "title_sidebar": "Contents",
   "toc_cell": false,
   "toc_position": {},
   "toc_section_display": true,
   "toc_window_display": true
  }
 },
 "nbformat": 4,
 "nbformat_minor": 2
}