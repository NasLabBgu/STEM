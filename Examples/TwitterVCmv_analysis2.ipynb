{
 "cells": [
  {
   "cell_type": "markdown",
   "metadata": {},
   "source": [
    "<img src=\"https://i1.sndcdn.com/avatars-000274765548-vj7h0w-t500x500.jpg\" style='float:right; width:200px; margin: 0 20px;'>\n",
    "\n",
    "<img src=\"https://cdn2.iconfinder.com/data/icons/popular-social-media-flat/48/Popular_Social_Media-11-512.png\" style='float:right; width:200px; margin: 0 20px;'>\n",
    "\n",
    "\n",
    "# Twitter V CMV topological differences --> Twitter\n",
    "---\n",
    "\n",
    "> Create feature set for CMV and Twitter \n",
    "\n",
    "> Do comperative analysis of features"
   ]
  },
  {
   "cell_type": "code",
   "execution_count": null,
   "metadata": {},
   "outputs": [],
   "source": [
    "# env \n",
    "import sys\n",
    "sys.path.append('/Users/shaimeital/code/thesis/conversant')\n",
    "sys.path.append('/Users/shaimeital/code/thesis/cmv-stance-classification')\n"
   ]
  },
  {
   "cell_type": "code",
   "execution_count": 66,
   "outputs": [],
   "source": [
    "from typing import Iterable, List, Sequence, Set\n",
    "import json\n",
    "\n",
    "import pandas as pd\n",
    "import numpy as np\n",
    "import networkx as nx\n",
    "import glob\n",
    "import os\n",
    "\n",
    "import logging\n",
    "logging.basicConfig()\n",
    "logging.getLogger().setLevel(logging.INFO)"
   ],
   "metadata": {
    "collapsed": false,
    "pycharm": {
     "name": "#%%\n"
    }
   }
  },
  {
   "cell_type": "code",
   "execution_count": 2,
   "metadata": {},
   "outputs": [],
   "source": [
    "from conversant.conversation.examples.controversial_feature_extraction import *\n",
    "from conversant.conversation\\\n",
    "    .conversation_utils import conversation_to_dataframe\n",
    "from stance_classification.twitter_conversation_parser import TwitterConversationReader\n",
    "\n",
    "from stance_classification.classifiers.maxcut_stance_classifier import MaxcutStanceClassifier"
   ]
  },
  {
   "cell_type": "code",
   "execution_count": 3,
   "metadata": {},
   "outputs": [],
   "source": [
    "import seaborn as sns\n",
    "import matplotlib.pyplot as plt\n",
    "from tqdm.notebook import tqdm"
   ]
  },
  {
   "cell_type": "markdown",
   "metadata": {},
   "source": [
    "## Load Raw Data"
   ]
  },
  {
   "cell_type": "code",
   "execution_count": 4,
   "metadata": {},
   "outputs": [],
   "source": [
    "twitter_conversations_path = r\"C:\\Users\\ronp\\Documents\\stance-classification\\rumors_dataset\\PHEME_veracity\\full-conversations\"\n",
    "# twitter_conversations_path = \"/Users/shaimeital/code/thesis/cmv-stance-classification/data/Twitter Conversation/rumers/full-conversations\"\n",
    "twitter_conversation_ids = [file for file in os.listdir(twitter_conversations_path)]"
   ]
  },
  {
   "cell_type": "code",
   "execution_count": 5,
   "metadata": {},
   "outputs": [
    {
     "name": "stderr",
     "output_type": "stream",
     "text": [
      "INFO:numexpr.utils:NumExpr defaulting to 4 threads.\n"
     ]
    },
    {
     "data": {
      "text/plain": "                  created_at              id_str  \\\n0  2014-08-10 00:32:13+00:00  498265524397432832   \n1  2014-08-10 00:37:23+00:00  498266827676741632   \n2  2014-08-11 05:58:51+00:00  498710112358244352   \n3  2014-08-10 17:21:03+00:00  498519407375941632   \n4  2014-08-10 03:40:28+00:00  498312902928244736   \n5  2014-08-10 03:42:21+00:00  498313376888799232   \n6  2014-08-11 10:58:25+00:00  498785502062190592   \n7  2014-08-11 15:15:42+00:00  498850250048946176   \n8  2014-08-09 22:33:06+00:00  498235547685756928   \n9  2014-08-09 23:04:01+00:00  498243332204949504   \n10 2014-08-10 03:45:08+00:00  498314073873055744   \n11 2014-08-10 10:14:10+00:00  498411979091218432   \n\n                                            full_text display_text_range  \\\n0                  @annaxsweat http://t.co/Z7Qm4iaoSR            [0, 34]   \n1   @annaxsweat #StopThugCops We have to take acti...            [0, 81]   \n2                                     @annaxsweat 18*            [0, 15]   \n3   @annaxsweat: Soooo wonderfully said! Thank you...            [0, 73]   \n4        @annaxsweat well, he damn sure ain't a child            [0, 44]   \n5                          @HighPlainsCoot fuck. Off.            [0, 26]   \n6   @AlexisAStevens yeah that tweet was written be...           [0, 101]   \n7     @annaxsweat after several hours someone noticed            [0, 47]   \n8   Black teenage boys are not men. They are child...           [0, 128]   \n9   @annaxsweat @NeoSoulPol Same thing when #Trayv...           [0, 131]   \n10  @annaxsweat the response of a leftist toker. i...            [0, 80]   \n11  @annaxsweat such talk from a lady(?). senseles...            [0, 63]   \n\n                                             entities  \\\n0   {'user_mentions': [{'screen_name': 'annaxsweat...   \n1   {'hashtags': [{'text': 'StopThugCops', 'indice...   \n2   {'user_mentions': [{'screen_name': 'annaxsweat...   \n3   {'user_mentions': [{'screen_name': 'annaxsweat...   \n4   {'user_mentions': [{'screen_name': 'annaxsweat...   \n5                                                  {}   \n6                                                  {}   \n7   {'user_mentions': [{'screen_name': 'annaxsweat...   \n8   {'hashtags': [{'text': 'ferguson', 'indices': ...   \n9   {'hashtags': [{'text': 'Trayvon', 'indices': [...   \n10  {'user_mentions': [{'screen_name': 'annaxsweat...   \n11  {'user_mentions': [{'screen_name': 'annaxsweat...   \n\n                                    extended_entities  \\\n0   {'media': [{'id_str': '498265523889930242', 'i...   \n1                                                 NaN   \n2                                                 NaN   \n3                                                 NaN   \n4                                                 NaN   \n5                                                 NaN   \n6                                                 NaN   \n7                                                 NaN   \n8                                                 NaN   \n9                                                 NaN   \n10                                                NaN   \n11                                                NaN   \n\n                                               source  \\\n0   <a href=\"http://twitter.com/#!/download/ipad\" ...   \n1   <a href=\"http://twitter.com/#!/download/ipad\" ...   \n2   <a href=\"http://twitter.com\" rel=\"nofollow\">Tw...   \n3   <a href=\"http://twitter.com\" rel=\"nofollow\">Tw...   \n4   <a href=\"http://twitter.com\" rel=\"nofollow\">Tw...   \n5   <a href=\"http://twitter.com/download/iphone\" r...   \n6   <a href=\"http://twitter.com/download/iphone\" r...   \n7   <a href=\"http://www.tweetcaster.com\" rel=\"nofo...   \n8   <a href=\"http://twitter.com/#!/download/ipad\" ...   \n9   <a href=\"https://about.twitter.com/products/tw...   \n10  <a href=\"http://twitter.com\" rel=\"nofollow\">Tw...   \n11  <a href=\"http://twitter.com\" rel=\"nofollow\">Tw...   \n\n   in_reply_to_status_id_str  in_reply_to_user_id_str in_reply_to_screen_name  \\\n0         498235547685756928             1.539100e+09              annaxsweat   \n1         498235547685756928             1.539100e+09              annaxsweat   \n2         498235547685756928             1.539100e+09              annaxsweat   \n3         498235547685756928             1.539100e+09              annaxsweat   \n4         498235547685756928             1.539100e+09              annaxsweat   \n5         498312902928244736             2.437571e+09         HighPlainsRover   \n6         498710112358244352             4.815092e+08           AlexisAurora_   \n7         498235547685756928             1.539100e+09              annaxsweat   \n8                        nan                      NaN                     NaN   \n9         498235547685756928             1.539100e+09              annaxsweat   \n10        498313376888799232             1.539100e+09              annaxsweat   \n11        498313376888799232             1.539100e+09              annaxsweat   \n\n    user_id_str  retweet_count  favorite_count  reply_count  quote_count  \\\n0      21461995              2               1            0            0   \n1      21461995              4               2            0            0   \n2     481509183              0               0            1            0   \n3    2331498373              0               0            0            0   \n4    2437571275              0               1            1            0   \n5    1539100118              0               0            2            0   \n6    1539100118              0               0            0            0   \n7    2556027474              0               0            0            0   \n8    1539100118            177             100            9            0   \n9     587926686              1               0            0            0   \n10   2437571275              0               0            0            0   \n11   2437571275              0               0            0            0   \n\n   conversation_id_str  possibly_sensitive_editable lang  \n0   498235547685756928                          1.0  und  \n1   498235547685756928                          NaN   en  \n2   498235547685756928                          NaN  und  \n3   498235547685756928                          NaN   en  \n4   498235547685756928                          NaN   en  \n5   498235547685756928                          NaN   en  \n6   498235547685756928                          NaN   en  \n7   498235547685756928                          NaN   en  \n8   498235547685756928                          NaN   en  \n9   498235547685756928                          NaN   en  \n10  498235547685756928                          NaN   en  \n11  498235547685756928                          NaN   en  ",
      "text/html": "<div>\n<style scoped>\n    .dataframe tbody tr th:only-of-type {\n        vertical-align: middle;\n    }\n\n    .dataframe tbody tr th {\n        vertical-align: top;\n    }\n\n    .dataframe thead th {\n        text-align: right;\n    }\n</style>\n<table border=\"1\" class=\"dataframe\">\n  <thead>\n    <tr style=\"text-align: right;\">\n      <th></th>\n      <th>created_at</th>\n      <th>id_str</th>\n      <th>full_text</th>\n      <th>display_text_range</th>\n      <th>entities</th>\n      <th>extended_entities</th>\n      <th>source</th>\n      <th>in_reply_to_status_id_str</th>\n      <th>in_reply_to_user_id_str</th>\n      <th>in_reply_to_screen_name</th>\n      <th>user_id_str</th>\n      <th>retweet_count</th>\n      <th>favorite_count</th>\n      <th>reply_count</th>\n      <th>quote_count</th>\n      <th>conversation_id_str</th>\n      <th>possibly_sensitive_editable</th>\n      <th>lang</th>\n    </tr>\n  </thead>\n  <tbody>\n    <tr>\n      <th>0</th>\n      <td>2014-08-10 00:32:13+00:00</td>\n      <td>498265524397432832</td>\n      <td>@annaxsweat http://t.co/Z7Qm4iaoSR</td>\n      <td>[0, 34]</td>\n      <td>{'user_mentions': [{'screen_name': 'annaxsweat...</td>\n      <td>{'media': [{'id_str': '498265523889930242', 'i...</td>\n      <td>&lt;a href=\"http://twitter.com/#!/download/ipad\" ...</td>\n      <td>498235547685756928</td>\n      <td>1.539100e+09</td>\n      <td>annaxsweat</td>\n      <td>21461995</td>\n      <td>2</td>\n      <td>1</td>\n      <td>0</td>\n      <td>0</td>\n      <td>498235547685756928</td>\n      <td>1.0</td>\n      <td>und</td>\n    </tr>\n    <tr>\n      <th>1</th>\n      <td>2014-08-10 00:37:23+00:00</td>\n      <td>498266827676741632</td>\n      <td>@annaxsweat #StopThugCops We have to take acti...</td>\n      <td>[0, 81]</td>\n      <td>{'hashtags': [{'text': 'StopThugCops', 'indice...</td>\n      <td>NaN</td>\n      <td>&lt;a href=\"http://twitter.com/#!/download/ipad\" ...</td>\n      <td>498235547685756928</td>\n      <td>1.539100e+09</td>\n      <td>annaxsweat</td>\n      <td>21461995</td>\n      <td>4</td>\n      <td>2</td>\n      <td>0</td>\n      <td>0</td>\n      <td>498235547685756928</td>\n      <td>NaN</td>\n      <td>en</td>\n    </tr>\n    <tr>\n      <th>2</th>\n      <td>2014-08-11 05:58:51+00:00</td>\n      <td>498710112358244352</td>\n      <td>@annaxsweat 18*</td>\n      <td>[0, 15]</td>\n      <td>{'user_mentions': [{'screen_name': 'annaxsweat...</td>\n      <td>NaN</td>\n      <td>&lt;a href=\"http://twitter.com\" rel=\"nofollow\"&gt;Tw...</td>\n      <td>498235547685756928</td>\n      <td>1.539100e+09</td>\n      <td>annaxsweat</td>\n      <td>481509183</td>\n      <td>0</td>\n      <td>0</td>\n      <td>1</td>\n      <td>0</td>\n      <td>498235547685756928</td>\n      <td>NaN</td>\n      <td>und</td>\n    </tr>\n    <tr>\n      <th>3</th>\n      <td>2014-08-10 17:21:03+00:00</td>\n      <td>498519407375941632</td>\n      <td>@annaxsweat: Soooo wonderfully said! Thank you...</td>\n      <td>[0, 73]</td>\n      <td>{'user_mentions': [{'screen_name': 'annaxsweat...</td>\n      <td>NaN</td>\n      <td>&lt;a href=\"http://twitter.com\" rel=\"nofollow\"&gt;Tw...</td>\n      <td>498235547685756928</td>\n      <td>1.539100e+09</td>\n      <td>annaxsweat</td>\n      <td>2331498373</td>\n      <td>0</td>\n      <td>0</td>\n      <td>0</td>\n      <td>0</td>\n      <td>498235547685756928</td>\n      <td>NaN</td>\n      <td>en</td>\n    </tr>\n    <tr>\n      <th>4</th>\n      <td>2014-08-10 03:40:28+00:00</td>\n      <td>498312902928244736</td>\n      <td>@annaxsweat well, he damn sure ain't a child</td>\n      <td>[0, 44]</td>\n      <td>{'user_mentions': [{'screen_name': 'annaxsweat...</td>\n      <td>NaN</td>\n      <td>&lt;a href=\"http://twitter.com\" rel=\"nofollow\"&gt;Tw...</td>\n      <td>498235547685756928</td>\n      <td>1.539100e+09</td>\n      <td>annaxsweat</td>\n      <td>2437571275</td>\n      <td>0</td>\n      <td>1</td>\n      <td>1</td>\n      <td>0</td>\n      <td>498235547685756928</td>\n      <td>NaN</td>\n      <td>en</td>\n    </tr>\n    <tr>\n      <th>5</th>\n      <td>2014-08-10 03:42:21+00:00</td>\n      <td>498313376888799232</td>\n      <td>@HighPlainsCoot fuck. Off.</td>\n      <td>[0, 26]</td>\n      <td>{}</td>\n      <td>NaN</td>\n      <td>&lt;a href=\"http://twitter.com/download/iphone\" r...</td>\n      <td>498312902928244736</td>\n      <td>2.437571e+09</td>\n      <td>HighPlainsRover</td>\n      <td>1539100118</td>\n      <td>0</td>\n      <td>0</td>\n      <td>2</td>\n      <td>0</td>\n      <td>498235547685756928</td>\n      <td>NaN</td>\n      <td>en</td>\n    </tr>\n    <tr>\n      <th>6</th>\n      <td>2014-08-11 10:58:25+00:00</td>\n      <td>498785502062190592</td>\n      <td>@AlexisAStevens yeah that tweet was written be...</td>\n      <td>[0, 101]</td>\n      <td>{}</td>\n      <td>NaN</td>\n      <td>&lt;a href=\"http://twitter.com/download/iphone\" r...</td>\n      <td>498710112358244352</td>\n      <td>4.815092e+08</td>\n      <td>AlexisAurora_</td>\n      <td>1539100118</td>\n      <td>0</td>\n      <td>0</td>\n      <td>0</td>\n      <td>0</td>\n      <td>498235547685756928</td>\n      <td>NaN</td>\n      <td>en</td>\n    </tr>\n    <tr>\n      <th>7</th>\n      <td>2014-08-11 15:15:42+00:00</td>\n      <td>498850250048946176</td>\n      <td>@annaxsweat after several hours someone noticed</td>\n      <td>[0, 47]</td>\n      <td>{'user_mentions': [{'screen_name': 'annaxsweat...</td>\n      <td>NaN</td>\n      <td>&lt;a href=\"http://www.tweetcaster.com\" rel=\"nofo...</td>\n      <td>498235547685756928</td>\n      <td>1.539100e+09</td>\n      <td>annaxsweat</td>\n      <td>2556027474</td>\n      <td>0</td>\n      <td>0</td>\n      <td>0</td>\n      <td>0</td>\n      <td>498235547685756928</td>\n      <td>NaN</td>\n      <td>en</td>\n    </tr>\n    <tr>\n      <th>8</th>\n      <td>2014-08-09 22:33:06+00:00</td>\n      <td>498235547685756928</td>\n      <td>Black teenage boys are not men. They are child...</td>\n      <td>[0, 128]</td>\n      <td>{'hashtags': [{'text': 'ferguson', 'indices': ...</td>\n      <td>NaN</td>\n      <td>&lt;a href=\"http://twitter.com/#!/download/ipad\" ...</td>\n      <td>nan</td>\n      <td>NaN</td>\n      <td>NaN</td>\n      <td>1539100118</td>\n      <td>177</td>\n      <td>100</td>\n      <td>9</td>\n      <td>0</td>\n      <td>498235547685756928</td>\n      <td>NaN</td>\n      <td>en</td>\n    </tr>\n    <tr>\n      <th>9</th>\n      <td>2014-08-09 23:04:01+00:00</td>\n      <td>498243332204949504</td>\n      <td>@annaxsweat @NeoSoulPol Same thing when #Trayv...</td>\n      <td>[0, 131]</td>\n      <td>{'hashtags': [{'text': 'Trayvon', 'indices': [...</td>\n      <td>NaN</td>\n      <td>&lt;a href=\"https://about.twitter.com/products/tw...</td>\n      <td>498235547685756928</td>\n      <td>1.539100e+09</td>\n      <td>annaxsweat</td>\n      <td>587926686</td>\n      <td>1</td>\n      <td>0</td>\n      <td>0</td>\n      <td>0</td>\n      <td>498235547685756928</td>\n      <td>NaN</td>\n      <td>en</td>\n    </tr>\n    <tr>\n      <th>10</th>\n      <td>2014-08-10 03:45:08+00:00</td>\n      <td>498314073873055744</td>\n      <td>@annaxsweat the response of a leftist toker. i...</td>\n      <td>[0, 80]</td>\n      <td>{'user_mentions': [{'screen_name': 'annaxsweat...</td>\n      <td>NaN</td>\n      <td>&lt;a href=\"http://twitter.com\" rel=\"nofollow\"&gt;Tw...</td>\n      <td>498313376888799232</td>\n      <td>1.539100e+09</td>\n      <td>annaxsweat</td>\n      <td>2437571275</td>\n      <td>0</td>\n      <td>0</td>\n      <td>0</td>\n      <td>0</td>\n      <td>498235547685756928</td>\n      <td>NaN</td>\n      <td>en</td>\n    </tr>\n    <tr>\n      <th>11</th>\n      <td>2014-08-10 10:14:10+00:00</td>\n      <td>498411979091218432</td>\n      <td>@annaxsweat such talk from a lady(?). senseles...</td>\n      <td>[0, 63]</td>\n      <td>{'user_mentions': [{'screen_name': 'annaxsweat...</td>\n      <td>NaN</td>\n      <td>&lt;a href=\"http://twitter.com\" rel=\"nofollow\"&gt;Tw...</td>\n      <td>498313376888799232</td>\n      <td>1.539100e+09</td>\n      <td>annaxsweat</td>\n      <td>2437571275</td>\n      <td>0</td>\n      <td>0</td>\n      <td>0</td>\n      <td>0</td>\n      <td>498235547685756928</td>\n      <td>NaN</td>\n      <td>en</td>\n    </tr>\n  </tbody>\n</table>\n</div>"
     },
     "execution_count": 5,
     "metadata": {},
     "output_type": "execute_result"
    }
   ],
   "source": [
    "# one example\n",
    "conv_id = \"498235547685756928\"\n",
    "conversation_path = os.path.join(twitter_conversations_path, conv_id, \"tweets.jsonl\")\n",
    "sample = pd.read_json(conversation_path,\n",
    "                     lines= True,\n",
    "                     dtype={'in_reply_to_status_id_str':str, 'conversation_id_str': str, 'full_text':str, 'id_str':str})\n",
    "sample"
   ]
  },
  {
   "cell_type": "code",
   "execution_count": 6,
   "outputs": [
    {
     "data": {
      "text/plain": "HBox(children=(FloatProgress(value=0.0, max=6424.0), HTML(value='')))",
      "application/vnd.jupyter.widget-view+json": {
       "version_major": 2,
       "version_minor": 0,
       "model_id": "f9d80ebd201e4632bef407741ddefc34"
      }
     },
     "metadata": {},
     "output_type": "display_data"
    },
    {
     "name": "stdout",
     "output_type": "stream",
     "text": [
      "\n"
     ]
    },
    {
     "data": {
      "text/plain": "'total number of loaded raw conversations:6424\\nnumber of conversations that failed to load: 0'"
     },
     "execution_count": 6,
     "metadata": {},
     "output_type": "execute_result"
    }
   ],
   "source": [
    "twitter_conversations = []\n",
    "errors = 0\n",
    "for conv_id in tqdm(twitter_conversation_ids):\n",
    "    conversation_path = os.path.join(twitter_conversations_path, conv_id, \"tweets.jsonl\")\n",
    "    try:\n",
    "        current= pd.read_json(conversation_path,\n",
    "                         lines= True,\n",
    "                         dtype={'in_reply_to_status_id_str':str, 'conversation_id_str': str, 'full_text':str, 'id_str':str})\n",
    "        twitter_conversations.append(current)\n",
    "    except:\n",
    "        errors+=1\n",
    "        pass\n",
    "\n",
    "f\"total number of loaded raw conversations:{len(twitter_conversations)}\" \\\n",
    "f\"\\nnumber of conversations that failed to load: {errors}\""
   ],
   "metadata": {
    "collapsed": false,
    "pycharm": {
     "name": "#%%\n"
    }
   }
  },
  {
   "cell_type": "markdown",
   "metadata": {},
   "source": [
    "## Transform to Conversation object and to feature set"
   ]
  },
  {
   "cell_type": "code",
   "execution_count": 7,
   "metadata": {},
   "outputs": [],
   "source": [
    "twitter_reader = TwitterConversationReader(merge_sequential=True)"
   ]
  },
  {
   "cell_type": "code",
   "source": [
    "index = 0\n",
    "conv_df = twitter_conversations[index]\n",
    "conv_df[\"in_reply_to_status_id_str\"].loc[conv_df[\"in_reply_to_status_id_str\"] == \"nan\"] = None\n",
    "conv = twitter_reader.parse(conv_df, root_id=twitter_conversation_ids[index])\n",
    "conv"
   ],
   "metadata": {
    "collapsed": false,
    "pycharm": {
     "name": "#%%\n"
    }
   },
   "execution_count": 8,
   "outputs": [
    {
     "name": "stderr",
     "output_type": "stream",
     "text": [
      "c:\\users\\ronp\\py37-dasci\\lib\\site-packages\\pandas\\core\\indexing.py:670: SettingWithCopyWarning: \n",
      "A value is trying to be set on a copy of a slice from a DataFrame\n",
      "\n",
      "See the caveats in the documentation: https://pandas.pydata.org/pandas-docs/stable/user_guide/indexing.html#returning-a-view-versus-a-copy\n",
      "  iloc._setitem_with_indexer(indexer, value)\n"
     ]
    },
    {
     "data": {
      "text/plain": "1539100118 - 498235547685756928\n├── 21461995 - 498265524397432832\n├── 481509183 - 498710112358244352\n│   └── 1539100118 - 498785502062190592\n├── 2331498373 - 498519407375941632\n├── 2437571275 - 498312902928244736\n│   └── 1539100118 - 498313376888799232\n│       └── 2437571275 - 498314073873055744\n├── 2556027474 - 498850250048946176\n└── 587926686 - 498243332204949504"
     },
     "execution_count": 8,
     "metadata": {},
     "output_type": "execute_result"
    }
   ]
  },
  {
   "cell_type": "code",
   "execution_count": 9,
   "metadata": {},
   "outputs": [
    {
     "data": {
      "text/plain": "HBox(children=(FloatProgress(value=0.0, max=6424.0), HTML(value='')))",
      "application/vnd.jupyter.widget-view+json": {
       "version_major": 2,
       "version_minor": 0,
       "model_id": "a532be5f5e644049bbc09be1ecb76679"
      }
     },
     "metadata": {},
     "output_type": "display_data"
    },
    {
     "name": "stdout",
     "output_type": "stream",
     "text": [
      "\n"
     ]
    },
    {
     "data": {
      "text/plain": "'total number of conversations:4874\\nnumber of bad conversations: 1550'"
     },
     "execution_count": 9,
     "metadata": {},
     "output_type": "execute_result"
    }
   ],
   "source": [
    "conversations = []\n",
    "bad = 0\n",
    "for i, conv in enumerate(tqdm(twitter_conversations)):\n",
    "    if \"in_reply_to_status_id_str\" not in conv:\n",
    "        bad += 1\n",
    "        continue\n",
    "\n",
    "    conv_id = twitter_conversation_ids[i]\n",
    "    conv[\"in_reply_to_status_id_str\"].loc[conv[\"in_reply_to_status_id_str\"] == \"nan\"] = None\n",
    "    conversation = twitter_reader.parse(conv, root_id=conv_id)\n",
    "    conversations.append(conversation)\n",
    "\n",
    "f\"total number of conversations:{len(conversations)}\" \\\n",
    "f\"\\nnumber of bad conversations: {bad}\""
   ]
  },
  {
   "cell_type": "code",
   "execution_count": 10,
   "metadata": {},
   "outputs": [],
   "source": [
    "# sub_convs = (Conversation(child) for conv in conversations for child in conv.root.children)\n",
    "#sub_convs = filter(lambda c: c.size >= 5, sub_convs)\n",
    "#features = map(get_features, sub_convs)"
   ]
  },
  {
   "cell_type": "code",
   "execution_count": 11,
   "metadata": {},
   "outputs": [],
   "source": [
    "#data_with_root = pd.concat(conversation_to_dataframe(conv) for conv in sub_convs)"
   ]
  },
  {
   "cell_type": "code",
   "execution_count": 12,
   "metadata": {},
   "outputs": [
    {
     "data": {
      "text/plain": "                        author           parent_id  depth  is_root  \\\nnode_id                                                              \n498235547685756928  1539100118                None      0     True   \n498265524397432832    21461995  498235547685756928      1    False   \n498710112358244352   481509183  498235547685756928      1    False   \n498785502062190592  1539100118  498710112358244352      2    False   \n498519407375941632  2331498373  498235547685756928      1    False   \n...                        ...                 ...    ...      ...   \n581473907275915264  1895019528  581473088249958400      1    False   \n581474582302949376  2983617889  581473088249958400      1    False   \n581473799398359040  2920578401  581473088249958400      1    False   \n581482916645076993   373569258  581473088249958400      1    False   \n581478014531203072   403864026  581473088249958400      1    False   \n\n                    is_absolute_root  is_leaf     timestamp  \\\nnode_id                                                       \n498235547685756928              True    False  1.407624e+09   \n498265524397432832             False     True  1.407631e+09   \n498710112358244352             False    False  1.407737e+09   \n498785502062190592             False     True  1.407755e+09   \n498519407375941632             False     True  1.407691e+09   \n...                              ...      ...           ...   \n581473907275915264             False     True  1.427469e+09   \n581474582302949376             False     True  1.427469e+09   \n581473799398359040             False     True  1.427469e+09   \n581482916645076993             False     True  1.427471e+09   \n581478014531203072             False     True  1.427470e+09   \n\n                       conversation_id        full_conv_id  \\\nnode_id                                                      \n498235547685756928  498235547685756928  498235547685756928   \n498265524397432832  498235547685756928  498235547685756928   \n498710112358244352  498235547685756928  498235547685756928   \n498785502062190592  498235547685756928  498235547685756928   \n498519407375941632  498235547685756928  498235547685756928   \n...                                ...                 ...   \n581473907275915264  581473088249958400  581473088249958400   \n581474582302949376  581473088249958400  581473088249958400   \n581473799398359040  581473088249958400  581473088249958400   \n581482916645076993  581473088249958400  581473088249958400   \n581478014531203072  581473088249958400  581473088249958400   \n\n                                                       data.full_text  \\\nnode_id                                                                 \n498235547685756928  [Black teenage boys are not men. They are chil...   \n498265524397432832  [@annaxsweat http://t.co/Z7Qm4iaoSR, @annaxswe...   \n498710112358244352                                  [@annaxsweat 18*]   \n498785502062190592  [@AlexisAStevens yeah that tweet was written b...   \n498519407375941632  [@annaxsweat: Soooo wonderfully said! Thank yo...   \n...                                                               ...   \n581473907275915264               [@jjauthor @gatewaypundit terrorism]   \n581474582302949376  [@jjauthor @gatewaypundit Hmmm.Doesn't pundit ...   \n581473799398359040  [@jjauthor @gatewaypundit. I knew it! Those cr...   \n581482916645076993  [@jjauthor @DesireeAaron @gatewaypundit this i...   \n581478014531203072  [@jjauthor @gatewaypundit Isn't Islam a wonder...   \n\n                                    data.conversation_id_str  \\\nnode_id                                                        \n498235547685756928                      [498235547685756928]   \n498265524397432832  [498235547685756928, 498235547685756928]   \n498710112358244352                      [498235547685756928]   \n498785502062190592                      [498235547685756928]   \n498519407375941632                      [498235547685756928]   \n...                                                      ...   \n581473907275915264                      [581473088249958400]   \n581474582302949376                      [581473088249958400]   \n581473799398359040                      [581473088249958400]   \n581482916645076993                      [581473088249958400]   \n581478014531203072                      [581473088249958400]   \n\n                   data.in_reply_to_screen_name  \nnode_id                                          \n498235547685756928                        [nan]  \n498265524397432832     [annaxsweat, annaxsweat]  \n498710112358244352                 [annaxsweat]  \n498785502062190592              [AlexisAurora_]  \n498519407375941632                 [annaxsweat]  \n...                                         ...  \n581473907275915264                   [jjauthor]  \n581474582302949376                   [jjauthor]  \n581473799398359040                   [jjauthor]  \n581482916645076993                   [jjauthor]  \n581478014531203072                   [jjauthor]  \n\n[98816 rows x 12 columns]",
      "text/html": "<div>\n<style scoped>\n    .dataframe tbody tr th:only-of-type {\n        vertical-align: middle;\n    }\n\n    .dataframe tbody tr th {\n        vertical-align: top;\n    }\n\n    .dataframe thead th {\n        text-align: right;\n    }\n</style>\n<table border=\"1\" class=\"dataframe\">\n  <thead>\n    <tr style=\"text-align: right;\">\n      <th></th>\n      <th>author</th>\n      <th>parent_id</th>\n      <th>depth</th>\n      <th>is_root</th>\n      <th>is_absolute_root</th>\n      <th>is_leaf</th>\n      <th>timestamp</th>\n      <th>conversation_id</th>\n      <th>full_conv_id</th>\n      <th>data.full_text</th>\n      <th>data.conversation_id_str</th>\n      <th>data.in_reply_to_screen_name</th>\n    </tr>\n    <tr>\n      <th>node_id</th>\n      <th></th>\n      <th></th>\n      <th></th>\n      <th></th>\n      <th></th>\n      <th></th>\n      <th></th>\n      <th></th>\n      <th></th>\n      <th></th>\n      <th></th>\n      <th></th>\n    </tr>\n  </thead>\n  <tbody>\n    <tr>\n      <th>498235547685756928</th>\n      <td>1539100118</td>\n      <td>None</td>\n      <td>0</td>\n      <td>True</td>\n      <td>True</td>\n      <td>False</td>\n      <td>1.407624e+09</td>\n      <td>498235547685756928</td>\n      <td>498235547685756928</td>\n      <td>[Black teenage boys are not men. They are chil...</td>\n      <td>[498235547685756928]</td>\n      <td>[nan]</td>\n    </tr>\n    <tr>\n      <th>498265524397432832</th>\n      <td>21461995</td>\n      <td>498235547685756928</td>\n      <td>1</td>\n      <td>False</td>\n      <td>False</td>\n      <td>True</td>\n      <td>1.407631e+09</td>\n      <td>498235547685756928</td>\n      <td>498235547685756928</td>\n      <td>[@annaxsweat http://t.co/Z7Qm4iaoSR, @annaxswe...</td>\n      <td>[498235547685756928, 498235547685756928]</td>\n      <td>[annaxsweat, annaxsweat]</td>\n    </tr>\n    <tr>\n      <th>498710112358244352</th>\n      <td>481509183</td>\n      <td>498235547685756928</td>\n      <td>1</td>\n      <td>False</td>\n      <td>False</td>\n      <td>False</td>\n      <td>1.407737e+09</td>\n      <td>498235547685756928</td>\n      <td>498235547685756928</td>\n      <td>[@annaxsweat 18*]</td>\n      <td>[498235547685756928]</td>\n      <td>[annaxsweat]</td>\n    </tr>\n    <tr>\n      <th>498785502062190592</th>\n      <td>1539100118</td>\n      <td>498710112358244352</td>\n      <td>2</td>\n      <td>False</td>\n      <td>False</td>\n      <td>True</td>\n      <td>1.407755e+09</td>\n      <td>498235547685756928</td>\n      <td>498235547685756928</td>\n      <td>[@AlexisAStevens yeah that tweet was written b...</td>\n      <td>[498235547685756928]</td>\n      <td>[AlexisAurora_]</td>\n    </tr>\n    <tr>\n      <th>498519407375941632</th>\n      <td>2331498373</td>\n      <td>498235547685756928</td>\n      <td>1</td>\n      <td>False</td>\n      <td>False</td>\n      <td>True</td>\n      <td>1.407691e+09</td>\n      <td>498235547685756928</td>\n      <td>498235547685756928</td>\n      <td>[@annaxsweat: Soooo wonderfully said! Thank yo...</td>\n      <td>[498235547685756928]</td>\n      <td>[annaxsweat]</td>\n    </tr>\n    <tr>\n      <th>...</th>\n      <td>...</td>\n      <td>...</td>\n      <td>...</td>\n      <td>...</td>\n      <td>...</td>\n      <td>...</td>\n      <td>...</td>\n      <td>...</td>\n      <td>...</td>\n      <td>...</td>\n      <td>...</td>\n      <td>...</td>\n    </tr>\n    <tr>\n      <th>581473907275915264</th>\n      <td>1895019528</td>\n      <td>581473088249958400</td>\n      <td>1</td>\n      <td>False</td>\n      <td>False</td>\n      <td>True</td>\n      <td>1.427469e+09</td>\n      <td>581473088249958400</td>\n      <td>581473088249958400</td>\n      <td>[@jjauthor @gatewaypundit terrorism]</td>\n      <td>[581473088249958400]</td>\n      <td>[jjauthor]</td>\n    </tr>\n    <tr>\n      <th>581474582302949376</th>\n      <td>2983617889</td>\n      <td>581473088249958400</td>\n      <td>1</td>\n      <td>False</td>\n      <td>False</td>\n      <td>True</td>\n      <td>1.427469e+09</td>\n      <td>581473088249958400</td>\n      <td>581473088249958400</td>\n      <td>[@jjauthor @gatewaypundit Hmmm.Doesn't pundit ...</td>\n      <td>[581473088249958400]</td>\n      <td>[jjauthor]</td>\n    </tr>\n    <tr>\n      <th>581473799398359040</th>\n      <td>2920578401</td>\n      <td>581473088249958400</td>\n      <td>1</td>\n      <td>False</td>\n      <td>False</td>\n      <td>True</td>\n      <td>1.427469e+09</td>\n      <td>581473088249958400</td>\n      <td>581473088249958400</td>\n      <td>[@jjauthor @gatewaypundit. I knew it! Those cr...</td>\n      <td>[581473088249958400]</td>\n      <td>[jjauthor]</td>\n    </tr>\n    <tr>\n      <th>581482916645076993</th>\n      <td>373569258</td>\n      <td>581473088249958400</td>\n      <td>1</td>\n      <td>False</td>\n      <td>False</td>\n      <td>True</td>\n      <td>1.427471e+09</td>\n      <td>581473088249958400</td>\n      <td>581473088249958400</td>\n      <td>[@jjauthor @DesireeAaron @gatewaypundit this i...</td>\n      <td>[581473088249958400]</td>\n      <td>[jjauthor]</td>\n    </tr>\n    <tr>\n      <th>581478014531203072</th>\n      <td>403864026</td>\n      <td>581473088249958400</td>\n      <td>1</td>\n      <td>False</td>\n      <td>False</td>\n      <td>True</td>\n      <td>1.427470e+09</td>\n      <td>581473088249958400</td>\n      <td>581473088249958400</td>\n      <td>[@jjauthor @gatewaypundit Isn't Islam a wonder...</td>\n      <td>[581473088249958400]</td>\n      <td>[jjauthor]</td>\n    </tr>\n  </tbody>\n</table>\n<p>98816 rows × 12 columns</p>\n</div>"
     },
     "execution_count": 12,
     "metadata": {},
     "output_type": "execute_result"
    }
   ],
   "source": [
    "convs = pd.concat(conversation_to_dataframe(conv) for conv in conversations)\n",
    "convs"
   ]
  },
  {
   "cell_type": "code",
   "execution_count": 13,
   "metadata": {},
   "outputs": [
    {
     "data": {
      "text/plain": "                        author           parent_id  depth  is_root  \\\nnode_id                                                              \n498235547685756928  1539100118                None      0     True   \n498265524397432832    21461995  498235547685756928      1    False   \n498710112358244352   481509183  498235547685756928      1    False   \n498785502062190592  1539100118  498710112358244352      2    False   \n498519407375941632  2331498373  498235547685756928      1    False   \n...                        ...                 ...    ...      ...   \n581473907275915264  1895019528  581473088249958400      1    False   \n581474582302949376  2983617889  581473088249958400      1    False   \n581473799398359040  2920578401  581473088249958400      1    False   \n581482916645076993   373569258  581473088249958400      1    False   \n581478014531203072   403864026  581473088249958400      1    False   \n\n                    is_absolute_root  is_leaf     timestamp  \\\nnode_id                                                       \n498235547685756928              True    False  1.407624e+09   \n498265524397432832             False     True  1.407631e+09   \n498710112358244352             False    False  1.407737e+09   \n498785502062190592             False     True  1.407755e+09   \n498519407375941632             False     True  1.407691e+09   \n...                              ...      ...           ...   \n581473907275915264             False     True  1.427469e+09   \n581474582302949376             False     True  1.427469e+09   \n581473799398359040             False     True  1.427469e+09   \n581482916645076993             False     True  1.427471e+09   \n581478014531203072             False     True  1.427470e+09   \n\n                       conversation_id        full_conv_id  \\\nnode_id                                                      \n498235547685756928  498235547685756928  498235547685756928   \n498265524397432832  498235547685756928  498235547685756928   \n498710112358244352  498235547685756928  498235547685756928   \n498785502062190592  498235547685756928  498235547685756928   \n498519407375941632  498235547685756928  498235547685756928   \n...                                ...                 ...   \n581473907275915264  581473088249958400  581473088249958400   \n581474582302949376  581473088249958400  581473088249958400   \n581473799398359040  581473088249958400  581473088249958400   \n581482916645076993  581473088249958400  581473088249958400   \n581478014531203072  581473088249958400  581473088249958400   \n\n                                                       data.full_text  \\\nnode_id                                                                 \n498235547685756928  [Black teenage boys are not men. They are chil...   \n498265524397432832  [@annaxsweat http://t.co/Z7Qm4iaoSR, @annaxswe...   \n498710112358244352                                  [@annaxsweat 18*]   \n498785502062190592  [@AlexisAStevens yeah that tweet was written b...   \n498519407375941632  [@annaxsweat: Soooo wonderfully said! Thank yo...   \n...                                                               ...   \n581473907275915264               [@jjauthor @gatewaypundit terrorism]   \n581474582302949376  [@jjauthor @gatewaypundit Hmmm.Doesn't pundit ...   \n581473799398359040  [@jjauthor @gatewaypundit. I knew it! Those cr...   \n581482916645076993  [@jjauthor @DesireeAaron @gatewaypundit this i...   \n581478014531203072  [@jjauthor @gatewaypundit Isn't Islam a wonder...   \n\n                                    data.conversation_id_str  \\\nnode_id                                                        \n498235547685756928                      [498235547685756928]   \n498265524397432832  [498235547685756928, 498235547685756928]   \n498710112358244352                      [498235547685756928]   \n498785502062190592                      [498235547685756928]   \n498519407375941632                      [498235547685756928]   \n...                                                      ...   \n581473907275915264                      [581473088249958400]   \n581474582302949376                      [581473088249958400]   \n581473799398359040                      [581473088249958400]   \n581482916645076993                      [581473088249958400]   \n581478014531203072                      [581473088249958400]   \n\n                   data.in_reply_to_screen_name  \nnode_id                                          \n498235547685756928                        [nan]  \n498265524397432832     [annaxsweat, annaxsweat]  \n498710112358244352                 [annaxsweat]  \n498785502062190592              [AlexisAurora_]  \n498519407375941632                 [annaxsweat]  \n...                                         ...  \n581473907275915264                   [jjauthor]  \n581474582302949376                   [jjauthor]  \n581473799398359040                   [jjauthor]  \n581482916645076993                   [jjauthor]  \n581478014531203072                   [jjauthor]  \n\n[98816 rows x 12 columns]",
      "text/html": "<div>\n<style scoped>\n    .dataframe tbody tr th:only-of-type {\n        vertical-align: middle;\n    }\n\n    .dataframe tbody tr th {\n        vertical-align: top;\n    }\n\n    .dataframe thead th {\n        text-align: right;\n    }\n</style>\n<table border=\"1\" class=\"dataframe\">\n  <thead>\n    <tr style=\"text-align: right;\">\n      <th></th>\n      <th>author</th>\n      <th>parent_id</th>\n      <th>depth</th>\n      <th>is_root</th>\n      <th>is_absolute_root</th>\n      <th>is_leaf</th>\n      <th>timestamp</th>\n      <th>conversation_id</th>\n      <th>full_conv_id</th>\n      <th>data.full_text</th>\n      <th>data.conversation_id_str</th>\n      <th>data.in_reply_to_screen_name</th>\n    </tr>\n    <tr>\n      <th>node_id</th>\n      <th></th>\n      <th></th>\n      <th></th>\n      <th></th>\n      <th></th>\n      <th></th>\n      <th></th>\n      <th></th>\n      <th></th>\n      <th></th>\n      <th></th>\n      <th></th>\n    </tr>\n  </thead>\n  <tbody>\n    <tr>\n      <th>498235547685756928</th>\n      <td>1539100118</td>\n      <td>None</td>\n      <td>0</td>\n      <td>True</td>\n      <td>True</td>\n      <td>False</td>\n      <td>1.407624e+09</td>\n      <td>498235547685756928</td>\n      <td>498235547685756928</td>\n      <td>[Black teenage boys are not men. They are chil...</td>\n      <td>[498235547685756928]</td>\n      <td>[nan]</td>\n    </tr>\n    <tr>\n      <th>498265524397432832</th>\n      <td>21461995</td>\n      <td>498235547685756928</td>\n      <td>1</td>\n      <td>False</td>\n      <td>False</td>\n      <td>True</td>\n      <td>1.407631e+09</td>\n      <td>498235547685756928</td>\n      <td>498235547685756928</td>\n      <td>[@annaxsweat http://t.co/Z7Qm4iaoSR, @annaxswe...</td>\n      <td>[498235547685756928, 498235547685756928]</td>\n      <td>[annaxsweat, annaxsweat]</td>\n    </tr>\n    <tr>\n      <th>498710112358244352</th>\n      <td>481509183</td>\n      <td>498235547685756928</td>\n      <td>1</td>\n      <td>False</td>\n      <td>False</td>\n      <td>False</td>\n      <td>1.407737e+09</td>\n      <td>498235547685756928</td>\n      <td>498235547685756928</td>\n      <td>[@annaxsweat 18*]</td>\n      <td>[498235547685756928]</td>\n      <td>[annaxsweat]</td>\n    </tr>\n    <tr>\n      <th>498785502062190592</th>\n      <td>1539100118</td>\n      <td>498710112358244352</td>\n      <td>2</td>\n      <td>False</td>\n      <td>False</td>\n      <td>True</td>\n      <td>1.407755e+09</td>\n      <td>498235547685756928</td>\n      <td>498235547685756928</td>\n      <td>[@AlexisAStevens yeah that tweet was written b...</td>\n      <td>[498235547685756928]</td>\n      <td>[AlexisAurora_]</td>\n    </tr>\n    <tr>\n      <th>498519407375941632</th>\n      <td>2331498373</td>\n      <td>498235547685756928</td>\n      <td>1</td>\n      <td>False</td>\n      <td>False</td>\n      <td>True</td>\n      <td>1.407691e+09</td>\n      <td>498235547685756928</td>\n      <td>498235547685756928</td>\n      <td>[@annaxsweat: Soooo wonderfully said! Thank yo...</td>\n      <td>[498235547685756928]</td>\n      <td>[annaxsweat]</td>\n    </tr>\n    <tr>\n      <th>...</th>\n      <td>...</td>\n      <td>...</td>\n      <td>...</td>\n      <td>...</td>\n      <td>...</td>\n      <td>...</td>\n      <td>...</td>\n      <td>...</td>\n      <td>...</td>\n      <td>...</td>\n      <td>...</td>\n      <td>...</td>\n    </tr>\n    <tr>\n      <th>581473907275915264</th>\n      <td>1895019528</td>\n      <td>581473088249958400</td>\n      <td>1</td>\n      <td>False</td>\n      <td>False</td>\n      <td>True</td>\n      <td>1.427469e+09</td>\n      <td>581473088249958400</td>\n      <td>581473088249958400</td>\n      <td>[@jjauthor @gatewaypundit terrorism]</td>\n      <td>[581473088249958400]</td>\n      <td>[jjauthor]</td>\n    </tr>\n    <tr>\n      <th>581474582302949376</th>\n      <td>2983617889</td>\n      <td>581473088249958400</td>\n      <td>1</td>\n      <td>False</td>\n      <td>False</td>\n      <td>True</td>\n      <td>1.427469e+09</td>\n      <td>581473088249958400</td>\n      <td>581473088249958400</td>\n      <td>[@jjauthor @gatewaypundit Hmmm.Doesn't pundit ...</td>\n      <td>[581473088249958400]</td>\n      <td>[jjauthor]</td>\n    </tr>\n    <tr>\n      <th>581473799398359040</th>\n      <td>2920578401</td>\n      <td>581473088249958400</td>\n      <td>1</td>\n      <td>False</td>\n      <td>False</td>\n      <td>True</td>\n      <td>1.427469e+09</td>\n      <td>581473088249958400</td>\n      <td>581473088249958400</td>\n      <td>[@jjauthor @gatewaypundit. I knew it! Those cr...</td>\n      <td>[581473088249958400]</td>\n      <td>[jjauthor]</td>\n    </tr>\n    <tr>\n      <th>581482916645076993</th>\n      <td>373569258</td>\n      <td>581473088249958400</td>\n      <td>1</td>\n      <td>False</td>\n      <td>False</td>\n      <td>True</td>\n      <td>1.427471e+09</td>\n      <td>581473088249958400</td>\n      <td>581473088249958400</td>\n      <td>[@jjauthor @DesireeAaron @gatewaypundit this i...</td>\n      <td>[581473088249958400]</td>\n      <td>[jjauthor]</td>\n    </tr>\n    <tr>\n      <th>581478014531203072</th>\n      <td>403864026</td>\n      <td>581473088249958400</td>\n      <td>1</td>\n      <td>False</td>\n      <td>False</td>\n      <td>True</td>\n      <td>1.427470e+09</td>\n      <td>581473088249958400</td>\n      <td>581473088249958400</td>\n      <td>[@jjauthor @gatewaypundit Isn't Islam a wonder...</td>\n      <td>[581473088249958400]</td>\n      <td>[jjauthor]</td>\n    </tr>\n  </tbody>\n</table>\n<p>98816 rows × 12 columns</p>\n</div>"
     },
     "execution_count": 13,
     "metadata": {},
     "output_type": "execute_result"
    }
   ],
   "source": [
    "convs\n"
   ]
  },
  {
   "cell_type": "markdown",
   "metadata": {},
   "source": [
    "## EDA"
   ]
  },
  {
   "cell_type": "markdown",
   "metadata": {},
   "source": [
    "### Mean branch participation for user in CMV\n",
    "remove op and show that most users in a conversation only participaten in one branch"
   ]
  },
  {
   "cell_type": "code",
   "execution_count": 14,
   "metadata": {},
   "outputs": [
    {
     "data": {
      "text/plain": "                        author        full_conv_id\nnode_id                                           \n498235547685756928  1539100118  498235547685756928\n498248415223246848    14090948  498248415223246848\n498248648699150336    14090948  498248648699150336\n498250100079341568  1921517718  498250100079341568\n498251940997136384   228120405  498251940997136384\n...                        ...                 ...\n581404604677660673    26900055  581404604677660673\n581409613913804800     5392522  581409613913804800\n581411131547320321  1462833583  581411131547320321\n581437061363675136   143695063  581437061363675136\n581473088249958400   177584156  581473088249958400\n\n[4874 rows x 2 columns]",
      "text/html": "<div>\n<style scoped>\n    .dataframe tbody tr th:only-of-type {\n        vertical-align: middle;\n    }\n\n    .dataframe tbody tr th {\n        vertical-align: top;\n    }\n\n    .dataframe thead th {\n        text-align: right;\n    }\n</style>\n<table border=\"1\" class=\"dataframe\">\n  <thead>\n    <tr style=\"text-align: right;\">\n      <th></th>\n      <th>author</th>\n      <th>full_conv_id</th>\n    </tr>\n    <tr>\n      <th>node_id</th>\n      <th></th>\n      <th></th>\n    </tr>\n  </thead>\n  <tbody>\n    <tr>\n      <th>498235547685756928</th>\n      <td>1539100118</td>\n      <td>498235547685756928</td>\n    </tr>\n    <tr>\n      <th>498248415223246848</th>\n      <td>14090948</td>\n      <td>498248415223246848</td>\n    </tr>\n    <tr>\n      <th>498248648699150336</th>\n      <td>14090948</td>\n      <td>498248648699150336</td>\n    </tr>\n    <tr>\n      <th>498250100079341568</th>\n      <td>1921517718</td>\n      <td>498250100079341568</td>\n    </tr>\n    <tr>\n      <th>498251940997136384</th>\n      <td>228120405</td>\n      <td>498251940997136384</td>\n    </tr>\n    <tr>\n      <th>...</th>\n      <td>...</td>\n      <td>...</td>\n    </tr>\n    <tr>\n      <th>581404604677660673</th>\n      <td>26900055</td>\n      <td>581404604677660673</td>\n    </tr>\n    <tr>\n      <th>581409613913804800</th>\n      <td>5392522</td>\n      <td>581409613913804800</td>\n    </tr>\n    <tr>\n      <th>581411131547320321</th>\n      <td>1462833583</td>\n      <td>581411131547320321</td>\n    </tr>\n    <tr>\n      <th>581437061363675136</th>\n      <td>143695063</td>\n      <td>581437061363675136</td>\n    </tr>\n    <tr>\n      <th>581473088249958400</th>\n      <td>177584156</td>\n      <td>581473088249958400</td>\n    </tr>\n  </tbody>\n</table>\n<p>4874 rows × 2 columns</p>\n</div>"
     },
     "execution_count": 14,
     "metadata": {},
     "output_type": "execute_result"
    }
   ],
   "source": [
    "roots = convs.loc[convs.is_root == True][['author', 'full_conv_id']]\n",
    "roots"
   ]
  },
  {
   "cell_type": "code",
   "execution_count": 15,
   "metadata": {},
   "outputs": [],
   "source": [
    "def conversattion_to_dataframe_filter_root(conv):\n",
    "    conv = conversation_to_dataframe(conv)\n",
    "    full_conv_id = conv.full_conv_id[:1].values[0]\n",
    "    root_author_name = roots.loc[roots.full_conv_id == full_conv_id].author.values[0]\n",
    "    return conv.loc[conv.author != root_author_name]"
   ]
  },
  {
   "cell_type": "code",
   "execution_count": 16,
   "metadata": {},
   "outputs": [],
   "source": [
    "# data = pd.concat(conversattion_to_dataframe_filter_root(conv) for conv in sub_convs)"
   ]
  },
  {
   "cell_type": "code",
   "execution_count": 17,
   "metadata": {},
   "outputs": [],
   "source": [
    "data = convs"
   ]
  },
  {
   "cell_type": "code",
   "execution_count": 18,
   "metadata": {},
   "outputs": [
    {
     "data": {
      "text/plain": "                           #participation\nauthor conversation_id                   \n58     500396027342376960               2\n59     500396027342376960               1\n521    498248648699150336               1\n2426   544321103875694593               2\n       552842342143905794               1",
      "text/html": "<div>\n<style scoped>\n    .dataframe tbody tr th:only-of-type {\n        vertical-align: middle;\n    }\n\n    .dataframe tbody tr th {\n        vertical-align: top;\n    }\n\n    .dataframe thead th {\n        text-align: right;\n    }\n</style>\n<table border=\"1\" class=\"dataframe\">\n  <thead>\n    <tr style=\"text-align: right;\">\n      <th></th>\n      <th></th>\n      <th>#participation</th>\n    </tr>\n    <tr>\n      <th>author</th>\n      <th>conversation_id</th>\n      <th></th>\n    </tr>\n  </thead>\n  <tbody>\n    <tr>\n      <th>58</th>\n      <th>500396027342376960</th>\n      <td>2</td>\n    </tr>\n    <tr>\n      <th>59</th>\n      <th>500396027342376960</th>\n      <td>1</td>\n    </tr>\n    <tr>\n      <th>521</th>\n      <th>498248648699150336</th>\n      <td>1</td>\n    </tr>\n    <tr>\n      <th rowspan=\"2\" valign=\"top\">2426</th>\n      <th>544321103875694593</th>\n      <td>2</td>\n    </tr>\n    <tr>\n      <th>552842342143905794</th>\n      <td>1</td>\n    </tr>\n  </tbody>\n</table>\n</div>"
     },
     "execution_count": 18,
     "metadata": {},
     "output_type": "execute_result"
    }
   ],
   "source": [
    "user_participation=pd.DataFrame(data.groupby(['author', 'conversation_id']).timestamp.count())\\\n",
    "                    .rename({'timestamp': '#participation'}, axis=1)\n",
    "user_participation.head()"
   ]
  },
  {
   "cell_type": "code",
   "execution_count": 19,
   "metadata": {},
   "outputs": [
    {
     "data": {
      "text/plain": "        mean_branch_participation\nauthor                           \n58                            2.0\n59                            1.0\n521                           1.0\n2426                          1.5\n3968                          1.0",
      "text/html": "<div>\n<style scoped>\n    .dataframe tbody tr th:only-of-type {\n        vertical-align: middle;\n    }\n\n    .dataframe tbody tr th {\n        vertical-align: top;\n    }\n\n    .dataframe thead th {\n        text-align: right;\n    }\n</style>\n<table border=\"1\" class=\"dataframe\">\n  <thead>\n    <tr style=\"text-align: right;\">\n      <th></th>\n      <th>mean_branch_participation</th>\n    </tr>\n    <tr>\n      <th>author</th>\n      <th></th>\n    </tr>\n  </thead>\n  <tbody>\n    <tr>\n      <th>58</th>\n      <td>2.0</td>\n    </tr>\n    <tr>\n      <th>59</th>\n      <td>1.0</td>\n    </tr>\n    <tr>\n      <th>521</th>\n      <td>1.0</td>\n    </tr>\n    <tr>\n      <th>2426</th>\n      <td>1.5</td>\n    </tr>\n    <tr>\n      <th>3968</th>\n      <td>1.0</td>\n    </tr>\n  </tbody>\n</table>\n</div>"
     },
     "execution_count": 19,
     "metadata": {},
     "output_type": "execute_result"
    }
   ],
   "source": [
    "mean_branch_participation = pd.DataFrame(user_participation.groupby('author')['#participation'].mean()).\\\n",
    "                            rename({'#participation': 'mean_branch_participation'}, axis=1)\n",
    "mean_branch_participation.head()"
   ]
  },
  {
   "cell_type": "code",
   "execution_count": 20,
   "metadata": {},
   "outputs": [],
   "source": [
    "bins = [0,1,2,3,4,5,6,7,8,9,72]"
   ]
  },
  {
   "cell_type": "code",
   "execution_count": 21,
   "metadata": {},
   "outputs": [],
   "source": [
    "mean_branch_participation['mean_par_bin'] = pd.cut(mean_branch_participation.mean_branch_participation, bins=bins)"
   ]
  },
  {
   "cell_type": "code",
   "execution_count": 22,
   "metadata": {},
   "outputs": [
    {
     "data": {
      "text/plain": "               mean_branch_participation mean_par_bin\nauthor                                               \n58                               2.00000       (1, 2]\n59                               1.00000       (0, 1]\n521                              1.00000       (0, 1]\n2426                             1.50000       (1, 2]\n3968                             1.00000       (0, 1]\n...                                  ...          ...\n99821535                         1.00000       (0, 1]\n999109980                        1.00000       (0, 1]\n99924182                         1.00000       (0, 1]\n999907196                        1.00000       (0, 1]\n[Unavailable]                    2.11039       (2, 3]\n\n[62428 rows x 2 columns]",
      "text/html": "<div>\n<style scoped>\n    .dataframe tbody tr th:only-of-type {\n        vertical-align: middle;\n    }\n\n    .dataframe tbody tr th {\n        vertical-align: top;\n    }\n\n    .dataframe thead th {\n        text-align: right;\n    }\n</style>\n<table border=\"1\" class=\"dataframe\">\n  <thead>\n    <tr style=\"text-align: right;\">\n      <th></th>\n      <th>mean_branch_participation</th>\n      <th>mean_par_bin</th>\n    </tr>\n    <tr>\n      <th>author</th>\n      <th></th>\n      <th></th>\n    </tr>\n  </thead>\n  <tbody>\n    <tr>\n      <th>58</th>\n      <td>2.00000</td>\n      <td>(1, 2]</td>\n    </tr>\n    <tr>\n      <th>59</th>\n      <td>1.00000</td>\n      <td>(0, 1]</td>\n    </tr>\n    <tr>\n      <th>521</th>\n      <td>1.00000</td>\n      <td>(0, 1]</td>\n    </tr>\n    <tr>\n      <th>2426</th>\n      <td>1.50000</td>\n      <td>(1, 2]</td>\n    </tr>\n    <tr>\n      <th>3968</th>\n      <td>1.00000</td>\n      <td>(0, 1]</td>\n    </tr>\n    <tr>\n      <th>...</th>\n      <td>...</td>\n      <td>...</td>\n    </tr>\n    <tr>\n      <th>99821535</th>\n      <td>1.00000</td>\n      <td>(0, 1]</td>\n    </tr>\n    <tr>\n      <th>999109980</th>\n      <td>1.00000</td>\n      <td>(0, 1]</td>\n    </tr>\n    <tr>\n      <th>99924182</th>\n      <td>1.00000</td>\n      <td>(0, 1]</td>\n    </tr>\n    <tr>\n      <th>999907196</th>\n      <td>1.00000</td>\n      <td>(0, 1]</td>\n    </tr>\n    <tr>\n      <th>[Unavailable]</th>\n      <td>2.11039</td>\n      <td>(2, 3]</td>\n    </tr>\n  </tbody>\n</table>\n<p>62428 rows × 2 columns</p>\n</div>"
     },
     "execution_count": 22,
     "metadata": {},
     "output_type": "execute_result"
    }
   ],
   "source": [
    "mean_branch_participation"
   ]
  },
  {
   "cell_type": "code",
   "execution_count": 23,
   "metadata": {},
   "outputs": [
    {
     "data": {
      "text/plain": "       mean_branch_participation\ncount               62428.000000\nmean                    1.230322\nstd                     1.261221\nmin                     1.000000\n25%                     1.000000\n50%                     1.000000\n75%                     1.000000\nmax                    62.000000",
      "text/html": "<div>\n<style scoped>\n    .dataframe tbody tr th:only-of-type {\n        vertical-align: middle;\n    }\n\n    .dataframe tbody tr th {\n        vertical-align: top;\n    }\n\n    .dataframe thead th {\n        text-align: right;\n    }\n</style>\n<table border=\"1\" class=\"dataframe\">\n  <thead>\n    <tr style=\"text-align: right;\">\n      <th></th>\n      <th>mean_branch_participation</th>\n    </tr>\n  </thead>\n  <tbody>\n    <tr>\n      <th>count</th>\n      <td>62428.000000</td>\n    </tr>\n    <tr>\n      <th>mean</th>\n      <td>1.230322</td>\n    </tr>\n    <tr>\n      <th>std</th>\n      <td>1.261221</td>\n    </tr>\n    <tr>\n      <th>min</th>\n      <td>1.000000</td>\n    </tr>\n    <tr>\n      <th>25%</th>\n      <td>1.000000</td>\n    </tr>\n    <tr>\n      <th>50%</th>\n      <td>1.000000</td>\n    </tr>\n    <tr>\n      <th>75%</th>\n      <td>1.000000</td>\n    </tr>\n    <tr>\n      <th>max</th>\n      <td>62.000000</td>\n    </tr>\n  </tbody>\n</table>\n</div>"
     },
     "execution_count": 23,
     "metadata": {},
     "output_type": "execute_result"
    }
   ],
   "source": [
    "mean_branch_participation.describe()"
   ]
  },
  {
   "cell_type": "code",
   "execution_count": 24,
   "metadata": {},
   "outputs": [
    {
     "data": {
      "text/plain": "              mean_branch_participation\nmean_par_bin                           \n(0, 1]                            55264\n(1, 2]                             4646\n(2, 3]                             1152\n(3, 4]                              512\n(4, 5]                              260\n(5, 6]                              160\n(6, 7]                              100\n(7, 8]                               63\n(8, 9]                               42\n(9, 72]                             229",
      "text/html": "<div>\n<style scoped>\n    .dataframe tbody tr th:only-of-type {\n        vertical-align: middle;\n    }\n\n    .dataframe tbody tr th {\n        vertical-align: top;\n    }\n\n    .dataframe thead th {\n        text-align: right;\n    }\n</style>\n<table border=\"1\" class=\"dataframe\">\n  <thead>\n    <tr style=\"text-align: right;\">\n      <th></th>\n      <th>mean_branch_participation</th>\n    </tr>\n    <tr>\n      <th>mean_par_bin</th>\n      <th></th>\n    </tr>\n  </thead>\n  <tbody>\n    <tr>\n      <th>(0, 1]</th>\n      <td>55264</td>\n    </tr>\n    <tr>\n      <th>(1, 2]</th>\n      <td>4646</td>\n    </tr>\n    <tr>\n      <th>(2, 3]</th>\n      <td>1152</td>\n    </tr>\n    <tr>\n      <th>(3, 4]</th>\n      <td>512</td>\n    </tr>\n    <tr>\n      <th>(4, 5]</th>\n      <td>260</td>\n    </tr>\n    <tr>\n      <th>(5, 6]</th>\n      <td>160</td>\n    </tr>\n    <tr>\n      <th>(6, 7]</th>\n      <td>100</td>\n    </tr>\n    <tr>\n      <th>(7, 8]</th>\n      <td>63</td>\n    </tr>\n    <tr>\n      <th>(8, 9]</th>\n      <td>42</td>\n    </tr>\n    <tr>\n      <th>(9, 72]</th>\n      <td>229</td>\n    </tr>\n  </tbody>\n</table>\n</div>"
     },
     "execution_count": 24,
     "metadata": {},
     "output_type": "execute_result"
    }
   ],
   "source": [
    "bin_participation = mean_branch_participation.groupby('mean_par_bin').count()\n",
    "bin_participation"
   ]
  },
  {
   "cell_type": "code",
   "execution_count": 25,
   "metadata": {},
   "outputs": [
    {
     "data": {
      "text/plain": "  mean_par_bin  mean_branch_participation\n0       (0, 1]                      55264\n1       (1, 2]                       4646\n2       (2, 3]                       1152\n3       (3, 4]                        512\n4       (4, 5]                        260\n5       (5, 6]                        160\n6       (6, 7]                        100\n7       (7, 8]                         63\n8       (8, 9]                         42\n9      (9, 72]                        229",
      "text/html": "<div>\n<style scoped>\n    .dataframe tbody tr th:only-of-type {\n        vertical-align: middle;\n    }\n\n    .dataframe tbody tr th {\n        vertical-align: top;\n    }\n\n    .dataframe thead th {\n        text-align: right;\n    }\n</style>\n<table border=\"1\" class=\"dataframe\">\n  <thead>\n    <tr style=\"text-align: right;\">\n      <th></th>\n      <th>mean_par_bin</th>\n      <th>mean_branch_participation</th>\n    </tr>\n  </thead>\n  <tbody>\n    <tr>\n      <th>0</th>\n      <td>(0, 1]</td>\n      <td>55264</td>\n    </tr>\n    <tr>\n      <th>1</th>\n      <td>(1, 2]</td>\n      <td>4646</td>\n    </tr>\n    <tr>\n      <th>2</th>\n      <td>(2, 3]</td>\n      <td>1152</td>\n    </tr>\n    <tr>\n      <th>3</th>\n      <td>(3, 4]</td>\n      <td>512</td>\n    </tr>\n    <tr>\n      <th>4</th>\n      <td>(4, 5]</td>\n      <td>260</td>\n    </tr>\n    <tr>\n      <th>5</th>\n      <td>(5, 6]</td>\n      <td>160</td>\n    </tr>\n    <tr>\n      <th>6</th>\n      <td>(6, 7]</td>\n      <td>100</td>\n    </tr>\n    <tr>\n      <th>7</th>\n      <td>(7, 8]</td>\n      <td>63</td>\n    </tr>\n    <tr>\n      <th>8</th>\n      <td>(8, 9]</td>\n      <td>42</td>\n    </tr>\n    <tr>\n      <th>9</th>\n      <td>(9, 72]</td>\n      <td>229</td>\n    </tr>\n  </tbody>\n</table>\n</div>"
     },
     "execution_count": 25,
     "metadata": {},
     "output_type": "execute_result"
    }
   ],
   "source": [
    "bin_participation = bin_participation.reset_index()\n",
    "bin_participation"
   ]
  },
  {
   "cell_type": "code",
   "execution_count": 26,
   "metadata": {},
   "outputs": [
    {
     "data": {
      "text/plain": "62428"
     },
     "execution_count": 26,
     "metadata": {},
     "output_type": "execute_result"
    }
   ],
   "source": [
    "bin_participation.mean_branch_participation.sum()"
   ]
  },
  {
   "cell_type": "code",
   "execution_count": 27,
   "metadata": {},
   "outputs": [],
   "source": [
    "percen = bin_participation.mean_branch_participation.apply(lambda x: x / 37264)"
   ]
  },
  {
   "cell_type": "code",
   "execution_count": 28,
   "metadata": {},
   "outputs": [
    {
     "data": {
      "text/plain": "  mean_par_bin  mean_branch_participation      perc\n0       (0, 1]                      55264  1.483040\n1       (1, 2]                       4646  0.124678\n2       (2, 3]                       1152  0.030915\n3       (3, 4]                        512  0.013740\n4       (4, 5]                        260  0.006977\n5       (5, 6]                        160  0.004294\n6       (6, 7]                        100  0.002684\n7       (7, 8]                         63  0.001691\n8       (8, 9]                         42  0.001127\n9      (9, 72]                        229  0.006145",
      "text/html": "<div>\n<style scoped>\n    .dataframe tbody tr th:only-of-type {\n        vertical-align: middle;\n    }\n\n    .dataframe tbody tr th {\n        vertical-align: top;\n    }\n\n    .dataframe thead th {\n        text-align: right;\n    }\n</style>\n<table border=\"1\" class=\"dataframe\">\n  <thead>\n    <tr style=\"text-align: right;\">\n      <th></th>\n      <th>mean_par_bin</th>\n      <th>mean_branch_participation</th>\n      <th>perc</th>\n    </tr>\n  </thead>\n  <tbody>\n    <tr>\n      <th>0</th>\n      <td>(0, 1]</td>\n      <td>55264</td>\n      <td>1.483040</td>\n    </tr>\n    <tr>\n      <th>1</th>\n      <td>(1, 2]</td>\n      <td>4646</td>\n      <td>0.124678</td>\n    </tr>\n    <tr>\n      <th>2</th>\n      <td>(2, 3]</td>\n      <td>1152</td>\n      <td>0.030915</td>\n    </tr>\n    <tr>\n      <th>3</th>\n      <td>(3, 4]</td>\n      <td>512</td>\n      <td>0.013740</td>\n    </tr>\n    <tr>\n      <th>4</th>\n      <td>(4, 5]</td>\n      <td>260</td>\n      <td>0.006977</td>\n    </tr>\n    <tr>\n      <th>5</th>\n      <td>(5, 6]</td>\n      <td>160</td>\n      <td>0.004294</td>\n    </tr>\n    <tr>\n      <th>6</th>\n      <td>(6, 7]</td>\n      <td>100</td>\n      <td>0.002684</td>\n    </tr>\n    <tr>\n      <th>7</th>\n      <td>(7, 8]</td>\n      <td>63</td>\n      <td>0.001691</td>\n    </tr>\n    <tr>\n      <th>8</th>\n      <td>(8, 9]</td>\n      <td>42</td>\n      <td>0.001127</td>\n    </tr>\n    <tr>\n      <th>9</th>\n      <td>(9, 72]</td>\n      <td>229</td>\n      <td>0.006145</td>\n    </tr>\n  </tbody>\n</table>\n</div>"
     },
     "execution_count": 28,
     "metadata": {},
     "output_type": "execute_result"
    }
   ],
   "source": [
    "bin_participation = bin_participation.assign(perc = percen)\n",
    "bin_participation"
   ]
  },
  {
   "cell_type": "code",
   "execution_count": 29,
   "metadata": {},
   "outputs": [
    {
     "data": {
      "text/plain": "Text(0.5, 0, 'mean participation bin')"
     },
     "execution_count": 29,
     "metadata": {},
     "output_type": "execute_result"
    },
    {
     "data": {
      "text/plain": "<Figure size 1008x432 with 1 Axes>",
      "image/png": "[encoded data removed]"
     },
     "metadata": {
      "needs_background": "light"
     },
     "output_type": "display_data"
    }
   ],
   "source": [
    "_, ax = plt.subplots(figsize=(14,6))\n",
    "sns.set_style(\"whitegrid\")\n",
    "ax = sns.barplot(data=bin_participation, x = 'mean_par_bin', y= 'perc', palette=\"deep\")\n",
    "plt.ylabel('percentage of twitter users')\n",
    "plt.xlabel('mean participation bin')"
   ]
  },
  {
   "cell_type": "markdown",
   "metadata": {},
   "source": [
    "## Some Feature Extraction"
   ]
  },
  {
   "cell_type": "code",
   "execution_count": 30,
   "metadata": {},
   "outputs": [
    {
     "data": {
      "text/plain": "Empty DataFrame\nColumns: [author, parent_id, depth, is_root, is_absolute_root, is_leaf, timestamp, conversation_id, full_conv_id, data.full_text, data.conversation_id_str, data.in_reply_to_screen_name]\nIndex: []",
      "text/html": "<div>\n<style scoped>\n    .dataframe tbody tr th:only-of-type {\n        vertical-align: middle;\n    }\n\n    .dataframe tbody tr th {\n        vertical-align: top;\n    }\n\n    .dataframe thead th {\n        text-align: right;\n    }\n</style>\n<table border=\"1\" class=\"dataframe\">\n  <thead>\n    <tr style=\"text-align: right;\">\n      <th></th>\n      <th>author</th>\n      <th>parent_id</th>\n      <th>depth</th>\n      <th>is_root</th>\n      <th>is_absolute_root</th>\n      <th>is_leaf</th>\n      <th>timestamp</th>\n      <th>conversation_id</th>\n      <th>full_conv_id</th>\n      <th>data.full_text</th>\n      <th>data.conversation_id_str</th>\n      <th>data.in_reply_to_screen_name</th>\n    </tr>\n    <tr>\n      <th>node_id</th>\n      <th></th>\n      <th></th>\n      <th></th>\n      <th></th>\n      <th></th>\n      <th></th>\n      <th></th>\n      <th></th>\n      <th></th>\n      <th></th>\n      <th></th>\n      <th></th>\n    </tr>\n  </thead>\n  <tbody>\n  </tbody>\n</table>\n</div>"
     },
     "execution_count": 30,
     "metadata": {},
     "output_type": "execute_result"
    }
   ],
   "source": [
    "# example of one branch \n",
    "conv = data.loc[data.conversation_id == 'dq95b41']\n",
    "conv"
   ]
  },
  {
   "cell_type": "code",
   "execution_count": 31,
   "metadata": {},
   "outputs": [],
   "source": [
    "def count_op_involvment(subconv:pd.DataFrame, roots:pd.DataFrame) -> float:\n",
    "    \"\"\"\n",
    "    counts the proportion of posts from the full conversation author in the subconversation\n",
    "    \"\"\"\n",
    "    full_conversation_id = subconv.sample(1).full_conv_id.values[0]\n",
    "    op = roots.loc[roots.full_conv_id == full_conversation_id].author.values[0]\n",
    "    return len(subconv.loc[subconv.author == op]) / len(subconv)"
   ]
  },
  {
   "cell_type": "code",
   "execution_count": 32,
   "metadata": {},
   "outputs": [
    {
     "ename": "ValueError",
     "evalue": "a must be greater than 0 unless no samples are taken",
     "output_type": "error",
     "traceback": [
      "\u001B[1;31m---------------------------------------------------------------------------\u001B[0m",
      "\u001B[1;31mValueError\u001B[0m                                Traceback (most recent call last)",
      "\u001B[1;32m<ipython-input-32-664165e3ba64>\u001B[0m in \u001B[0;36m<module>\u001B[1;34m\u001B[0m\n\u001B[1;32m----> 1\u001B[1;33m \u001B[0mcount_op_involvment\u001B[0m\u001B[1;33m(\u001B[0m\u001B[0mconv\u001B[0m\u001B[1;33m,\u001B[0m \u001B[0mroots\u001B[0m\u001B[1;33m)\u001B[0m\u001B[1;33m\u001B[0m\u001B[1;33m\u001B[0m\u001B[0m\n\u001B[0m\u001B[0;32m      2\u001B[0m \u001B[1;33m\u001B[0m\u001B[0m\n",
      "\u001B[1;32m<ipython-input-31-a7a311035cba>\u001B[0m in \u001B[0;36mcount_op_involvment\u001B[1;34m(subconv, roots)\u001B[0m\n\u001B[0;32m      3\u001B[0m     \u001B[0mcounts\u001B[0m \u001B[0mthe\u001B[0m \u001B[0mproportion\u001B[0m \u001B[0mof\u001B[0m \u001B[0mposts\u001B[0m \u001B[1;32mfrom\u001B[0m \u001B[0mthe\u001B[0m \u001B[0mfull\u001B[0m \u001B[0mconversation\u001B[0m \u001B[0mauthor\u001B[0m \u001B[1;32min\u001B[0m \u001B[0mthe\u001B[0m \u001B[0msubconversation\u001B[0m\u001B[1;33m\u001B[0m\u001B[1;33m\u001B[0m\u001B[0m\n\u001B[0;32m      4\u001B[0m     \"\"\"\n\u001B[1;32m----> 5\u001B[1;33m     \u001B[0mfull_conversation_id\u001B[0m \u001B[1;33m=\u001B[0m \u001B[0msubconv\u001B[0m\u001B[1;33m.\u001B[0m\u001B[0msample\u001B[0m\u001B[1;33m(\u001B[0m\u001B[1;36m1\u001B[0m\u001B[1;33m)\u001B[0m\u001B[1;33m.\u001B[0m\u001B[0mfull_conv_id\u001B[0m\u001B[1;33m.\u001B[0m\u001B[0mvalues\u001B[0m\u001B[1;33m[\u001B[0m\u001B[1;36m0\u001B[0m\u001B[1;33m]\u001B[0m\u001B[1;33m\u001B[0m\u001B[1;33m\u001B[0m\u001B[0m\n\u001B[0m\u001B[0;32m      6\u001B[0m     \u001B[0mop\u001B[0m \u001B[1;33m=\u001B[0m \u001B[0mroots\u001B[0m\u001B[1;33m.\u001B[0m\u001B[0mloc\u001B[0m\u001B[1;33m[\u001B[0m\u001B[0mroots\u001B[0m\u001B[1;33m.\u001B[0m\u001B[0mfull_conv_id\u001B[0m \u001B[1;33m==\u001B[0m \u001B[0mfull_conversation_id\u001B[0m\u001B[1;33m]\u001B[0m\u001B[1;33m.\u001B[0m\u001B[0mauthor\u001B[0m\u001B[1;33m.\u001B[0m\u001B[0mvalues\u001B[0m\u001B[1;33m[\u001B[0m\u001B[1;36m0\u001B[0m\u001B[1;33m]\u001B[0m\u001B[1;33m\u001B[0m\u001B[1;33m\u001B[0m\u001B[0m\n\u001B[0;32m      7\u001B[0m     \u001B[1;32mreturn\u001B[0m \u001B[0mlen\u001B[0m\u001B[1;33m(\u001B[0m\u001B[0msubconv\u001B[0m\u001B[1;33m.\u001B[0m\u001B[0mloc\u001B[0m\u001B[1;33m[\u001B[0m\u001B[0msubconv\u001B[0m\u001B[1;33m.\u001B[0m\u001B[0mauthor\u001B[0m \u001B[1;33m==\u001B[0m \u001B[0mop\u001B[0m\u001B[1;33m]\u001B[0m\u001B[1;33m)\u001B[0m \u001B[1;33m/\u001B[0m \u001B[0mlen\u001B[0m\u001B[1;33m(\u001B[0m\u001B[0msubconv\u001B[0m\u001B[1;33m)\u001B[0m\u001B[1;33m\u001B[0m\u001B[1;33m\u001B[0m\u001B[0m\n",
      "\u001B[1;32mc:\\users\\ronp\\py37-dasci\\lib\\site-packages\\pandas\\core\\generic.py\u001B[0m in \u001B[0;36msample\u001B[1;34m(self, n, frac, replace, weights, random_state, axis)\u001B[0m\n\u001B[0;32m   4982\u001B[0m             )\n\u001B[0;32m   4983\u001B[0m \u001B[1;33m\u001B[0m\u001B[0m\n\u001B[1;32m-> 4984\u001B[1;33m         \u001B[0mlocs\u001B[0m \u001B[1;33m=\u001B[0m \u001B[0mrs\u001B[0m\u001B[1;33m.\u001B[0m\u001B[0mchoice\u001B[0m\u001B[1;33m(\u001B[0m\u001B[0maxis_length\u001B[0m\u001B[1;33m,\u001B[0m \u001B[0msize\u001B[0m\u001B[1;33m=\u001B[0m\u001B[0mn\u001B[0m\u001B[1;33m,\u001B[0m \u001B[0mreplace\u001B[0m\u001B[1;33m=\u001B[0m\u001B[0mreplace\u001B[0m\u001B[1;33m,\u001B[0m \u001B[0mp\u001B[0m\u001B[1;33m=\u001B[0m\u001B[0mweights\u001B[0m\u001B[1;33m)\u001B[0m\u001B[1;33m\u001B[0m\u001B[1;33m\u001B[0m\u001B[0m\n\u001B[0m\u001B[0;32m   4985\u001B[0m         \u001B[1;32mreturn\u001B[0m \u001B[0mself\u001B[0m\u001B[1;33m.\u001B[0m\u001B[0mtake\u001B[0m\u001B[1;33m(\u001B[0m\u001B[0mlocs\u001B[0m\u001B[1;33m,\u001B[0m \u001B[0maxis\u001B[0m\u001B[1;33m=\u001B[0m\u001B[0maxis\u001B[0m\u001B[1;33m)\u001B[0m\u001B[1;33m\u001B[0m\u001B[1;33m\u001B[0m\u001B[0m\n\u001B[0;32m   4986\u001B[0m \u001B[1;33m\u001B[0m\u001B[0m\n",
      "\u001B[1;32mmtrand.pyx\u001B[0m in \u001B[0;36mnumpy.random.mtrand.RandomState.choice\u001B[1;34m()\u001B[0m\n",
      "\u001B[1;31mValueError\u001B[0m: a must be greater than 0 unless no samples are taken"
     ]
    }
   ],
   "source": [
    "# count_op_involvment(conv, roots)"
   ]
  },
  {
   "cell_type": "code",
   "execution_count": 33,
   "metadata": {},
   "outputs": [],
   "source": [
    "# max branch depth \n",
    "def max_branch_depth(conv:pd.DataFrame) -> int:\n",
    "    return conv.depth.max()"
   ]
  },
  {
   "cell_type": "code",
   "execution_count": 34,
   "metadata": {},
   "outputs": [
    {
     "data": {
      "text/plain": "nan"
     },
     "execution_count": 34,
     "metadata": {},
     "output_type": "execute_result"
    }
   ],
   "source": [
    "max_branch_depth(conv)"
   ]
  },
  {
   "cell_type": "code",
   "execution_count": 35,
   "metadata": {},
   "outputs": [],
   "source": [
    "# apply two features to all of the sub-conversations \n",
    "op_involvment = data.groupby('conversation_id').apply(lambda x: count_op_involvment(x, roots))"
   ]
  },
  {
   "cell_type": "code",
   "execution_count": 36,
   "metadata": {},
   "outputs": [
    {
     "data": {
      "text/plain": "0.500000    369\n0.250000    339\n0.333333    337\n0.200000    293\n0.166667    285\n           ... \n0.313725      1\n0.144231      1\n0.004525      1\n0.030000      1\n0.012097      1\nLength: 330, dtype: int64"
     },
     "execution_count": 36,
     "metadata": {},
     "output_type": "execute_result"
    }
   ],
   "source": [
    "op_involvment.value_counts()"
   ]
  },
  {
   "cell_type": "code",
   "execution_count": 37,
   "metadata": {},
   "outputs": [
    {
     "data": {
      "text/plain": "                    op_involvment\nconversation_id                  \n498235547685756928       0.300000\n498248415223246848       0.047619\n498248648699150336       0.015625\n498250100079341568       0.333333\n498251940997136384       0.125000\n...                           ...\n581404604677660673       0.025641\n581409613913804800       0.071429\n581411131547320321       0.100000\n581437061363675136       0.142857\n581473088249958400       0.166667\n\n[4874 rows x 1 columns]",
      "text/html": "<div>\n<style scoped>\n    .dataframe tbody tr th:only-of-type {\n        vertical-align: middle;\n    }\n\n    .dataframe tbody tr th {\n        vertical-align: top;\n    }\n\n    .dataframe thead th {\n        text-align: right;\n    }\n</style>\n<table border=\"1\" class=\"dataframe\">\n  <thead>\n    <tr style=\"text-align: right;\">\n      <th></th>\n      <th>op_involvment</th>\n    </tr>\n    <tr>\n      <th>conversation_id</th>\n      <th></th>\n    </tr>\n  </thead>\n  <tbody>\n    <tr>\n      <th>498235547685756928</th>\n      <td>0.300000</td>\n    </tr>\n    <tr>\n      <th>498248415223246848</th>\n      <td>0.047619</td>\n    </tr>\n    <tr>\n      <th>498248648699150336</th>\n      <td>0.015625</td>\n    </tr>\n    <tr>\n      <th>498250100079341568</th>\n      <td>0.333333</td>\n    </tr>\n    <tr>\n      <th>498251940997136384</th>\n      <td>0.125000</td>\n    </tr>\n    <tr>\n      <th>...</th>\n      <td>...</td>\n    </tr>\n    <tr>\n      <th>581404604677660673</th>\n      <td>0.025641</td>\n    </tr>\n    <tr>\n      <th>581409613913804800</th>\n      <td>0.071429</td>\n    </tr>\n    <tr>\n      <th>581411131547320321</th>\n      <td>0.100000</td>\n    </tr>\n    <tr>\n      <th>581437061363675136</th>\n      <td>0.142857</td>\n    </tr>\n    <tr>\n      <th>581473088249958400</th>\n      <td>0.166667</td>\n    </tr>\n  </tbody>\n</table>\n<p>4874 rows × 1 columns</p>\n</div>"
     },
     "execution_count": 37,
     "metadata": {},
     "output_type": "execute_result"
    }
   ],
   "source": [
    "op_involvment_ = pd.DataFrame(op_involvment).rename({0:'op_involvment'}, axis=1)\n",
    "op_involvment_"
   ]
  },
  {
   "cell_type": "code",
   "execution_count": 38,
   "metadata": {},
   "outputs": [],
   "source": [
    "feature_set = data.merge(op_involvment_, how='left', on = 'conversation_id')"
   ]
  },
  {
   "cell_type": "markdown",
   "metadata": {},
   "source": [
    "## Running MAXCUT"
   ]
  },
  {
   "cell_type": "code",
   "execution_count": 98,
   "outputs": [],
   "source": [
    "def expand_classification_to_neighbors(\n",
    "        interactions_graph: nx.Graph,\n",
    "        start_label: bool,\n",
    "        start_node: str,\n",
    "        all_predicted: Tuple[List[str], List[str]],\n",
    "        predicted_nodes: Set[str]\n",
    "):\n",
    "    for node in interactions_graph.neighbors(start_node):\n",
    "            if node in predicted_nodes:\n",
    "                continue\n",
    "\n",
    "            prev_node = start_node\n",
    "            label = int(start_label)\n",
    "            all_predicted[label].append(node)\n",
    "            neighbors = list(interactions_graph.neighbors(node))\n",
    "            while len(neighbors) > 1:\n",
    "                next_node = neighbors[0] if neighbors[0] != prev_node else neighbors[1]\n",
    "                prev_node = node\n",
    "                node = next_node\n",
    "                label = 1 - label\n",
    "                all_predicted[label].append(node)\n",
    "                neighbors = list(interactions_graph.neighbors(node))\n",
    "\n",
    "def expand_classification(\n",
    "        interactions_graph: nx.Graph,\n",
    "        supporters: Sequence[str],\n",
    "        opposers: Sequence[str]\n",
    ") -> Tuple[List[str], List[str]]:\n",
    "    predicted_nodes = set(supporters) | set(opposers)\n",
    "    all_predicted = (list(supporters), list(opposers))\n",
    "    for i, group in enumerate([supporters, opposers]):\n",
    "        for node in group:\n",
    "            expand_classification_to_neighbors(\n",
    "                interactions_graph,\n",
    "                1 - i,\n",
    "                node,\n",
    "                all_predicted,\n",
    "                predicted_nodes\n",
    "            )\n",
    "\n",
    "    return all_predicted"
   ],
   "metadata": {
    "collapsed": false,
    "pycharm": {
     "name": "#%%\n"
    }
   }
  },
  {
   "cell_type": "code",
   "execution_count": 99,
   "metadata": {},
   "outputs": [
    {
     "data": {
      "text/plain": "HBox(children=(FloatProgress(value=0.0, max=4874.0), HTML(value='')))",
      "application/vnd.jupyter.widget-view+json": {
       "version_major": 2,
       "version_minor": 0,
       "model_id": "464c95febda54f31bdd6fcff07ca3337"
      }
     },
     "metadata": {},
     "output_type": "display_data"
    },
    {
     "name": "stdout",
     "output_type": "stream",
     "text": [
      "\n"
     ]
    }
   ],
   "source": [
    "rumers_author_stance = []\n",
    "for conversation in tqdm(conversations):\n",
    "    reply_interactions_parser = get_reply_interactions_parser()\n",
    "    interaction_graph = reply_interactions_parser.parse(conversation)\n",
    "    orig_graph = interaction_graph.graph.copy()\n",
    "    interaction_graph = interaction_graph.get_core_interactions(inplace=True)\n",
    "    interaction_graph.set_interaction_weights(lambda x: x['replies'])\n",
    "    maxcut = MaxcutStanceClassifier()\n",
    "    maxcut.set_input(interaction_graph.graph)\n",
    "    op = conversation.root.author\n",
    "    maxcut.classify_stance(op)\n",
    "    supporters = maxcut.supporters\n",
    "    opposers = maxcut.complement\n",
    "    supporters, opposers = expand_classification(orig_graph,\n",
    "                                                 supporters,\n",
    "                                                 opposers)\n",
    "\n",
    "    for supporter in supporters:\n",
    "        row = {'conversation_id': conversation.id,\n",
    "               'op': conversation.op,\n",
    "               'author': supporter,\n",
    "               'stance': 'supporter'}\n",
    "        rumers_author_stance.append(row)\n",
    "    for opposer in opposers:\n",
    "        row = {'conversation_id': conversation.id,\n",
    "               'op': conversation.op,\n",
    "               'author': opposer,\n",
    "               'stance': 'opposer'}\n",
    "        rumers_author_stance.append(row)"
   ]
  },
  {
   "cell_type": "code",
   "execution_count": 100,
   "metadata": {},
   "outputs": [
    {
     "data": {
      "text/plain": "31034"
     },
     "execution_count": 100,
     "metadata": {},
     "output_type": "execute_result"
    }
   ],
   "source": [
    "len(rumers_author_stance)"
   ]
  },
  {
   "cell_type": "code",
   "execution_count": 101,
   "metadata": {},
   "outputs": [
    {
     "data": {
      "text/plain": "          conversation_id        op      author     stance\n0      498248415223246848  14090948    14090948  supporter\n1      498248415223246848  14090948    19313747  supporter\n2      498248415223246848  14090948   977432202    opposer\n3      498248415223246848  14090948    14238795    opposer\n4      498248415223246848  14090948   105357244    opposer\n...                   ...       ...         ...        ...\n31029  581409613913804800   5392522   240391453    opposer\n31030  581409613913804800   5392522   135160732    opposer\n31031  581409613913804800   5392522  2179058990    opposer\n31032  581409613913804800   5392522    94926215    opposer\n31033  581409613913804800   5392522    12841062    opposer\n\n[31034 rows x 4 columns]",
      "text/html": "<div>\n<style scoped>\n    .dataframe tbody tr th:only-of-type {\n        vertical-align: middle;\n    }\n\n    .dataframe tbody tr th {\n        vertical-align: top;\n    }\n\n    .dataframe thead th {\n        text-align: right;\n    }\n</style>\n<table border=\"1\" class=\"dataframe\">\n  <thead>\n    <tr style=\"text-align: right;\">\n      <th></th>\n      <th>conversation_id</th>\n      <th>op</th>\n      <th>author</th>\n      <th>stance</th>\n    </tr>\n  </thead>\n  <tbody>\n    <tr>\n      <th>0</th>\n      <td>498248415223246848</td>\n      <td>14090948</td>\n      <td>14090948</td>\n      <td>supporter</td>\n    </tr>\n    <tr>\n      <th>1</th>\n      <td>498248415223246848</td>\n      <td>14090948</td>\n      <td>19313747</td>\n      <td>supporter</td>\n    </tr>\n    <tr>\n      <th>2</th>\n      <td>498248415223246848</td>\n      <td>14090948</td>\n      <td>977432202</td>\n      <td>opposer</td>\n    </tr>\n    <tr>\n      <th>3</th>\n      <td>498248415223246848</td>\n      <td>14090948</td>\n      <td>14238795</td>\n      <td>opposer</td>\n    </tr>\n    <tr>\n      <th>4</th>\n      <td>498248415223246848</td>\n      <td>14090948</td>\n      <td>105357244</td>\n      <td>opposer</td>\n    </tr>\n    <tr>\n      <th>...</th>\n      <td>...</td>\n      <td>...</td>\n      <td>...</td>\n      <td>...</td>\n    </tr>\n    <tr>\n      <th>31029</th>\n      <td>581409613913804800</td>\n      <td>5392522</td>\n      <td>240391453</td>\n      <td>opposer</td>\n    </tr>\n    <tr>\n      <th>31030</th>\n      <td>581409613913804800</td>\n      <td>5392522</td>\n      <td>135160732</td>\n      <td>opposer</td>\n    </tr>\n    <tr>\n      <th>31031</th>\n      <td>581409613913804800</td>\n      <td>5392522</td>\n      <td>2179058990</td>\n      <td>opposer</td>\n    </tr>\n    <tr>\n      <th>31032</th>\n      <td>581409613913804800</td>\n      <td>5392522</td>\n      <td>94926215</td>\n      <td>opposer</td>\n    </tr>\n    <tr>\n      <th>31033</th>\n      <td>581409613913804800</td>\n      <td>5392522</td>\n      <td>12841062</td>\n      <td>opposer</td>\n    </tr>\n  </tbody>\n</table>\n<p>31034 rows × 4 columns</p>\n</div>"
     },
     "execution_count": 101,
     "metadata": {},
     "output_type": "execute_result"
    }
   ],
   "source": [
    "user_stance_rumors = pd.DataFrame(rumers_author_stance)\n",
    "user_stance_rumors"
   ]
  },
  {
   "cell_type": "code",
   "execution_count": 102,
   "metadata": {},
   "outputs": [
    {
     "data": {
      "text/plain": "conversation_id    object\nop                 object\nauthor             object\nstance             object\ndtype: object"
     },
     "execution_count": 102,
     "metadata": {},
     "output_type": "execute_result"
    }
   ],
   "source": [
    "user_stance_rumors.dtypes"
   ]
  },
  {
   "cell_type": "code",
   "execution_count": 103,
   "metadata": {},
   "outputs": [
    {
     "data": {
      "text/plain": "773"
     },
     "execution_count": 103,
     "metadata": {},
     "output_type": "execute_result"
    }
   ],
   "source": [
    "user_stance_rumors.conversation_id.nunique()"
   ]
  },
  {
   "cell_type": "markdown",
   "metadata": {},
   "source": [
    "## Gold Standard"
   ]
  },
  {
   "cell_type": "code",
   "execution_count": 104,
   "metadata": {},
   "outputs": [],
   "source": [
    "def load_annotations(annotations_path: str) -> Iterable[dict]:\n",
    "    with open(annotations_path, 'r') as f:\n",
    "        for line in f:\n",
    "            if line.startswith(\"{\"):\n",
    "                ann = json.loads(line)\n",
    "                if \"responsetype-vs-source\" in ann:\n",
    "                    yield ann"
   ]
  },
  {
   "cell_type": "code",
   "execution_count": 105,
   "outputs": [
    {
     "data": {
      "text/plain": "             event            threadid             tweetid  \\\n0     putinmissing  577258317942149120  577260238316830721   \n1     putinmissing  577258317942149120  577282462788677634   \n2     putinmissing  577258317942149120  577283431089901568   \n3     putinmissing  577258317942149120  577284294051123201   \n4     putinmissing  577258317942149120  577287160329465856   \n...            ...                 ...                 ...   \n4258  ebola-essien  521346721226711040  521371539082858496   \n4259  ebola-essien  521346721226711040  521371742942797825   \n4260  ebola-essien  521346721226711040  521353434881327104   \n4261  ebola-essien  521346721226711040  521366121484918785   \n4262  ebola-essien  521360486387175424  521468848466591744   \n\n     responsetype-vs-source  certainty evidentiality responsetype-vs-previous  \n0                   comment        NaN           NaN                      NaN  \n1                   comment        NaN           NaN                      NaN  \n2                   comment        NaN           NaN                      NaN  \n3                   comment        NaN           NaN                      NaN  \n4                   comment        NaN           NaN                      NaN  \n...                     ...        ...           ...                      ...  \n4258                comment        NaN           NaN                  comment  \n4259                comment        NaN           NaN                  comment  \n4260                comment        NaN           NaN                  comment  \n4261              disagreed  uncertain   no-evidence                  comment  \n4262                comment        NaN           NaN                  comment  \n\n[4263 rows x 7 columns]",
      "text/html": "<div>\n<style scoped>\n    .dataframe tbody tr th:only-of-type {\n        vertical-align: middle;\n    }\n\n    .dataframe tbody tr th {\n        vertical-align: top;\n    }\n\n    .dataframe thead th {\n        text-align: right;\n    }\n</style>\n<table border=\"1\" class=\"dataframe\">\n  <thead>\n    <tr style=\"text-align: right;\">\n      <th></th>\n      <th>event</th>\n      <th>threadid</th>\n      <th>tweetid</th>\n      <th>responsetype-vs-source</th>\n      <th>certainty</th>\n      <th>evidentiality</th>\n      <th>responsetype-vs-previous</th>\n    </tr>\n  </thead>\n  <tbody>\n    <tr>\n      <th>0</th>\n      <td>putinmissing</td>\n      <td>577258317942149120</td>\n      <td>577260238316830721</td>\n      <td>comment</td>\n      <td>NaN</td>\n      <td>NaN</td>\n      <td>NaN</td>\n    </tr>\n    <tr>\n      <th>1</th>\n      <td>putinmissing</td>\n      <td>577258317942149120</td>\n      <td>577282462788677634</td>\n      <td>comment</td>\n      <td>NaN</td>\n      <td>NaN</td>\n      <td>NaN</td>\n    </tr>\n    <tr>\n      <th>2</th>\n      <td>putinmissing</td>\n      <td>577258317942149120</td>\n      <td>577283431089901568</td>\n      <td>comment</td>\n      <td>NaN</td>\n      <td>NaN</td>\n      <td>NaN</td>\n    </tr>\n    <tr>\n      <th>3</th>\n      <td>putinmissing</td>\n      <td>577258317942149120</td>\n      <td>577284294051123201</td>\n      <td>comment</td>\n      <td>NaN</td>\n      <td>NaN</td>\n      <td>NaN</td>\n    </tr>\n    <tr>\n      <th>4</th>\n      <td>putinmissing</td>\n      <td>577258317942149120</td>\n      <td>577287160329465856</td>\n      <td>comment</td>\n      <td>NaN</td>\n      <td>NaN</td>\n      <td>NaN</td>\n    </tr>\n    <tr>\n      <th>...</th>\n      <td>...</td>\n      <td>...</td>\n      <td>...</td>\n      <td>...</td>\n      <td>...</td>\n      <td>...</td>\n      <td>...</td>\n    </tr>\n    <tr>\n      <th>4258</th>\n      <td>ebola-essien</td>\n      <td>521346721226711040</td>\n      <td>521371539082858496</td>\n      <td>comment</td>\n      <td>NaN</td>\n      <td>NaN</td>\n      <td>comment</td>\n    </tr>\n    <tr>\n      <th>4259</th>\n      <td>ebola-essien</td>\n      <td>521346721226711040</td>\n      <td>521371742942797825</td>\n      <td>comment</td>\n      <td>NaN</td>\n      <td>NaN</td>\n      <td>comment</td>\n    </tr>\n    <tr>\n      <th>4260</th>\n      <td>ebola-essien</td>\n      <td>521346721226711040</td>\n      <td>521353434881327104</td>\n      <td>comment</td>\n      <td>NaN</td>\n      <td>NaN</td>\n      <td>comment</td>\n    </tr>\n    <tr>\n      <th>4261</th>\n      <td>ebola-essien</td>\n      <td>521346721226711040</td>\n      <td>521366121484918785</td>\n      <td>disagreed</td>\n      <td>uncertain</td>\n      <td>no-evidence</td>\n      <td>comment</td>\n    </tr>\n    <tr>\n      <th>4262</th>\n      <td>ebola-essien</td>\n      <td>521360486387175424</td>\n      <td>521468848466591744</td>\n      <td>comment</td>\n      <td>NaN</td>\n      <td>NaN</td>\n      <td>comment</td>\n    </tr>\n  </tbody>\n</table>\n<p>4263 rows × 7 columns</p>\n</div>"
     },
     "execution_count": 105,
     "metadata": {},
     "output_type": "execute_result"
    }
   ],
   "source": [
    "path = r\"C:\\Users\\ronp\\Documents\\stance-classification\\rumors_dataset\\pheme-rumour-scheme-dataset\\annotations\\en-scheme-annotations.json\"\n",
    "# path = \"/Users/shaimeital/code/thesis/cmv-stance-classification/Examples/en-scheme-annotations_clean.jsonl\"\n",
    "\n",
    "annotations = load_annotations(path)\n",
    "rumors_gold_label = pd.DataFrame.from_records(annotations)\n",
    "rumors_gold_label\n"
   ],
   "metadata": {
    "collapsed": false,
    "pycharm": {
     "name": "#%%\n"
    }
   }
  },
  {
   "cell_type": "code",
   "execution_count": 106,
   "metadata": {},
   "outputs": [
    {
     "data": {
      "text/plain": "comment                        2923\nagreed                          645\nappeal-for-more-information     361\ndisagreed                       334\nName: responsetype-vs-source, dtype: int64"
     },
     "execution_count": 106,
     "metadata": {},
     "output_type": "execute_result"
    }
   ],
   "source": [
    "rumors_gold_label['responsetype-vs-source'].value_counts()"
   ]
  },
  {
   "cell_type": "code",
   "execution_count": 107,
   "metadata": {},
   "outputs": [
    {
     "data": {
      "text/plain": "                threadid             tweetid      label\n0     577258317942149120  577260238316830721    comment\n1     577258317942149120  577282462788677634    comment\n2     577258317942149120  577283431089901568    comment\n3     577258317942149120  577284294051123201    comment\n4     577258317942149120  577287160329465856    comment\n...                  ...                 ...        ...\n4258  521346721226711040  521371539082858496    comment\n4259  521346721226711040  521371742942797825    comment\n4260  521346721226711040  521353434881327104    comment\n4261  521346721226711040  521366121484918785  disagreed\n4262  521360486387175424  521468848466591744    comment\n\n[4263 rows x 3 columns]",
      "text/html": "<div>\n<style scoped>\n    .dataframe tbody tr th:only-of-type {\n        vertical-align: middle;\n    }\n\n    .dataframe tbody tr th {\n        vertical-align: top;\n    }\n\n    .dataframe thead th {\n        text-align: right;\n    }\n</style>\n<table border=\"1\" class=\"dataframe\">\n  <thead>\n    <tr style=\"text-align: right;\">\n      <th></th>\n      <th>threadid</th>\n      <th>tweetid</th>\n      <th>label</th>\n    </tr>\n  </thead>\n  <tbody>\n    <tr>\n      <th>0</th>\n      <td>577258317942149120</td>\n      <td>577260238316830721</td>\n      <td>comment</td>\n    </tr>\n    <tr>\n      <th>1</th>\n      <td>577258317942149120</td>\n      <td>577282462788677634</td>\n      <td>comment</td>\n    </tr>\n    <tr>\n      <th>2</th>\n      <td>577258317942149120</td>\n      <td>577283431089901568</td>\n      <td>comment</td>\n    </tr>\n    <tr>\n      <th>3</th>\n      <td>577258317942149120</td>\n      <td>577284294051123201</td>\n      <td>comment</td>\n    </tr>\n    <tr>\n      <th>4</th>\n      <td>577258317942149120</td>\n      <td>577287160329465856</td>\n      <td>comment</td>\n    </tr>\n    <tr>\n      <th>...</th>\n      <td>...</td>\n      <td>...</td>\n      <td>...</td>\n    </tr>\n    <tr>\n      <th>4258</th>\n      <td>521346721226711040</td>\n      <td>521371539082858496</td>\n      <td>comment</td>\n    </tr>\n    <tr>\n      <th>4259</th>\n      <td>521346721226711040</td>\n      <td>521371742942797825</td>\n      <td>comment</td>\n    </tr>\n    <tr>\n      <th>4260</th>\n      <td>521346721226711040</td>\n      <td>521353434881327104</td>\n      <td>comment</td>\n    </tr>\n    <tr>\n      <th>4261</th>\n      <td>521346721226711040</td>\n      <td>521366121484918785</td>\n      <td>disagreed</td>\n    </tr>\n    <tr>\n      <th>4262</th>\n      <td>521360486387175424</td>\n      <td>521468848466591744</td>\n      <td>comment</td>\n    </tr>\n  </tbody>\n</table>\n<p>4263 rows × 3 columns</p>\n</div>"
     },
     "execution_count": 107,
     "metadata": {},
     "output_type": "execute_result"
    }
   ],
   "source": [
    "rumors_gold_label = rumors_gold_label.filter(['threadid', 'tweetid', 'responsetype-vs-source'], axis=1).rename({'responsetype-vs-source': 'label'}, axis=1)\n",
    "rumors_gold_label"
   ]
  },
  {
   "cell_type": "code",
   "execution_count": 108,
   "metadata": {},
   "outputs": [],
   "source": [
    "rumors_gold_label.threadid = rumors_gold_label.threadid.astype('str') "
   ]
  },
  {
   "cell_type": "code",
   "execution_count": 109,
   "metadata": {},
   "outputs": [],
   "source": [
    "rumors_gold_label.tweetid = rumors_gold_label.tweetid.astype('str') "
   ]
  },
  {
   "cell_type": "code",
   "execution_count": 110,
   "metadata": {},
   "outputs": [
    {
     "data": {
      "text/plain": "threadid    object\ntweetid     object\nlabel       object\ndtype: object"
     },
     "execution_count": 110,
     "metadata": {},
     "output_type": "execute_result"
    }
   ],
   "source": [
    "rumors_gold_label.dtypes"
   ]
  },
  {
   "cell_type": "code",
   "execution_count": 111,
   "outputs": [
    {
     "data": {
      "text/plain": "                  tweetid      author           parent_id  depth  is_root  \\\n0      498235547685756928  1539100118                None      0     True   \n1      498265524397432832    21461995  498235547685756928      1    False   \n2      498710112358244352   481509183  498235547685756928      1    False   \n3      498785502062190592  1539100118  498710112358244352      2    False   \n4      498519407375941632  2331498373  498235547685756928      1    False   \n...                   ...         ...                 ...    ...      ...   \n98811  581473907275915264  1895019528  581473088249958400      1    False   \n98812  581474582302949376  2983617889  581473088249958400      1    False   \n98813  581473799398359040  2920578401  581473088249958400      1    False   \n98814  581482916645076993   373569258  581473088249958400      1    False   \n98815  581478014531203072   403864026  581473088249958400      1    False   \n\n       is_absolute_root  is_leaf     timestamp     conversation_id  \\\n0                  True    False  1.407624e+09  498235547685756928   \n1                 False     True  1.407631e+09  498235547685756928   \n2                 False    False  1.407737e+09  498235547685756928   \n3                 False     True  1.407755e+09  498235547685756928   \n4                 False     True  1.407691e+09  498235547685756928   \n...                 ...      ...           ...                 ...   \n98811             False     True  1.427469e+09  581473088249958400   \n98812             False     True  1.427469e+09  581473088249958400   \n98813             False     True  1.427469e+09  581473088249958400   \n98814             False     True  1.427471e+09  581473088249958400   \n98815             False     True  1.427470e+09  581473088249958400   \n\n                 threadid                                     data.full_text  \\\n0      498235547685756928  [Black teenage boys are not men. They are chil...   \n1      498235547685756928  [@annaxsweat http://t.co/Z7Qm4iaoSR, @annaxswe...   \n2      498235547685756928                                  [@annaxsweat 18*]   \n3      498235547685756928  [@AlexisAStevens yeah that tweet was written b...   \n4      498235547685756928  [@annaxsweat: Soooo wonderfully said! Thank yo...   \n...                   ...                                                ...   \n98811  581473088249958400               [@jjauthor @gatewaypundit terrorism]   \n98812  581473088249958400  [@jjauthor @gatewaypundit Hmmm.Doesn't pundit ...   \n98813  581473088249958400  [@jjauthor @gatewaypundit. I knew it! Those cr...   \n98814  581473088249958400  [@jjauthor @DesireeAaron @gatewaypundit this i...   \n98815  581473088249958400  [@jjauthor @gatewaypundit Isn't Islam a wonder...   \n\n                       data.conversation_id_str data.in_reply_to_screen_name  \n0                          [498235547685756928]                        [nan]  \n1      [498235547685756928, 498235547685756928]     [annaxsweat, annaxsweat]  \n2                          [498235547685756928]                 [annaxsweat]  \n3                          [498235547685756928]              [AlexisAurora_]  \n4                          [498235547685756928]                 [annaxsweat]  \n...                                         ...                          ...  \n98811                      [581473088249958400]                   [jjauthor]  \n98812                      [581473088249958400]                   [jjauthor]  \n98813                      [581473088249958400]                   [jjauthor]  \n98814                      [581473088249958400]                   [jjauthor]  \n98815                      [581473088249958400]                   [jjauthor]  \n\n[98816 rows x 13 columns]",
      "text/html": "<div>\n<style scoped>\n    .dataframe tbody tr th:only-of-type {\n        vertical-align: middle;\n    }\n\n    .dataframe tbody tr th {\n        vertical-align: top;\n    }\n\n    .dataframe thead th {\n        text-align: right;\n    }\n</style>\n<table border=\"1\" class=\"dataframe\">\n  <thead>\n    <tr style=\"text-align: right;\">\n      <th></th>\n      <th>tweetid</th>\n      <th>author</th>\n      <th>parent_id</th>\n      <th>depth</th>\n      <th>is_root</th>\n      <th>is_absolute_root</th>\n      <th>is_leaf</th>\n      <th>timestamp</th>\n      <th>conversation_id</th>\n      <th>threadid</th>\n      <th>data.full_text</th>\n      <th>data.conversation_id_str</th>\n      <th>data.in_reply_to_screen_name</th>\n    </tr>\n  </thead>\n  <tbody>\n    <tr>\n      <th>0</th>\n      <td>498235547685756928</td>\n      <td>1539100118</td>\n      <td>None</td>\n      <td>0</td>\n      <td>True</td>\n      <td>True</td>\n      <td>False</td>\n      <td>1.407624e+09</td>\n      <td>498235547685756928</td>\n      <td>498235547685756928</td>\n      <td>[Black teenage boys are not men. They are chil...</td>\n      <td>[498235547685756928]</td>\n      <td>[nan]</td>\n    </tr>\n    <tr>\n      <th>1</th>\n      <td>498265524397432832</td>\n      <td>21461995</td>\n      <td>498235547685756928</td>\n      <td>1</td>\n      <td>False</td>\n      <td>False</td>\n      <td>True</td>\n      <td>1.407631e+09</td>\n      <td>498235547685756928</td>\n      <td>498235547685756928</td>\n      <td>[@annaxsweat http://t.co/Z7Qm4iaoSR, @annaxswe...</td>\n      <td>[498235547685756928, 498235547685756928]</td>\n      <td>[annaxsweat, annaxsweat]</td>\n    </tr>\n    <tr>\n      <th>2</th>\n      <td>498710112358244352</td>\n      <td>481509183</td>\n      <td>498235547685756928</td>\n      <td>1</td>\n      <td>False</td>\n      <td>False</td>\n      <td>False</td>\n      <td>1.407737e+09</td>\n      <td>498235547685756928</td>\n      <td>498235547685756928</td>\n      <td>[@annaxsweat 18*]</td>\n      <td>[498235547685756928]</td>\n      <td>[annaxsweat]</td>\n    </tr>\n    <tr>\n      <th>3</th>\n      <td>498785502062190592</td>\n      <td>1539100118</td>\n      <td>498710112358244352</td>\n      <td>2</td>\n      <td>False</td>\n      <td>False</td>\n      <td>True</td>\n      <td>1.407755e+09</td>\n      <td>498235547685756928</td>\n      <td>498235547685756928</td>\n      <td>[@AlexisAStevens yeah that tweet was written b...</td>\n      <td>[498235547685756928]</td>\n      <td>[AlexisAurora_]</td>\n    </tr>\n    <tr>\n      <th>4</th>\n      <td>498519407375941632</td>\n      <td>2331498373</td>\n      <td>498235547685756928</td>\n      <td>1</td>\n      <td>False</td>\n      <td>False</td>\n      <td>True</td>\n      <td>1.407691e+09</td>\n      <td>498235547685756928</td>\n      <td>498235547685756928</td>\n      <td>[@annaxsweat: Soooo wonderfully said! Thank yo...</td>\n      <td>[498235547685756928]</td>\n      <td>[annaxsweat]</td>\n    </tr>\n    <tr>\n      <th>...</th>\n      <td>...</td>\n      <td>...</td>\n      <td>...</td>\n      <td>...</td>\n      <td>...</td>\n      <td>...</td>\n      <td>...</td>\n      <td>...</td>\n      <td>...</td>\n      <td>...</td>\n      <td>...</td>\n      <td>...</td>\n      <td>...</td>\n    </tr>\n    <tr>\n      <th>98811</th>\n      <td>581473907275915264</td>\n      <td>1895019528</td>\n      <td>581473088249958400</td>\n      <td>1</td>\n      <td>False</td>\n      <td>False</td>\n      <td>True</td>\n      <td>1.427469e+09</td>\n      <td>581473088249958400</td>\n      <td>581473088249958400</td>\n      <td>[@jjauthor @gatewaypundit terrorism]</td>\n      <td>[581473088249958400]</td>\n      <td>[jjauthor]</td>\n    </tr>\n    <tr>\n      <th>98812</th>\n      <td>581474582302949376</td>\n      <td>2983617889</td>\n      <td>581473088249958400</td>\n      <td>1</td>\n      <td>False</td>\n      <td>False</td>\n      <td>True</td>\n      <td>1.427469e+09</td>\n      <td>581473088249958400</td>\n      <td>581473088249958400</td>\n      <td>[@jjauthor @gatewaypundit Hmmm.Doesn't pundit ...</td>\n      <td>[581473088249958400]</td>\n      <td>[jjauthor]</td>\n    </tr>\n    <tr>\n      <th>98813</th>\n      <td>581473799398359040</td>\n      <td>2920578401</td>\n      <td>581473088249958400</td>\n      <td>1</td>\n      <td>False</td>\n      <td>False</td>\n      <td>True</td>\n      <td>1.427469e+09</td>\n      <td>581473088249958400</td>\n      <td>581473088249958400</td>\n      <td>[@jjauthor @gatewaypundit. I knew it! Those cr...</td>\n      <td>[581473088249958400]</td>\n      <td>[jjauthor]</td>\n    </tr>\n    <tr>\n      <th>98814</th>\n      <td>581482916645076993</td>\n      <td>373569258</td>\n      <td>581473088249958400</td>\n      <td>1</td>\n      <td>False</td>\n      <td>False</td>\n      <td>True</td>\n      <td>1.427471e+09</td>\n      <td>581473088249958400</td>\n      <td>581473088249958400</td>\n      <td>[@jjauthor @DesireeAaron @gatewaypundit this i...</td>\n      <td>[581473088249958400]</td>\n      <td>[jjauthor]</td>\n    </tr>\n    <tr>\n      <th>98815</th>\n      <td>581478014531203072</td>\n      <td>403864026</td>\n      <td>581473088249958400</td>\n      <td>1</td>\n      <td>False</td>\n      <td>False</td>\n      <td>True</td>\n      <td>1.427470e+09</td>\n      <td>581473088249958400</td>\n      <td>581473088249958400</td>\n      <td>[@jjauthor @gatewaypundit Isn't Islam a wonder...</td>\n      <td>[581473088249958400]</td>\n      <td>[jjauthor]</td>\n    </tr>\n  </tbody>\n</table>\n<p>98816 rows × 13 columns</p>\n</div>"
     },
     "execution_count": 111,
     "metadata": {},
     "output_type": "execute_result"
    }
   ],
   "source": [
    "twitter_convs = convs.copy()\n",
    "twitter_convs = twitter_convs.reset_index().rename({\n",
    "    \"full_conv_id\": \"threadid\",\n",
    "    \"node_id\": \"tweetid\"\n",
    "}, axis=1)\n",
    "twitter_convs"
   ],
   "metadata": {
    "collapsed": false,
    "pycharm": {
     "name": "#%%\n"
    }
   }
  },
  {
   "cell_type": "code",
   "execution_count": 112,
   "metadata": {},
   "outputs": [
    {
     "data": {
      "text/plain": "                 threadid             tweetid      author\n0      498235547685756928  498235547685756928  1539100118\n1      498235547685756928  498265524397432832    21461995\n2      498235547685756928  498710112358244352   481509183\n3      498235547685756928  498785502062190592  1539100118\n4      498235547685756928  498519407375941632  2331498373\n...                   ...                 ...         ...\n98811  581473088249958400  581473907275915264  1895019528\n98812  581473088249958400  581474582302949376  2983617889\n98813  581473088249958400  581473799398359040  2920578401\n98814  581473088249958400  581482916645076993   373569258\n98815  581473088249958400  581478014531203072   403864026\n\n[98816 rows x 3 columns]",
      "text/html": "<div>\n<style scoped>\n    .dataframe tbody tr th:only-of-type {\n        vertical-align: middle;\n    }\n\n    .dataframe tbody tr th {\n        vertical-align: top;\n    }\n\n    .dataframe thead th {\n        text-align: right;\n    }\n</style>\n<table border=\"1\" class=\"dataframe\">\n  <thead>\n    <tr style=\"text-align: right;\">\n      <th></th>\n      <th>threadid</th>\n      <th>tweetid</th>\n      <th>author</th>\n    </tr>\n  </thead>\n  <tbody>\n    <tr>\n      <th>0</th>\n      <td>498235547685756928</td>\n      <td>498235547685756928</td>\n      <td>1539100118</td>\n    </tr>\n    <tr>\n      <th>1</th>\n      <td>498235547685756928</td>\n      <td>498265524397432832</td>\n      <td>21461995</td>\n    </tr>\n    <tr>\n      <th>2</th>\n      <td>498235547685756928</td>\n      <td>498710112358244352</td>\n      <td>481509183</td>\n    </tr>\n    <tr>\n      <th>3</th>\n      <td>498235547685756928</td>\n      <td>498785502062190592</td>\n      <td>1539100118</td>\n    </tr>\n    <tr>\n      <th>4</th>\n      <td>498235547685756928</td>\n      <td>498519407375941632</td>\n      <td>2331498373</td>\n    </tr>\n    <tr>\n      <th>...</th>\n      <td>...</td>\n      <td>...</td>\n      <td>...</td>\n    </tr>\n    <tr>\n      <th>98811</th>\n      <td>581473088249958400</td>\n      <td>581473907275915264</td>\n      <td>1895019528</td>\n    </tr>\n    <tr>\n      <th>98812</th>\n      <td>581473088249958400</td>\n      <td>581474582302949376</td>\n      <td>2983617889</td>\n    </tr>\n    <tr>\n      <th>98813</th>\n      <td>581473088249958400</td>\n      <td>581473799398359040</td>\n      <td>2920578401</td>\n    </tr>\n    <tr>\n      <th>98814</th>\n      <td>581473088249958400</td>\n      <td>581482916645076993</td>\n      <td>373569258</td>\n    </tr>\n    <tr>\n      <th>98815</th>\n      <td>581473088249958400</td>\n      <td>581478014531203072</td>\n      <td>403864026</td>\n    </tr>\n  </tbody>\n</table>\n<p>98816 rows × 3 columns</p>\n</div>"
     },
     "execution_count": 112,
     "metadata": {},
     "output_type": "execute_result"
    }
   ],
   "source": [
    "convs_a = twitter_convs.filter(['threadid', 'tweetid', 'author'], axis=1)\n",
    "convs_a"
   ]
  },
  {
   "cell_type": "code",
   "execution_count": 113,
   "metadata": {},
   "outputs": [
    {
     "data": {
      "text/plain": "threadid    object\ntweetid     object\nauthor      object\ndtype: object"
     },
     "execution_count": 113,
     "metadata": {},
     "output_type": "execute_result"
    }
   ],
   "source": [
    "convs_a.dtypes"
   ]
  },
  {
   "cell_type": "code",
   "execution_count": 114,
   "metadata": {},
   "outputs": [
    {
     "data": {
      "text/plain": "                threadid             tweetid      label     author\n0     577258317942149120  577260238316830721    comment        NaN\n1     577258317942149120  577282462788677634    comment        NaN\n2     577258317942149120  577283431089901568    comment        NaN\n3     577258317942149120  577284294051123201    comment        NaN\n4     577258317942149120  577287160329465856    comment        NaN\n...                  ...                 ...        ...        ...\n4258  521346721226711040  521371539082858496    comment        NaN\n4259  521346721226711040  521371742942797825    comment        NaN\n4260  521346721226711040  521353434881327104    comment  466457803\n4261  521346721226711040  521366121484918785  disagreed        NaN\n4262  521360486387175424  521468848466591744    comment        NaN\n\n[4263 rows x 4 columns]",
      "text/html": "<div>\n<style scoped>\n    .dataframe tbody tr th:only-of-type {\n        vertical-align: middle;\n    }\n\n    .dataframe tbody tr th {\n        vertical-align: top;\n    }\n\n    .dataframe thead th {\n        text-align: right;\n    }\n</style>\n<table border=\"1\" class=\"dataframe\">\n  <thead>\n    <tr style=\"text-align: right;\">\n      <th></th>\n      <th>threadid</th>\n      <th>tweetid</th>\n      <th>label</th>\n      <th>author</th>\n    </tr>\n  </thead>\n  <tbody>\n    <tr>\n      <th>0</th>\n      <td>577258317942149120</td>\n      <td>577260238316830721</td>\n      <td>comment</td>\n      <td>NaN</td>\n    </tr>\n    <tr>\n      <th>1</th>\n      <td>577258317942149120</td>\n      <td>577282462788677634</td>\n      <td>comment</td>\n      <td>NaN</td>\n    </tr>\n    <tr>\n      <th>2</th>\n      <td>577258317942149120</td>\n      <td>577283431089901568</td>\n      <td>comment</td>\n      <td>NaN</td>\n    </tr>\n    <tr>\n      <th>3</th>\n      <td>577258317942149120</td>\n      <td>577284294051123201</td>\n      <td>comment</td>\n      <td>NaN</td>\n    </tr>\n    <tr>\n      <th>4</th>\n      <td>577258317942149120</td>\n      <td>577287160329465856</td>\n      <td>comment</td>\n      <td>NaN</td>\n    </tr>\n    <tr>\n      <th>...</th>\n      <td>...</td>\n      <td>...</td>\n      <td>...</td>\n      <td>...</td>\n    </tr>\n    <tr>\n      <th>4258</th>\n      <td>521346721226711040</td>\n      <td>521371539082858496</td>\n      <td>comment</td>\n      <td>NaN</td>\n    </tr>\n    <tr>\n      <th>4259</th>\n      <td>521346721226711040</td>\n      <td>521371742942797825</td>\n      <td>comment</td>\n      <td>NaN</td>\n    </tr>\n    <tr>\n      <th>4260</th>\n      <td>521346721226711040</td>\n      <td>521353434881327104</td>\n      <td>comment</td>\n      <td>466457803</td>\n    </tr>\n    <tr>\n      <th>4261</th>\n      <td>521346721226711040</td>\n      <td>521366121484918785</td>\n      <td>disagreed</td>\n      <td>NaN</td>\n    </tr>\n    <tr>\n      <th>4262</th>\n      <td>521360486387175424</td>\n      <td>521468848466591744</td>\n      <td>comment</td>\n      <td>NaN</td>\n    </tr>\n  </tbody>\n</table>\n<p>4263 rows × 4 columns</p>\n</div>"
     },
     "execution_count": 114,
     "metadata": {},
     "output_type": "execute_result"
    }
   ],
   "source": [
    "rumors_gold_label_ = rumors_gold_label.merge(convs_a, how = 'left', on=['threadid', 'tweetid'])\n",
    "rumors_gold_label_"
   ]
  },
  {
   "cell_type": "code",
   "execution_count": 115,
   "metadata": {},
   "outputs": [
    {
     "data": {
      "text/plain": "2180"
     },
     "execution_count": 115,
     "metadata": {},
     "output_type": "execute_result"
    }
   ],
   "source": [
    "rumors_gold_label_.author.isna().sum()"
   ]
  },
  {
   "cell_type": "code",
   "execution_count": 116,
   "metadata": {},
   "outputs": [
    {
     "data": {
      "text/plain": "                threadid             tweetid                        label  \\\n5     576755174531862529  576755963597746176                      comment   \n7     576755174531862529  576758668026245120  appeal-for-more-information   \n8     576319832800555008  576321273594294272                      comment   \n10    576319832800555008  576321856166346752                    disagreed   \n12    576319832800555008  576327925869506560  appeal-for-more-information   \n...                  ...                 ...                          ...   \n4219  524932935137628160  524940370321629184                      comment   \n4253  521346721226711040  521367394108071936                       agreed   \n4254  521346721226711040  521367905062379521                    disagreed   \n4255  521346721226711040  521368022880378882                      comment   \n4260  521346721226711040  521353434881327104                      comment   \n\n          author  \n5      376884268  \n7        5469742  \n8     1946971338  \n10    2406844921  \n12     138681055  \n...          ...  \n4219    37632713  \n4253  2747372070  \n4254   430026970  \n4255  2747372070  \n4260   466457803  \n\n[2083 rows x 4 columns]",
      "text/html": "<div>\n<style scoped>\n    .dataframe tbody tr th:only-of-type {\n        vertical-align: middle;\n    }\n\n    .dataframe tbody tr th {\n        vertical-align: top;\n    }\n\n    .dataframe thead th {\n        text-align: right;\n    }\n</style>\n<table border=\"1\" class=\"dataframe\">\n  <thead>\n    <tr style=\"text-align: right;\">\n      <th></th>\n      <th>threadid</th>\n      <th>tweetid</th>\n      <th>label</th>\n      <th>author</th>\n    </tr>\n  </thead>\n  <tbody>\n    <tr>\n      <th>5</th>\n      <td>576755174531862529</td>\n      <td>576755963597746176</td>\n      <td>comment</td>\n      <td>376884268</td>\n    </tr>\n    <tr>\n      <th>7</th>\n      <td>576755174531862529</td>\n      <td>576758668026245120</td>\n      <td>appeal-for-more-information</td>\n      <td>5469742</td>\n    </tr>\n    <tr>\n      <th>8</th>\n      <td>576319832800555008</td>\n      <td>576321273594294272</td>\n      <td>comment</td>\n      <td>1946971338</td>\n    </tr>\n    <tr>\n      <th>10</th>\n      <td>576319832800555008</td>\n      <td>576321856166346752</td>\n      <td>disagreed</td>\n      <td>2406844921</td>\n    </tr>\n    <tr>\n      <th>12</th>\n      <td>576319832800555008</td>\n      <td>576327925869506560</td>\n      <td>appeal-for-more-information</td>\n      <td>138681055</td>\n    </tr>\n    <tr>\n      <th>...</th>\n      <td>...</td>\n      <td>...</td>\n      <td>...</td>\n      <td>...</td>\n    </tr>\n    <tr>\n      <th>4219</th>\n      <td>524932935137628160</td>\n      <td>524940370321629184</td>\n      <td>comment</td>\n      <td>37632713</td>\n    </tr>\n    <tr>\n      <th>4253</th>\n      <td>521346721226711040</td>\n      <td>521367394108071936</td>\n      <td>agreed</td>\n      <td>2747372070</td>\n    </tr>\n    <tr>\n      <th>4254</th>\n      <td>521346721226711040</td>\n      <td>521367905062379521</td>\n      <td>disagreed</td>\n      <td>430026970</td>\n    </tr>\n    <tr>\n      <th>4255</th>\n      <td>521346721226711040</td>\n      <td>521368022880378882</td>\n      <td>comment</td>\n      <td>2747372070</td>\n    </tr>\n    <tr>\n      <th>4260</th>\n      <td>521346721226711040</td>\n      <td>521353434881327104</td>\n      <td>comment</td>\n      <td>466457803</td>\n    </tr>\n  </tbody>\n</table>\n<p>2083 rows × 4 columns</p>\n</div>"
     },
     "execution_count": 116,
     "metadata": {},
     "output_type": "execute_result"
    }
   ],
   "source": [
    "rumors_gold_label_nona = rumors_gold_label_.dropna()\n",
    "rumors_gold_label_nona"
   ]
  },
  {
   "cell_type": "code",
   "execution_count": 117,
   "metadata": {},
   "outputs": [
    {
     "data": {
      "text/plain": "                 threadid        op      author stance_prediction\n0      498248415223246848  14090948    14090948         supporter\n1      498248415223246848  14090948    19313747         supporter\n2      498248415223246848  14090948   977432202           opposer\n3      498248415223246848  14090948    14238795           opposer\n4      498248415223246848  14090948   105357244           opposer\n...                   ...       ...         ...               ...\n31029  581409613913804800   5392522   240391453           opposer\n31030  581409613913804800   5392522   135160732           opposer\n31031  581409613913804800   5392522  2179058990           opposer\n31032  581409613913804800   5392522    94926215           opposer\n31033  581409613913804800   5392522    12841062           opposer\n\n[31034 rows x 4 columns]",
      "text/html": "<div>\n<style scoped>\n    .dataframe tbody tr th:only-of-type {\n        vertical-align: middle;\n    }\n\n    .dataframe tbody tr th {\n        vertical-align: top;\n    }\n\n    .dataframe thead th {\n        text-align: right;\n    }\n</style>\n<table border=\"1\" class=\"dataframe\">\n  <thead>\n    <tr style=\"text-align: right;\">\n      <th></th>\n      <th>threadid</th>\n      <th>op</th>\n      <th>author</th>\n      <th>stance_prediction</th>\n    </tr>\n  </thead>\n  <tbody>\n    <tr>\n      <th>0</th>\n      <td>498248415223246848</td>\n      <td>14090948</td>\n      <td>14090948</td>\n      <td>supporter</td>\n    </tr>\n    <tr>\n      <th>1</th>\n      <td>498248415223246848</td>\n      <td>14090948</td>\n      <td>19313747</td>\n      <td>supporter</td>\n    </tr>\n    <tr>\n      <th>2</th>\n      <td>498248415223246848</td>\n      <td>14090948</td>\n      <td>977432202</td>\n      <td>opposer</td>\n    </tr>\n    <tr>\n      <th>3</th>\n      <td>498248415223246848</td>\n      <td>14090948</td>\n      <td>14238795</td>\n      <td>opposer</td>\n    </tr>\n    <tr>\n      <th>4</th>\n      <td>498248415223246848</td>\n      <td>14090948</td>\n      <td>105357244</td>\n      <td>opposer</td>\n    </tr>\n    <tr>\n      <th>...</th>\n      <td>...</td>\n      <td>...</td>\n      <td>...</td>\n      <td>...</td>\n    </tr>\n    <tr>\n      <th>31029</th>\n      <td>581409613913804800</td>\n      <td>5392522</td>\n      <td>240391453</td>\n      <td>opposer</td>\n    </tr>\n    <tr>\n      <th>31030</th>\n      <td>581409613913804800</td>\n      <td>5392522</td>\n      <td>135160732</td>\n      <td>opposer</td>\n    </tr>\n    <tr>\n      <th>31031</th>\n      <td>581409613913804800</td>\n      <td>5392522</td>\n      <td>2179058990</td>\n      <td>opposer</td>\n    </tr>\n    <tr>\n      <th>31032</th>\n      <td>581409613913804800</td>\n      <td>5392522</td>\n      <td>94926215</td>\n      <td>opposer</td>\n    </tr>\n    <tr>\n      <th>31033</th>\n      <td>581409613913804800</td>\n      <td>5392522</td>\n      <td>12841062</td>\n      <td>opposer</td>\n    </tr>\n  </tbody>\n</table>\n<p>31034 rows × 4 columns</p>\n</div>"
     },
     "execution_count": 117,
     "metadata": {},
     "output_type": "execute_result"
    }
   ],
   "source": [
    "user_stance_rumors = user_stance_rumors.rename({'conversation_id': 'threadid', 'stance':'stance_prediction'}, axis=1)\n",
    "user_stance_rumors"
   ]
  },
  {
   "cell_type": "code",
   "execution_count": 118,
   "metadata": {},
   "outputs": [
    {
     "data": {
      "text/plain": "                 threadid        op      author stance_prediction tweetid  \\\n0      498248415223246848  14090948    14090948         supporter     NaN   \n1      498248415223246848  14090948    19313747         supporter     NaN   \n2      498248415223246848  14090948   977432202           opposer     NaN   \n3      498248415223246848  14090948    14238795           opposer     NaN   \n4      498248415223246848  14090948   105357244           opposer     NaN   \n...                   ...       ...         ...               ...     ...   \n31141  581409613913804800   5392522   240391453           opposer     NaN   \n31142  581409613913804800   5392522   135160732           opposer     NaN   \n31143  581409613913804800   5392522  2179058990           opposer     NaN   \n31144  581409613913804800   5392522    94926215           opposer     NaN   \n31145  581409613913804800   5392522    12841062           opposer     NaN   \n\n      label  \n0       NaN  \n1       NaN  \n2       NaN  \n3       NaN  \n4       NaN  \n...     ...  \n31141   NaN  \n31142   NaN  \n31143   NaN  \n31144   NaN  \n31145   NaN  \n\n[31146 rows x 6 columns]",
      "text/html": "<div>\n<style scoped>\n    .dataframe tbody tr th:only-of-type {\n        vertical-align: middle;\n    }\n\n    .dataframe tbody tr th {\n        vertical-align: top;\n    }\n\n    .dataframe thead th {\n        text-align: right;\n    }\n</style>\n<table border=\"1\" class=\"dataframe\">\n  <thead>\n    <tr style=\"text-align: right;\">\n      <th></th>\n      <th>threadid</th>\n      <th>op</th>\n      <th>author</th>\n      <th>stance_prediction</th>\n      <th>tweetid</th>\n      <th>label</th>\n    </tr>\n  </thead>\n  <tbody>\n    <tr>\n      <th>0</th>\n      <td>498248415223246848</td>\n      <td>14090948</td>\n      <td>14090948</td>\n      <td>supporter</td>\n      <td>NaN</td>\n      <td>NaN</td>\n    </tr>\n    <tr>\n      <th>1</th>\n      <td>498248415223246848</td>\n      <td>14090948</td>\n      <td>19313747</td>\n      <td>supporter</td>\n      <td>NaN</td>\n      <td>NaN</td>\n    </tr>\n    <tr>\n      <th>2</th>\n      <td>498248415223246848</td>\n      <td>14090948</td>\n      <td>977432202</td>\n      <td>opposer</td>\n      <td>NaN</td>\n      <td>NaN</td>\n    </tr>\n    <tr>\n      <th>3</th>\n      <td>498248415223246848</td>\n      <td>14090948</td>\n      <td>14238795</td>\n      <td>opposer</td>\n      <td>NaN</td>\n      <td>NaN</td>\n    </tr>\n    <tr>\n      <th>4</th>\n      <td>498248415223246848</td>\n      <td>14090948</td>\n      <td>105357244</td>\n      <td>opposer</td>\n      <td>NaN</td>\n      <td>NaN</td>\n    </tr>\n    <tr>\n      <th>...</th>\n      <td>...</td>\n      <td>...</td>\n      <td>...</td>\n      <td>...</td>\n      <td>...</td>\n      <td>...</td>\n    </tr>\n    <tr>\n      <th>31141</th>\n      <td>581409613913804800</td>\n      <td>5392522</td>\n      <td>240391453</td>\n      <td>opposer</td>\n      <td>NaN</td>\n      <td>NaN</td>\n    </tr>\n    <tr>\n      <th>31142</th>\n      <td>581409613913804800</td>\n      <td>5392522</td>\n      <td>135160732</td>\n      <td>opposer</td>\n      <td>NaN</td>\n      <td>NaN</td>\n    </tr>\n    <tr>\n      <th>31143</th>\n      <td>581409613913804800</td>\n      <td>5392522</td>\n      <td>2179058990</td>\n      <td>opposer</td>\n      <td>NaN</td>\n      <td>NaN</td>\n    </tr>\n    <tr>\n      <th>31144</th>\n      <td>581409613913804800</td>\n      <td>5392522</td>\n      <td>94926215</td>\n      <td>opposer</td>\n      <td>NaN</td>\n      <td>NaN</td>\n    </tr>\n    <tr>\n      <th>31145</th>\n      <td>581409613913804800</td>\n      <td>5392522</td>\n      <td>12841062</td>\n      <td>opposer</td>\n      <td>NaN</td>\n      <td>NaN</td>\n    </tr>\n  </tbody>\n</table>\n<p>31146 rows × 6 columns</p>\n</div>"
     },
     "execution_count": 118,
     "metadata": {},
     "output_type": "execute_result"
    }
   ],
   "source": [
    "predictions = user_stance_rumors.merge(rumors_gold_label_nona, how='left', on = ['threadid', 'author'])\n",
    "predictions"
   ]
  },
  {
   "cell_type": "code",
   "execution_count": 119,
   "metadata": {},
   "outputs": [
    {
     "data": {
      "text/plain": "                 threadid        op      author stance_prediction  \\\n660    498430783699554305  24165761   571796080         supporter   \n662    498430783699554305  24165761   402355096         supporter   \n663    498430783699554305  24165761   277170191         supporter   \n664    498430783699554305  24165761    61934810           opposer   \n665    498430783699554305  24165761   798151213           opposer   \n...                   ...       ...         ...               ...   \n30265  580319078155468800   5402612  2551443991         supporter   \n30266  580319078155468800   5402612  2551443991         supporter   \n30269  580319078155468800   5402612    59162656           opposer   \n30270  580319078155468800   5402612    59162656           opposer   \n30271  580319078155468800   5402612    59162656           opposer   \n\n                  tweetid    label  \n660    498504798971650049  comment  \n662    498451864112074752  comment  \n663    498488174923227136   agreed  \n664    498440508256292864  comment  \n665    498432131669192704  comment  \n...                   ...      ...  \n30265  580337415241383938  comment  \n30266  580337829638598656  comment  \n30269  580320979995508737   agreed  \n30270  580333804457496576  comment  \n30271  580337664471265280  comment  \n\n[337 rows x 6 columns]",
      "text/html": "<div>\n<style scoped>\n    .dataframe tbody tr th:only-of-type {\n        vertical-align: middle;\n    }\n\n    .dataframe tbody tr th {\n        vertical-align: top;\n    }\n\n    .dataframe thead th {\n        text-align: right;\n    }\n</style>\n<table border=\"1\" class=\"dataframe\">\n  <thead>\n    <tr style=\"text-align: right;\">\n      <th></th>\n      <th>threadid</th>\n      <th>op</th>\n      <th>author</th>\n      <th>stance_prediction</th>\n      <th>tweetid</th>\n      <th>label</th>\n    </tr>\n  </thead>\n  <tbody>\n    <tr>\n      <th>660</th>\n      <td>498430783699554305</td>\n      <td>24165761</td>\n      <td>571796080</td>\n      <td>supporter</td>\n      <td>498504798971650049</td>\n      <td>comment</td>\n    </tr>\n    <tr>\n      <th>662</th>\n      <td>498430783699554305</td>\n      <td>24165761</td>\n      <td>402355096</td>\n      <td>supporter</td>\n      <td>498451864112074752</td>\n      <td>comment</td>\n    </tr>\n    <tr>\n      <th>663</th>\n      <td>498430783699554305</td>\n      <td>24165761</td>\n      <td>277170191</td>\n      <td>supporter</td>\n      <td>498488174923227136</td>\n      <td>agreed</td>\n    </tr>\n    <tr>\n      <th>664</th>\n      <td>498430783699554305</td>\n      <td>24165761</td>\n      <td>61934810</td>\n      <td>opposer</td>\n      <td>498440508256292864</td>\n      <td>comment</td>\n    </tr>\n    <tr>\n      <th>665</th>\n      <td>498430783699554305</td>\n      <td>24165761</td>\n      <td>798151213</td>\n      <td>opposer</td>\n      <td>498432131669192704</td>\n      <td>comment</td>\n    </tr>\n    <tr>\n      <th>...</th>\n      <td>...</td>\n      <td>...</td>\n      <td>...</td>\n      <td>...</td>\n      <td>...</td>\n      <td>...</td>\n    </tr>\n    <tr>\n      <th>30265</th>\n      <td>580319078155468800</td>\n      <td>5402612</td>\n      <td>2551443991</td>\n      <td>supporter</td>\n      <td>580337415241383938</td>\n      <td>comment</td>\n    </tr>\n    <tr>\n      <th>30266</th>\n      <td>580319078155468800</td>\n      <td>5402612</td>\n      <td>2551443991</td>\n      <td>supporter</td>\n      <td>580337829638598656</td>\n      <td>comment</td>\n    </tr>\n    <tr>\n      <th>30269</th>\n      <td>580319078155468800</td>\n      <td>5402612</td>\n      <td>59162656</td>\n      <td>opposer</td>\n      <td>580320979995508737</td>\n      <td>agreed</td>\n    </tr>\n    <tr>\n      <th>30270</th>\n      <td>580319078155468800</td>\n      <td>5402612</td>\n      <td>59162656</td>\n      <td>opposer</td>\n      <td>580333804457496576</td>\n      <td>comment</td>\n    </tr>\n    <tr>\n      <th>30271</th>\n      <td>580319078155468800</td>\n      <td>5402612</td>\n      <td>59162656</td>\n      <td>opposer</td>\n      <td>580337664471265280</td>\n      <td>comment</td>\n    </tr>\n  </tbody>\n</table>\n<p>337 rows × 6 columns</p>\n</div>"
     },
     "execution_count": 119,
     "metadata": {},
     "output_type": "execute_result"
    }
   ],
   "source": [
    "predictions_ = predictions.dropna()\n",
    "predictions_"
   ]
  },
  {
   "cell_type": "code",
   "execution_count": 120,
   "metadata": {},
   "outputs": [
    {
     "data": {
      "text/plain": "                 threadid          op      author stance_prediction  \\\n663    498430783699554305    24165761   277170191         supporter   \n4344   500286058664579072      972651  2423249816         supporter   \n4606   500290456845299714  1363520268    84887951         supporter   \n7006   500389488217309184    15996661   935922770         supporter   \n10400  529720273285566464    21137035    55121758         supporter   \n11635  544306719686656000    14460241   316364374         supporter   \n28243  553508098825261056    14173315   324658179         supporter   \n29308  553576010898497536     3108351  2208746299         supporter   \n\n                  tweetid   label  \n663    498488174923227136  agreed  \n4344   500290256928014336  agreed  \n4606   500298596772622336  agreed  \n7006   500476059880816640  agreed  \n10400  529721379302952961  agreed  \n11635  544309297480364032  agreed  \n28243  553541311484014592  agreed  \n29308  553577770983645186  agreed  ",
      "text/html": "<div>\n<style scoped>\n    .dataframe tbody tr th:only-of-type {\n        vertical-align: middle;\n    }\n\n    .dataframe tbody tr th {\n        vertical-align: top;\n    }\n\n    .dataframe thead th {\n        text-align: right;\n    }\n</style>\n<table border=\"1\" class=\"dataframe\">\n  <thead>\n    <tr style=\"text-align: right;\">\n      <th></th>\n      <th>threadid</th>\n      <th>op</th>\n      <th>author</th>\n      <th>stance_prediction</th>\n      <th>tweetid</th>\n      <th>label</th>\n    </tr>\n  </thead>\n  <tbody>\n    <tr>\n      <th>663</th>\n      <td>498430783699554305</td>\n      <td>24165761</td>\n      <td>277170191</td>\n      <td>supporter</td>\n      <td>498488174923227136</td>\n      <td>agreed</td>\n    </tr>\n    <tr>\n      <th>4344</th>\n      <td>500286058664579072</td>\n      <td>972651</td>\n      <td>2423249816</td>\n      <td>supporter</td>\n      <td>500290256928014336</td>\n      <td>agreed</td>\n    </tr>\n    <tr>\n      <th>4606</th>\n      <td>500290456845299714</td>\n      <td>1363520268</td>\n      <td>84887951</td>\n      <td>supporter</td>\n      <td>500298596772622336</td>\n      <td>agreed</td>\n    </tr>\n    <tr>\n      <th>7006</th>\n      <td>500389488217309184</td>\n      <td>15996661</td>\n      <td>935922770</td>\n      <td>supporter</td>\n      <td>500476059880816640</td>\n      <td>agreed</td>\n    </tr>\n    <tr>\n      <th>10400</th>\n      <td>529720273285566464</td>\n      <td>21137035</td>\n      <td>55121758</td>\n      <td>supporter</td>\n      <td>529721379302952961</td>\n      <td>agreed</td>\n    </tr>\n    <tr>\n      <th>11635</th>\n      <td>544306719686656000</td>\n      <td>14460241</td>\n      <td>316364374</td>\n      <td>supporter</td>\n      <td>544309297480364032</td>\n      <td>agreed</td>\n    </tr>\n    <tr>\n      <th>28243</th>\n      <td>553508098825261056</td>\n      <td>14173315</td>\n      <td>324658179</td>\n      <td>supporter</td>\n      <td>553541311484014592</td>\n      <td>agreed</td>\n    </tr>\n    <tr>\n      <th>29308</th>\n      <td>553576010898497536</td>\n      <td>3108351</td>\n      <td>2208746299</td>\n      <td>supporter</td>\n      <td>553577770983645186</td>\n      <td>agreed</td>\n    </tr>\n  </tbody>\n</table>\n</div>"
     },
     "execution_count": 120,
     "metadata": {},
     "output_type": "execute_result"
    }
   ],
   "source": [
    "predictions_.loc[(predictions_.stance_prediction == 'supporter') & (predictions_.label == 'agreed') ]"
   ]
  },
  {
   "cell_type": "code",
   "execution_count": 121,
   "metadata": {},
   "outputs": [
    {
     "data": {
      "text/plain": "                 threadid          op      author stance_prediction  \\\n4355   500286058664579072      972651    14227485           opposer   \n4362   500286058664579072      972651  1455101366           opposer   \n4399   500286058664579072      972651    27730063           opposer   \n5219   500308076004929537  1363520268    30715785           opposer   \n6772   500377145349521411    14464766   423321195           opposer   \n6780   500377145349521411    14464766    48463755           opposer   \n7013   500389488217309184    15996661   353984748           opposer   \n7028   500389488217309184    15996661   416009248           opposer   \n11037  544288681021145090    16973333  2177175701           opposer   \n13986  544399927045283840     5402612   176310317           opposer   \n18555  552791578893619200    87818409    90181058           opposer   \n19652  552805488631758849      428333  2762702188           opposer   \n19655  552805488631758849      428333  2762702188           opposer   \n19656  552805488631758849      428333  2762702188           opposer   \n19668  552805488631758849      428333   567039350           opposer   \n19669  552805488631758849      428333   567039350           opposer   \n19670  552805488631758849      428333   567039350           opposer   \n19676  552805488631758849      428333    46363353           opposer   \n27961  553501357156876290     5402612   410941069           opposer   \n27974  553501357156876290     5402612  2355289178           opposer   \n28118  553503184174710784    64643056   562236448           opposer   \n28247  553508098825261056    14173315    17366667           opposer   \n29313  553576010898497536     3108351    38233752           opposer   \n29317  553576010898497536     3108351   229482248           opposer   \n\n                  tweetid      label  \n4355   500289420730597377  disagreed  \n4362   500287325621198848  disagreed  \n4399   500287363361546240  disagreed  \n5219   500313313188663296  disagreed  \n6772   500386025412104192  disagreed  \n6780   500386677513154560  disagreed  \n7013   500407103774003201  disagreed  \n7028   500390996673585152  disagreed  \n11037  544290393693904896  disagreed  \n13986  544557233455910913  disagreed  \n18555  552818611015131136  disagreed  \n19652  552814605115064323  disagreed  \n19655  552813327018385408  disagreed  \n19656  553121495791464448  disagreed  \n19668  552818667293904898  disagreed  \n19669  552819928315617281  disagreed  \n19670  552814516262555648  disagreed  \n19676  552819966006001664  disagreed  \n27961  553504747508879360  disagreed  \n27974  553503365100228609  disagreed  \n28118  553503712157904898  disagreed  \n28247  553573926786580480  disagreed  \n29313  553577813056716800  disagreed  \n29317  553577721939251201  disagreed  ",
      "text/html": "<div>\n<style scoped>\n    .dataframe tbody tr th:only-of-type {\n        vertical-align: middle;\n    }\n\n    .dataframe tbody tr th {\n        vertical-align: top;\n    }\n\n    .dataframe thead th {\n        text-align: right;\n    }\n</style>\n<table border=\"1\" class=\"dataframe\">\n  <thead>\n    <tr style=\"text-align: right;\">\n      <th></th>\n      <th>threadid</th>\n      <th>op</th>\n      <th>author</th>\n      <th>stance_prediction</th>\n      <th>tweetid</th>\n      <th>label</th>\n    </tr>\n  </thead>\n  <tbody>\n    <tr>\n      <th>4355</th>\n      <td>500286058664579072</td>\n      <td>972651</td>\n      <td>14227485</td>\n      <td>opposer</td>\n      <td>500289420730597377</td>\n      <td>disagreed</td>\n    </tr>\n    <tr>\n      <th>4362</th>\n      <td>500286058664579072</td>\n      <td>972651</td>\n      <td>1455101366</td>\n      <td>opposer</td>\n      <td>500287325621198848</td>\n      <td>disagreed</td>\n    </tr>\n    <tr>\n      <th>4399</th>\n      <td>500286058664579072</td>\n      <td>972651</td>\n      <td>27730063</td>\n      <td>opposer</td>\n      <td>500287363361546240</td>\n      <td>disagreed</td>\n    </tr>\n    <tr>\n      <th>5219</th>\n      <td>500308076004929537</td>\n      <td>1363520268</td>\n      <td>30715785</td>\n      <td>opposer</td>\n      <td>500313313188663296</td>\n      <td>disagreed</td>\n    </tr>\n    <tr>\n      <th>6772</th>\n      <td>500377145349521411</td>\n      <td>14464766</td>\n      <td>423321195</td>\n      <td>opposer</td>\n      <td>500386025412104192</td>\n      <td>disagreed</td>\n    </tr>\n    <tr>\n      <th>6780</th>\n      <td>500377145349521411</td>\n      <td>14464766</td>\n      <td>48463755</td>\n      <td>opposer</td>\n      <td>500386677513154560</td>\n      <td>disagreed</td>\n    </tr>\n    <tr>\n      <th>7013</th>\n      <td>500389488217309184</td>\n      <td>15996661</td>\n      <td>353984748</td>\n      <td>opposer</td>\n      <td>500407103774003201</td>\n      <td>disagreed</td>\n    </tr>\n    <tr>\n      <th>7028</th>\n      <td>500389488217309184</td>\n      <td>15996661</td>\n      <td>416009248</td>\n      <td>opposer</td>\n      <td>500390996673585152</td>\n      <td>disagreed</td>\n    </tr>\n    <tr>\n      <th>11037</th>\n      <td>544288681021145090</td>\n      <td>16973333</td>\n      <td>2177175701</td>\n      <td>opposer</td>\n      <td>544290393693904896</td>\n      <td>disagreed</td>\n    </tr>\n    <tr>\n      <th>13986</th>\n      <td>544399927045283840</td>\n      <td>5402612</td>\n      <td>176310317</td>\n      <td>opposer</td>\n      <td>544557233455910913</td>\n      <td>disagreed</td>\n    </tr>\n    <tr>\n      <th>18555</th>\n      <td>552791578893619200</td>\n      <td>87818409</td>\n      <td>90181058</td>\n      <td>opposer</td>\n      <td>552818611015131136</td>\n      <td>disagreed</td>\n    </tr>\n    <tr>\n      <th>19652</th>\n      <td>552805488631758849</td>\n      <td>428333</td>\n      <td>2762702188</td>\n      <td>opposer</td>\n      <td>552814605115064323</td>\n      <td>disagreed</td>\n    </tr>\n    <tr>\n      <th>19655</th>\n      <td>552805488631758849</td>\n      <td>428333</td>\n      <td>2762702188</td>\n      <td>opposer</td>\n      <td>552813327018385408</td>\n      <td>disagreed</td>\n    </tr>\n    <tr>\n      <th>19656</th>\n      <td>552805488631758849</td>\n      <td>428333</td>\n      <td>2762702188</td>\n      <td>opposer</td>\n      <td>553121495791464448</td>\n      <td>disagreed</td>\n    </tr>\n    <tr>\n      <th>19668</th>\n      <td>552805488631758849</td>\n      <td>428333</td>\n      <td>567039350</td>\n      <td>opposer</td>\n      <td>552818667293904898</td>\n      <td>disagreed</td>\n    </tr>\n    <tr>\n      <th>19669</th>\n      <td>552805488631758849</td>\n      <td>428333</td>\n      <td>567039350</td>\n      <td>opposer</td>\n      <td>552819928315617281</td>\n      <td>disagreed</td>\n    </tr>\n    <tr>\n      <th>19670</th>\n      <td>552805488631758849</td>\n      <td>428333</td>\n      <td>567039350</td>\n      <td>opposer</td>\n      <td>552814516262555648</td>\n      <td>disagreed</td>\n    </tr>\n    <tr>\n      <th>19676</th>\n      <td>552805488631758849</td>\n      <td>428333</td>\n      <td>46363353</td>\n      <td>opposer</td>\n      <td>552819966006001664</td>\n      <td>disagreed</td>\n    </tr>\n    <tr>\n      <th>27961</th>\n      <td>553501357156876290</td>\n      <td>5402612</td>\n      <td>410941069</td>\n      <td>opposer</td>\n      <td>553504747508879360</td>\n      <td>disagreed</td>\n    </tr>\n    <tr>\n      <th>27974</th>\n      <td>553501357156876290</td>\n      <td>5402612</td>\n      <td>2355289178</td>\n      <td>opposer</td>\n      <td>553503365100228609</td>\n      <td>disagreed</td>\n    </tr>\n    <tr>\n      <th>28118</th>\n      <td>553503184174710784</td>\n      <td>64643056</td>\n      <td>562236448</td>\n      <td>opposer</td>\n      <td>553503712157904898</td>\n      <td>disagreed</td>\n    </tr>\n    <tr>\n      <th>28247</th>\n      <td>553508098825261056</td>\n      <td>14173315</td>\n      <td>17366667</td>\n      <td>opposer</td>\n      <td>553573926786580480</td>\n      <td>disagreed</td>\n    </tr>\n    <tr>\n      <th>29313</th>\n      <td>553576010898497536</td>\n      <td>3108351</td>\n      <td>38233752</td>\n      <td>opposer</td>\n      <td>553577813056716800</td>\n      <td>disagreed</td>\n    </tr>\n    <tr>\n      <th>29317</th>\n      <td>553576010898497536</td>\n      <td>3108351</td>\n      <td>229482248</td>\n      <td>opposer</td>\n      <td>553577721939251201</td>\n      <td>disagreed</td>\n    </tr>\n  </tbody>\n</table>\n</div>"
     },
     "execution_count": 121,
     "metadata": {},
     "output_type": "execute_result"
    }
   ],
   "source": [
    "predictions_.loc[(predictions_.stance_prediction == 'opposer') & (predictions_.label == 'disagreed') ]"
   ]
  },
  {
   "cell_type": "code",
   "execution_count": 122,
   "metadata": {},
   "outputs": [
    {
     "data": {
      "text/plain": "                 threadid          op      author stance_prediction  \\\n5210   500308076004929537  1363520268  1363520268         supporter   \n19633  552805488631758849      428333  2707815410         supporter   \n19647  552805488631758849      428333  2926384805         supporter   \n\n                  tweetid      label  \n5210   500318691909959681  disagreed  \n19633  552816281737363458  disagreed  \n19647  553556666969763841  disagreed  ",
      "text/html": "<div>\n<style scoped>\n    .dataframe tbody tr th:only-of-type {\n        vertical-align: middle;\n    }\n\n    .dataframe tbody tr th {\n        vertical-align: top;\n    }\n\n    .dataframe thead th {\n        text-align: right;\n    }\n</style>\n<table border=\"1\" class=\"dataframe\">\n  <thead>\n    <tr style=\"text-align: right;\">\n      <th></th>\n      <th>threadid</th>\n      <th>op</th>\n      <th>author</th>\n      <th>stance_prediction</th>\n      <th>tweetid</th>\n      <th>label</th>\n    </tr>\n  </thead>\n  <tbody>\n    <tr>\n      <th>5210</th>\n      <td>500308076004929537</td>\n      <td>1363520268</td>\n      <td>1363520268</td>\n      <td>supporter</td>\n      <td>500318691909959681</td>\n      <td>disagreed</td>\n    </tr>\n    <tr>\n      <th>19633</th>\n      <td>552805488631758849</td>\n      <td>428333</td>\n      <td>2707815410</td>\n      <td>supporter</td>\n      <td>552816281737363458</td>\n      <td>disagreed</td>\n    </tr>\n    <tr>\n      <th>19647</th>\n      <td>552805488631758849</td>\n      <td>428333</td>\n      <td>2926384805</td>\n      <td>supporter</td>\n      <td>553556666969763841</td>\n      <td>disagreed</td>\n    </tr>\n  </tbody>\n</table>\n</div>"
     },
     "execution_count": 122,
     "metadata": {},
     "output_type": "execute_result"
    }
   ],
   "source": [
    "predictions_.loc[(predictions_.stance_prediction == 'supporter') & (predictions_.label == 'disagreed') ]"
   ]
  },
  {
   "cell_type": "code",
   "execution_count": 123,
   "metadata": {},
   "outputs": [
    {
     "data": {
      "text/plain": "                 threadid          op      author stance_prediction  \\\n4611   500290456845299714  1363520268   796814947           opposer   \n6774   500377145349521411    14464766    69878030           opposer   \n6776   500377145349521411    14464766    74324914           opposer   \n6781   500377145349521411    14464766    45218962           opposer   \n7009   500389488217309184    15996661   164753964           opposer   \n7010   500389488217309184    15996661  2724282976           opposer   \n7021   500389488217309184    15996661  2732777130           opposer   \n10419  529720273285566464    21137035  1262935440           opposer   \n10436  529720273285566464    21137035    15657577           opposer   \n11019  544287209730236416  1855737487    20952653           opposer   \n11021  544287209730236416  1855737487   125323374           opposer   \n11023  544287209730236416  1855737487   154474107           opposer   \n11038  544288681021145090    16973333   418731150           opposer   \n11041  544288681021145090    16973333   157780872           opposer   \n11640  544306719686656000    14460241  2265151616           opposer   \n11642  544306719686656000    14460241   408241447           opposer   \n18572  552791578893619200    87818409   141508403           opposer   \n19698  552805488631758849      428333    25777686           opposer   \n19725  552806309540528128    21749564    19898890           opposer   \n19728  552806309540528128    21749564  1332220207           opposer   \n19732  552806309540528128    21749564    21525006           opposer   \n19744  552806309540528128    21749564    27572392           opposer   \n28002  553501357156876290     5402612    26849753           opposer   \n28134  553503184174710784    64643056  1627753237           opposer   \n28137  553503184174710784    64643056   127836912           opposer   \n28251  553508098825261056    14173315  2417374160           opposer   \n28995  553548567420628992   718294442  2572473144           opposer   \n29314  553576010898497536     3108351    38233752           opposer   \n29315  553576010898497536     3108351    20527491           opposer   \n30269  580319078155468800     5402612    59162656           opposer   \n\n                  tweetid   label  \n4611   500297973905895424  agreed  \n6774   500379102353047553  agreed  \n6776   500387923372425216  agreed  \n6781   500379602435731456  agreed  \n7009   500390975819513856  agreed  \n7010   500472734573658112  agreed  \n7021   500395857473466368  agreed  \n10419  529723695989002241  agreed  \n10436  529721009172410369  agreed  \n11019  544292469866000387  agreed  \n11021  544301354034794496  agreed  \n11023  544291838450860032  agreed  \n11038  544288801926156289  agreed  \n11041  544290348525449216  agreed  \n11640  544309789660942337  agreed  \n11642  544351881284165632  agreed  \n18572  552797785427558401  agreed  \n19698  552805847777415168  agreed  \n19725  552806767625641984  agreed  \n19728  552806751746396160  agreed  \n19732  552806614973960192  agreed  \n19744  552808399885185024  agreed  \n28002  553503876394262528  agreed  \n28134  553507708574244864  agreed  \n28137  553504854794969088  agreed  \n28251  553524499803815937  agreed  \n28995  553552287889494017  agreed  \n29314  553579107620237312  agreed  \n29315  553576829345628160  agreed  \n30269  580320979995508737  agreed  ",
      "text/html": "<div>\n<style scoped>\n    .dataframe tbody tr th:only-of-type {\n        vertical-align: middle;\n    }\n\n    .dataframe tbody tr th {\n        vertical-align: top;\n    }\n\n    .dataframe thead th {\n        text-align: right;\n    }\n</style>\n<table border=\"1\" class=\"dataframe\">\n  <thead>\n    <tr style=\"text-align: right;\">\n      <th></th>\n      <th>threadid</th>\n      <th>op</th>\n      <th>author</th>\n      <th>stance_prediction</th>\n      <th>tweetid</th>\n      <th>label</th>\n    </tr>\n  </thead>\n  <tbody>\n    <tr>\n      <th>4611</th>\n      <td>500290456845299714</td>\n      <td>1363520268</td>\n      <td>796814947</td>\n      <td>opposer</td>\n      <td>500297973905895424</td>\n      <td>agreed</td>\n    </tr>\n    <tr>\n      <th>6774</th>\n      <td>500377145349521411</td>\n      <td>14464766</td>\n      <td>69878030</td>\n      <td>opposer</td>\n      <td>500379102353047553</td>\n      <td>agreed</td>\n    </tr>\n    <tr>\n      <th>6776</th>\n      <td>500377145349521411</td>\n      <td>14464766</td>\n      <td>74324914</td>\n      <td>opposer</td>\n      <td>500387923372425216</td>\n      <td>agreed</td>\n    </tr>\n    <tr>\n      <th>6781</th>\n      <td>500377145349521411</td>\n      <td>14464766</td>\n      <td>45218962</td>\n      <td>opposer</td>\n      <td>500379602435731456</td>\n      <td>agreed</td>\n    </tr>\n    <tr>\n      <th>7009</th>\n      <td>500389488217309184</td>\n      <td>15996661</td>\n      <td>164753964</td>\n      <td>opposer</td>\n      <td>500390975819513856</td>\n      <td>agreed</td>\n    </tr>\n    <tr>\n      <th>7010</th>\n      <td>500389488217309184</td>\n      <td>15996661</td>\n      <td>2724282976</td>\n      <td>opposer</td>\n      <td>500472734573658112</td>\n      <td>agreed</td>\n    </tr>\n    <tr>\n      <th>7021</th>\n      <td>500389488217309184</td>\n      <td>15996661</td>\n      <td>2732777130</td>\n      <td>opposer</td>\n      <td>500395857473466368</td>\n      <td>agreed</td>\n    </tr>\n    <tr>\n      <th>10419</th>\n      <td>529720273285566464</td>\n      <td>21137035</td>\n      <td>1262935440</td>\n      <td>opposer</td>\n      <td>529723695989002241</td>\n      <td>agreed</td>\n    </tr>\n    <tr>\n      <th>10436</th>\n      <td>529720273285566464</td>\n      <td>21137035</td>\n      <td>15657577</td>\n      <td>opposer</td>\n      <td>529721009172410369</td>\n      <td>agreed</td>\n    </tr>\n    <tr>\n      <th>11019</th>\n      <td>544287209730236416</td>\n      <td>1855737487</td>\n      <td>20952653</td>\n      <td>opposer</td>\n      <td>544292469866000387</td>\n      <td>agreed</td>\n    </tr>\n    <tr>\n      <th>11021</th>\n      <td>544287209730236416</td>\n      <td>1855737487</td>\n      <td>125323374</td>\n      <td>opposer</td>\n      <td>544301354034794496</td>\n      <td>agreed</td>\n    </tr>\n    <tr>\n      <th>11023</th>\n      <td>544287209730236416</td>\n      <td>1855737487</td>\n      <td>154474107</td>\n      <td>opposer</td>\n      <td>544291838450860032</td>\n      <td>agreed</td>\n    </tr>\n    <tr>\n      <th>11038</th>\n      <td>544288681021145090</td>\n      <td>16973333</td>\n      <td>418731150</td>\n      <td>opposer</td>\n      <td>544288801926156289</td>\n      <td>agreed</td>\n    </tr>\n    <tr>\n      <th>11041</th>\n      <td>544288681021145090</td>\n      <td>16973333</td>\n      <td>157780872</td>\n      <td>opposer</td>\n      <td>544290348525449216</td>\n      <td>agreed</td>\n    </tr>\n    <tr>\n      <th>11640</th>\n      <td>544306719686656000</td>\n      <td>14460241</td>\n      <td>2265151616</td>\n      <td>opposer</td>\n      <td>544309789660942337</td>\n      <td>agreed</td>\n    </tr>\n    <tr>\n      <th>11642</th>\n      <td>544306719686656000</td>\n      <td>14460241</td>\n      <td>408241447</td>\n      <td>opposer</td>\n      <td>544351881284165632</td>\n      <td>agreed</td>\n    </tr>\n    <tr>\n      <th>18572</th>\n      <td>552791578893619200</td>\n      <td>87818409</td>\n      <td>141508403</td>\n      <td>opposer</td>\n      <td>552797785427558401</td>\n      <td>agreed</td>\n    </tr>\n    <tr>\n      <th>19698</th>\n      <td>552805488631758849</td>\n      <td>428333</td>\n      <td>25777686</td>\n      <td>opposer</td>\n      <td>552805847777415168</td>\n      <td>agreed</td>\n    </tr>\n    <tr>\n      <th>19725</th>\n      <td>552806309540528128</td>\n      <td>21749564</td>\n      <td>19898890</td>\n      <td>opposer</td>\n      <td>552806767625641984</td>\n      <td>agreed</td>\n    </tr>\n    <tr>\n      <th>19728</th>\n      <td>552806309540528128</td>\n      <td>21749564</td>\n      <td>1332220207</td>\n      <td>opposer</td>\n      <td>552806751746396160</td>\n      <td>agreed</td>\n    </tr>\n    <tr>\n      <th>19732</th>\n      <td>552806309540528128</td>\n      <td>21749564</td>\n      <td>21525006</td>\n      <td>opposer</td>\n      <td>552806614973960192</td>\n      <td>agreed</td>\n    </tr>\n    <tr>\n      <th>19744</th>\n      <td>552806309540528128</td>\n      <td>21749564</td>\n      <td>27572392</td>\n      <td>opposer</td>\n      <td>552808399885185024</td>\n      <td>agreed</td>\n    </tr>\n    <tr>\n      <th>28002</th>\n      <td>553501357156876290</td>\n      <td>5402612</td>\n      <td>26849753</td>\n      <td>opposer</td>\n      <td>553503876394262528</td>\n      <td>agreed</td>\n    </tr>\n    <tr>\n      <th>28134</th>\n      <td>553503184174710784</td>\n      <td>64643056</td>\n      <td>1627753237</td>\n      <td>opposer</td>\n      <td>553507708574244864</td>\n      <td>agreed</td>\n    </tr>\n    <tr>\n      <th>28137</th>\n      <td>553503184174710784</td>\n      <td>64643056</td>\n      <td>127836912</td>\n      <td>opposer</td>\n      <td>553504854794969088</td>\n      <td>agreed</td>\n    </tr>\n    <tr>\n      <th>28251</th>\n      <td>553508098825261056</td>\n      <td>14173315</td>\n      <td>2417374160</td>\n      <td>opposer</td>\n      <td>553524499803815937</td>\n      <td>agreed</td>\n    </tr>\n    <tr>\n      <th>28995</th>\n      <td>553548567420628992</td>\n      <td>718294442</td>\n      <td>2572473144</td>\n      <td>opposer</td>\n      <td>553552287889494017</td>\n      <td>agreed</td>\n    </tr>\n    <tr>\n      <th>29314</th>\n      <td>553576010898497536</td>\n      <td>3108351</td>\n      <td>38233752</td>\n      <td>opposer</td>\n      <td>553579107620237312</td>\n      <td>agreed</td>\n    </tr>\n    <tr>\n      <th>29315</th>\n      <td>553576010898497536</td>\n      <td>3108351</td>\n      <td>20527491</td>\n      <td>opposer</td>\n      <td>553576829345628160</td>\n      <td>agreed</td>\n    </tr>\n    <tr>\n      <th>30269</th>\n      <td>580319078155468800</td>\n      <td>5402612</td>\n      <td>59162656</td>\n      <td>opposer</td>\n      <td>580320979995508737</td>\n      <td>agreed</td>\n    </tr>\n  </tbody>\n</table>\n</div>"
     },
     "execution_count": 123,
     "metadata": {},
     "output_type": "execute_result"
    }
   ],
   "source": [
    "predictions_.loc[(predictions_.stance_prediction == 'opposer') & (predictions_.label == 'agreed') ]"
   ]
  },
  {
   "cell_type": "markdown",
   "metadata": {},
   "source": [
    "## Extra for TSNE + PCA"
   ]
  },
  {
   "cell_type": "code",
   "execution_count": 124,
   "metadata": {},
   "outputs": [],
   "source": [
    "# data = pd.DataFrame.from_records(features, index=\"conv_id\")\n",
    "# print(data.head())"
   ]
  },
  {
   "cell_type": "code",
   "execution_count": 125,
   "metadata": {},
   "outputs": [
    {
     "ename": "AttributeError",
     "evalue": "'DataFrame' object has no attribute 'num_nodes'",
     "output_type": "error",
     "traceback": [
      "\u001B[1;31m---------------------------------------------------------------------------\u001B[0m",
      "\u001B[1;31mAttributeError\u001B[0m                            Traceback (most recent call last)",
      "\u001B[1;32m<ipython-input-125-469a82ddcee1>\u001B[0m in \u001B[0;36m<module>\u001B[1;34m\u001B[0m\n\u001B[1;32m----> 1\u001B[1;33m \u001B[0mdata_\u001B[0m \u001B[1;33m=\u001B[0m \u001B[0mdata\u001B[0m\u001B[1;33m.\u001B[0m\u001B[0mloc\u001B[0m\u001B[1;33m[\u001B[0m\u001B[0mdata\u001B[0m\u001B[1;33m.\u001B[0m\u001B[0mnum_nodes\u001B[0m \u001B[1;33m>\u001B[0m \u001B[1;36m10\u001B[0m\u001B[1;33m]\u001B[0m\u001B[1;33m\u001B[0m\u001B[1;33m\u001B[0m\u001B[0m\n\u001B[0m\u001B[0;32m      2\u001B[0m \u001B[1;33m\u001B[0m\u001B[0m\n",
      "\u001B[1;32mc:\\users\\ronp\\py37-dasci\\lib\\site-packages\\pandas\\core\\generic.py\u001B[0m in \u001B[0;36m__getattr__\u001B[1;34m(self, name)\u001B[0m\n\u001B[0;32m   5128\u001B[0m             \u001B[1;32mif\u001B[0m \u001B[0mself\u001B[0m\u001B[1;33m.\u001B[0m\u001B[0m_info_axis\u001B[0m\u001B[1;33m.\u001B[0m\u001B[0m_can_hold_identifiers_and_holds_name\u001B[0m\u001B[1;33m(\u001B[0m\u001B[0mname\u001B[0m\u001B[1;33m)\u001B[0m\u001B[1;33m:\u001B[0m\u001B[1;33m\u001B[0m\u001B[1;33m\u001B[0m\u001B[0m\n\u001B[0;32m   5129\u001B[0m                 \u001B[1;32mreturn\u001B[0m \u001B[0mself\u001B[0m\u001B[1;33m[\u001B[0m\u001B[0mname\u001B[0m\u001B[1;33m]\u001B[0m\u001B[1;33m\u001B[0m\u001B[1;33m\u001B[0m\u001B[0m\n\u001B[1;32m-> 5130\u001B[1;33m             \u001B[1;32mreturn\u001B[0m \u001B[0mobject\u001B[0m\u001B[1;33m.\u001B[0m\u001B[0m__getattribute__\u001B[0m\u001B[1;33m(\u001B[0m\u001B[0mself\u001B[0m\u001B[1;33m,\u001B[0m \u001B[0mname\u001B[0m\u001B[1;33m)\u001B[0m\u001B[1;33m\u001B[0m\u001B[1;33m\u001B[0m\u001B[0m\n\u001B[0m\u001B[0;32m   5131\u001B[0m \u001B[1;33m\u001B[0m\u001B[0m\n\u001B[0;32m   5132\u001B[0m     \u001B[1;32mdef\u001B[0m \u001B[0m__setattr__\u001B[0m\u001B[1;33m(\u001B[0m\u001B[0mself\u001B[0m\u001B[1;33m,\u001B[0m \u001B[0mname\u001B[0m\u001B[1;33m:\u001B[0m \u001B[0mstr\u001B[0m\u001B[1;33m,\u001B[0m \u001B[0mvalue\u001B[0m\u001B[1;33m)\u001B[0m \u001B[1;33m->\u001B[0m \u001B[1;32mNone\u001B[0m\u001B[1;33m:\u001B[0m\u001B[1;33m\u001B[0m\u001B[1;33m\u001B[0m\u001B[0m\n",
      "\u001B[1;31mAttributeError\u001B[0m: 'DataFrame' object has no attribute 'num_nodes'"
     ]
    }
   ],
   "source": [
    "data_ = data.loc[data.num_nodes > 10]"
   ]
  },
  {
   "cell_type": "code",
   "execution_count": 126,
   "metadata": {},
   "outputs": [
    {
     "ename": "NameError",
     "evalue": "name 'data_' is not defined",
     "output_type": "error",
     "traceback": [
      "\u001B[1;31m---------------------------------------------------------------------------\u001B[0m",
      "\u001B[1;31mNameError\u001B[0m                                 Traceback (most recent call last)",
      "\u001B[1;32m<ipython-input-126-2af62e0fdfda>\u001B[0m in \u001B[0;36m<module>\u001B[1;34m\u001B[0m\n\u001B[1;32m----> 1\u001B[1;33m \u001B[0mdata_\u001B[0m\u001B[1;33m.\u001B[0m\u001B[0mcount\u001B[0m\u001B[1;33m(\u001B[0m\u001B[1;33m)\u001B[0m\u001B[1;33m\u001B[0m\u001B[1;33m\u001B[0m\u001B[0m\n\u001B[0m\u001B[0;32m      2\u001B[0m \u001B[1;33m\u001B[0m\u001B[0m\n",
      "\u001B[1;31mNameError\u001B[0m: name 'data_' is not defined"
     ]
    }
   ],
   "source": [
    "data_.count()"
   ]
  },
  {
   "cell_type": "code",
   "execution_count": 127,
   "metadata": {},
   "outputs": [
    {
     "ename": "NameError",
     "evalue": "name 'data_' is not defined",
     "output_type": "error",
     "traceback": [
      "\u001B[1;31m---------------------------------------------------------------------------\u001B[0m",
      "\u001B[1;31mNameError\u001B[0m                                 Traceback (most recent call last)",
      "\u001B[1;32m<ipython-input-127-7f97c1bbc3aa>\u001B[0m in \u001B[0;36m<module>\u001B[1;34m\u001B[0m\n\u001B[1;32m----> 1\u001B[1;33m \u001B[0mdata_\u001B[0m\u001B[1;33m\u001B[0m\u001B[1;33m\u001B[0m\u001B[0m\n\u001B[0m\u001B[0;32m      2\u001B[0m \u001B[1;33m\u001B[0m\u001B[0m\n",
      "\u001B[1;31mNameError\u001B[0m: name 'data_' is not defined"
     ]
    }
   ],
   "source": [
    "data_"
   ]
  },
  {
   "cell_type": "code",
   "execution_count": 128,
   "metadata": {},
   "outputs": [
    {
     "ename": "NameError",
     "evalue": "name 'data_' is not defined",
     "output_type": "error",
     "traceback": [
      "\u001B[1;31m---------------------------------------------------------------------------\u001B[0m",
      "\u001B[1;31mNameError\u001B[0m                                 Traceback (most recent call last)",
      "\u001B[1;32m<ipython-input-128-d5b7de04c47c>\u001B[0m in \u001B[0;36m<module>\u001B[1;34m\u001B[0m\n\u001B[1;32m----> 1\u001B[1;33m \u001B[0mdata_\u001B[0m\u001B[1;33m.\u001B[0m\u001B[0mdescribe\u001B[0m\u001B[1;33m(\u001B[0m\u001B[1;33m)\u001B[0m\u001B[1;33m\u001B[0m\u001B[1;33m\u001B[0m\u001B[0m\n\u001B[0m\u001B[0;32m      2\u001B[0m \u001B[1;33m\u001B[0m\u001B[0m\n",
      "\u001B[1;31mNameError\u001B[0m: name 'data_' is not defined"
     ]
    }
   ],
   "source": [
    "data_.describe()"
   ]
  },
  {
   "cell_type": "code",
   "execution_count": 129,
   "metadata": {},
   "outputs": [
    {
     "ename": "NameError",
     "evalue": "name 'data_' is not defined",
     "output_type": "error",
     "traceback": [
      "\u001B[1;31m---------------------------------------------------------------------------\u001B[0m",
      "\u001B[1;31mNameError\u001B[0m                                 Traceback (most recent call last)",
      "\u001B[1;32m<ipython-input-129-3670b4f803cd>\u001B[0m in \u001B[0;36m<module>\u001B[1;34m\u001B[0m\n\u001B[1;32m----> 1\u001B[1;33m \u001B[0mdata_\u001B[0m \u001B[1;33m=\u001B[0m \u001B[0mdata_\u001B[0m\u001B[1;33m.\u001B[0m\u001B[0mfillna\u001B[0m\u001B[1;33m(\u001B[0m\u001B[1;36m0\u001B[0m\u001B[1;33m)\u001B[0m\u001B[1;33m\u001B[0m\u001B[1;33m\u001B[0m\u001B[0m\n\u001B[0m\u001B[0;32m      2\u001B[0m \u001B[1;33m\u001B[0m\u001B[0m\n",
      "\u001B[1;31mNameError\u001B[0m: name 'data_' is not defined"
     ]
    }
   ],
   "source": [
    "data_ = data_.fillna(0)"
   ]
  },
  {
   "cell_type": "code",
   "execution_count": 130,
   "metadata": {},
   "outputs": [],
   "source": [
    "from sklearn.manifold import TSNE\n",
    "from sklearn.preprocessing import StandardScaler\n"
   ]
  },
  {
   "cell_type": "code",
   "execution_count": 131,
   "metadata": {},
   "outputs": [
    {
     "ename": "NameError",
     "evalue": "name 'data_' is not defined",
     "output_type": "error",
     "traceback": [
      "\u001B[1;31m---------------------------------------------------------------------------\u001B[0m",
      "\u001B[1;31mNameError\u001B[0m                                 Traceback (most recent call last)",
      "\u001B[1;32m<ipython-input-131-39da66d94e67>\u001B[0m in \u001B[0;36m<module>\u001B[1;34m\u001B[0m\n\u001B[1;32m----> 1\u001B[1;33m \u001B[0mstandardized_data\u001B[0m \u001B[1;33m=\u001B[0m \u001B[0mStandardScaler\u001B[0m\u001B[1;33m(\u001B[0m\u001B[1;33m)\u001B[0m\u001B[1;33m.\u001B[0m\u001B[0mfit_transform\u001B[0m\u001B[1;33m(\u001B[0m\u001B[0mdata_\u001B[0m\u001B[1;33m)\u001B[0m\u001B[1;33m\u001B[0m\u001B[1;33m\u001B[0m\u001B[0m\n\u001B[0m\u001B[0;32m      2\u001B[0m \u001B[0mprint\u001B[0m\u001B[1;33m(\u001B[0m\u001B[0mstandardized_data\u001B[0m\u001B[1;33m.\u001B[0m\u001B[0mshape\u001B[0m\u001B[1;33m)\u001B[0m\u001B[1;33m\u001B[0m\u001B[1;33m\u001B[0m\u001B[0m\n\u001B[0;32m      3\u001B[0m \u001B[1;33m\u001B[0m\u001B[0m\n",
      "\u001B[1;31mNameError\u001B[0m: name 'data_' is not defined"
     ]
    }
   ],
   "source": [
    "standardized_data = StandardScaler().fit_transform(data_)\n",
    "print(standardized_data.shape)"
   ]
  },
  {
   "cell_type": "code",
   "execution_count": null,
   "metadata": {},
   "outputs": [],
   "source": [
    "model = TSNE(n_components=2, random_state=0)"
   ]
  },
  {
   "cell_type": "code",
   "execution_count": null,
   "metadata": {},
   "outputs": [],
   "source": [
    "tsne_data = model.fit_transform(standardized_data)"
   ]
  },
  {
   "cell_type": "code",
   "execution_count": null,
   "metadata": {},
   "outputs": [],
   "source": [
    "tsne_df = pd.DataFrame(data=tsne_data, columns=(\"Dim_1\", \"Dim_2\"))"
   ]
  },
  {
   "cell_type": "code",
   "execution_count": null,
   "metadata": {},
   "outputs": [],
   "source": [
    "import seaborn as sns\n",
    "import matplotlib.pyplot as plt"
   ]
  },
  {
   "cell_type": "code",
   "execution_count": null,
   "metadata": {},
   "outputs": [],
   "source": [
    "sns.FacetGrid(tsne_df, height=9).map(plt.scatter, 'Dim_1', 'Dim_2').add_legend()\n",
    "plt.show()"
   ]
  },
  {
   "cell_type": "code",
   "execution_count": null,
   "metadata": {},
   "outputs": [],
   "source": [
    "from sklearn.cluster import DBSCAN\n"
   ]
  },
  {
   "cell_type": "code",
   "execution_count": null,
   "metadata": {},
   "outputs": [],
   "source": [
    "m = DBSCAN()\n"
   ]
  },
  {
   "cell_type": "code",
   "execution_count": null,
   "metadata": {},
   "outputs": [],
   "source": [
    "m.fit(standardized_data)"
   ]
  },
  {
   "cell_type": "code",
   "execution_count": null,
   "metadata": {},
   "outputs": [],
   "source": [
    "clusters = m.labels_"
   ]
  },
  {
   "cell_type": "code",
   "execution_count": null,
   "metadata": {},
   "outputs": [],
   "source": [
    "pd.Series(clusters).value_counts()"
   ]
  },
  {
   "cell_type": "code",
   "execution_count": null,
   "metadata": {},
   "outputs": [],
   "source": [
    "# pca\n",
    "\n",
    "from sklearn.decomposition import PCA\n"
   ]
  },
  {
   "cell_type": "code",
   "execution_count": null,
   "metadata": {},
   "outputs": [],
   "source": [
    "pca = PCA(n_components=2)\n"
   ]
  },
  {
   "cell_type": "code",
   "execution_count": null,
   "metadata": {},
   "outputs": [],
   "source": [
    "principalComponents = pca.fit_transform(standardized_data)"
   ]
  },
  {
   "cell_type": "code",
   "execution_count": null,
   "metadata": {},
   "outputs": [],
   "source": [
    "principalDf = pd.DataFrame(data = principalComponents\n",
    "             , columns = ['principal component 1', 'principal component 2'])"
   ]
  },
  {
   "cell_type": "code",
   "execution_count": null,
   "metadata": {},
   "outputs": [],
   "source": [
    "sns.FacetGrid(principalDf, height=6).map(plt.scatter, 'principal component 1', 'principal component 2').add_legend()\n",
    "plt.show()"
   ]
  },
  {
   "cell_type": "code",
   "execution_count": null,
   "metadata": {},
   "outputs": [],
   "source": []
  },
  {
   "cell_type": "code",
   "execution_count": null,
   "metadata": {},
   "outputs": [],
   "source": []
  },
  {
   "cell_type": "code",
   "execution_count": null,
   "metadata": {},
   "outputs": [],
   "source": []
  },
  {
   "cell_type": "code",
   "execution_count": null,
   "metadata": {},
   "outputs": [],
   "source": []
  },
  {
   "cell_type": "code",
   "execution_count": null,
   "metadata": {},
   "outputs": [],
   "source": []
  }
 ],
 "metadata": {
  "kernelspec": {
   "name": "python3",
   "language": "python",
   "display_name": "Python 3"
  },
  "language_info": {
   "codemirror_mode": {
    "name": "ipython",
    "version": 3
   },
   "file_extension": ".py",
   "mimetype": "text/x-python",
   "name": "python",
   "nbconvert_exporter": "python",
   "pygments_lexer": "ipython3",
   "version": "3.7.6"
  },
  "toc": {
   "base_numbering": 1,
   "nav_menu": {},
   "number_sections": true,
   "sideBar": true,
   "skip_h1_title": false,
   "title_cell": "Table of Contents",
   "title_sidebar": "Contents",
   "toc_cell": false,
   "toc_position": {},
   "toc_section_display": true,
   "toc_window_display": true
  }
 },
 "nbformat": 4,
 "nbformat_minor": 2
}