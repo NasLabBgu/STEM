{
 "cells": [
  {
   "cell_type": "markdown",
   "metadata": {},
   "source": [
    "<img src=\"https://i1.sndcdn.com/avatars-000274765548-vj7h0w-t500x500.jpg\" style='float:right; width:200px; margin: 0 20px;'>\n",
    "\n",
    "<img src=\"https://cdn2.iconfinder.com/data/icons/popular-social-media-flat/48/Popular_Social_Media-11-512.png\" style='float:right; width:200px; margin: 0 20px;'>\n",
    "\n",
    "\n",
    "# Twitter V CMV topological differences \n",
    "---\n",
    "\n",
    "> Create feature set for CMV and Twitter \n",
    "\n",
    "> Do comperative analysis of features"
   ]
  },
  {
   "cell_type": "code",
   "execution_count": 1,
   "metadata": {},
   "outputs": [],
   "source": [
    "# env \n",
    "import sys\n",
    "sys.path.append('/Users/shaimeital/code/thesis/conversant')"
   ]
  },
  {
   "cell_type": "code",
   "execution_count": 2,
   "metadata": {},
   "outputs": [],
   "source": [
    "from conversant.conversation.examples.controversial_feature_extraction import *\n",
    "from conversant.conversation.conversation_utils import conversation_to_dataframe"
   ]
  },
  {
   "cell_type": "code",
   "execution_count": 3,
   "metadata": {},
   "outputs": [],
   "source": [
    "import pandas as pd\n",
    "import numpy as np\n",
    "import networkx as nx\n",
    "import logging\n",
    "logging.basicConfig()\n",
    "logging.getLogger().setLevel(logging.INFO)"
   ]
  },
  {
   "cell_type": "code",
   "execution_count": 4,
   "metadata": {},
   "outputs": [],
   "source": [
    "import seaborn as sns\n",
    "import matplotlib.pyplot as plt"
   ]
  },
  {
   "cell_type": "markdown",
   "metadata": {},
   "source": [
    "## Load Raw Data"
   ]
  },
  {
   "cell_type": "code",
   "execution_count": 14,
   "metadata": {},
   "outputs": [
    {
     "name": "stdout",
     "output_type": "stream",
     "text": [
      "loaded total of 16306\n"
     ]
    }
   ],
   "source": [
    "trees_file_path = './trees_2.0.txt'\n",
    "total_trees = sum(1 for _ in iter_trees_from_lines(trees_file_path))\n",
    "\n",
    "print(f'loaded total of {total_trees}')"
   ]
  },
  {
   "cell_type": "markdown",
   "metadata": {},
   "source": [
    "## Transform to Conversation object and to feature set"
   ]
  },
  {
   "cell_type": "code",
   "execution_count": 15,
   "metadata": {},
   "outputs": [
    {
     "name": "stderr",
     "output_type": "stream",
     "text": [
      "\r",
      "  0%|          | 0/16306 [00:00<?, ?it/s]"
     ]
    }
   ],
   "source": [
    "trees = tqdm.tqdm(iter_trees_from_lines(trees_file_path), total=total_trees)"
   ]
  },
  {
   "cell_type": "code",
   "execution_count": 16,
   "metadata": {},
   "outputs": [],
   "source": [
    "conv_reader = CMVConversationReader()\n",
    "conversations = map(conv_reader.parse, trees)\n",
    "sub_convs = (Conversation(child) for conv in conversations for child in conv.root.children)\n",
    "sub_convs = filter(lambda c: c.size >= 5, sub_convs)\n",
    "#features = map(get_features, sub_convs)"
   ]
  },
  {
   "cell_type": "code",
   "execution_count": 9,
   "metadata": {},
   "outputs": [
    {
     "name": "stderr",
     "output_type": "stream",
     "text": [
      "100%|██████████| 16306/16306 [00:50<00:00, 323.82it/s] \n"
     ]
    }
   ],
   "source": [
    "full_conversations = list(conversations)"
   ]
  },
  {
   "cell_type": "markdown",
   "metadata": {},
   "source": [
    "## EDA"
   ]
  },
  {
   "cell_type": "markdown",
   "metadata": {},
   "source": [
    "### Mean branch participation for user in CMV\n",
    "remove op and show that most users in a conversation only participaten in one branch"
   ]
  },
  {
   "cell_type": "code",
   "execution_count": 10,
   "metadata": {},
   "outputs": [],
   "source": [
    "convs = pd.concat(conversation_to_dataframe(conv) for conv in full_conversations) "
   ]
  },
  {
   "cell_type": "code",
   "execution_count": 11,
   "metadata": {},
   "outputs": [
    {
     "data": {
      "text/html": [
       "<div>\n",
       "<style scoped>\n",
       "    .dataframe tbody tr th:only-of-type {\n",
       "        vertical-align: middle;\n",
       "    }\n",
       "\n",
       "    .dataframe tbody tr th {\n",
       "        vertical-align: top;\n",
       "    }\n",
       "\n",
       "    .dataframe thead th {\n",
       "        text-align: right;\n",
       "    }\n",
       "</style>\n",
       "<table border=\"1\" class=\"dataframe\">\n",
       "  <thead>\n",
       "    <tr style=\"text-align: right;\">\n",
       "      <th></th>\n",
       "      <th>author</th>\n",
       "      <th>parent_id</th>\n",
       "      <th>depth</th>\n",
       "      <th>is_root</th>\n",
       "      <th>is_absolute_root</th>\n",
       "      <th>is_leaf</th>\n",
       "      <th>timestamp</th>\n",
       "      <th>conversation_id</th>\n",
       "      <th>full_conv_id</th>\n",
       "      <th>data.text</th>\n",
       "      <th>...</th>\n",
       "      <th>data.extra_data.name</th>\n",
       "      <th>data.extra_data.ups</th>\n",
       "      <th>data.extra_data.mod_reason_by</th>\n",
       "      <th>data.extra_data.mod_reason_title</th>\n",
       "      <th>data.extra_data.mod_note</th>\n",
       "      <th>data.extra_data.author_cakeday</th>\n",
       "      <th>data.extra_data.send_replies</th>\n",
       "      <th>data.extra_data.no_follow</th>\n",
       "      <th>data.extra_data.crosspost_parent</th>\n",
       "      <th>data.extra_data.crosspost_parent_list</th>\n",
       "    </tr>\n",
       "    <tr>\n",
       "      <th>node_id</th>\n",
       "      <th></th>\n",
       "      <th></th>\n",
       "      <th></th>\n",
       "      <th></th>\n",
       "      <th></th>\n",
       "      <th></th>\n",
       "      <th></th>\n",
       "      <th></th>\n",
       "      <th></th>\n",
       "      <th></th>\n",
       "      <th></th>\n",
       "      <th></th>\n",
       "      <th></th>\n",
       "      <th></th>\n",
       "      <th></th>\n",
       "      <th></th>\n",
       "      <th></th>\n",
       "      <th></th>\n",
       "      <th></th>\n",
       "      <th></th>\n",
       "      <th></th>\n",
       "    </tr>\n",
       "  </thead>\n",
       "  <tbody>\n",
       "    <tr>\n",
       "      <th>6kn9gy</th>\n",
       "      <td>badparentthro</td>\n",
       "      <td>None</td>\n",
       "      <td>0</td>\n",
       "      <td>True</td>\n",
       "      <td>True</td>\n",
       "      <td>True</td>\n",
       "      <td>1498919337</td>\n",
       "      <td>6kn9gy</td>\n",
       "      <td>6kn9gy</td>\n",
       "      <td>[removed]</td>\n",
       "      <td>...</td>\n",
       "      <td>NaN</td>\n",
       "      <td>NaN</td>\n",
       "      <td>NaN</td>\n",
       "      <td>NaN</td>\n",
       "      <td>NaN</td>\n",
       "      <td>NaN</td>\n",
       "      <td>NaN</td>\n",
       "      <td>NaN</td>\n",
       "      <td>NaN</td>\n",
       "      <td>NaN</td>\n",
       "    </tr>\n",
       "    <tr>\n",
       "      <th>7f53sk</th>\n",
       "      <td>[deleted]</td>\n",
       "      <td>None</td>\n",
       "      <td>0</td>\n",
       "      <td>True</td>\n",
       "      <td>True</td>\n",
       "      <td>False</td>\n",
       "      <td>1511499160</td>\n",
       "      <td>7f53sk</td>\n",
       "      <td>7f53sk</td>\n",
       "      <td>[deleted]</td>\n",
       "      <td>...</td>\n",
       "      <td>NaN</td>\n",
       "      <td>NaN</td>\n",
       "      <td>NaN</td>\n",
       "      <td>NaN</td>\n",
       "      <td>NaN</td>\n",
       "      <td>NaN</td>\n",
       "      <td>NaN</td>\n",
       "      <td>NaN</td>\n",
       "      <td>NaN</td>\n",
       "      <td>NaN</td>\n",
       "    </tr>\n",
       "    <tr>\n",
       "      <th>dq9kszi</th>\n",
       "      <td>Milskidasith</td>\n",
       "      <td>7f53sk</td>\n",
       "      <td>1</td>\n",
       "      <td>False</td>\n",
       "      <td>False</td>\n",
       "      <td>True</td>\n",
       "      <td>1511500750</td>\n",
       "      <td>7f53sk</td>\n",
       "      <td>7f53sk</td>\n",
       "      <td>I'm not going to argue that the economics and ...</td>\n",
       "      <td>...</td>\n",
       "      <td>NaN</td>\n",
       "      <td>NaN</td>\n",
       "      <td>NaN</td>\n",
       "      <td>NaN</td>\n",
       "      <td>NaN</td>\n",
       "      <td>NaN</td>\n",
       "      <td>NaN</td>\n",
       "      <td>NaN</td>\n",
       "      <td>NaN</td>\n",
       "      <td>NaN</td>\n",
       "    </tr>\n",
       "    <tr>\n",
       "      <th>dq9m8km</th>\n",
       "      <td>DangerousHarvey</td>\n",
       "      <td>7f53sk</td>\n",
       "      <td>1</td>\n",
       "      <td>False</td>\n",
       "      <td>False</td>\n",
       "      <td>False</td>\n",
       "      <td>1511503414</td>\n",
       "      <td>7f53sk</td>\n",
       "      <td>7f53sk</td>\n",
       "      <td>I'd argue that our political problems outweigh...</td>\n",
       "      <td>...</td>\n",
       "      <td>NaN</td>\n",
       "      <td>NaN</td>\n",
       "      <td>NaN</td>\n",
       "      <td>NaN</td>\n",
       "      <td>NaN</td>\n",
       "      <td>NaN</td>\n",
       "      <td>NaN</td>\n",
       "      <td>NaN</td>\n",
       "      <td>NaN</td>\n",
       "      <td>NaN</td>\n",
       "    </tr>\n",
       "    <tr>\n",
       "      <th>dq9mxr5</th>\n",
       "      <td>mergerr</td>\n",
       "      <td>dq9m8km</td>\n",
       "      <td>2</td>\n",
       "      <td>False</td>\n",
       "      <td>False</td>\n",
       "      <td>False</td>\n",
       "      <td>1511504807</td>\n",
       "      <td>7f53sk</td>\n",
       "      <td>7f53sk</td>\n",
       "      <td>So you're saying that our foreign occupation a...</td>\n",
       "      <td>...</td>\n",
       "      <td>NaN</td>\n",
       "      <td>NaN</td>\n",
       "      <td>NaN</td>\n",
       "      <td>NaN</td>\n",
       "      <td>NaN</td>\n",
       "      <td>NaN</td>\n",
       "      <td>NaN</td>\n",
       "      <td>NaN</td>\n",
       "      <td>NaN</td>\n",
       "      <td>NaN</td>\n",
       "    </tr>\n",
       "  </tbody>\n",
       "</table>\n",
       "<p>5 rows × 36 columns</p>\n",
       "</div>"
      ],
      "text/plain": [
       "                  author parent_id  depth  is_root  is_absolute_root  is_leaf  \\\n",
       "node_id                                                                         \n",
       "6kn9gy     badparentthro      None      0     True              True     True   \n",
       "7f53sk         [deleted]      None      0     True              True    False   \n",
       "dq9kszi     Milskidasith    7f53sk      1    False             False     True   \n",
       "dq9m8km  DangerousHarvey    7f53sk      1    False             False    False   \n",
       "dq9mxr5          mergerr   dq9m8km      2    False             False    False   \n",
       "\n",
       "          timestamp conversation_id full_conv_id  \\\n",
       "node_id                                            \n",
       "6kn9gy   1498919337          6kn9gy       6kn9gy   \n",
       "7f53sk   1511499160          7f53sk       7f53sk   \n",
       "dq9kszi  1511500750          7f53sk       7f53sk   \n",
       "dq9m8km  1511503414          7f53sk       7f53sk   \n",
       "dq9mxr5  1511504807          7f53sk       7f53sk   \n",
       "\n",
       "                                                 data.text  ...  \\\n",
       "node_id                                                     ...   \n",
       "6kn9gy                                           [removed]  ...   \n",
       "7f53sk                                           [deleted]  ...   \n",
       "dq9kszi  I'm not going to argue that the economics and ...  ...   \n",
       "dq9m8km  I'd argue that our political problems outweigh...  ...   \n",
       "dq9mxr5  So you're saying that our foreign occupation a...  ...   \n",
       "\n",
       "        data.extra_data.name data.extra_data.ups  \\\n",
       "node_id                                            \n",
       "6kn9gy                   NaN                 NaN   \n",
       "7f53sk                   NaN                 NaN   \n",
       "dq9kszi                  NaN                 NaN   \n",
       "dq9m8km                  NaN                 NaN   \n",
       "dq9mxr5                  NaN                 NaN   \n",
       "\n",
       "        data.extra_data.mod_reason_by data.extra_data.mod_reason_title  \\\n",
       "node_id                                                                  \n",
       "6kn9gy                            NaN                              NaN   \n",
       "7f53sk                            NaN                              NaN   \n",
       "dq9kszi                           NaN                              NaN   \n",
       "dq9m8km                           NaN                              NaN   \n",
       "dq9mxr5                           NaN                              NaN   \n",
       "\n",
       "        data.extra_data.mod_note data.extra_data.author_cakeday  \\\n",
       "node_id                                                           \n",
       "6kn9gy                       NaN                            NaN   \n",
       "7f53sk                       NaN                            NaN   \n",
       "dq9kszi                      NaN                            NaN   \n",
       "dq9m8km                      NaN                            NaN   \n",
       "dq9mxr5                      NaN                            NaN   \n",
       "\n",
       "        data.extra_data.send_replies  data.extra_data.no_follow  \\\n",
       "node_id                                                           \n",
       "6kn9gy                           NaN                        NaN   \n",
       "7f53sk                           NaN                        NaN   \n",
       "dq9kszi                          NaN                        NaN   \n",
       "dq9m8km                          NaN                        NaN   \n",
       "dq9mxr5                          NaN                        NaN   \n",
       "\n",
       "         data.extra_data.crosspost_parent  \\\n",
       "node_id                                     \n",
       "6kn9gy                                NaN   \n",
       "7f53sk                                NaN   \n",
       "dq9kszi                               NaN   \n",
       "dq9m8km                               NaN   \n",
       "dq9mxr5                               NaN   \n",
       "\n",
       "        data.extra_data.crosspost_parent_list  \n",
       "node_id                                        \n",
       "6kn9gy                                    NaN  \n",
       "7f53sk                                    NaN  \n",
       "dq9kszi                                   NaN  \n",
       "dq9m8km                                   NaN  \n",
       "dq9mxr5                                   NaN  \n",
       "\n",
       "[5 rows x 36 columns]"
      ]
     },
     "execution_count": 11,
     "metadata": {},
     "output_type": "execute_result"
    }
   ],
   "source": [
    "convs.head()"
   ]
  },
  {
   "cell_type": "code",
   "execution_count": 12,
   "metadata": {},
   "outputs": [
    {
     "data": {
      "text/html": [
       "<div>\n",
       "<style scoped>\n",
       "    .dataframe tbody tr th:only-of-type {\n",
       "        vertical-align: middle;\n",
       "    }\n",
       "\n",
       "    .dataframe tbody tr th {\n",
       "        vertical-align: top;\n",
       "    }\n",
       "\n",
       "    .dataframe thead th {\n",
       "        text-align: right;\n",
       "    }\n",
       "</style>\n",
       "<table border=\"1\" class=\"dataframe\">\n",
       "  <thead>\n",
       "    <tr style=\"text-align: right;\">\n",
       "      <th></th>\n",
       "      <th>author</th>\n",
       "      <th>full_conv_id</th>\n",
       "    </tr>\n",
       "    <tr>\n",
       "      <th>node_id</th>\n",
       "      <th></th>\n",
       "      <th></th>\n",
       "    </tr>\n",
       "  </thead>\n",
       "  <tbody>\n",
       "    <tr>\n",
       "      <th>6kn9gy</th>\n",
       "      <td>badparentthro</td>\n",
       "      <td>6kn9gy</td>\n",
       "    </tr>\n",
       "    <tr>\n",
       "      <th>7f53sk</th>\n",
       "      <td>[deleted]</td>\n",
       "      <td>7f53sk</td>\n",
       "    </tr>\n",
       "    <tr>\n",
       "      <th>6ozbfi</th>\n",
       "      <td>jbowmann</td>\n",
       "      <td>6ozbfi</td>\n",
       "    </tr>\n",
       "    <tr>\n",
       "      <th>7f30fw</th>\n",
       "      <td>TBSchemer</td>\n",
       "      <td>7f30fw</td>\n",
       "    </tr>\n",
       "    <tr>\n",
       "      <th>6g7ct0</th>\n",
       "      <td>benjomaga</td>\n",
       "      <td>6g7ct0</td>\n",
       "    </tr>\n",
       "    <tr>\n",
       "      <th>...</th>\n",
       "      <td>...</td>\n",
       "      <td>...</td>\n",
       "    </tr>\n",
       "    <tr>\n",
       "      <th>6p9ano</th>\n",
       "      <td>[deleted]</td>\n",
       "      <td>6p9ano</td>\n",
       "    </tr>\n",
       "    <tr>\n",
       "      <th>7rnozm</th>\n",
       "      <td>belllaFour</td>\n",
       "      <td>7rnozm</td>\n",
       "    </tr>\n",
       "    <tr>\n",
       "      <th>7nkm66</th>\n",
       "      <td>[deleted]</td>\n",
       "      <td>7nkm66</td>\n",
       "    </tr>\n",
       "    <tr>\n",
       "      <th>6l8tub</th>\n",
       "      <td>Snorrrlax</td>\n",
       "      <td>6l8tub</td>\n",
       "    </tr>\n",
       "    <tr>\n",
       "      <th>7qdplt</th>\n",
       "      <td>[deleted]</td>\n",
       "      <td>7qdplt</td>\n",
       "    </tr>\n",
       "  </tbody>\n",
       "</table>\n",
       "<p>16306 rows × 2 columns</p>\n",
       "</div>"
      ],
      "text/plain": [
       "                author full_conv_id\n",
       "node_id                            \n",
       "6kn9gy   badparentthro       6kn9gy\n",
       "7f53sk       [deleted]       7f53sk\n",
       "6ozbfi        jbowmann       6ozbfi\n",
       "7f30fw       TBSchemer       7f30fw\n",
       "6g7ct0       benjomaga       6g7ct0\n",
       "...                ...          ...\n",
       "6p9ano       [deleted]       6p9ano\n",
       "7rnozm      belllaFour       7rnozm\n",
       "7nkm66       [deleted]       7nkm66\n",
       "6l8tub       Snorrrlax       6l8tub\n",
       "7qdplt       [deleted]       7qdplt\n",
       "\n",
       "[16306 rows x 2 columns]"
      ]
     },
     "execution_count": 12,
     "metadata": {},
     "output_type": "execute_result"
    }
   ],
   "source": [
    "roots = convs.loc[convs.is_root == True][['author', 'full_conv_id']]\n",
    "roots"
   ]
  },
  {
   "cell_type": "code",
   "execution_count": 13,
   "metadata": {},
   "outputs": [],
   "source": [
    "def conversattion_to_dataframe_filter_root(conv):\n",
    "    conv = conversation_to_dataframe(conv)\n",
    "    full_conv_id = conv.full_conv_id[:1].values[0]\n",
    "    root_author_name = roots.loc[roots.full_conv_id == full_conv_id].author.values[0]\n",
    "    return conv.loc[conv.author != root_author_name]"
   ]
  },
  {
   "cell_type": "code",
   "execution_count": 17,
   "metadata": {},
   "outputs": [
    {
     "name": "stderr",
     "output_type": "stream",
     "text": [
      "100%|██████████| 16306/16306 [03:39<00:00, 74.23it/s] \n"
     ]
    }
   ],
   "source": [
    "data = pd.concat(conversattion_to_dataframe_filter_root(conv) for conv in sub_convs) "
   ]
  },
  {
   "cell_type": "code",
   "execution_count": 18,
   "metadata": {},
   "outputs": [
    {
     "data": {
      "text/html": [
       "<div>\n",
       "<style scoped>\n",
       "    .dataframe tbody tr th:only-of-type {\n",
       "        vertical-align: middle;\n",
       "    }\n",
       "\n",
       "    .dataframe tbody tr th {\n",
       "        vertical-align: top;\n",
       "    }\n",
       "\n",
       "    .dataframe thead th {\n",
       "        text-align: right;\n",
       "    }\n",
       "</style>\n",
       "<table border=\"1\" class=\"dataframe\">\n",
       "  <thead>\n",
       "    <tr style=\"text-align: right;\">\n",
       "      <th></th>\n",
       "      <th></th>\n",
       "      <th>#participation</th>\n",
       "    </tr>\n",
       "    <tr>\n",
       "      <th>author</th>\n",
       "      <th>conversation_id</th>\n",
       "      <th></th>\n",
       "    </tr>\n",
       "  </thead>\n",
       "  <tbody>\n",
       "    <tr>\n",
       "      <th>----______--------</th>\n",
       "      <th>d53fznq</th>\n",
       "      <td>1</td>\n",
       "    </tr>\n",
       "    <tr>\n",
       "      <th rowspan=\"4\" valign=\"top\">---Kaiser</th>\n",
       "      <th>dfqj4uh</th>\n",
       "      <td>3</td>\n",
       "    </tr>\n",
       "    <tr>\n",
       "      <th>dgb18vr</th>\n",
       "      <td>1</td>\n",
       "    </tr>\n",
       "    <tr>\n",
       "      <th>dglyz0w</th>\n",
       "      <td>1</td>\n",
       "    </tr>\n",
       "    <tr>\n",
       "      <th>ditjei5</th>\n",
       "      <td>1</td>\n",
       "    </tr>\n",
       "  </tbody>\n",
       "</table>\n",
       "</div>"
      ],
      "text/plain": [
       "                                    #participation\n",
       "author             conversation_id                \n",
       "----______-------- d53fznq                       1\n",
       "---Kaiser          dfqj4uh                       3\n",
       "                   dgb18vr                       1\n",
       "                   dglyz0w                       1\n",
       "                   ditjei5                       1"
      ]
     },
     "execution_count": 18,
     "metadata": {},
     "output_type": "execute_result"
    }
   ],
   "source": [
    "user_participation=pd.DataFrame(data.groupby(['author', 'conversation_id']).timestamp.count())\\\n",
    "                    .rename({'timestamp': '#participation'}, axis=1)\n",
    "user_participation.head()"
   ]
  },
  {
   "cell_type": "code",
   "execution_count": 19,
   "metadata": {},
   "outputs": [
    {
     "data": {
      "text/html": [
       "<div>\n",
       "<style scoped>\n",
       "    .dataframe tbody tr th:only-of-type {\n",
       "        vertical-align: middle;\n",
       "    }\n",
       "\n",
       "    .dataframe tbody tr th {\n",
       "        vertical-align: top;\n",
       "    }\n",
       "\n",
       "    .dataframe thead th {\n",
       "        text-align: right;\n",
       "    }\n",
       "</style>\n",
       "<table border=\"1\" class=\"dataframe\">\n",
       "  <thead>\n",
       "    <tr style=\"text-align: right;\">\n",
       "      <th></th>\n",
       "      <th>mean_branch_participation</th>\n",
       "    </tr>\n",
       "    <tr>\n",
       "      <th>author</th>\n",
       "      <th></th>\n",
       "    </tr>\n",
       "  </thead>\n",
       "  <tbody>\n",
       "    <tr>\n",
       "      <th>----______--------</th>\n",
       "      <td>1.000000</td>\n",
       "    </tr>\n",
       "    <tr>\n",
       "      <th>---Kaiser</th>\n",
       "      <td>2.375000</td>\n",
       "    </tr>\n",
       "    <tr>\n",
       "      <th>--Aeo--</th>\n",
       "      <td>7.111111</td>\n",
       "    </tr>\n",
       "    <tr>\n",
       "      <th>--IIII--------IIII--</th>\n",
       "      <td>1.333333</td>\n",
       "    </tr>\n",
       "    <tr>\n",
       "      <th>--WhiteFang--</th>\n",
       "      <td>1.000000</td>\n",
       "    </tr>\n",
       "  </tbody>\n",
       "</table>\n",
       "</div>"
      ],
      "text/plain": [
       "                      mean_branch_participation\n",
       "author                                         \n",
       "----______--------                     1.000000\n",
       "---Kaiser                              2.375000\n",
       "--Aeo--                                7.111111\n",
       "--IIII--------IIII--                   1.333333\n",
       "--WhiteFang--                          1.000000"
      ]
     },
     "execution_count": 19,
     "metadata": {},
     "output_type": "execute_result"
    }
   ],
   "source": [
    "mean_branch_participation = pd.DataFrame(user_participation.groupby('author')['#participation'].mean()).\\\n",
    "                            rename({'#participation': 'mean_branch_participation'}, axis=1)\n",
    "mean_branch_participation.head()"
   ]
  },
  {
   "cell_type": "code",
   "execution_count": 20,
   "metadata": {},
   "outputs": [
    {
     "data": {
      "text/plain": [
       "Text(0.5, 0, 'time (s)')"
      ]
     },
     "execution_count": 20,
     "metadata": {},
     "output_type": "execute_result"
    },
    {
     "data": {
      "image/png": "[encoded data removed]",
      "text/plain": [
       "<Figure size 720x432 with 1 Axes>"
      ]
     },
     "metadata": {
      "needs_background": "light"
     },
     "output_type": "display_data"
    }
   ],
   "source": [
    "_, ax = plt.subplots(figsize=(10,6))\n",
    "ax = sns.kdeplot(mean_branch_participation\\\n",
    "            .loc[mean_branch_participation.mean_branch_participation <11].\\\n",
    "            mean_branch_participation, shade=True)\n",
    "plt.xlabel('time (s)')"
   ]
  },
  {
   "cell_type": "code",
   "execution_count": 21,
   "metadata": {},
   "outputs": [],
   "source": [
    "bins = [0,1,2,3,4,5,6,7,8,9,72]"
   ]
  },
  {
   "cell_type": "code",
   "execution_count": 22,
   "metadata": {},
   "outputs": [],
   "source": [
    "mean_branch_participation['mean_par_bin'] = pd.cut(mean_branch_participation.mean_branch_participation, bins=bins)"
   ]
  },
  {
   "cell_type": "code",
   "execution_count": 23,
   "metadata": {},
   "outputs": [
    {
     "data": {
      "text/html": [
       "<div>\n",
       "<style scoped>\n",
       "    .dataframe tbody tr th:only-of-type {\n",
       "        vertical-align: middle;\n",
       "    }\n",
       "\n",
       "    .dataframe tbody tr th {\n",
       "        vertical-align: top;\n",
       "    }\n",
       "\n",
       "    .dataframe thead th {\n",
       "        text-align: right;\n",
       "    }\n",
       "</style>\n",
       "<table border=\"1\" class=\"dataframe\">\n",
       "  <thead>\n",
       "    <tr style=\"text-align: right;\">\n",
       "      <th></th>\n",
       "      <th>mean_branch_participation</th>\n",
       "      <th>mean_par_bin</th>\n",
       "    </tr>\n",
       "    <tr>\n",
       "      <th>author</th>\n",
       "      <th></th>\n",
       "      <th></th>\n",
       "    </tr>\n",
       "  </thead>\n",
       "  <tbody>\n",
       "    <tr>\n",
       "      <th>----______--------</th>\n",
       "      <td>1.000000</td>\n",
       "      <td>(0, 1]</td>\n",
       "    </tr>\n",
       "    <tr>\n",
       "      <th>---Kaiser</th>\n",
       "      <td>2.375000</td>\n",
       "      <td>(2, 3]</td>\n",
       "    </tr>\n",
       "    <tr>\n",
       "      <th>--Aeo--</th>\n",
       "      <td>7.111111</td>\n",
       "      <td>(7, 8]</td>\n",
       "    </tr>\n",
       "    <tr>\n",
       "      <th>--IIII--------IIII--</th>\n",
       "      <td>1.333333</td>\n",
       "      <td>(1, 2]</td>\n",
       "    </tr>\n",
       "    <tr>\n",
       "      <th>--WhiteFang--</th>\n",
       "      <td>1.000000</td>\n",
       "      <td>(0, 1]</td>\n",
       "    </tr>\n",
       "    <tr>\n",
       "      <th>...</th>\n",
       "      <td>...</td>\n",
       "      <td>...</td>\n",
       "    </tr>\n",
       "    <tr>\n",
       "      <th>zzMojaveExpress</th>\n",
       "      <td>2.115385</td>\n",
       "      <td>(2, 3]</td>\n",
       "    </tr>\n",
       "    <tr>\n",
       "      <th>zzay</th>\n",
       "      <td>1.000000</td>\n",
       "      <td>(0, 1]</td>\n",
       "    </tr>\n",
       "    <tr>\n",
       "      <th>zzupdown</th>\n",
       "      <td>1.666667</td>\n",
       "      <td>(1, 2]</td>\n",
       "    </tr>\n",
       "    <tr>\n",
       "      <th>zzzztopportal</th>\n",
       "      <td>4.166667</td>\n",
       "      <td>(4, 5]</td>\n",
       "    </tr>\n",
       "    <tr>\n",
       "      <th>zzzzz94</th>\n",
       "      <td>3.470588</td>\n",
       "      <td>(3, 4]</td>\n",
       "    </tr>\n",
       "  </tbody>\n",
       "</table>\n",
       "<p>34488 rows × 2 columns</p>\n",
       "</div>"
      ],
      "text/plain": [
       "                      mean_branch_participation mean_par_bin\n",
       "author                                                      \n",
       "----______--------                     1.000000       (0, 1]\n",
       "---Kaiser                              2.375000       (2, 3]\n",
       "--Aeo--                                7.111111       (7, 8]\n",
       "--IIII--------IIII--                   1.333333       (1, 2]\n",
       "--WhiteFang--                          1.000000       (0, 1]\n",
       "...                                         ...          ...\n",
       "zzMojaveExpress                        2.115385       (2, 3]\n",
       "zzay                                   1.000000       (0, 1]\n",
       "zzupdown                               1.666667       (1, 2]\n",
       "zzzztopportal                          4.166667       (4, 5]\n",
       "zzzzz94                                3.470588       (3, 4]\n",
       "\n",
       "[34488 rows x 2 columns]"
      ]
     },
     "execution_count": 23,
     "metadata": {},
     "output_type": "execute_result"
    }
   ],
   "source": [
    "mean_branch_participation"
   ]
  },
  {
   "cell_type": "code",
   "execution_count": 24,
   "metadata": {},
   "outputs": [
    {
     "data": {
      "text/html": [
       "<div>\n",
       "<style scoped>\n",
       "    .dataframe tbody tr th:only-of-type {\n",
       "        vertical-align: middle;\n",
       "    }\n",
       "\n",
       "    .dataframe tbody tr th {\n",
       "        vertical-align: top;\n",
       "    }\n",
       "\n",
       "    .dataframe thead th {\n",
       "        text-align: right;\n",
       "    }\n",
       "</style>\n",
       "<table border=\"1\" class=\"dataframe\">\n",
       "  <thead>\n",
       "    <tr style=\"text-align: right;\">\n",
       "      <th></th>\n",
       "      <th>mean_branch_participation</th>\n",
       "    </tr>\n",
       "  </thead>\n",
       "  <tbody>\n",
       "    <tr>\n",
       "      <th>count</th>\n",
       "      <td>34488.000000</td>\n",
       "    </tr>\n",
       "    <tr>\n",
       "      <th>mean</th>\n",
       "      <td>1.982290</td>\n",
       "    </tr>\n",
       "    <tr>\n",
       "      <th>std</th>\n",
       "      <td>1.774244</td>\n",
       "    </tr>\n",
       "    <tr>\n",
       "      <th>min</th>\n",
       "      <td>1.000000</td>\n",
       "    </tr>\n",
       "    <tr>\n",
       "      <th>25%</th>\n",
       "      <td>1.000000</td>\n",
       "    </tr>\n",
       "    <tr>\n",
       "      <th>50%</th>\n",
       "      <td>1.400000</td>\n",
       "    </tr>\n",
       "    <tr>\n",
       "      <th>75%</th>\n",
       "      <td>2.250000</td>\n",
       "    </tr>\n",
       "    <tr>\n",
       "      <th>max</th>\n",
       "      <td>75.000000</td>\n",
       "    </tr>\n",
       "  </tbody>\n",
       "</table>\n",
       "</div>"
      ],
      "text/plain": [
       "       mean_branch_participation\n",
       "count               34488.000000\n",
       "mean                    1.982290\n",
       "std                     1.774244\n",
       "min                     1.000000\n",
       "25%                     1.000000\n",
       "50%                     1.400000\n",
       "75%                     2.250000\n",
       "max                    75.000000"
      ]
     },
     "execution_count": 24,
     "metadata": {},
     "output_type": "execute_result"
    }
   ],
   "source": [
    "mean_branch_participation.describe()"
   ]
  },
  {
   "cell_type": "code",
   "execution_count": 25,
   "metadata": {},
   "outputs": [
    {
     "data": {
      "text/html": [
       "<div>\n",
       "<style scoped>\n",
       "    .dataframe tbody tr th:only-of-type {\n",
       "        vertical-align: middle;\n",
       "    }\n",
       "\n",
       "    .dataframe tbody tr th {\n",
       "        vertical-align: top;\n",
       "    }\n",
       "\n",
       "    .dataframe thead th {\n",
       "        text-align: right;\n",
       "    }\n",
       "</style>\n",
       "<table border=\"1\" class=\"dataframe\">\n",
       "  <thead>\n",
       "    <tr style=\"text-align: right;\">\n",
       "      <th></th>\n",
       "      <th>mean_branch_participation</th>\n",
       "    </tr>\n",
       "    <tr>\n",
       "      <th>mean_par_bin</th>\n",
       "      <th></th>\n",
       "    </tr>\n",
       "  </thead>\n",
       "  <tbody>\n",
       "    <tr>\n",
       "      <th>(0, 1]</th>\n",
       "      <td>15691</td>\n",
       "    </tr>\n",
       "    <tr>\n",
       "      <th>(1, 2]</th>\n",
       "      <td>9619</td>\n",
       "    </tr>\n",
       "    <tr>\n",
       "      <th>(2, 3]</th>\n",
       "      <td>4820</td>\n",
       "    </tr>\n",
       "    <tr>\n",
       "      <th>(3, 4]</th>\n",
       "      <td>2150</td>\n",
       "    </tr>\n",
       "    <tr>\n",
       "      <th>(4, 5]</th>\n",
       "      <td>993</td>\n",
       "    </tr>\n",
       "    <tr>\n",
       "      <th>(5, 6]</th>\n",
       "      <td>451</td>\n",
       "    </tr>\n",
       "    <tr>\n",
       "      <th>(6, 7]</th>\n",
       "      <td>252</td>\n",
       "    </tr>\n",
       "    <tr>\n",
       "      <th>(7, 8]</th>\n",
       "      <td>154</td>\n",
       "    </tr>\n",
       "    <tr>\n",
       "      <th>(8, 9]</th>\n",
       "      <td>95</td>\n",
       "    </tr>\n",
       "    <tr>\n",
       "      <th>(9, 72]</th>\n",
       "      <td>262</td>\n",
       "    </tr>\n",
       "  </tbody>\n",
       "</table>\n",
       "</div>"
      ],
      "text/plain": [
       "              mean_branch_participation\n",
       "mean_par_bin                           \n",
       "(0, 1]                            15691\n",
       "(1, 2]                             9619\n",
       "(2, 3]                             4820\n",
       "(3, 4]                             2150\n",
       "(4, 5]                              993\n",
       "(5, 6]                              451\n",
       "(6, 7]                              252\n",
       "(7, 8]                              154\n",
       "(8, 9]                               95\n",
       "(9, 72]                             262"
      ]
     },
     "execution_count": 25,
     "metadata": {},
     "output_type": "execute_result"
    }
   ],
   "source": [
    "bin_participation = mean_branch_participation.groupby('mean_par_bin').count()\n",
    "bin_participation"
   ]
  },
  {
   "cell_type": "code",
   "execution_count": 26,
   "metadata": {},
   "outputs": [
    {
     "data": {
      "text/html": [
       "<div>\n",
       "<style scoped>\n",
       "    .dataframe tbody tr th:only-of-type {\n",
       "        vertical-align: middle;\n",
       "    }\n",
       "\n",
       "    .dataframe tbody tr th {\n",
       "        vertical-align: top;\n",
       "    }\n",
       "\n",
       "    .dataframe thead th {\n",
       "        text-align: right;\n",
       "    }\n",
       "</style>\n",
       "<table border=\"1\" class=\"dataframe\">\n",
       "  <thead>\n",
       "    <tr style=\"text-align: right;\">\n",
       "      <th></th>\n",
       "      <th>mean_par_bin</th>\n",
       "      <th>mean_branch_participation</th>\n",
       "    </tr>\n",
       "  </thead>\n",
       "  <tbody>\n",
       "    <tr>\n",
       "      <th>0</th>\n",
       "      <td>(0, 1]</td>\n",
       "      <td>15691</td>\n",
       "    </tr>\n",
       "    <tr>\n",
       "      <th>1</th>\n",
       "      <td>(1, 2]</td>\n",
       "      <td>9619</td>\n",
       "    </tr>\n",
       "    <tr>\n",
       "      <th>2</th>\n",
       "      <td>(2, 3]</td>\n",
       "      <td>4820</td>\n",
       "    </tr>\n",
       "    <tr>\n",
       "      <th>3</th>\n",
       "      <td>(3, 4]</td>\n",
       "      <td>2150</td>\n",
       "    </tr>\n",
       "    <tr>\n",
       "      <th>4</th>\n",
       "      <td>(4, 5]</td>\n",
       "      <td>993</td>\n",
       "    </tr>\n",
       "    <tr>\n",
       "      <th>5</th>\n",
       "      <td>(5, 6]</td>\n",
       "      <td>451</td>\n",
       "    </tr>\n",
       "    <tr>\n",
       "      <th>6</th>\n",
       "      <td>(6, 7]</td>\n",
       "      <td>252</td>\n",
       "    </tr>\n",
       "    <tr>\n",
       "      <th>7</th>\n",
       "      <td>(7, 8]</td>\n",
       "      <td>154</td>\n",
       "    </tr>\n",
       "    <tr>\n",
       "      <th>8</th>\n",
       "      <td>(8, 9]</td>\n",
       "      <td>95</td>\n",
       "    </tr>\n",
       "    <tr>\n",
       "      <th>9</th>\n",
       "      <td>(9, 72]</td>\n",
       "      <td>262</td>\n",
       "    </tr>\n",
       "  </tbody>\n",
       "</table>\n",
       "</div>"
      ],
      "text/plain": [
       "  mean_par_bin  mean_branch_participation\n",
       "0       (0, 1]                      15691\n",
       "1       (1, 2]                       9619\n",
       "2       (2, 3]                       4820\n",
       "3       (3, 4]                       2150\n",
       "4       (4, 5]                        993\n",
       "5       (5, 6]                        451\n",
       "6       (6, 7]                        252\n",
       "7       (7, 8]                        154\n",
       "8       (8, 9]                         95\n",
       "9      (9, 72]                        262"
      ]
     },
     "execution_count": 26,
     "metadata": {},
     "output_type": "execute_result"
    }
   ],
   "source": [
    "bin_participation = bin_participation.reset_index()\n",
    "bin_participation"
   ]
  },
  {
   "cell_type": "code",
   "execution_count": 27,
   "metadata": {},
   "outputs": [
    {
     "data": {
      "text/plain": [
       "34487"
      ]
     },
     "execution_count": 27,
     "metadata": {},
     "output_type": "execute_result"
    }
   ],
   "source": [
    "bin_participation.mean_branch_participation.sum()"
   ]
  },
  {
   "cell_type": "code",
   "execution_count": 28,
   "metadata": {},
   "outputs": [],
   "source": [
    "percen = bin_participation.mean_branch_participation.apply(lambda x: x / 37264)"
   ]
  },
  {
   "cell_type": "code",
   "execution_count": 29,
   "metadata": {},
   "outputs": [
    {
     "data": {
      "text/html": [
       "<div>\n",
       "<style scoped>\n",
       "    .dataframe tbody tr th:only-of-type {\n",
       "        vertical-align: middle;\n",
       "    }\n",
       "\n",
       "    .dataframe tbody tr th {\n",
       "        vertical-align: top;\n",
       "    }\n",
       "\n",
       "    .dataframe thead th {\n",
       "        text-align: right;\n",
       "    }\n",
       "</style>\n",
       "<table border=\"1\" class=\"dataframe\">\n",
       "  <thead>\n",
       "    <tr style=\"text-align: right;\">\n",
       "      <th></th>\n",
       "      <th>mean_par_bin</th>\n",
       "      <th>mean_branch_participation</th>\n",
       "      <th>perc</th>\n",
       "    </tr>\n",
       "  </thead>\n",
       "  <tbody>\n",
       "    <tr>\n",
       "      <th>0</th>\n",
       "      <td>(0, 1]</td>\n",
       "      <td>15691</td>\n",
       "      <td>0.421077</td>\n",
       "    </tr>\n",
       "    <tr>\n",
       "      <th>1</th>\n",
       "      <td>(1, 2]</td>\n",
       "      <td>9619</td>\n",
       "      <td>0.258131</td>\n",
       "    </tr>\n",
       "    <tr>\n",
       "      <th>2</th>\n",
       "      <td>(2, 3]</td>\n",
       "      <td>4820</td>\n",
       "      <td>0.129347</td>\n",
       "    </tr>\n",
       "    <tr>\n",
       "      <th>3</th>\n",
       "      <td>(3, 4]</td>\n",
       "      <td>2150</td>\n",
       "      <td>0.057696</td>\n",
       "    </tr>\n",
       "    <tr>\n",
       "      <th>4</th>\n",
       "      <td>(4, 5]</td>\n",
       "      <td>993</td>\n",
       "      <td>0.026648</td>\n",
       "    </tr>\n",
       "    <tr>\n",
       "      <th>5</th>\n",
       "      <td>(5, 6]</td>\n",
       "      <td>451</td>\n",
       "      <td>0.012103</td>\n",
       "    </tr>\n",
       "    <tr>\n",
       "      <th>6</th>\n",
       "      <td>(6, 7]</td>\n",
       "      <td>252</td>\n",
       "      <td>0.006763</td>\n",
       "    </tr>\n",
       "    <tr>\n",
       "      <th>7</th>\n",
       "      <td>(7, 8]</td>\n",
       "      <td>154</td>\n",
       "      <td>0.004133</td>\n",
       "    </tr>\n",
       "    <tr>\n",
       "      <th>8</th>\n",
       "      <td>(8, 9]</td>\n",
       "      <td>95</td>\n",
       "      <td>0.002549</td>\n",
       "    </tr>\n",
       "    <tr>\n",
       "      <th>9</th>\n",
       "      <td>(9, 72]</td>\n",
       "      <td>262</td>\n",
       "      <td>0.007031</td>\n",
       "    </tr>\n",
       "  </tbody>\n",
       "</table>\n",
       "</div>"
      ],
      "text/plain": [
       "  mean_par_bin  mean_branch_participation      perc\n",
       "0       (0, 1]                      15691  0.421077\n",
       "1       (1, 2]                       9619  0.258131\n",
       "2       (2, 3]                       4820  0.129347\n",
       "3       (3, 4]                       2150  0.057696\n",
       "4       (4, 5]                        993  0.026648\n",
       "5       (5, 6]                        451  0.012103\n",
       "6       (6, 7]                        252  0.006763\n",
       "7       (7, 8]                        154  0.004133\n",
       "8       (8, 9]                         95  0.002549\n",
       "9      (9, 72]                        262  0.007031"
      ]
     },
     "execution_count": 29,
     "metadata": {},
     "output_type": "execute_result"
    }
   ],
   "source": [
    "bin_participation = bin_participation.assign(perc = percen)\n",
    "bin_participation"
   ]
  },
  {
   "cell_type": "code",
   "execution_count": 30,
   "metadata": {},
   "outputs": [
    {
     "data": {
      "text/plain": [
       "Text(0.5, 0, 'mean participation bin')"
      ]
     },
     "execution_count": 30,
     "metadata": {},
     "output_type": "execute_result"
    },
    {
     "data": {
      "image/png": "[encoded data removed]",
      "text/plain": [
       "<Figure size 1008x432 with 1 Axes>"
      ]
     },
     "metadata": {
      "needs_background": "light"
     },
     "output_type": "display_data"
    }
   ],
   "source": [
    "_, ax = plt.subplots(figsize=(14,6))\n",
    "sns.set_style(\"whitegrid\")\n",
    "ax = sns.barplot(data=bin_participation, x = 'mean_par_bin', y= 'perc', palette=\"deep\")\n",
    "plt.ylabel('percentage of cmv users')\n",
    "plt.xlabel('mean participation bin')"
   ]
  },
  {
   "cell_type": "markdown",
   "metadata": {},
   "source": [
    "## Some Feature Extraction"
   ]
  },
  {
   "cell_type": "code",
   "execution_count": 33,
   "metadata": {},
   "outputs": [
    {
     "data": {
      "text/html": [
       "<div>\n",
       "<style scoped>\n",
       "    .dataframe tbody tr th:only-of-type {\n",
       "        vertical-align: middle;\n",
       "    }\n",
       "\n",
       "    .dataframe tbody tr th {\n",
       "        vertical-align: top;\n",
       "    }\n",
       "\n",
       "    .dataframe thead th {\n",
       "        text-align: right;\n",
       "    }\n",
       "</style>\n",
       "<table border=\"1\" class=\"dataframe\">\n",
       "  <thead>\n",
       "    <tr style=\"text-align: right;\">\n",
       "      <th></th>\n",
       "      <th>author</th>\n",
       "      <th>parent_id</th>\n",
       "      <th>depth</th>\n",
       "      <th>is_root</th>\n",
       "      <th>is_absolute_root</th>\n",
       "      <th>is_leaf</th>\n",
       "      <th>timestamp</th>\n",
       "      <th>conversation_id</th>\n",
       "      <th>full_conv_id</th>\n",
       "      <th>data.text</th>\n",
       "      <th>...</th>\n",
       "      <th>data.extra_data.subreddit</th>\n",
       "      <th>data.extra_data.parent_id</th>\n",
       "      <th>data.extra_data.link_id</th>\n",
       "      <th>data.extra_data.permalink</th>\n",
       "      <th>data.timestamp</th>\n",
       "      <th>data.extra_data.ups</th>\n",
       "      <th>data.extra_data.author_cakeday</th>\n",
       "      <th>data.extra_data.mod_reason_by</th>\n",
       "      <th>data.extra_data.mod_reason_title</th>\n",
       "      <th>data.extra_data.mod_note</th>\n",
       "    </tr>\n",
       "    <tr>\n",
       "      <th>node_id</th>\n",
       "      <th></th>\n",
       "      <th></th>\n",
       "      <th></th>\n",
       "      <th></th>\n",
       "      <th></th>\n",
       "      <th></th>\n",
       "      <th></th>\n",
       "      <th></th>\n",
       "      <th></th>\n",
       "      <th></th>\n",
       "      <th></th>\n",
       "      <th></th>\n",
       "      <th></th>\n",
       "      <th></th>\n",
       "      <th></th>\n",
       "      <th></th>\n",
       "      <th></th>\n",
       "      <th></th>\n",
       "      <th></th>\n",
       "      <th></th>\n",
       "      <th></th>\n",
       "    </tr>\n",
       "  </thead>\n",
       "  <tbody>\n",
       "    <tr>\n",
       "      <th>dq95b41</th>\n",
       "      <td>Bodoblock</td>\n",
       "      <td>7f30fw</td>\n",
       "      <td>1</td>\n",
       "      <td>True</td>\n",
       "      <td>False</td>\n",
       "      <td>False</td>\n",
       "      <td>1511477207</td>\n",
       "      <td>dq95b41</td>\n",
       "      <td>7f30fw</td>\n",
       "      <td>Bitcoin gets hyped all the time here, and it's...</td>\n",
       "      <td>...</td>\n",
       "      <td>changemyview</td>\n",
       "      <td>t3_7f30fw</td>\n",
       "      <td>t3_7f30fw</td>\n",
       "      <td>/r/changemyview/comments/7f30fw/cmv_once_an_in...</td>\n",
       "      <td>1511477207</td>\n",
       "      <td>NaN</td>\n",
       "      <td>NaN</td>\n",
       "      <td>NaN</td>\n",
       "      <td>NaN</td>\n",
       "      <td>NaN</td>\n",
       "    </tr>\n",
       "    <tr>\n",
       "      <th>dq95qp4</th>\n",
       "      <td>Pavikold</td>\n",
       "      <td>dq95b41</td>\n",
       "      <td>2</td>\n",
       "      <td>False</td>\n",
       "      <td>False</td>\n",
       "      <td>False</td>\n",
       "      <td>1511477803</td>\n",
       "      <td>dq95b41</td>\n",
       "      <td>7f30fw</td>\n",
       "      <td>I came here to say that. I was introduced to B...</td>\n",
       "      <td>...</td>\n",
       "      <td>changemyview</td>\n",
       "      <td>t1_dq95b41</td>\n",
       "      <td>t3_7f30fw</td>\n",
       "      <td>/r/changemyview/comments/7f30fw/cmv_once_an_in...</td>\n",
       "      <td>1511477803</td>\n",
       "      <td>NaN</td>\n",
       "      <td>NaN</td>\n",
       "      <td>NaN</td>\n",
       "      <td>NaN</td>\n",
       "      <td>NaN</td>\n",
       "    </tr>\n",
       "    <tr>\n",
       "      <th>dqaaaec</th>\n",
       "      <td>Pavikold</td>\n",
       "      <td>dqa6nxr</td>\n",
       "      <td>4</td>\n",
       "      <td>False</td>\n",
       "      <td>False</td>\n",
       "      <td>False</td>\n",
       "      <td>1511549168</td>\n",
       "      <td>dq95b41</td>\n",
       "      <td>7f30fw</td>\n",
       "      <td>My understanding of bitcoin is limited, but fr...</td>\n",
       "      <td>...</td>\n",
       "      <td>changemyview</td>\n",
       "      <td>t1_dqa6nxr</td>\n",
       "      <td>t3_7f30fw</td>\n",
       "      <td>/r/changemyview/comments/7f30fw/cmv_once_an_in...</td>\n",
       "      <td>1511549168</td>\n",
       "      <td>NaN</td>\n",
       "      <td>NaN</td>\n",
       "      <td>NaN</td>\n",
       "      <td>NaN</td>\n",
       "      <td>NaN</td>\n",
       "    </tr>\n",
       "    <tr>\n",
       "      <th>dqaow6z</th>\n",
       "      <td>Dopecheez-</td>\n",
       "      <td>dqaaaec</td>\n",
       "      <td>5</td>\n",
       "      <td>False</td>\n",
       "      <td>False</td>\n",
       "      <td>True</td>\n",
       "      <td>1511567849</td>\n",
       "      <td>dq95b41</td>\n",
       "      <td>7f30fw</td>\n",
       "      <td>Why would anyone spend a currency that constan...</td>\n",
       "      <td>...</td>\n",
       "      <td>changemyview</td>\n",
       "      <td>t1_dqaaaec</td>\n",
       "      <td>t3_7f30fw</td>\n",
       "      <td>/r/changemyview/comments/7f30fw/cmv_once_an_in...</td>\n",
       "      <td>1511567849</td>\n",
       "      <td>NaN</td>\n",
       "      <td>NaN</td>\n",
       "      <td>NaN</td>\n",
       "      <td>NaN</td>\n",
       "      <td>NaN</td>\n",
       "    </tr>\n",
       "    <tr>\n",
       "      <th>dqa7q3h</th>\n",
       "      <td>Bodoblock</td>\n",
       "      <td>dqa6myb</td>\n",
       "      <td>3</td>\n",
       "      <td>False</td>\n",
       "      <td>False</td>\n",
       "      <td>False</td>\n",
       "      <td>1511545989</td>\n",
       "      <td>dq95b41</td>\n",
       "      <td>7f30fw</td>\n",
       "      <td>Dude, unless you're actually reading financial...</td>\n",
       "      <td>...</td>\n",
       "      <td>changemyview</td>\n",
       "      <td>t1_dqa6myb</td>\n",
       "      <td>t3_7f30fw</td>\n",
       "      <td>/r/changemyview/comments/7f30fw/cmv_once_an_in...</td>\n",
       "      <td>1511545989</td>\n",
       "      <td>NaN</td>\n",
       "      <td>NaN</td>\n",
       "      <td>NaN</td>\n",
       "      <td>NaN</td>\n",
       "      <td>NaN</td>\n",
       "    </tr>\n",
       "    <tr>\n",
       "      <th>dqbf2e2</th>\n",
       "      <td>jzpenny</td>\n",
       "      <td>dqa7q3h</td>\n",
       "      <td>4</td>\n",
       "      <td>False</td>\n",
       "      <td>False</td>\n",
       "      <td>True</td>\n",
       "      <td>1511619397</td>\n",
       "      <td>dq95b41</td>\n",
       "      <td>7f30fw</td>\n",
       "      <td>&lt;quote&gt; Dude, unless you're actually reading f...</td>\n",
       "      <td>...</td>\n",
       "      <td>changemyview</td>\n",
       "      <td>t1_dqa7q3h</td>\n",
       "      <td>t3_7f30fw</td>\n",
       "      <td>/r/changemyview/comments/7f30fw/cmv_once_an_in...</td>\n",
       "      <td>1511619397</td>\n",
       "      <td>NaN</td>\n",
       "      <td>NaN</td>\n",
       "      <td>NaN</td>\n",
       "      <td>NaN</td>\n",
       "      <td>NaN</td>\n",
       "    </tr>\n",
       "    <tr>\n",
       "      <th>dqao093</th>\n",
       "      <td>ccricers</td>\n",
       "      <td>dqa6myb</td>\n",
       "      <td>3</td>\n",
       "      <td>False</td>\n",
       "      <td>False</td>\n",
       "      <td>True</td>\n",
       "      <td>1511566661</td>\n",
       "      <td>dq95b41</td>\n",
       "      <td>7f30fw</td>\n",
       "      <td>&lt;quote&gt;It's pure hype at this point.&lt;/quote&gt; I...</td>\n",
       "      <td>...</td>\n",
       "      <td>changemyview</td>\n",
       "      <td>t1_dqa6myb</td>\n",
       "      <td>t3_7f30fw</td>\n",
       "      <td>/r/changemyview/comments/7f30fw/cmv_once_an_in...</td>\n",
       "      <td>1511566661</td>\n",
       "      <td>NaN</td>\n",
       "      <td>NaN</td>\n",
       "      <td>NaN</td>\n",
       "      <td>NaN</td>\n",
       "      <td>NaN</td>\n",
       "    </tr>\n",
       "  </tbody>\n",
       "</table>\n",
       "<p>7 rows × 23 columns</p>\n",
       "</div>"
      ],
      "text/plain": [
       "             author parent_id  depth  is_root  is_absolute_root  is_leaf  \\\n",
       "node_id                                                                    \n",
       "dq95b41   Bodoblock    7f30fw      1     True             False    False   \n",
       "dq95qp4    Pavikold   dq95b41      2    False             False    False   \n",
       "dqaaaec    Pavikold   dqa6nxr      4    False             False    False   \n",
       "dqaow6z  Dopecheez-   dqaaaec      5    False             False     True   \n",
       "dqa7q3h   Bodoblock   dqa6myb      3    False             False    False   \n",
       "dqbf2e2     jzpenny   dqa7q3h      4    False             False     True   \n",
       "dqao093    ccricers   dqa6myb      3    False             False     True   \n",
       "\n",
       "          timestamp conversation_id full_conv_id  \\\n",
       "node_id                                            \n",
       "dq95b41  1511477207         dq95b41       7f30fw   \n",
       "dq95qp4  1511477803         dq95b41       7f30fw   \n",
       "dqaaaec  1511549168         dq95b41       7f30fw   \n",
       "dqaow6z  1511567849         dq95b41       7f30fw   \n",
       "dqa7q3h  1511545989         dq95b41       7f30fw   \n",
       "dqbf2e2  1511619397         dq95b41       7f30fw   \n",
       "dqao093  1511566661         dq95b41       7f30fw   \n",
       "\n",
       "                                                 data.text  ...  \\\n",
       "node_id                                                     ...   \n",
       "dq95b41  Bitcoin gets hyped all the time here, and it's...  ...   \n",
       "dq95qp4  I came here to say that. I was introduced to B...  ...   \n",
       "dqaaaec  My understanding of bitcoin is limited, but fr...  ...   \n",
       "dqaow6z  Why would anyone spend a currency that constan...  ...   \n",
       "dqa7q3h  Dude, unless you're actually reading financial...  ...   \n",
       "dqbf2e2  <quote> Dude, unless you're actually reading f...  ...   \n",
       "dqao093  <quote>It's pure hype at this point.</quote> I...  ...   \n",
       "\n",
       "        data.extra_data.subreddit data.extra_data.parent_id  \\\n",
       "node_id                                                       \n",
       "dq95b41              changemyview                 t3_7f30fw   \n",
       "dq95qp4              changemyview                t1_dq95b41   \n",
       "dqaaaec              changemyview                t1_dqa6nxr   \n",
       "dqaow6z              changemyview                t1_dqaaaec   \n",
       "dqa7q3h              changemyview                t1_dqa6myb   \n",
       "dqbf2e2              changemyview                t1_dqa7q3h   \n",
       "dqao093              changemyview                t1_dqa6myb   \n",
       "\n",
       "        data.extra_data.link_id  \\\n",
       "node_id                           \n",
       "dq95b41               t3_7f30fw   \n",
       "dq95qp4               t3_7f30fw   \n",
       "dqaaaec               t3_7f30fw   \n",
       "dqaow6z               t3_7f30fw   \n",
       "dqa7q3h               t3_7f30fw   \n",
       "dqbf2e2               t3_7f30fw   \n",
       "dqao093               t3_7f30fw   \n",
       "\n",
       "                                 data.extra_data.permalink data.timestamp  \\\n",
       "node_id                                                                     \n",
       "dq95b41  /r/changemyview/comments/7f30fw/cmv_once_an_in...     1511477207   \n",
       "dq95qp4  /r/changemyview/comments/7f30fw/cmv_once_an_in...     1511477803   \n",
       "dqaaaec  /r/changemyview/comments/7f30fw/cmv_once_an_in...     1511549168   \n",
       "dqaow6z  /r/changemyview/comments/7f30fw/cmv_once_an_in...     1511567849   \n",
       "dqa7q3h  /r/changemyview/comments/7f30fw/cmv_once_an_in...     1511545989   \n",
       "dqbf2e2  /r/changemyview/comments/7f30fw/cmv_once_an_in...     1511619397   \n",
       "dqao093  /r/changemyview/comments/7f30fw/cmv_once_an_in...     1511566661   \n",
       "\n",
       "        data.extra_data.ups data.extra_data.author_cakeday  \\\n",
       "node_id                                                      \n",
       "dq95b41                 NaN                            NaN   \n",
       "dq95qp4                 NaN                            NaN   \n",
       "dqaaaec                 NaN                            NaN   \n",
       "dqaow6z                 NaN                            NaN   \n",
       "dqa7q3h                 NaN                            NaN   \n",
       "dqbf2e2                 NaN                            NaN   \n",
       "dqao093                 NaN                            NaN   \n",
       "\n",
       "         data.extra_data.mod_reason_by  data.extra_data.mod_reason_title  \\\n",
       "node_id                                                                    \n",
       "dq95b41                            NaN                               NaN   \n",
       "dq95qp4                            NaN                               NaN   \n",
       "dqaaaec                            NaN                               NaN   \n",
       "dqaow6z                            NaN                               NaN   \n",
       "dqa7q3h                            NaN                               NaN   \n",
       "dqbf2e2                            NaN                               NaN   \n",
       "dqao093                            NaN                               NaN   \n",
       "\n",
       "        data.extra_data.mod_note  \n",
       "node_id                           \n",
       "dq95b41                      NaN  \n",
       "dq95qp4                      NaN  \n",
       "dqaaaec                      NaN  \n",
       "dqaow6z                      NaN  \n",
       "dqa7q3h                      NaN  \n",
       "dqbf2e2                      NaN  \n",
       "dqao093                      NaN  \n",
       "\n",
       "[7 rows x 23 columns]"
      ]
     },
     "execution_count": 33,
     "metadata": {},
     "output_type": "execute_result"
    }
   ],
   "source": [
    "# example of one branch \n",
    "conv = data.loc[data.conversation_id == 'dq95b41']\n",
    "conv"
   ]
  },
  {
   "cell_type": "code",
   "execution_count": 53,
   "metadata": {},
   "outputs": [],
   "source": [
    "def count_op_involvment(subconv:pd.DataFrame, roots:pd.DataFrame) -> float:\n",
    "    \"\"\"\n",
    "    counts the proportion of posts from the full conversation author in the subconversation\n",
    "    \"\"\"\n",
    "    full_conversation_id = conv.sample(1).full_conv_id.values[0]\n",
    "    op = roots.loc[roots.full_conv_id == full_conversation_id].author.values[0]\n",
    "    return len(conv.loc[conv.author == op]) / len(conv)"
   ]
  },
  {
   "cell_type": "code",
   "execution_count": null,
   "metadata": {},
   "outputs": [],
   "source": []
  },
  {
   "cell_type": "code",
   "execution_count": null,
   "metadata": {},
   "outputs": [],
   "source": []
  },
  {
   "cell_type": "code",
   "execution_count": null,
   "metadata": {},
   "outputs": [],
   "source": []
  },
  {
   "cell_type": "code",
   "execution_count": null,
   "metadata": {},
   "outputs": [],
   "source": []
  },
  {
   "cell_type": "code",
   "execution_count": null,
   "metadata": {},
   "outputs": [],
   "source": []
  },
  {
   "cell_type": "code",
   "execution_count": null,
   "metadata": {},
   "outputs": [],
   "source": []
  },
  {
   "cell_type": "code",
   "execution_count": null,
   "metadata": {},
   "outputs": [],
   "source": []
  },
  {
   "cell_type": "code",
   "execution_count": null,
   "metadata": {},
   "outputs": [],
   "source": [
    "# data = pd.DataFrame.from_records(features, index=\"conv_id\")\n",
    "# print(data.head())"
   ]
  },
  {
   "cell_type": "code",
   "execution_count": null,
   "metadata": {},
   "outputs": [],
   "source": [
    "data_ = data.loc[data.num_nodes > 10]"
   ]
  },
  {
   "cell_type": "code",
   "execution_count": null,
   "metadata": {},
   "outputs": [],
   "source": [
    "data_.count()"
   ]
  },
  {
   "cell_type": "code",
   "execution_count": null,
   "metadata": {},
   "outputs": [],
   "source": [
    "data_"
   ]
  },
  {
   "cell_type": "code",
   "execution_count": null,
   "metadata": {},
   "outputs": [],
   "source": [
    "data_.describe()"
   ]
  },
  {
   "cell_type": "code",
   "execution_count": null,
   "metadata": {},
   "outputs": [],
   "source": [
    "data_ = data_.fillna(0)"
   ]
  },
  {
   "cell_type": "code",
   "execution_count": null,
   "metadata": {},
   "outputs": [],
   "source": [
    "from sklearn.manifold import TSNE\n",
    "from sklearn.preprocessing import StandardScaler\n"
   ]
  },
  {
   "cell_type": "code",
   "execution_count": null,
   "metadata": {},
   "outputs": [],
   "source": [
    "standardized_data = StandardScaler().fit_transform(data_)\n",
    "print(standardized_data.shape)"
   ]
  },
  {
   "cell_type": "code",
   "execution_count": null,
   "metadata": {},
   "outputs": [],
   "source": [
    "model = TSNE(n_components=2, random_state=0)"
   ]
  },
  {
   "cell_type": "code",
   "execution_count": null,
   "metadata": {},
   "outputs": [],
   "source": [
    "tsne_data = model.fit_transform(standardized_data)"
   ]
  },
  {
   "cell_type": "code",
   "execution_count": null,
   "metadata": {},
   "outputs": [],
   "source": [
    "tsne_df = pd.DataFrame(data=tsne_data, columns=(\"Dim_1\", \"Dim_2\"))"
   ]
  },
  {
   "cell_type": "code",
   "execution_count": null,
   "metadata": {},
   "outputs": [],
   "source": [
    "import seaborn as sns\n",
    "import matplotlib.pyplot as plt"
   ]
  },
  {
   "cell_type": "code",
   "execution_count": null,
   "metadata": {},
   "outputs": [],
   "source": [
    "sns.FacetGrid(tsne_df, height=9).map(plt.scatter, 'Dim_1', 'Dim_2').add_legend()\n",
    "plt.show()"
   ]
  },
  {
   "cell_type": "code",
   "execution_count": null,
   "metadata": {},
   "outputs": [],
   "source": [
    "from sklearn.cluster import DBSCAN\n"
   ]
  },
  {
   "cell_type": "code",
   "execution_count": null,
   "metadata": {},
   "outputs": [],
   "source": [
    "m = DBSCAN()\n"
   ]
  },
  {
   "cell_type": "code",
   "execution_count": null,
   "metadata": {},
   "outputs": [],
   "source": [
    "m.fit(standardized_data)"
   ]
  },
  {
   "cell_type": "code",
   "execution_count": null,
   "metadata": {},
   "outputs": [],
   "source": [
    "clusters = m.labels_"
   ]
  },
  {
   "cell_type": "code",
   "execution_count": null,
   "metadata": {},
   "outputs": [],
   "source": [
    "pd.Series(clusters).value_counts()"
   ]
  },
  {
   "cell_type": "code",
   "execution_count": null,
   "metadata": {},
   "outputs": [],
   "source": [
    "# pca\n",
    "\n",
    "from sklearn.decomposition import PCA\n"
   ]
  },
  {
   "cell_type": "code",
   "execution_count": null,
   "metadata": {},
   "outputs": [],
   "source": [
    "pca = PCA(n_components=2)\n"
   ]
  },
  {
   "cell_type": "code",
   "execution_count": null,
   "metadata": {},
   "outputs": [],
   "source": [
    "principalComponents = pca.fit_transform(standardized_data)"
   ]
  },
  {
   "cell_type": "code",
   "execution_count": null,
   "metadata": {},
   "outputs": [],
   "source": [
    "principalDf = pd.DataFrame(data = principalComponents\n",
    "             , columns = ['principal component 1', 'principal component 2'])"
   ]
  },
  {
   "cell_type": "code",
   "execution_count": null,
   "metadata": {},
   "outputs": [],
   "source": [
    "sns.FacetGrid(principalDf, height=6).map(plt.scatter, 'principal component 1', 'principal component 2').add_legend()\n",
    "plt.show()"
   ]
  },
  {
   "cell_type": "code",
   "execution_count": null,
   "metadata": {},
   "outputs": [],
   "source": []
  },
  {
   "cell_type": "code",
   "execution_count": null,
   "metadata": {},
   "outputs": [],
   "source": []
  },
  {
   "cell_type": "code",
   "execution_count": null,
   "metadata": {},
   "outputs": [],
   "source": []
  },
  {
   "cell_type": "code",
   "execution_count": null,
   "metadata": {},
   "outputs": [],
   "source": []
  },
  {
   "cell_type": "code",
   "execution_count": null,
   "metadata": {},
   "outputs": [],
   "source": []
  }
 ],
 "metadata": {
  "kernelspec": {
   "display_name": "Python 3.7.6 64-bit ('conversant': conda)",
   "language": "python",
   "name": "python37664bitconversantconda0c0241fc947e4c38a9b847e1d7a96ca7"
  },
  "language_info": {
   "codemirror_mode": {
    "name": "ipython",
    "version": 3
   },
   "file_extension": ".py",
   "mimetype": "text/x-python",
   "name": "python",
   "nbconvert_exporter": "python",
   "pygments_lexer": "ipython3",
   "version": "3.7.6"
  },
  "toc": {
   "base_numbering": 1,
   "nav_menu": {},
   "number_sections": true,
   "sideBar": true,
   "skip_h1_title": false,
   "title_cell": "Table of Contents",
   "title_sidebar": "Contents",
   "toc_cell": false,
   "toc_position": {},
   "toc_section_display": true,
   "toc_window_display": true
  }
 },
 "nbformat": 4,
 "nbformat_minor": 2
}
