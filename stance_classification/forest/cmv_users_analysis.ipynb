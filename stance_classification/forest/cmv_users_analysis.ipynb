{
 "cells": [
  {
   "cell_type": "code",
   "execution_count": 2,
   "metadata": {
    "collapsed": true,
    "pycharm": {
     "is_executing": false
    }
   },
   "outputs": [
    {
     "name": "stderr",
     "text": [
      "  0%|          | 0/16306 [00:00<?, ?it/s]"
     ],
     "output_type": "stream"
    }
   ],
   "source": [
    "from collections import Counter\n",
    "from itertools import combinations\n",
    "from typing import Sequence, Tuple\n",
    "import numpy as np\n",
    "import tqdm\n",
    "from examples.cmv.reddit_conversation_parser import CMVConversationReader\n",
    "from stance_classification.utils import iter_trees_from_lines\n",
    "\n",
    "path = r\"C:\\Users\\ronp\\Documents\\stance-classification\\trees_2.0.txt\"\n",
    "total_trees = sum(1 for _ in iter_trees_from_lines(path))\n",
    "trees = tqdm.tqdm(iter_trees_from_lines(path), total=total_trees)\n"
   ]
  },
  {
   "cell_type": "code",
   "execution_count": 3,
   "outputs": [],
   "source": [
    "cmv_reader = CMVConversationReader()\n",
    "conversations = map(cmv_reader.parse, trees)\n"
   ],
   "metadata": {
    "collapsed": false,
    "pycharm": {
     "name": "#%%\n",
     "is_executing": false
    }
   }
  },
  {
   "cell_type": "code",
   "execution_count": null,
   "outputs": [
    {
     "name": "stderr",
     "text": [
      "  9%|▉         | 1468/16306 [00:18<04:57, 49.83it/s] "
     ],
     "output_type": "stream"
    }
   ],
   "source": [
    "# ignore any user who participated in more than 1k conversations\n",
    "IGNORE_USERS = set([\"[deleted]\", \"DeltaBot\", \"Ansuz07\", \"cdb03b\", \"PreacherJudge\", \"Iswallowedafly\"])\n",
    "\n",
    "users_indices = {}\n",
    "users_counts = Counter()\n",
    "pair_counts = Counter()\n",
    "for conversation in conversations:\n",
    "    authors = conversation.participants\n",
    "    users_counts.update(authors)\n",
    "    filtered_auhors = [a for a in authors if a not in IGNORE_USERS]\n",
    "    author_indices = [users_indices.setdefault(a, len(users_indices)) for a in filtered_auhors]\n",
    "    sorted_authors = sorted(author_indices)\n",
    "    pairs = combinations(sorted_authors, 2)\n",
    "    pair_counts.update(pairs)\n",
    "    \n",
    "print(\"total number of users:\", len(users_indices))\n",
    "print(\"total number of pairs:\", len(pair_counts))"
   ],
   "metadata": {
    "collapsed": false,
    "pycharm": {
     "name": "#%%\n",
     "is_executing": true
    }
   }
  },
  {
   "cell_type": "code",
   "execution_count": null,
   "outputs": [],
   "source": [
    "from matplotlib import pyplot as plt\n",
    "\n",
    "def calculate_ticks(max_rank: int) -> Tuple[Sequence[int], Sequence[str]]:\n",
    "    num_decimal_digits = np.floor(np.log10(max_rank))\n",
    "    ticks_interval = 10 ** num_decimal_digits\n",
    "    if (ticks_interval * 2) >= len(pairs):\n",
    "        ticks_interval //= 10\n",
    "        num_decimal_digits -= 1\n",
    "    \n",
    "    num_ticks = 1 + (max_rank // ticks_interval)\n",
    "    ticks = [i * ticks_interval for i in range(num_ticks)]\n",
    "    \n",
    "    label_suffix = f\"e+{num_decimal_digits}\"\n",
    "    ticks_labels = [f\"{i}{label_suffix}\" for i in range(num_ticks)]\n",
    "    \n",
    "    return ticks, ticks_labels\n",
    "\n",
    "def plot_count_bins(counts: Sequence[int], pretty_xticks: bool = True):\n",
    "    log_counts = np.log2(counts)\n",
    "    log_counts.sort(reverse=True)\n",
    "    ranks = np.arange(len(log_counts))\n",
    "    plt.plot(ranks, log_counts)\n",
    "\n",
    "    plt.xlabel(\"rank\")\n",
    "    plt.ylabel(\"log counts\")\n",
    "    \n",
    "    if pretty_xticks:\n",
    "        ticks, ticks_labels = calculate_ticks(len(counts))\n",
    "        plt.xticks(ticks, ticks_labels)\n",
    "    \n",
    "    plt.show()\n"
   ],
   "metadata": {
    "collapsed": false,
    "pycharm": {
     "name": "#%%\n",
     "is_executing": true
    }
   }
  },
  {
   "cell_type": "code",
   "execution_count": null,
   "outputs": [],
   "source": [
    "counts = [*pair_counts.values()]\n",
    "plot_count_bins(counts)\n",
    "\n",
    "\n",
    "\n"
   ],
   "metadata": {
    "collapsed": false,
    "pycharm": {
     "name": "#%%\n",
     "is_executing": true
    }
   }
  }
 ],
 "metadata": {
  "kernelspec": {
   "display_name": "Python 3",
   "language": "python",
   "name": "python3"
  },
  "language_info": {
   "codemirror_mode": {
    "name": "ipython",
    "version": 2
   },
   "file_extension": ".py",
   "mimetype": "text/x-python",
   "name": "python",
   "nbconvert_exporter": "python",
   "pygments_lexer": "ipython2",
   "version": "2.7.6"
  },
  "pycharm": {
   "stem_cell": {
    "cell_type": "raw",
    "source": [],
    "metadata": {
     "collapsed": false
    }
   }
  }
 },
 "nbformat": 4,
 "nbformat_minor": 0
}