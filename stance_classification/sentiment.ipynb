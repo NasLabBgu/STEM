{
 "cells": [
  {
   "cell_type": "code",
   "execution_count": 1,
   "metadata": {
    "collapsed": true,
    "pycharm": {
     "is_executing": false
    }
   },
   "outputs": [
    {
     "name": "stderr",
     "text": [
      "  0%|          | 0/16306 [00:00<?, ?it/s]"
     ],
     "output_type": "stream"
    }
   ],
   "source": [
    "import tqdm\n",
    "from conversation import Conversation\n",
    "from examples.cmv.cmv_interactions_graph import get_reply_interaction_users, get_mentioned_users, get_quoted_users, \\\n",
    "    get_delta_users\n",
    "from examples.cmv.reddit_conversation_parser import CMVConversationReader\n",
    "from interactions import InteractionsGraph, InteractionsParser\n",
    "from interactions.aggregators import CountInteractionsAggregator\n",
    "from stance_classification.utils import iter_trees_from_lines\n",
    "trees_path = r\"C:\\Users\\ronp\\Documents\\stance-classification\\trees_2.0.txt\"\n",
    "total_trees = sum(1 for _ in iter_trees_from_lines(trees_path))\n",
    "trees = tqdm.tqdm(iter_trees_from_lines(trees_path), total=total_trees)\n",
    "\n",
    "cmv_reader = CMVConversationReader()\n",
    "conversations = map(cmv_reader.parse, trees)\n"
   ]
  },
  {
   "cell_type": "code",
   "execution_count": null,
   "outputs": [],
   "source": [
    "reply_counter = CountInteractionsAggregator(\"replies\", get_reply_interaction_users)\n",
    "    mention_counter = CountInteractionsAggregator(\"mentions\", get_mentioned_users)\n",
    "    quotes_counter = CountInteractionsAggregator(\"quotes\", get_quoted_users)\n",
    "    delta_counter = CountInteractionsAggregator(\"deltas\", get_delta_users)\n",
    "\n",
    "    interactions_parser = InteractionsParser(reply_counter, mention_counter, quotes_counter, delta_counter, directed=True)\n",
    "def to_interaction_graph(conversation: Conversation) -> InteractionsGraph:\n",
    "    InteractionsGraph()\n"
   ],
   "metadata": {
    "collapsed": false,
    "pycharm": {
     "name": "#%%\n"
    }
   }
  }
 ],
 "metadata": {
  "kernelspec": {
   "display_name": "Python 3",
   "language": "python",
   "name": "python3"
  },
  "language_info": {
   "codemirror_mode": {
    "name": "ipython",
    "version": 2
   },
   "file_extension": ".py",
   "mimetype": "text/x-python",
   "name": "python",
   "nbconvert_exporter": "python",
   "pygments_lexer": "ipython2",
   "version": "2.7.6"
  },
  "pycharm": {
   "stem_cell": {
    "cell_type": "raw",
    "source": [],
    "metadata": {
     "collapsed": false
    }
   }
  }
 },
 "nbformat": 4,
 "nbformat_minor": 0
}